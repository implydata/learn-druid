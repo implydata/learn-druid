{
 "cells": [
  {
   "cell_type": "markdown",
   "id": "9e07b3f5-d919-4179-91a1-0f6b66c42757",
   "metadata": {},
   "source": [
    "# Use the data generator to send sample data to Apache Kafka\n",
    "\n",
    "<!--\n",
    "  ~ Licensed to the Apache Software Foundation (ASF) under one\n",
    "  ~ or more contributor license agreements.  See the NOTICE file\n",
    "  ~ distributed with this work for additional information\n",
    "  ~ regarding copyright ownership.  The ASF licenses this file\n",
    "  ~ to you under the Apache License, Version 2.0 (the\n",
    "  ~ \"License\"); you may not use this file except in compliance\n",
    "  ~ with the License.  You may obtain a copy of the License at\n",
    "  ~\n",
    "  ~   http://www.apache.org/licenses/LICENSE-2.0\n",
    "  ~\n",
    "  ~ Unless required by applicable law or agreed to in writing,\n",
    "  ~ software distributed under the License is distributed on an\n",
    "  ~ \"AS IS\" BASIS, WITHOUT WARRANTIES OR CONDITIONS OF ANY\n",
    "  ~ KIND, either express or implied.  See the License for the\n",
    "  ~ specific language governing permissions and limitations\n",
    "  ~ under the License.\n",
    "  -->\n",
    "This notebook walks through sending sample data from the [Imply Data Generator](https://github.com/implydata/druid-datagenerator) direct to a topic in Apache Kafka. While running, you can access the topic directly from Druid, allowing you to ingest generated data in streaming ingestions."
   ]
  },
  {
   "cell_type": "markdown",
   "id": "bc40bba4-d9f4-47ec-be6f-7f82098a8fe9",
   "metadata": {},
   "source": [
    "## Prerequisites\n",
    "\n",
    "Launch this tutorial and all prerequisites using the `all-services` profile of the Docker Compose file for Jupyter-based Druid tutorials. For more information, see the Learn Druid repository [readme](https://github.com/implydata/learn-druid)."
   ]
  },
  {
   "cell_type": "markdown",
   "id": "ede6c638-8b2d-4dbf-958f-86c588e639cd",
   "metadata": {},
   "source": [
    "## Initialization\n",
    "\n",
    "Run the next cell to set up the connection to the data generator and to Apache Kafka."
   ]
  },
  {
   "cell_type": "code",
   "execution_count": null,
   "id": "f84766c7-c6a5-4496-91a3-abdb8ddd2375",
   "metadata": {},
   "outputs": [],
   "source": [
    "import requests\n",
    "import json\n",
    "import os\n",
    "import kafka\n",
    "\n",
    "datagenUrl = \"http://datagen:9999\"\n",
    "datagenHeaders = {'Content-Type': 'application/json'}\n",
    "\n",
    "if (os.environ['KAFKA_HOST'] == None):\n",
    "    kafka_host=f\"kafka:9092\"\n",
    "else:\n",
    "    kafka_host=f\"{os.environ['KAFKA_HOST']}:9092\""
   ]
  },
  {
   "cell_type": "markdown",
   "id": "d36ab305-7b53-4c08-a242-da3cfc80a05b",
   "metadata": {},
   "source": [
    "## Generate simulated data\n",
    "\n",
    "Run the following cell to create a JSON object that you will pass to the `start` endpoint in order to start the data generation process."
   ]
  },
  {
   "cell_type": "code",
   "execution_count": null,
   "id": "9d87596b-fe5f-4de6-8bfa-782c9c1f9879",
   "metadata": {},
   "outputs": [],
   "source": [
    "job_name=\"example_clickstream\"\n",
    "\n",
    "target = {\n",
    "    \"type\":\"kafka\",\n",
    "    \"endpoint\": kafka_host,\n",
    "    \"topic\": job_name\n",
    "}\n",
    "\n",
    "datagen_request = {\n",
    "    \"name\": job_name,\n",
    "    \"target\": target,\n",
    "    \"config_file\": \"clickstream/clickstream.json\",\n",
    "    \"time\": \"1h\",\n",
    "    \"concurrency\":10,\n",
    "    \"time_type\": \"REAL\"\n",
    "}\n",
    "\n",
    "display(datagen_request)"
   ]
  },
  {
   "cell_type": "markdown",
   "id": "28b450f8-bddb-42b3-b636-3cb81078ff8f",
   "metadata": {},
   "source": [
    "The JSON object contains:\n",
    "\n",
    "* `name`: a job identifier.\n",
    "* `target`: Kafka connection details and the topic to write to.\n",
    "* `config_file`: the type of simulation to run.\n",
    "* `time_type`: the timestamps to use.\n",
    "* `time`: period of time to run the simulation for.\n",
    "* `concurrency` the number state machines running the simulation.\n",
    "\n",
    "As `time_type` is `REAL`, each row will have the current timestamp as it is generated.\n",
    "\n",
    "Within `target` you only provide the `endpoint` and `topic`, but [other options are available](https://github.com/implydata/druid-datagenerator#target-object).\n",
    "\n",
    "Run the following cell to start a simulation by using the `start` endpoint using the `datagen_request` configuration."
   ]
  },
  {
   "cell_type": "code",
   "execution_count": null,
   "id": "c90ef2da-55cb-4ea7-a6f0-e6bbf5d8ca05",
   "metadata": {},
   "outputs": [],
   "source": [
    "requests.post(f\"{datagenUrl}/start\", json.dumps(datagen_request), headers=datagenHeaders)"
   ]
  },
  {
   "cell_type": "markdown",
   "id": "972ebed0-34a1-4ad2-909d-69b8b27c3046",
   "metadata": {},
   "source": [
    "Use the `/status` endpoint get the status of the simulation."
   ]
  },
  {
   "cell_type": "code",
   "execution_count": null,
   "id": "debce4f8-9c16-476c-9593-21ec984985d2",
   "metadata": {},
   "outputs": [],
   "source": [
    "display(requests.get(f\"{datagenUrl}/status/{job_name}\").json())"
   ]
  },
  {
   "cell_type": "markdown",
   "id": "f7ce0480-7c86-4a8e-b4b0-9b69d2ca8739",
   "metadata": {},
   "source": [
    "## View the data\n",
    "\n",
    "With the simulator writing directly to Apache Kafka, run the following cell to display the sample data.\n",
    "\n",
    "This code creates a KafkaConsumer (`consumer`), subscribes to the topic in Kafka, and then enters a loop to display only five events from the simulator. Finally, it unsubscribes the KafkaConsumer from the topic."
   ]
  },
  {
   "cell_type": "code",
   "execution_count": null,
   "id": "b238871d-73e7-480e-b4f6-610741a9ee0e",
   "metadata": {},
   "outputs": [],
   "source": [
    "from kafka import KafkaConsumer\n",
    "import json\n",
    "\n",
    "consumer = KafkaConsumer(\n",
    " bootstrap_servers=kafka_host\n",
    ")\n",
    "\n",
    "consumer.subscribe(topics=job_name)\n",
    "count = 0\n",
    "\n",
    "for message in consumer:\n",
    "    count += 1\n",
    "    if count == 5:\n",
    "        break\n",
    "    print (\"%d:%d: v=%s\" % (message.partition,\n",
    "                            message.offset,\n",
    "                            message.value))\n",
    "\n",
    "consumer.unsubscribe()"
   ]
  },
  {
   "cell_type": "markdown",
   "id": "ef818d78-6aa6-4d38-8a43-83416aede96f",
   "metadata": {},
   "source": [
    "Notice that the simulation will run (`time`) for one hour.\n",
    "\n",
    "Run the following cell to `stop` the data generation."
   ]
  },
  {
   "cell_type": "code",
   "execution_count": null,
   "id": "7631b8b8-d3d6-4803-9162-587f440d2ef2",
   "metadata": {},
   "outputs": [],
   "source": [
    "display(requests.post(f\"{datagenUrl}/stop/{job_name}\", '').json())"
   ]
  },
  {
   "cell_type": "markdown",
   "id": "4486e430-0776-46ad-8a8b-4f0354f17bfb",
   "metadata": {},
   "source": [
    "## Summary\n",
    "\n",
    "* The `target` property of the data generator configuration allows you to send data directly to a Kafka topic.\n",
    "* Timestamps in the data are configured using the `time_real` property.\n",
    "* The simulator will run for a period specified in `time`.\n",
    "* Stop data generation using the `stop` endpoint."
   ]
  },
  {
   "cell_type": "markdown",
   "id": "293128e2-57bd-4841-9843-66c6dc085ada",
   "metadata": {},
   "source": [
    "## Learn more\n",
    "\n",
    "* Read more about the data generator in the [official repository](https://github.com/implydata/druid-datagenerator).\n",
    "* Start a simulation and then connect to the topic data directly from Apache Druid using Kafka ingestion."
   ]
  },
  {
   "cell_type": "code",
   "execution_count": null,
   "id": "9fa451ca-b277-4678-a898-eceaba1f01de",
   "metadata": {},
   "outputs": [],
   "source": []
  }
 ],
 "metadata": {
  "kernelspec": {
   "display_name": "Python 3 (ipykernel)",
   "language": "python",
   "name": "python3"
  },
  "language_info": {
   "codemirror_mode": {
    "name": "ipython",
    "version": 3
   },
   "file_extension": ".py",
   "mimetype": "text/x-python",
   "name": "python",
   "nbconvert_exporter": "python",
   "pygments_lexer": "ipython3",
   "version": "3.11.6"
  }
 },
 "nbformat": 4,
 "nbformat_minor": 5
}
