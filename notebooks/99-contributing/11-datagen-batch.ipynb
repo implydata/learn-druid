{
 "cells": [
  {
   "cell_type": "markdown",
   "id": "9e07b3f5-d919-4179-91a1-0f6b66c42757",
   "metadata": {},
   "source": [
    "# Use the data generator to create a file of sample data\n",
    "\n",
    "<!--\n",
    "  ~ Licensed to the Apache Software Foundation (ASF) under one\n",
    "  ~ or more contributor license agreements.  See the NOTICE file\n",
    "  ~ distributed with this work for additional information\n",
    "  ~ regarding copyright ownership.  The ASF licenses this file\n",
    "  ~ to you under the Apache License, Version 2.0 (the\n",
    "  ~ \"License\"); you may not use this file except in compliance\n",
    "  ~ with the License.  You may obtain a copy of the License at\n",
    "  ~\n",
    "  ~   http://www.apache.org/licenses/LICENSE-2.0\n",
    "  ~\n",
    "  ~ Unless required by applicable law or agreed to in writing,\n",
    "  ~ software distributed under the License is distributed on an\n",
    "  ~ \"AS IS\" BASIS, WITHOUT WARRANTIES OR CONDITIONS OF ANY\n",
    "  ~ KIND, either express or implied.  See the License for the\n",
    "  ~ specific language governing permissions and limitations\n",
    "  ~ under the License.\n",
    "  -->\n",
    "This notebook walks through creating files containing sample data from the [Imply Data Generator](https://github.com/implydata/druid-datagenerator). Once generated, you can download the file, or access the data directly over HTTP from Druid, allowing you to ingest generated data directly during batch ingestion."
   ]
  },
  {
   "cell_type": "markdown",
   "id": "3f30c27c-95ef-4268-8f71-fdc0ee930824",
   "metadata": {},
   "source": [
    "## Prerequisites\n",
    "\n",
    "Launch this tutorial and all prerequisites using the `all-services` profile of the Docker Compose file for Jupyter-based Druid tutorials. For more information, see the Learn Druid repository [readme](https://github.com/implydata/learn-druid)."
   ]
  },
  {
   "cell_type": "markdown",
   "id": "05f243ab-375c-4690-b7a3-8e4752fb3f1d",
   "metadata": {},
   "source": [
    "## Initialization\n",
    "\n",
    "Run the next cell to set up the connection to the data generator."
   ]
  },
  {
   "cell_type": "code",
   "execution_count": 1,
   "id": "f84766c7-c6a5-4496-91a3-abdb8ddd2375",
   "metadata": {},
   "outputs": [],
   "source": [
    "import requests\n",
    "import json\n",
    "\n",
    "datagenUrl = \"http://datagen:9999\"\n",
    "datagenHeaders = {'Content-Type': 'application/json'}"
   ]
  },
  {
   "cell_type": "markdown",
   "id": "ae88a3b7-60da-405d-bcf4-fb4affcfe973",
   "metadata": {},
   "source": [
    "## Generate simulated data\n",
    "\n",
    "Run the following cell to create a JSON object that you will pass to the `start` endpoint in order to start the data generation process."
   ]
  },
  {
   "cell_type": "code",
   "execution_count": 2,
   "id": "2315c758-14b7-4e4b-81eb-9b1b281a9017",
   "metadata": {},
   "outputs": [],
   "source": [
    "job_name=\"gen_clickstream1\"\n",
    "\n",
    "datagen_request = {\n",
    "    \"name\": job_name,\n",
    "    \"target\": { \"type\": \"file\", \"path\":\"clicks.json\"},\n",
    "    \"config_file\": \"clickstream/clickstream.json\", \n",
    "    \"time_type\": \"1969-07-20 20:17:40\",\n",
    "    \"time\": \"15s\",\n",
    "    \"concurrency\":5\n",
    "}"
   ]
  },
  {
   "cell_type": "markdown",
   "id": "e53a5679-10dd-41d5-89ec-ec78c8fef449",
   "metadata": {},
   "source": [
    "The JSON object contains:\n",
    "\n",
    "* `name`: a job identifier.\n",
    "* `target`: the type and filename for the output file.\n",
    "* `config_file`: the type of simulation to run.\n",
    "* `time_type`: the start timestamp for the data.\n",
    "* `time`: period of time the data covers.\n",
    "* `concurrency` the number state machines running the simulation.\n",
    "\n",
    "Run the following cell to start a simulation by using the `start` endpoint using the `datagen_request` configuration."
   ]
  },
  {
   "cell_type": "code",
   "execution_count": 3,
   "id": "51cc7da5-f272-4143-9cd9-18b16782fb44",
   "metadata": {},
   "outputs": [
    {
     "data": {
      "text/plain": [
       "{'message': 'Starting generator for request.',\n",
       " 'request': {'name': 'gen_clickstream1',\n",
       "  'target': {'type': 'file', 'path': '/files/clicks.json'},\n",
       "  'config_file': 'clickstream/clickstream.json',\n",
       "  'time_type': '1969-07-20 20:17:40',\n",
       "  'time': '15s',\n",
       "  'concurrency': 5}}"
      ]
     },
     "execution_count": 3,
     "metadata": {},
     "output_type": "execute_result"
    }
   ],
   "source": [
    "response = requests.post(f\"{datagenUrl}/start\", json.dumps(datagen_request), headers=datagenHeaders)\n",
    "response.json()"
   ]
  },
  {
   "cell_type": "markdown",
   "id": "aecda36d-f479-4827-86bb-a0ea34da00f9",
   "metadata": {},
   "source": [
    "Use the status endpoint to retrieve the status of the simulation:"
   ]
  },
  {
   "cell_type": "code",
   "execution_count": 4,
   "id": "32fc5c7d-2ead-48ab-8019-898adac9cf6a",
   "metadata": {},
   "outputs": [
    {
     "data": {
      "text/plain": [
       "{'name': 'gen_clickstream1',\n",
       " 'config_file': 'clickstream/clickstream.json',\n",
       " 'target': {'type': 'file', 'path': '/files/clicks.json'},\n",
       " 'active_sessions': 0,\n",
       " 'total_records': 11,\n",
       " 'start_time': '1969-07-20 20:17:40',\n",
       " 'run_time': 54.948487,\n",
       " 'status': 'COMPLETE',\n",
       " 'status_msg': 'Running, Sim Clock: 1969-07-20 20:18:34.949487'}"
      ]
     },
     "metadata": {},
     "output_type": "display_data"
    }
   ],
   "source": [
    "display(requests.get(f\"{datagenUrl}/status/{job_name}\").json())"
   ]
  },
  {
   "cell_type": "markdown",
   "id": "6ee8b2a4-a25b-43ab-9406-ef371240995c",
   "metadata": {},
   "source": [
    "Run the cell above until the status shows as `COMPLETE`."
   ]
  },
  {
   "cell_type": "markdown",
   "id": "efd75ca5-971f-4250-be66-44297ee6ffdc",
   "metadata": {},
   "source": [
    "## Retrieve the data\n",
    "\n",
    "Use the `/files` API endpoint to list files available on the server."
   ]
  },
  {
   "cell_type": "code",
   "execution_count": 9,
   "id": "06ee36bd-2d2b-4904-9987-10636cf52aac",
   "metadata": {},
   "outputs": [
    {
     "data": {
      "text/plain": [
       "['clicks.json']"
      ]
     },
     "metadata": {},
     "output_type": "display_data"
    }
   ],
   "source": [
    "display(requests.get(f\"{datagenUrl}/files\", '').json())"
   ]
  },
  {
   "cell_type": "markdown",
   "id": "656110f7-fc47-4c2b-8be8-9e11212bbeae",
   "metadata": {},
   "source": [
    "Run the following cell to use the `file` endpoint to get the file above."
   ]
  },
  {
   "cell_type": "code",
   "execution_count": 6,
   "id": "c39728e3-3406-4185-b18a-a5ef208a0260",
   "metadata": {},
   "outputs": [
    {
     "name": "stdout",
     "output_type": "stream",
     "text": [
      "b'{\"time\":\"1969-07-20T20:17:40.001\",\"user_id\":\"2636\",\"event_type\":\"login\",\"client_ip\":\"127.229.143.133\",\"client_device\":\"mobile\",\"client_lang\":\"French\",\"client_country\":\"Mexico\",\"referrer\":\"facebook.com/referring-group\",\"keyword\":\"None\",\"product\":\"None\"}\\n{\"time\":\"1969-07-20T20:17:40.019\",\"user_id\":\"3882\",\"event_type\":\"login\",\"client_ip\":\"127.101.175.214\",\"client_device\":\"mobile\",\"client_lang\":\"Hindi\",\"client_country\":\"Vietnam\",\"referrer\":\"adserve.com\",\"keyword\":\"None\",\"product\":\"None\"}\\n{\"time\":\"1969-07-20T20:17:40.172\",\"user_id\":\"1597\",\"event_type\":\"login\",\"client_ip\":\"127.120.191.207\",\"client_device\":\"tablet\",\"client_lang\":\"French\",\"client_country\":\"Japan\",\"referrer\":\"facebook.com/referring-group\",\"keyword\":\"None\",\"product\":\"None\"}\\n{\"time\":\"1969-07-20T20:17:40.235\",\"user_id\":\"1536\",\"event_type\":\"login\",\"client_ip\":\"127.135.127.77\",\"client_device\":\"mobile\",\"client_lang\":\"English\",\"client_country\":\"Vietnam\",\"referrer\":\"unknown\",\"keyword\":\"None\",\"product\":\"None\"}\\n{\"time\":\"1969-07-20T20:17:40.237\",\"user_id\":\"3976\",\"event_type\":\"login\",\"client_ip\":\"127.162.111.126\",\"client_device\":\"mobile\",\"client_lang\":\"Russian\",\"client_country\":\"Nigeria\",\"referrer\":\"twitter.com/post\",\"keyword\":\"None\",\"product\":\"None\"}\\n{\"time\":\"1969-07-20T20:17:42.288\",\"user_id\":\"3976\",\"event_type\":\"home\",\"client_ip\":\"127.162.111.126\",\"client_device\":\"mobile\",\"client_lang\":\"Russian\",\"client_country\":\"Nigeria\",\"referrer\":\"twitter.com/post\",\"keyword\":\"None\",\"product\":\"None\"}\\n{\"time\":\"1969-07-20T20:17:44.100\",\"user_id\":\"3976\",\"event_type\":\"search\",\"client_ip\":\"127.162.111.126\",\"client_device\":\"mobile\",\"client_lang\":\"Russian\",\"client_country\":\"Nigeria\",\"referrer\":\"twitter.com/post\",\"keyword\":\"hats\",\"product\":\"Rubber chicken\"}\\n{\"time\":\"1969-07-20T20:17:49.143\",\"user_id\":\"1536\",\"event_type\":\"home\",\"client_ip\":\"127.135.127.77\",\"client_device\":\"mobile\",\"client_lang\":\"English\",\"client_country\":\"Vietnam\",\"referrer\":\"unknown\",\"keyword\":\"None\",\"product\":\"None\"}\\n{\"time\":\"1969-07-20T20:17:50.697\",\"user_id\":\"3976\",\"event_type\":\"view_product\",\"client_ip\":\"127.162.111.126\",\"client_device\":\"mobile\",\"client_lang\":\"Russian\",\"client_country\":\"Nigeria\",\"referrer\":\"twitter.com/post\",\"keyword\":\"hats\",\"product\":\"Rubber chicken\"}\\n{\"time\":\"1969-07-20T20:17:53.076\",\"user_id\":\"1536\",\"event_type\":\"search\",\"client_ip\":\"127.135.127.77\",\"client_device\":\"mobile\",\"client_lang\":\"English\",\"client_country\":\"Vietnam\",\"referrer\":\"unknown\",\"keyword\":\"Funny gifts\",\"product\":\"Toilet golf putting green\"}\\n{\"time\":\"1969-07-20T20:17:54.634\",\"user_id\":\"3882\",\"event_type\":\"home\",\"client_ip\":\"127.101.175.214\",\"client_device\":\"mobile\",\"client_lang\":\"Hindi\",\"client_country\":\"Vietnam\",\"referrer\":\"adserve.com\",\"keyword\":\"None\",\"product\":\"None\"}\\n'\n"
     ]
    }
   ],
   "source": [
    "response = requests.get(datagenUrl + \"/file/clicks.json\")\n",
    "response.raise_for_status()\n",
    "data = response.content\n",
    "print(data)"
   ]
  },
  {
   "cell_type": "markdown",
   "id": "4486e430-0776-46ad-8a8b-4f0354f17bfb",
   "metadata": {},
   "source": [
    "## Summary\n",
    "\n",
    "* The `start` endpoint begins a simulation and outputs a file based on a JSON configuration.\n",
    "* The `files` endpoint lists all available files.\n",
    "* Use the `file` endpoint to get generated files."
   ]
  },
  {
   "cell_type": "markdown",
   "id": "26b6982b-a6e4-4d39-8fea-2ab77aca7d84",
   "metadata": {},
   "source": [
    "## Learn more\n",
    "\n",
    "* Read more about the data generator in the [official repository](https://github.com/implydata/druid-datagenerator).\n",
    "* Try to use the [HTTP input source](https://druid.apache.org/docs/latest/ingestion/input-sources#http-input-source) in EXTERN to access the generated data directly from Apache Druid."
   ]
  }
 ],
 "metadata": {
  "kernelspec": {
   "display_name": "Python 3 (ipykernel)",
   "language": "python",
   "name": "python3"
  },
  "language_info": {
   "codemirror_mode": {
    "name": "ipython",
    "version": 3
   },
   "file_extension": ".py",
   "mimetype": "text/x-python",
   "name": "python",
   "nbconvert_exporter": "python",
   "pygments_lexer": "ipython3",
   "version": "3.11.6"
  }
 },
 "nbformat": 4,
 "nbformat_minor": 5
}
