{
 "cells": [
  {
   "cell_type": "markdown",
   "id": "ad4e60b6",
   "metadata": {
    "tags": []
   },
   "source": [
    "# Learn the basics of the Druid Window functions\n",
    "\n",
    "<!--\n",
    "  ~ Licensed to the Apache Software Foundation (ASF) under one\n",
    "  ~ or more contributor license agreements.  See the NOTICE file\n",
    "  ~ distributed with this work for additional information\n",
    "  ~ regarding copyright ownership.  The ASF licenses this file\n",
    "  ~ to you under the Apache License, Version 2.0 (the\n",
    "  ~ \"License\"); you may not use this file except in compliance\n",
    "  ~ with the License.  You may obtain a copy of the License at\n",
    "  ~\n",
    "  ~   http://www.apache.org/licenses/LICENSE-2.0\n",
    "  ~\n",
    "  ~ Unless required by applicable law or agreed to in writing,\n",
    "  ~ software distributed under the License is distributed on an\n",
    "  ~ \"AS IS\" BASIS, WITHOUT WARRANTIES OR CONDITIONS OF ANY\n",
    "  ~ KIND, either express or implied.  See the License for the\n",
    "  ~ specific language governing permissions and limitations\n",
    "  ~ under the License.\n",
    "  -->\n",
    "  \n",
    "[Window functions](https://druid.apache.org/docs/latest/querying/sql-array-functions) in Apache Druid produce values based upon the relationship of one row within a window of rows to the other rows within the same window. A window is a group of related rows within a result set. For example, rows with the same value for a specific dimension.\n",
    "\n",
    "This tutorial uses Wikipedia data to demonstrate the how window functions work in Druid."
   ]
  },
  {
   "cell_type": "markdown",
   "id": "8d6bbbcb",
   "metadata": {
    "tags": []
   },
   "source": [
    "## Prerequisites\n",
    "\n",
    "This tutorial works with Druid 28.0.0 or later.\n",
    "\n",
    "> Note that window functions are an exerimental feature."
   ]
  },
  {
   "cell_type": "code",
   "execution_count": 3,
   "id": "b7f08a52",
   "metadata": {},
   "outputs": [
    {
     "name": "stdout",
     "output_type": "stream",
     "text": [
      "Opening a connection to http://router:8888.\n"
     ]
    },
    {
     "data": {
      "text/plain": [
       "'28.0.0-SNAPSHOT'"
      ]
     },
     "execution_count": 3,
     "metadata": {},
     "output_type": "execute_result"
    }
   ],
   "source": [
    "import druidapi\n",
    "import os\n",
    "\n",
    "if 'DRUID_HOST' not in os.environ.keys():\n",
    "    druid_host=f\"http://localhost:8888\"\n",
    "else:\n",
    "    druid_host=f\"http://{os.environ['DRUID_HOST']}:8888\"\n",
    "    \n",
    "print(f\"Opening a connection to {druid_host}.\")\n",
    "druid = druidapi.jupyter_client(druid_host)\n",
    "\n",
    "display = druid.display\n",
    "sql_client = druid.sql\n",
    "status_client = druid.status\n",
    "\n",
    "status_client.version"
   ]
  },
  {
   "cell_type": "markdown",
   "id": "3b55af57-9c79-4e45-a22c-438c1b94112e",
   "metadata": {
    "tags": []
   },
   "source": [
    "## Load example data\n",
    "\n",
    "The example queries demonstrate a comparison of the total delta value for a change event in Wikipedia by channel and by user. For that reason, we only need the timestamp, channel, user, and delta columns for the source data."
   ]
  },
  {
   "cell_type": "code",
   "execution_count": 22,
   "id": "959e3c9b",
   "metadata": {},
   "outputs": [
    {
     "name": "stderr",
     "output_type": "stream",
     "text": [
      "Loading data, status:[SUCCESS]: 100%|██████████| 100.0/100.0 [00:09<00:00, 10.83it/s]\n"
     ]
    },
    {
     "data": {
      "text/html": [
       "<div class=\"druid\"><table>\n",
       "<tr><th>Position</th><th>Name</th><th>Type</th></tr>\n",
       "<tr><td>1</td><td>__time</td><td>TIMESTAMP</td></tr>\n",
       "<tr><td>2</td><td>channel</td><td>VARCHAR</td></tr>\n",
       "<tr><td>3</td><td>delta</td><td>BIGINT</td></tr>\n",
       "<tr><td>4</td><td>user</td><td>VARCHAR</td></tr>\n",
       "</table></div>"
      ],
      "text/plain": [
       "<IPython.core.display.HTML object>"
      ]
     },
     "metadata": {},
     "output_type": "display_data"
    }
   ],
   "source": [
    "sql='''\n",
    "REPLACE INTO \"example-wikipedia-windows\" OVERWRITE ALL\n",
    "WITH \"ext\" AS (SELECT *\n",
    "FROM TABLE(\n",
    "  EXTERN(\n",
    "    '{\"type\":\"http\",\"uris\":[\"https://druid.apache.org/data/wikipedia.json.gz\"]}',\n",
    "    '{\"type\":\"json\"}'\n",
    "  )\n",
    ") EXTEND (\"timestamp\" VARCHAR, \"channel\" VARCHAR, \"user\" VARCHAR, \"delta\" BIGINT))\n",
    "SELECT\n",
    "  TIME_PARSE(\"timestamp\") AS \"__time\",\n",
    "  \"channel\",\n",
    "  \"user\",\n",
    "  \"delta\"\n",
    "FROM \"ext\"\n",
    "PARTITIONED BY DAY\n",
    "'''\n",
    "\n",
    "display.run_task(sql)\n",
    "sql_client.wait_until_ready('example-wikipedia-windows')\n",
    "display.table('example-wikipedia-windows')"
   ]
  },
  {
   "cell_type": "markdown",
   "id": "9094069e-25e6-45ff-8cc6-2cb16d299ac9",
   "metadata": {},
   "source": [
    "The dataset describes changes that each individual `user` has made to Wikipedia pages within a `channel` expressed as the number of bytes added or deleted in the `delta` column and where `__time` is when the change was submitted. \n",
    "\n",
    "Run this query to have a look at the data:"
   ]
  },
  {
   "cell_type": "code",
   "execution_count": 49,
   "id": "9c690339-c2b0-4afa-bdbc-62449710b002",
   "metadata": {},
   "outputs": [
    {
     "data": {
      "text/html": [
       "<div class=\"druid\"><table>\n",
       "<tr><th>__time</th><th>channel</th><th>user</th><th>delta</th></tr>\n",
       "<tr><td>2016-06-27T04:20:52.858Z</td><td>#kk.wikipedia</td><td>Нұрлан Рахымжанов</td><td>56</td></tr>\n",
       "<tr><td>2016-06-27T04:35:03.186Z</td><td>#kk.wikipedia</td><td>Nurkhan</td><td>2440</td></tr>\n",
       "<tr><td>2016-06-27T06:15:57.686Z</td><td>#kk.wikipedia</td><td>Шокай</td><td>91</td></tr>\n",
       "<tr><td>2016-06-27T06:17:54.507Z</td><td>#lt.wikipedia</td><td>Powermelon</td><td>-2</td></tr>\n",
       "<tr><td>2016-06-27T07:32:40.116Z</td><td>#kk.wikipedia</td><td>Салиха</td><td>-1</td></tr>\n",
       "<tr><td>2016-06-27T07:55:47.080Z</td><td>#lt.wikipedia</td><td>Powermelon</td><td>13</td></tr>\n",
       "<tr><td>2016-06-27T09:00:56.856Z</td><td>#kk.wikipedia</td><td>Салиха</td><td>2703</td></tr>\n",
       "<tr><td>2016-06-27T09:05:11.299Z</td><td>#lt.wikipedia</td><td>80.4.147.222</td><td>894</td></tr>\n",
       "<tr><td>2016-06-27T09:12:13.268Z</td><td>#lt.wikipedia</td><td>178.11.203.212</td><td>391</td></tr>\n",
       "<tr><td>2016-06-27T09:23:24.677Z</td><td>#lt.wikipedia</td><td>178.11.203.212</td><td>56</td></tr>\n",
       "<tr><td>2016-06-27T09:24:46.035Z</td><td>#kk.wikipedia</td><td>Салиха</td><td>-1</td></tr>\n",
       "<tr><td>2016-06-27T10:59:03.067Z</td><td>#lt.wikipedia</td><td>80.4.147.222</td><td>1</td></tr>\n",
       "<tr><td>2016-06-27T11:00:51.546Z</td><td>#kk.wikipedia</td><td>Нұрлан Рахымжанов</td><td>63</td></tr>\n",
       "<tr><td>2016-06-27T11:05:31.764Z</td><td>#kk.wikipedia</td><td>Нұрлан Рахымжанов</td><td>7</td></tr>\n",
       "<tr><td>2016-06-27T11:32:59.424Z</td><td>#kk.wikipedia</td><td>Нұрлан Рахымжанов</td><td>56</td></tr>\n",
       "<tr><td>2016-06-27T11:49:41.947Z</td><td>#lt.wikipedia</td><td>MaryroseB54</td><td>59</td></tr>\n",
       "<tr><td>2016-06-27T12:41:07.243Z</td><td>#lt.wikipedia</td><td>Karoliuk</td><td>53</td></tr>\n",
       "<tr><td>2016-06-27T12:58:04.583Z</td><td>#lt.wikipedia</td><td>Powermelon</td><td>28</td></tr>\n",
       "<tr><td>2016-06-27T15:21:55.026Z</td><td>#kk.wikipedia</td><td>Nurkhan</td><td>6900</td></tr>\n",
       "<tr><td>2016-06-27T19:03:48.701Z</td><td>#lt.wikipedia</td><td>77.221.66.41</td><td>4358</td></tr>\n",
       "</table></div>"
      ],
      "text/plain": [
       "<IPython.core.display.HTML object>"
      ]
     },
     "metadata": {},
     "output_type": "display_data"
    }
   ],
   "source": [
    "query = \"\"\"\n",
    "SELECT\n",
    "    __time,\n",
    "    channel,\n",
    "    user,\n",
    "    delta\n",
    "FROM \"example-wikipedia-windows\"\n",
    "WHERE channel IN ('#kk.wikipedia', '#lt.wikipedia')\n",
    "  AND __time BETWEEN '2016-06-27' AND '2016-06-28'\n",
    "ORDER BY __time\n",
    "\"\"\"\n",
    "display.sql(query)"
   ]
  },
  {
   "cell_type": "markdown",
   "id": "a1efa147-a438-40d9-ad37-602d2d928f93",
   "metadata": {},
   "source": [
    "## Window Functions in Druid\n",
    "\n",
    "Druid implements Window Functions over aggregate queries. The general syntax is:\n",
    "```\n",
    "SELECT\n",
    "    <dimensions>,\n",
    "    <aggregation function(s)>\n",
    "    window_function()\n",
    "      OVER ( PARTITION BY <partitioning expression>\n",
    "             ORDER BY <order expression>\n",
    "             <window frame>\n",
    "            )\n",
    "    FROM <table>\n",
    "    GROUP BY <dimensions>\n",
    "```\n",
    "\n",
    "The `GROUP BY \\<dimensions\\>` is applied first, calculating all non-window `<aggregation functions>` and then applying the window function over the aggregate results.\n",
    "\n",
    "Start by defining the aggregation to use as the base query. \n",
    "In this example the query standardizes the wikipedia activity metrics by summarizing it by HOUR by `channel` by `user` as in:"
   ]
  },
  {
   "cell_type": "code",
   "execution_count": 60,
   "id": "7b71f7ee-4a07-4843-b217-8b4dcd8557f5",
   "metadata": {},
   "outputs": [
    {
     "data": {
      "text/html": [
       "<div class=\"druid\"><table>\n",
       "<tr><th>channel</th><th>time_hour</th><th>user</th><th>net_user_changes</th></tr>\n",
       "<tr><td>#kk.wikipedia</td><td>2016-06-27T04:00:00.000Z</td><td>Nurkhan</td><td>2440</td></tr>\n",
       "<tr><td>#kk.wikipedia</td><td>2016-06-27T04:00:00.000Z</td><td>Нұрлан Рахымжанов</td><td>56</td></tr>\n",
       "<tr><td>#kk.wikipedia</td><td>2016-06-27T06:00:00.000Z</td><td>Шокай</td><td>91</td></tr>\n",
       "<tr><td>#kk.wikipedia</td><td>2016-06-27T07:00:00.000Z</td><td>Салиха</td><td>-1</td></tr>\n",
       "<tr><td>#kk.wikipedia</td><td>2016-06-27T09:00:00.000Z</td><td>Салиха</td><td>2702</td></tr>\n",
       "<tr><td>#kk.wikipedia</td><td>2016-06-27T11:00:00.000Z</td><td>Нұрлан Рахымжанов</td><td>126</td></tr>\n",
       "<tr><td>#kk.wikipedia</td><td>2016-06-27T15:00:00.000Z</td><td>Nurkhan</td><td>6900</td></tr>\n",
       "<tr><td>#lt.wikipedia</td><td>2016-06-27T06:00:00.000Z</td><td>Powermelon</td><td>-2</td></tr>\n",
       "<tr><td>#lt.wikipedia</td><td>2016-06-27T07:00:00.000Z</td><td>Powermelon</td><td>13</td></tr>\n",
       "<tr><td>#lt.wikipedia</td><td>2016-06-27T09:00:00.000Z</td><td>178.11.203.212</td><td>447</td></tr>\n",
       "<tr><td>#lt.wikipedia</td><td>2016-06-27T09:00:00.000Z</td><td>80.4.147.222</td><td>894</td></tr>\n",
       "<tr><td>#lt.wikipedia</td><td>2016-06-27T10:00:00.000Z</td><td>80.4.147.222</td><td>1</td></tr>\n",
       "<tr><td>#lt.wikipedia</td><td>2016-06-27T11:00:00.000Z</td><td>MaryroseB54</td><td>59</td></tr>\n",
       "<tr><td>#lt.wikipedia</td><td>2016-06-27T12:00:00.000Z</td><td>Karoliuk</td><td>53</td></tr>\n",
       "<tr><td>#lt.wikipedia</td><td>2016-06-27T12:00:00.000Z</td><td>Powermelon</td><td>28</td></tr>\n",
       "<tr><td>#lt.wikipedia</td><td>2016-06-27T19:00:00.000Z</td><td>77.221.66.41</td><td>4358</td></tr>\n",
       "</table></div>"
      ],
      "text/plain": [
       "<IPython.core.display.HTML object>"
      ]
     },
     "metadata": {},
     "output_type": "display_data"
    }
   ],
   "source": [
    "query = \"\"\"\n",
    "SELECT\n",
    "    channel, \n",
    "    TIME_FLOOR(__time, 'PT1H') as time_hour, \n",
    "    user,\n",
    "    SUM(delta) net_user_changes\n",
    "FROM \"example-wikipedia-windows\"\n",
    "WHERE channel IN ('#kk.wikipedia', '#lt.wikipedia')\n",
    "  AND __time BETWEEN '2016-06-27' AND '2016-06-28'\n",
    "GROUP BY TIME_FLOOR(__time, 'PT1H'), channel, user\n",
    "ORDER BY channel, TIME_FLOOR(__time, 'PT1H'), user\n",
    "\n",
    "\"\"\"\n",
    "\n",
    "req = sql_client.sql_request(query)\n",
    "# Window functions are currently experimental. Set the enableWindiowing\n",
    "# context parameter to \"true\" to use them.\n",
    "req.add_context(\"enableWindowing\", \"true\")\n",
    "display.sql(req)\n"
   ]
  },
  {
   "cell_type": "markdown",
   "id": "f8f5347c-0874-4590-bf12-ff8fb7772d1c",
   "metadata": {},
   "source": [
    "## ORDER BY Windows\n",
    "\n",
    "When the window definition only specifies ORDER BY <order expression>, it sorts the aggregate data set and applies the function in that order.\n",
    "\n",
    "The following query uses `ORDER BY SUM(delta) DESC` to rank user hourly activity from the most changed the least changed within an hour:"
   ]
  },
  {
   "cell_type": "code",
   "execution_count": 58,
   "id": "d8e15cee-ef40-4123-a18d-2054115d2df5",
   "metadata": {},
   "outputs": [
    {
     "data": {
      "text/html": [
       "<div class=\"druid\"><table>\n",
       "<tr><th>time_hour</th><th>channel</th><th>user</th><th>net_user_changes</th><th>editing_rank</th></tr>\n",
       "<tr><td>2016-06-27T15:00:00.000Z</td><td>#kk.wikipedia</td><td>Nurkhan</td><td>6900</td><td>1</td></tr>\n",
       "<tr><td>2016-06-27T19:00:00.000Z</td><td>#lt.wikipedia</td><td>77.221.66.41</td><td>4358</td><td>2</td></tr>\n",
       "<tr><td>2016-06-27T09:00:00.000Z</td><td>#kk.wikipedia</td><td>Салиха</td><td>2702</td><td>3</td></tr>\n",
       "<tr><td>2016-06-27T04:00:00.000Z</td><td>#kk.wikipedia</td><td>Nurkhan</td><td>2440</td><td>4</td></tr>\n",
       "<tr><td>2016-06-27T09:00:00.000Z</td><td>#lt.wikipedia</td><td>80.4.147.222</td><td>894</td><td>5</td></tr>\n",
       "<tr><td>2016-06-27T09:00:00.000Z</td><td>#lt.wikipedia</td><td>178.11.203.212</td><td>447</td><td>6</td></tr>\n",
       "<tr><td>2016-06-27T11:00:00.000Z</td><td>#kk.wikipedia</td><td>Нұрлан Рахымжанов</td><td>126</td><td>7</td></tr>\n",
       "<tr><td>2016-06-27T06:00:00.000Z</td><td>#kk.wikipedia</td><td>Шокай</td><td>91</td><td>8</td></tr>\n",
       "<tr><td>2016-06-27T11:00:00.000Z</td><td>#lt.wikipedia</td><td>MaryroseB54</td><td>59</td><td>9</td></tr>\n",
       "<tr><td>2016-06-27T04:00:00.000Z</td><td>#kk.wikipedia</td><td>Нұрлан Рахымжанов</td><td>56</td><td>10</td></tr>\n",
       "<tr><td>2016-06-27T12:00:00.000Z</td><td>#lt.wikipedia</td><td>Karoliuk</td><td>53</td><td>11</td></tr>\n",
       "<tr><td>2016-06-27T12:00:00.000Z</td><td>#lt.wikipedia</td><td>Powermelon</td><td>28</td><td>12</td></tr>\n",
       "<tr><td>2016-06-27T07:00:00.000Z</td><td>#lt.wikipedia</td><td>Powermelon</td><td>13</td><td>13</td></tr>\n",
       "<tr><td>2016-06-27T10:00:00.000Z</td><td>#lt.wikipedia</td><td>80.4.147.222</td><td>1</td><td>14</td></tr>\n",
       "<tr><td>2016-06-27T07:00:00.000Z</td><td>#kk.wikipedia</td><td>Салиха</td><td>-1</td><td>15</td></tr>\n",
       "<tr><td>2016-06-27T06:00:00.000Z</td><td>#lt.wikipedia</td><td>Powermelon</td><td>-2</td><td>16</td></tr>\n",
       "</table></div>"
      ],
      "text/plain": [
       "<IPython.core.display.HTML object>"
      ]
     },
     "metadata": {},
     "output_type": "display_data"
    }
   ],
   "source": [
    "query = \"\"\"\n",
    "SELECT\n",
    "    TIME_FLOOR(__time, 'PT1H') as time_hour, \n",
    "    channel, \n",
    "    user,\n",
    "    SUM(delta) net_user_changes,\n",
    "    RANK( ) OVER ( ORDER BY SUM(delta) DESC ) editing_rank\n",
    "FROM \"example-wikipedia-windows\"\n",
    "WHERE channel IN ('#kk.wikipedia', '#lt.wikipedia')\n",
    "  AND __time BETWEEN '2016-06-27' AND '2016-06-28'\n",
    "GROUP BY TIME_FLOOR(__time, 'PT1H'), channel, user\n",
    "ORDER BY 5 \n",
    "\n",
    "\"\"\"\n",
    "\n",
    "req = sql_client.sql_request(query)\n",
    "# Window functions are currently experimental. Set the enableWindiowing\n",
    "# context parameter to \"true\" to use them.\n",
    "req.add_context(\"enableWindowing\", \"true\")\n",
    "display.sql(req)"
   ]
  },
  {
   "cell_type": "markdown",
   "id": "74368b02-8e0b-41d7-b46b-30da3a3076bd",
   "metadata": {},
   "source": [
    "## PARTITION BY Windows\n",
    "\n",
    "When a window only specifies `PARTITION BY <partition expression>` it calculates the aggregate window function over all the rows that share a <partitioning expression> values within the selected dataset.\n",
    "\n",
    "In this example, the query uses two different windows `PARTITION BY channel` and `PARTITION BY user` to calculate the overall total activity in the channel and total activity by the user so that they can be compared to individual hourly activity.\n"
   ]
  },
  {
   "cell_type": "code",
   "execution_count": 59,
   "id": "7283391f-7258-474c-9a25-bcb5a3e7b1fd",
   "metadata": {},
   "outputs": [
    {
     "data": {
      "text/html": [
       "<div class=\"druid\"><table>\n",
       "<tr><th>time_hour</th><th>channel</th><th>user</th><th>hourly_user_changes</th><th>total_user_changes</th><th>total_channel_changes</th></tr>\n",
       "<tr><td>2016-06-27T04:00:00.000Z</td><td>#kk.wikipedia</td><td>Nurkhan</td><td>2440</td><td>9340</td><td>12314</td></tr>\n",
       "<tr><td>2016-06-27T04:00:00.000Z</td><td>#kk.wikipedia</td><td>Нұрлан Рахымжанов</td><td>56</td><td>182</td><td>12314</td></tr>\n",
       "<tr><td>2016-06-27T06:00:00.000Z</td><td>#kk.wikipedia</td><td>Шокай</td><td>91</td><td>91</td><td>12314</td></tr>\n",
       "<tr><td>2016-06-27T07:00:00.000Z</td><td>#kk.wikipedia</td><td>Салиха</td><td>-1</td><td>2701</td><td>12314</td></tr>\n",
       "<tr><td>2016-06-27T09:00:00.000Z</td><td>#kk.wikipedia</td><td>Салиха</td><td>2702</td><td>2701</td><td>12314</td></tr>\n",
       "<tr><td>2016-06-27T11:00:00.000Z</td><td>#kk.wikipedia</td><td>Нұрлан Рахымжанов</td><td>126</td><td>182</td><td>12314</td></tr>\n",
       "<tr><td>2016-06-27T15:00:00.000Z</td><td>#kk.wikipedia</td><td>Nurkhan</td><td>6900</td><td>9340</td><td>12314</td></tr>\n",
       "<tr><td>2016-06-27T06:00:00.000Z</td><td>#lt.wikipedia</td><td>Powermelon</td><td>-2</td><td>39</td><td>5851</td></tr>\n",
       "<tr><td>2016-06-27T07:00:00.000Z</td><td>#lt.wikipedia</td><td>Powermelon</td><td>13</td><td>39</td><td>5851</td></tr>\n",
       "<tr><td>2016-06-27T09:00:00.000Z</td><td>#lt.wikipedia</td><td>178.11.203.212</td><td>447</td><td>447</td><td>5851</td></tr>\n",
       "<tr><td>2016-06-27T09:00:00.000Z</td><td>#lt.wikipedia</td><td>80.4.147.222</td><td>894</td><td>895</td><td>5851</td></tr>\n",
       "<tr><td>2016-06-27T10:00:00.000Z</td><td>#lt.wikipedia</td><td>80.4.147.222</td><td>1</td><td>895</td><td>5851</td></tr>\n",
       "<tr><td>2016-06-27T11:00:00.000Z</td><td>#lt.wikipedia</td><td>MaryroseB54</td><td>59</td><td>59</td><td>5851</td></tr>\n",
       "<tr><td>2016-06-27T12:00:00.000Z</td><td>#lt.wikipedia</td><td>Karoliuk</td><td>53</td><td>53</td><td>5851</td></tr>\n",
       "<tr><td>2016-06-27T12:00:00.000Z</td><td>#lt.wikipedia</td><td>Powermelon</td><td>28</td><td>39</td><td>5851</td></tr>\n",
       "<tr><td>2016-06-27T19:00:00.000Z</td><td>#lt.wikipedia</td><td>77.221.66.41</td><td>4358</td><td>4358</td><td>5851</td></tr>\n",
       "</table></div>"
      ],
      "text/plain": [
       "<IPython.core.display.HTML object>"
      ]
     },
     "metadata": {},
     "output_type": "display_data"
    }
   ],
   "source": [
    "query = \"\"\"\n",
    "SELECT\n",
    "    TIME_FLOOR(__time, 'PT1H') as time_hour, channel, user,\n",
    "    SUM(delta) hourly_user_changes,\n",
    "    SUM(SUM(delta)) OVER (PARTITION BY user ) AS total_user_changes,\n",
    "    SUM(SUM(delta)) OVER (PARTITION BY channel ) AS total_channel_changes\n",
    "FROM \"example-wikipedia-windows\"\n",
    "WHERE channel IN ('#kk.wikipedia', '#lt.wikipedia')\n",
    "  AND __time BETWEEN '2016-06-27' AND '2016-06-28'\n",
    "GROUP BY TIME_FLOOR(__time, 'PT1H'),2,3\n",
    "ORDER BY channel,TIME_FLOOR(__time, 'PT1H'), user\n",
    "\n",
    "\"\"\"\n",
    "\n",
    "req = sql_client.sql_request(query)\n",
    "# Window functions are currently experimental. Set the enableWindiowing\n",
    "# context parameter to \"true\" to use them.\n",
    "req.add_context(\"enableWindowing\", \"true\")\n",
    "display.sql(req)\n"
   ]
  },
  {
   "cell_type": "markdown",
   "id": "023ef0b8-2d9e-4364-8bb3-064afae0c42e",
   "metadata": {},
   "source": [
    "Since the windows only define the PARTITION BY clause of the window, the calculation is done over the whole dataset for each value of the \\<partition expression\\>. Since the dataset is filtered for a single day, these window function results represent the total activity for the day, for the `user` and for the `channel` respectively.\n",
    "\n",
    "Such a result helps us see the impact that individual user's hourly activity :\n",
    "- the impact to the channel by comparing hourly_user_changes to total_channel_changes\n",
    "- the impact of each user over the channel by total_user_changes to total_channel_changes\n",
    "- the progress of each user's inidividal activity by comparing hourly_user_changes to total_user_changes"
   ]
  },
  {
   "cell_type": "markdown",
   "id": "622f2158-75c9-4b12-bd8a-c92d30994c1f",
   "metadata": {
    "tags": []
   },
   "source": [
    "## PARTITION BY + ORDER BY Windows\n",
    "\n",
    "By combining the two window types the query can do ordered calculations within each partition of data.\n",
    "\n",
    "\n",
    "The following query ranks user hourly activity within the channel:"
   ]
  },
  {
   "cell_type": "code",
   "execution_count": 65,
   "id": "20f1317f-a24a-4dc1-aaa0-7a7538c880e9",
   "metadata": {},
   "outputs": [
    {
     "data": {
      "text/html": [
       "<div class=\"druid\"><table>\n",
       "<tr><th>channel</th><th>time_hour</th><th>user</th><th>hourly_user_changes</th><th>rank_within_channel_day</th></tr>\n",
       "<tr><td>#kk.wikipedia</td><td>2016-06-27T15:00:00.000Z</td><td>Nurkhan</td><td>6900</td><td>1</td></tr>\n",
       "<tr><td>#kk.wikipedia</td><td>2016-06-27T09:00:00.000Z</td><td>Салиха</td><td>2702</td><td>2</td></tr>\n",
       "<tr><td>#kk.wikipedia</td><td>2016-06-27T04:00:00.000Z</td><td>Nurkhan</td><td>2440</td><td>3</td></tr>\n",
       "<tr><td>#kk.wikipedia</td><td>2016-06-27T11:00:00.000Z</td><td>Нұрлан Рахымжанов</td><td>126</td><td>4</td></tr>\n",
       "<tr><td>#kk.wikipedia</td><td>2016-06-27T06:00:00.000Z</td><td>Шокай</td><td>91</td><td>5</td></tr>\n",
       "<tr><td>#kk.wikipedia</td><td>2016-06-27T04:00:00.000Z</td><td>Нұрлан Рахымжанов</td><td>56</td><td>6</td></tr>\n",
       "<tr><td>#kk.wikipedia</td><td>2016-06-27T07:00:00.000Z</td><td>Салиха</td><td>-1</td><td>7</td></tr>\n",
       "<tr><td>#lt.wikipedia</td><td>2016-06-27T19:00:00.000Z</td><td>77.221.66.41</td><td>4358</td><td>1</td></tr>\n",
       "<tr><td>#lt.wikipedia</td><td>2016-06-27T09:00:00.000Z</td><td>80.4.147.222</td><td>894</td><td>2</td></tr>\n",
       "<tr><td>#lt.wikipedia</td><td>2016-06-27T09:00:00.000Z</td><td>178.11.203.212</td><td>447</td><td>3</td></tr>\n",
       "<tr><td>#lt.wikipedia</td><td>2016-06-27T11:00:00.000Z</td><td>MaryroseB54</td><td>59</td><td>4</td></tr>\n",
       "<tr><td>#lt.wikipedia</td><td>2016-06-27T12:00:00.000Z</td><td>Karoliuk</td><td>53</td><td>5</td></tr>\n",
       "<tr><td>#lt.wikipedia</td><td>2016-06-27T12:00:00.000Z</td><td>Powermelon</td><td>28</td><td>6</td></tr>\n",
       "<tr><td>#lt.wikipedia</td><td>2016-06-27T07:00:00.000Z</td><td>Powermelon</td><td>13</td><td>7</td></tr>\n",
       "<tr><td>#lt.wikipedia</td><td>2016-06-27T10:00:00.000Z</td><td>80.4.147.222</td><td>1</td><td>8</td></tr>\n",
       "<tr><td>#lt.wikipedia</td><td>2016-06-27T06:00:00.000Z</td><td>Powermelon</td><td>-2</td><td>9</td></tr>\n",
       "</table></div>"
      ],
      "text/plain": [
       "<IPython.core.display.HTML object>"
      ]
     },
     "metadata": {},
     "output_type": "display_data"
    }
   ],
   "source": [
    "query = \"\"\"\n",
    "SELECT\n",
    "    channel, \n",
    "    TIME_FLOOR(__time, 'PT1H') as time_hour, \n",
    "    user,\n",
    "    SUM(delta) hourly_user_changes,\n",
    "    RANK() OVER (PARTITION BY channel ORDER BY SUM(delta) DESC) AS rank_within_channel_day\n",
    "FROM \"example-wikipedia-windows\"\n",
    "WHERE channel IN ('#kk.wikipedia', '#lt.wikipedia')\n",
    "  AND __time BETWEEN '2016-06-27' AND '2016-06-28'\n",
    "GROUP BY 1, TIME_FLOOR(__time, 'PT1H'),3\n",
    "ORDER BY channel, 5\n",
    "\n",
    "\"\"\"\n",
    "\n",
    "req = sql_client.sql_request(query)\n",
    "# Window functions are currently experimental. Set the enableWindiowing\n",
    "# context parameter to \"true\" to use them.\n",
    "req.add_context(\"enableWindowing\", \"true\")\n",
    "display.sql(req)\n"
   ]
  },
  {
   "cell_type": "markdown",
   "id": "69e8ed88-2386-48c2-bc70-b299dd8ac016",
   "metadata": {},
   "source": [
    "## Window Frames\n",
    "\n",
    "Window frames are used to limit the set of rows used for the windowed aggregation.\n",
    "The general form is:\n",
    "```\n",
    "<window funtion>\n",
    "OVER (\n",
    "        [ PARTITION BY <partition expression>] ORDER BY <order expression>\n",
    "        ROWS BETWEEN <range start> AND <range end>\n",
    "     )\n",
    "```\n",
    "`<range start>` and `<range end>` can take on values:\n",
    "UNBOUND PRECEDING   - from the beggining of the partition as order by the \\<order expression\\>\n",
    "N ROWS PRECEDING    - N rows before the current row as ordered by the \\<order expression\\>\n",
    "CURRENT ROW         - the current row\n",
    "N ROWS FOLLOWING    - N rows after the current row as ordered by the \\<order expression\\>\n",
    "UNBOUNDED FOLLOWING - to the end of the partition as ordered by the \\<order expression\\>\n",
    "\n",
    "The following query uses a few differnt window frames overall activity by channel: "
   ]
  },
  {
   "cell_type": "code",
   "execution_count": 79,
   "id": "7dc8d45d-8b20-4c01-a7a8-7383e70116e8",
   "metadata": {},
   "outputs": [
    {
     "data": {
      "text/html": [
       "<div class=\"druid\"><table>\n",
       "<tr><th>channel</th><th>time_hour</th><th>hourly_channel_changes</th><th>cumulative_activity_in_channel</th><th>csum4</th><th>count4</th></tr>\n",
       "<tr><td>#en.wikipedia</td><td>2016-06-27T00:00:00.000Z</td><td>74996</td><td>74996</td><td>74996</td><td>1</td></tr>\n",
       "<tr><td>#en.wikipedia</td><td>2016-06-27T01:00:00.000Z</td><td>24150</td><td>99146</td><td>99146</td><td>2</td></tr>\n",
       "<tr><td>#en.wikipedia</td><td>2016-06-27T02:00:00.000Z</td><td>102372</td><td>201518</td><td>201518</td><td>3</td></tr>\n",
       "<tr><td>#en.wikipedia</td><td>2016-06-27T03:00:00.000Z</td><td>61362</td><td>262880</td><td>262880</td><td>4</td></tr>\n",
       "<tr><td>#en.wikipedia</td><td>2016-06-27T04:00:00.000Z</td><td>61666</td><td>324546</td><td>324546</td><td>5</td></tr>\n",
       "<tr><td>#en.wikipedia</td><td>2016-06-27T05:00:00.000Z</td><td>144199</td><td>468745</td><td>393749</td><td>5</td></tr>\n",
       "<tr><td>#en.wikipedia</td><td>2016-06-27T06:00:00.000Z</td><td>33414</td><td>502159</td><td>403013</td><td>5</td></tr>\n",
       "<tr><td>#en.wikipedia</td><td>2016-06-27T07:00:00.000Z</td><td>79397</td><td>581556</td><td>380038</td><td>5</td></tr>\n",
       "<tr><td>#en.wikipedia</td><td>2016-06-27T08:00:00.000Z</td><td>104436</td><td>685992</td><td>423112</td><td>5</td></tr>\n",
       "<tr><td>#en.wikipedia</td><td>2016-06-27T09:00:00.000Z</td><td>58020</td><td>744012</td><td>419466</td><td>5</td></tr>\n",
       "<tr><td>#en.wikipedia</td><td>2016-06-27T10:00:00.000Z</td><td>93904</td><td>837916</td><td>369171</td><td>5</td></tr>\n",
       "<tr><td>#en.wikipedia</td><td>2016-06-27T11:00:00.000Z</td><td>74436</td><td>912352</td><td>410193</td><td>5</td></tr>\n",
       "<tr><td>#en.wikipedia</td><td>2016-06-27T12:00:00.000Z</td><td>83491</td><td>995843</td><td>414287</td><td>5</td></tr>\n",
       "<tr><td>#en.wikipedia</td><td>2016-06-27T13:00:00.000Z</td><td>103051</td><td>1098894</td><td>412902</td><td>5</td></tr>\n",
       "<tr><td>#en.wikipedia</td><td>2016-06-27T14:00:00.000Z</td><td>211411</td><td>1310305</td><td>566293</td><td>5</td></tr>\n",
       "<tr><td>#en.wikipedia</td><td>2016-06-27T15:00:00.000Z</td><td>101247</td><td>1411552</td><td>573636</td><td>5</td></tr>\n",
       "<tr><td>#en.wikipedia</td><td>2016-06-27T16:00:00.000Z</td><td>189765</td><td>1601317</td><td>688965</td><td>5</td></tr>\n",
       "<tr><td>#en.wikipedia</td><td>2016-06-27T17:00:00.000Z</td><td>74404</td><td>1675721</td><td>679878</td><td>5</td></tr>\n",
       "<tr><td>#en.wikipedia</td><td>2016-06-27T18:00:00.000Z</td><td>104824</td><td>1780545</td><td>681651</td><td>5</td></tr>\n",
       "<tr><td>#en.wikipedia</td><td>2016-06-27T19:00:00.000Z</td><td>71268</td><td>1851813</td><td>541508</td><td>5</td></tr>\n",
       "<tr><td>#en.wikipedia</td><td>2016-06-27T20:00:00.000Z</td><td>88185</td><td>1939998</td><td>528446</td><td>5</td></tr>\n",
       "<tr><td>#en.wikipedia</td><td>2016-06-27T21:00:00.000Z</td><td>42584</td><td>1982582</td><td>381265</td><td>5</td></tr>\n",
       "</table></div>"
      ],
      "text/plain": [
       "<IPython.core.display.HTML object>"
      ]
     },
     "metadata": {},
     "output_type": "display_data"
    }
   ],
   "source": [
    "query = \"\"\"\n",
    "SELECT\n",
    "    channel, \n",
    "    TIME_FLOOR(__time, 'PT1H')      AS time_hour, \n",
    "    SUM(delta)                      AS hourly_channel_changes,\n",
    "    SUM(SUM(delta)) OVER cumulative AS cumulative_activity_in_channel,\n",
    "    SUM(SUM(delta)) OVER moving5    AS csum5,\n",
    "    COUNT(1) OVER moving5           AS count5\n",
    "FROM \"example-wikipedia-windows\"\n",
    "WHERE channel = '#en.wikipedia'\n",
    "  AND __time BETWEEN '2016-06-27' AND '2016-06-28'\n",
    "GROUP BY 1, TIME_FLOOR(__time, 'PT1H')\n",
    "WINDOW cumulative AS (   \n",
    "                         PARTITION BY channel \n",
    "                         ORDER BY TIME_FLOOR(__time, 'PT1H') \n",
    "                         ROWS BETWEEN UNBOUNDED PRECEDING AND CURRENT ROW\n",
    "                     )\n",
    "                     ,\n",
    "        moving5 AS ( \n",
    "                    PARTITION BY channel \n",
    "                    ORDER BY TIME_FLOOR(__time, 'PT1H') \n",
    "                    ROWS BETWEEN 4 PRECEDING AND CURRENT ROW\n",
    "                  )\n",
    "\"\"\"\n",
    "\n",
    "req = sql_client.sql_request(query)\n",
    "# Window functions are currently experimental. Set the enableWindiowing\n",
    "# context parameter to \"true\" to use them.\n",
    "req.add_context(\"enableWindowing\", \"true\")\n",
    "display.sql(req)\n"
   ]
  },
  {
   "cell_type": "markdown",
   "id": "eab62c41-f8bb-4c2e-8ab1-4d4f48c1767e",
   "metadata": {},
   "source": [
    "The example above uses the WINDOW clause to define multiple window specifications that can be reused for many window function calculations.\n",
    "The query uses two windows:\n",
    "- `cumulative` is partitioned by `channel` and includes all rows from the beginning of partition up to the current row as ordered by `__time` which enables cumulative aggregation\n",
    "- `moving5` is also partitioned by channel but only includes up to the last 4 rows and the current row as ordered by time\n",
    "\n",
    "Notice in the `count5` resulting column that the number of rows considered for the `moving5` window:\n",
    "- starts at 1 because there are no rows before the current one\n",
    "- and grows up to 5 as defined by `ROWS BETWEEN 4 PRECEDING AND CURRENT ROW`"
   ]
  },
  {
   "cell_type": "markdown",
   "id": "5b2e83ff-fb8a-453b-a7ff-8ef0e4b92af7",
   "metadata": {},
   "source": [
    "## Ranking Functions\n",
    "Ranking window functions calculate their results based on the ORDER BY clause in the window definition.\n",
    "The next query looks at the activity of a single channel `#lt.wikipedia`  during a single hour `__time BETWEEN '2016-06-27 00:00:00' AND '2016-06-27 01:00:00'` and uses all ranking functions ordered by the total activity by user rounded to the nearest hundred. The rounding causes some ties in the values which is useful to see the difference among rank functions:"
   ]
  },
  {
   "cell_type": "code",
   "execution_count": 112,
   "id": "694900d0-891f-41bd-9b45-5ae957385244",
   "metadata": {},
   "outputs": [
    {
     "data": {
      "text/html": [
       "<div class=\"druid\"><table>\n",
       "<tr><th>channel</th><th>user</th><th>hourly_change_rounded</th><th>row_no</th><th>rank_no</th><th>dense_rank_no</th><th>pct_rank</th><th>cumulative_dist</th><th>ntile_val</th></tr>\n",
       "<tr><td>#en.wikipedia</td><td>MediaWiki message delivery</td><td>24400</td><td>1</td><td>1</td><td>1</td><td>0.0</td><td>0.004878048780487805</td><td>1</td></tr>\n",
       "<tr><td>#en.wikipedia</td><td>Kind Tennis Fan</td><td>10600</td><td>2</td><td>2</td><td>2</td><td>0.004901960784313725</td><td>0.00975609756097561</td><td>1</td></tr>\n",
       "<tr><td>#en.wikipedia</td><td>ReferenceBot</td><td>5700</td><td>3</td><td>3</td><td>3</td><td>0.00980392156862745</td><td>0.014634146341463415</td><td>1</td></tr>\n",
       "<tr><td>#en.wikipedia</td><td>ClueBot NG</td><td>2400</td><td>4</td><td>4</td><td>4</td><td>0.014705882352941176</td><td>0.01951219512195122</td><td>1</td></tr>\n",
       "<tr><td>#en.wikipedia</td><td>Ian.thomson</td><td>2200</td><td>5</td><td>5</td><td>5</td><td>0.0196078431372549</td><td>0.03902439024390244</td><td>1</td></tr>\n",
       "<tr><td>#en.wikipedia</td><td>Jim1138</td><td>2200</td><td>6</td><td>5</td><td>5</td><td>0.0196078431372549</td><td>0.03902439024390244</td><td>1</td></tr>\n",
       "<tr><td>#en.wikipedia</td><td>Nakon</td><td>2200</td><td>7</td><td>5</td><td>5</td><td>0.0196078431372549</td><td>0.03902439024390244</td><td>1</td></tr>\n",
       "<tr><td>#en.wikipedia</td><td>SuggestBot</td><td>2200</td><td>8</td><td>5</td><td>5</td><td>0.0196078431372549</td><td>0.03902439024390244</td><td>1</td></tr>\n",
       "<tr><td>#en.wikipedia</td><td>EranBot</td><td>1500</td><td>9</td><td>9</td><td>6</td><td>0.0392156862745098</td><td>0.04390243902439024</td><td>1</td></tr>\n",
       "<tr><td>#en.wikipedia</td><td>Derek R Bullamore</td><td>1400</td><td>10</td><td>10</td><td>7</td><td>0.04411764705882353</td><td>0.04878048780487805</td><td>1</td></tr>\n",
       "<tr><td>#en.wikipedia</td><td>Eebahgum</td><td>1100</td><td>11</td><td>11</td><td>8</td><td>0.049019607843137254</td><td>0.05853658536585366</td><td>1</td></tr>\n",
       "<tr><td>#en.wikipedia</td><td>Mendaliv</td><td>1100</td><td>12</td><td>11</td><td>8</td><td>0.049019607843137254</td><td>0.05853658536585366</td><td>1</td></tr>\n",
       "<tr><td>#en.wikipedia</td><td>68.172.229.107</td><td>1000</td><td>13</td><td>13</td><td>9</td><td>0.058823529411764705</td><td>0.06829268292682927</td><td>1</td></tr>\n",
       "<tr><td>#en.wikipedia</td><td>Materialscientist</td><td>1000</td><td>14</td><td>13</td><td>9</td><td>0.058823529411764705</td><td>0.06829268292682927</td><td>1</td></tr>\n",
       "<tr><td>#en.wikipedia</td><td>Carptrash</td><td>900</td><td>15</td><td>15</td><td>10</td><td>0.06862745098039216</td><td>0.07317073170731707</td><td>1</td></tr>\n",
       "<tr><td>#en.wikipedia</td><td>Northamerica1000</td><td>800</td><td>16</td><td>16</td><td>11</td><td>0.07352941176470588</td><td>0.07804878048780488</td><td>1</td></tr>\n",
       "<tr><td>#en.wikipedia</td><td>Amaury</td><td>700</td><td>17</td><td>17</td><td>12</td><td>0.0784313725490196</td><td>0.08780487804878048</td><td>1</td></tr>\n",
       "<tr><td>#en.wikipedia</td><td>Zyxw</td><td>700</td><td>18</td><td>17</td><td>12</td><td>0.0784313725490196</td><td>0.08780487804878048</td><td>1</td></tr>\n",
       "<tr><td>#en.wikipedia</td><td>Juvrud</td><td>600</td><td>19</td><td>19</td><td>13</td><td>0.08823529411764706</td><td>0.1024390243902439</td><td>1</td></tr>\n",
       "<tr><td>#en.wikipedia</td><td>MPJ-DK</td><td>600</td><td>20</td><td>19</td><td>13</td><td>0.08823529411764706</td><td>0.1024390243902439</td><td>1</td></tr>\n",
       "<tr><td>#en.wikipedia</td><td>Wehwalt</td><td>600</td><td>21</td><td>19</td><td>13</td><td>0.08823529411764706</td><td>0.1024390243902439</td><td>1</td></tr>\n",
       "<tr><td>#en.wikipedia</td><td>211.24.119.14</td><td>500</td><td>22</td><td>22</td><td>14</td><td>0.10294117647058823</td><td>0.14146341463414633</td><td>1</td></tr>\n",
       "<tr><td>#en.wikipedia</td><td>Bigbear213</td><td>500</td><td>23</td><td>22</td><td>14</td><td>0.10294117647058823</td><td>0.14146341463414633</td><td>1</td></tr>\n",
       "<tr><td>#en.wikipedia</td><td>EmmaPeelsKitten</td><td>500</td><td>24</td><td>22</td><td>14</td><td>0.10294117647058823</td><td>0.14146341463414633</td><td>1</td></tr>\n",
       "<tr><td>#en.wikipedia</td><td>Hmains</td><td>500</td><td>25</td><td>22</td><td>14</td><td>0.10294117647058823</td><td>0.14146341463414633</td><td>1</td></tr>\n",
       "<tr><td>#en.wikipedia</td><td>Irwinxurie</td><td>500</td><td>26</td><td>22</td><td>14</td><td>0.10294117647058823</td><td>0.14146341463414633</td><td>1</td></tr>\n",
       "<tr><td>#en.wikipedia</td><td>KAVEBEAR</td><td>500</td><td>27</td><td>22</td><td>14</td><td>0.10294117647058823</td><td>0.14146341463414633</td><td>1</td></tr>\n",
       "<tr><td>#en.wikipedia</td><td>Mariordo</td><td>500</td><td>28</td><td>22</td><td>14</td><td>0.10294117647058823</td><td>0.14146341463414633</td><td>1</td></tr>\n",
       "<tr><td>#en.wikipedia</td><td>Tassedethe</td><td>500</td><td>29</td><td>22</td><td>14</td><td>0.10294117647058823</td><td>0.14146341463414633</td><td>1</td></tr>\n",
       "<tr><td>#en.wikipedia</td><td>Adog104</td><td>400</td><td>30</td><td>30</td><td>15</td><td>0.14215686274509803</td><td>0.16097560975609757</td><td>1</td></tr>\n",
       "<tr><td>#en.wikipedia</td><td>JJMC89</td><td>400</td><td>31</td><td>30</td><td>15</td><td>0.14215686274509803</td><td>0.16097560975609757</td><td>1</td></tr>\n",
       "<tr><td>#en.wikipedia</td><td>Mattlore</td><td>400</td><td>32</td><td>30</td><td>15</td><td>0.14215686274509803</td><td>0.16097560975609757</td><td>1</td></tr>\n",
       "<tr><td>#en.wikipedia</td><td>The Donaldist</td><td>400</td><td>33</td><td>30</td><td>15</td><td>0.14215686274509803</td><td>0.16097560975609757</td><td>1</td></tr>\n",
       "<tr><td>#en.wikipedia</td><td>Akhooha</td><td>300</td><td>34</td><td>34</td><td>16</td><td>0.16176470588235295</td><td>0.2</td><td>1</td></tr>\n",
       "<tr><td>#en.wikipedia</td><td>Dl2000</td><td>300</td><td>35</td><td>34</td><td>16</td><td>0.16176470588235295</td><td>0.2</td><td>1</td></tr>\n",
       "<tr><td>#en.wikipedia</td><td>Everymorning</td><td>300</td><td>36</td><td>34</td><td>16</td><td>0.16176470588235295</td><td>0.2</td><td>1</td></tr>\n",
       "<tr><td>#en.wikipedia</td><td>Jytdog</td><td>300</td><td>37</td><td>34</td><td>16</td><td>0.16176470588235295</td><td>0.2</td><td>1</td></tr>\n",
       "<tr><td>#en.wikipedia</td><td>Kierzek</td><td>300</td><td>38</td><td>34</td><td>16</td><td>0.16176470588235295</td><td>0.2</td><td>1</td></tr>\n",
       "<tr><td>#en.wikipedia</td><td>Mandruss</td><td>300</td><td>39</td><td>34</td><td>16</td><td>0.16176470588235295</td><td>0.2</td><td>1</td></tr>\n",
       "<tr><td>#en.wikipedia</td><td>Omni Flames</td><td>300</td><td>40</td><td>34</td><td>16</td><td>0.16176470588235295</td><td>0.2</td><td>1</td></tr>\n",
       "<tr><td>#en.wikipedia</td><td>SineBot</td><td>300</td><td>41</td><td>34</td><td>16</td><td>0.16176470588235295</td><td>0.2</td><td>1</td></tr>\n",
       "<tr><td>#en.wikipedia</td><td>140.168.135.1</td><td>200</td><td>42</td><td>42</td><td>17</td><td>0.20098039215686275</td><td>0.2634146341463415</td><td>1</td></tr>\n",
       "<tr><td>#en.wikipedia</td><td>24.97.164.252</td><td>200</td><td>43</td><td>42</td><td>17</td><td>0.20098039215686275</td><td>0.2634146341463415</td><td>1</td></tr>\n",
       "<tr><td>#en.wikipedia</td><td>2601:844:0:EC00:157A:1626:8E0:807A</td><td>200</td><td>44</td><td>42</td><td>17</td><td>0.20098039215686275</td><td>0.2634146341463415</td><td>1</td></tr>\n",
       "<tr><td>#en.wikipedia</td><td>2602:306:CC25:E860:A1B0:CBB8:1EC1:70FB</td><td>200</td><td>45</td><td>42</td><td>17</td><td>0.20098039215686275</td><td>0.2634146341463415</td><td>1</td></tr>\n",
       "<tr><td>#en.wikipedia</td><td>AnomieBOT</td><td>200</td><td>46</td><td>42</td><td>17</td><td>0.20098039215686275</td><td>0.2634146341463415</td><td>1</td></tr>\n",
       "<tr><td>#en.wikipedia</td><td>Arbor to SJ</td><td>200</td><td>47</td><td>42</td><td>17</td><td>0.20098039215686275</td><td>0.2634146341463415</td><td>1</td></tr>\n",
       "<tr><td>#en.wikipedia</td><td>IJBall</td><td>200</td><td>48</td><td>42</td><td>17</td><td>0.20098039215686275</td><td>0.2634146341463415</td><td>1</td></tr>\n",
       "<tr><td>#en.wikipedia</td><td>Ionize Me</td><td>200</td><td>49</td><td>42</td><td>17</td><td>0.20098039215686275</td><td>0.2634146341463415</td><td>1</td></tr>\n",
       "<tr><td>#en.wikipedia</td><td>Jamesyons</td><td>200</td><td>50</td><td>42</td><td>17</td><td>0.20098039215686275</td><td>0.2634146341463415</td><td>1</td></tr>\n",
       "<tr><td>#en.wikipedia</td><td>Johnsmith2116</td><td>200</td><td>51</td><td>42</td><td>17</td><td>0.20098039215686275</td><td>0.2634146341463415</td><td>1</td></tr>\n",
       "<tr><td>#en.wikipedia</td><td>Nagelfar</td><td>200</td><td>52</td><td>42</td><td>17</td><td>0.20098039215686275</td><td>0.2634146341463415</td><td>1</td></tr>\n",
       "<tr><td>#en.wikipedia</td><td>Saskoiler</td><td>200</td><td>53</td><td>42</td><td>17</td><td>0.20098039215686275</td><td>0.2634146341463415</td><td>2</td></tr>\n",
       "<tr><td>#en.wikipedia</td><td>TiMike</td><td>200</td><td>54</td><td>42</td><td>17</td><td>0.20098039215686275</td><td>0.2634146341463415</td><td>2</td></tr>\n",
       "<tr><td>#en.wikipedia</td><td>1.32.77.27</td><td>100</td><td>55</td><td>55</td><td>18</td><td>0.2647058823529412</td><td>0.424390243902439</td><td>2</td></tr>\n",
       "<tr><td>#en.wikipedia</td><td>125.255.164.41</td><td>100</td><td>56</td><td>55</td><td>18</td><td>0.2647058823529412</td><td>0.424390243902439</td><td>2</td></tr>\n",
       "<tr><td>#en.wikipedia</td><td>135.23.144.35</td><td>100</td><td>57</td><td>55</td><td>18</td><td>0.2647058823529412</td><td>0.424390243902439</td><td>2</td></tr>\n",
       "<tr><td>#en.wikipedia</td><td>174.25.255.174</td><td>100</td><td>58</td><td>55</td><td>18</td><td>0.2647058823529412</td><td>0.424390243902439</td><td>2</td></tr>\n",
       "<tr><td>#en.wikipedia</td><td>181.230.118.178</td><td>100</td><td>59</td><td>55</td><td>18</td><td>0.2647058823529412</td><td>0.424390243902439</td><td>2</td></tr>\n",
       "<tr><td>#en.wikipedia</td><td>2602:306:BD8E:80D0:3405:D41D:D217:9CA2</td><td>100</td><td>60</td><td>55</td><td>18</td><td>0.2647058823529412</td><td>0.424390243902439</td><td>2</td></tr>\n",
       "<tr><td>#en.wikipedia</td><td>46.200.26.232</td><td>100</td><td>61</td><td>55</td><td>18</td><td>0.2647058823529412</td><td>0.424390243902439</td><td>2</td></tr>\n",
       "<tr><td>#en.wikipedia</td><td>80.192.139.213</td><td>100</td><td>62</td><td>55</td><td>18</td><td>0.2647058823529412</td><td>0.424390243902439</td><td>2</td></tr>\n",
       "<tr><td>#en.wikipedia</td><td>Aethenia</td><td>100</td><td>63</td><td>55</td><td>18</td><td>0.2647058823529412</td><td>0.424390243902439</td><td>2</td></tr>\n",
       "<tr><td>#en.wikipedia</td><td>Aleenf1</td><td>100</td><td>64</td><td>55</td><td>18</td><td>0.2647058823529412</td><td>0.424390243902439</td><td>2</td></tr>\n",
       "<tr><td>#en.wikipedia</td><td>Alex jirgens</td><td>100</td><td>65</td><td>55</td><td>18</td><td>0.2647058823529412</td><td>0.424390243902439</td><td>2</td></tr>\n",
       "<tr><td>#en.wikipedia</td><td>Another Believer</td><td>100</td><td>66</td><td>55</td><td>18</td><td>0.2647058823529412</td><td>0.424390243902439</td><td>2</td></tr>\n",
       "<tr><td>#en.wikipedia</td><td>Beyond My Ken</td><td>100</td><td>67</td><td>55</td><td>18</td><td>0.2647058823529412</td><td>0.424390243902439</td><td>2</td></tr>\n",
       "<tr><td>#en.wikipedia</td><td>Brokenshardz</td><td>100</td><td>68</td><td>55</td><td>18</td><td>0.2647058823529412</td><td>0.424390243902439</td><td>2</td></tr>\n",
       "<tr><td>#en.wikipedia</td><td>Calistemon</td><td>100</td><td>69</td><td>55</td><td>18</td><td>0.2647058823529412</td><td>0.424390243902439</td><td>2</td></tr>\n",
       "<tr><td>#en.wikipedia</td><td>Cowdy001</td><td>100</td><td>70</td><td>55</td><td>18</td><td>0.2647058823529412</td><td>0.424390243902439</td><td>2</td></tr>\n",
       "<tr><td>#en.wikipedia</td><td>Davey2010</td><td>100</td><td>71</td><td>55</td><td>18</td><td>0.2647058823529412</td><td>0.424390243902439</td><td>2</td></tr>\n",
       "<tr><td>#en.wikipedia</td><td>DePiep</td><td>100</td><td>72</td><td>55</td><td>18</td><td>0.2647058823529412</td><td>0.424390243902439</td><td>2</td></tr>\n",
       "<tr><td>#en.wikipedia</td><td>Eadoss</td><td>100</td><td>73</td><td>55</td><td>18</td><td>0.2647058823529412</td><td>0.424390243902439</td><td>2</td></tr>\n",
       "<tr><td>#en.wikipedia</td><td>Elisfkc</td><td>100</td><td>74</td><td>55</td><td>18</td><td>0.2647058823529412</td><td>0.424390243902439</td><td>2</td></tr>\n",
       "<tr><td>#en.wikipedia</td><td>Hugo999</td><td>100</td><td>75</td><td>55</td><td>18</td><td>0.2647058823529412</td><td>0.424390243902439</td><td>2</td></tr>\n",
       "<tr><td>#en.wikipedia</td><td>JNM547</td><td>100</td><td>76</td><td>55</td><td>18</td><td>0.2647058823529412</td><td>0.424390243902439</td><td>2</td></tr>\n",
       "<tr><td>#en.wikipedia</td><td>JohannSnow</td><td>100</td><td>77</td><td>55</td><td>18</td><td>0.2647058823529412</td><td>0.424390243902439</td><td>2</td></tr>\n",
       "<tr><td>#en.wikipedia</td><td>K.e.coffman</td><td>100</td><td>78</td><td>55</td><td>18</td><td>0.2647058823529412</td><td>0.424390243902439</td><td>2</td></tr>\n",
       "<tr><td>#en.wikipedia</td><td>Kamel Tebaast</td><td>100</td><td>79</td><td>55</td><td>18</td><td>0.2647058823529412</td><td>0.424390243902439</td><td>2</td></tr>\n",
       "<tr><td>#en.wikipedia</td><td>OnionRing</td><td>100</td><td>80</td><td>55</td><td>18</td><td>0.2647058823529412</td><td>0.424390243902439</td><td>2</td></tr>\n",
       "<tr><td>#en.wikipedia</td><td>Philip.mark.powell</td><td>100</td><td>81</td><td>55</td><td>18</td><td>0.2647058823529412</td><td>0.424390243902439</td><td>2</td></tr>\n",
       "<tr><td>#en.wikipedia</td><td>Prisencolin</td><td>100</td><td>82</td><td>55</td><td>18</td><td>0.2647058823529412</td><td>0.424390243902439</td><td>2</td></tr>\n",
       "<tr><td>#en.wikipedia</td><td>RFD</td><td>100</td><td>83</td><td>55</td><td>18</td><td>0.2647058823529412</td><td>0.424390243902439</td><td>2</td></tr>\n",
       "<tr><td>#en.wikipedia</td><td>Ricky81682</td><td>100</td><td>84</td><td>55</td><td>18</td><td>0.2647058823529412</td><td>0.424390243902439</td><td>2</td></tr>\n",
       "<tr><td>#en.wikipedia</td><td>SheriffIsInTown</td><td>100</td><td>85</td><td>55</td><td>18</td><td>0.2647058823529412</td><td>0.424390243902439</td><td>2</td></tr>\n",
       "<tr><td>#en.wikipedia</td><td>WWGB</td><td>100</td><td>86</td><td>55</td><td>18</td><td>0.2647058823529412</td><td>0.424390243902439</td><td>2</td></tr>\n",
       "<tr><td>#en.wikipedia</td><td>WilliamJE</td><td>100</td><td>87</td><td>55</td><td>18</td><td>0.2647058823529412</td><td>0.424390243902439</td><td>2</td></tr>\n",
       "<tr><td>#en.wikipedia</td><td>112.209.89.33</td><td>0</td><td>88</td><td>88</td><td>19</td><td>0.4264705882352941</td><td>0.9317073170731708</td><td>2</td></tr>\n",
       "<tr><td>#en.wikipedia</td><td>124.106.251.70</td><td>0</td><td>89</td><td>88</td><td>19</td><td>0.4264705882352941</td><td>0.9317073170731708</td><td>2</td></tr>\n",
       "<tr><td>#en.wikipedia</td><td>174.116.2.6</td><td>0</td><td>90</td><td>88</td><td>19</td><td>0.4264705882352941</td><td>0.9317073170731708</td><td>2</td></tr>\n",
       "<tr><td>#en.wikipedia</td><td>180.190.67.29</td><td>0</td><td>91</td><td>88</td><td>19</td><td>0.4264705882352941</td><td>0.9317073170731708</td><td>2</td></tr>\n",
       "<tr><td>#en.wikipedia</td><td>2600:8805:BC82:4F00:41DB:17AB:D0E6:DBA3</td><td>0</td><td>92</td><td>88</td><td>19</td><td>0.4264705882352941</td><td>0.9317073170731708</td><td>2</td></tr>\n",
       "<tr><td>#en.wikipedia</td><td>2602:306:3772:CB0:5CB5:6A1B:36E1:7A5F</td><td>0</td><td>93</td><td>88</td><td>19</td><td>0.4264705882352941</td><td>0.9317073170731708</td><td>2</td></tr>\n",
       "<tr><td>#en.wikipedia</td><td>2604:2000:C64B:2B00:BD7D:43DD:43F:BF8</td><td>0</td><td>94</td><td>88</td><td>19</td><td>0.4264705882352941</td><td>0.9317073170731708</td><td>2</td></tr>\n",
       "<tr><td>#en.wikipedia</td><td>38.129.221.17</td><td>0</td><td>95</td><td>88</td><td>19</td><td>0.4264705882352941</td><td>0.9317073170731708</td><td>2</td></tr>\n",
       "<tr><td>#en.wikipedia</td><td>39.51.46.204</td><td>0</td><td>96</td><td>88</td><td>19</td><td>0.4264705882352941</td><td>0.9317073170731708</td><td>2</td></tr>\n",
       "<tr><td>#en.wikipedia</td><td>5.209.78.59</td><td>0</td><td>97</td><td>88</td><td>19</td><td>0.4264705882352941</td><td>0.9317073170731708</td><td>2</td></tr>\n",
       "<tr><td>#en.wikipedia</td><td>58.185.34.6</td><td>0</td><td>98</td><td>88</td><td>19</td><td>0.4264705882352941</td><td>0.9317073170731708</td><td>2</td></tr>\n",
       "<tr><td>#en.wikipedia</td><td>60.52.251.138</td><td>0</td><td>99</td><td>88</td><td>19</td><td>0.4264705882352941</td><td>0.9317073170731708</td><td>2</td></tr>\n",
       "<tr><td>#en.wikipedia</td><td>62.64.152.154</td><td>0</td><td>100</td><td>88</td><td>19</td><td>0.4264705882352941</td><td>0.9317073170731708</td><td>2</td></tr>\n",
       "<tr><td>#en.wikipedia</td><td>64.130.177.56</td><td>0</td><td>101</td><td>88</td><td>19</td><td>0.4264705882352941</td><td>0.9317073170731708</td><td>2</td></tr>\n",
       "<tr><td>#en.wikipedia</td><td>66.87.79.73</td><td>0</td><td>102</td><td>88</td><td>19</td><td>0.4264705882352941</td><td>0.9317073170731708</td><td>2</td></tr>\n",
       "<tr><td>#en.wikipedia</td><td>68.175.136.37</td><td>0</td><td>103</td><td>88</td><td>19</td><td>0.4264705882352941</td><td>0.9317073170731708</td><td>2</td></tr>\n",
       "<tr><td>#en.wikipedia</td><td>69.86.6.150</td><td>0</td><td>104</td><td>88</td><td>19</td><td>0.4264705882352941</td><td>0.9317073170731708</td><td>3</td></tr>\n",
       "<tr><td>#en.wikipedia</td><td>71.68.160.54</td><td>0</td><td>105</td><td>88</td><td>19</td><td>0.4264705882352941</td><td>0.9317073170731708</td><td>3</td></tr>\n",
       "<tr><td>#en.wikipedia</td><td>74.177.184.168</td><td>0</td><td>106</td><td>88</td><td>19</td><td>0.4264705882352941</td><td>0.9317073170731708</td><td>3</td></tr>\n",
       "<tr><td>#en.wikipedia</td><td>80.77.54.202</td><td>0</td><td>107</td><td>88</td><td>19</td><td>0.4264705882352941</td><td>0.9317073170731708</td><td>3</td></tr>\n",
       "<tr><td>#en.wikipedia</td><td>84.251.30.14</td><td>0</td><td>108</td><td>88</td><td>19</td><td>0.4264705882352941</td><td>0.9317073170731708</td><td>3</td></tr>\n",
       "<tr><td>#en.wikipedia</td><td>86.168.144.179</td><td>0</td><td>109</td><td>88</td><td>19</td><td>0.4264705882352941</td><td>0.9317073170731708</td><td>3</td></tr>\n",
       "<tr><td>#en.wikipedia</td><td>89.183.90.242</td><td>0</td><td>110</td><td>88</td><td>19</td><td>0.4264705882352941</td><td>0.9317073170731708</td><td>3</td></tr>\n",
       "<tr><td>#en.wikipedia</td><td>90.214.44.95</td><td>0</td><td>111</td><td>88</td><td>19</td><td>0.4264705882352941</td><td>0.9317073170731708</td><td>3</td></tr>\n",
       "<tr><td>#en.wikipedia</td><td>94.246.144.29</td><td>0</td><td>112</td><td>88</td><td>19</td><td>0.4264705882352941</td><td>0.9317073170731708</td><td>3</td></tr>\n",
       "<tr><td>#en.wikipedia</td><td>96.230.28.55</td><td>0</td><td>113</td><td>88</td><td>19</td><td>0.4264705882352941</td><td>0.9317073170731708</td><td>3</td></tr>\n",
       "<tr><td>#en.wikipedia</td><td>98.30.99.245</td><td>0</td><td>114</td><td>88</td><td>19</td><td>0.4264705882352941</td><td>0.9317073170731708</td><td>3</td></tr>\n",
       "<tr><td>#en.wikipedia</td><td>99.100.56.93</td><td>0</td><td>115</td><td>88</td><td>19</td><td>0.4264705882352941</td><td>0.9317073170731708</td><td>3</td></tr>\n",
       "<tr><td>#en.wikipedia</td><td>Alekd20000</td><td>0</td><td>116</td><td>88</td><td>19</td><td>0.4264705882352941</td><td>0.9317073170731708</td><td>3</td></tr>\n",
       "<tr><td>#en.wikipedia</td><td>AmbroseRPM</td><td>0</td><td>117</td><td>88</td><td>19</td><td>0.4264705882352941</td><td>0.9317073170731708</td><td>3</td></tr>\n",
       "<tr><td>#en.wikipedia</td><td>Andre Kritzinger</td><td>0</td><td>118</td><td>88</td><td>19</td><td>0.4264705882352941</td><td>0.9317073170731708</td><td>3</td></tr>\n",
       "<tr><td>#en.wikipedia</td><td>Auchtun2</td><td>0</td><td>119</td><td>88</td><td>19</td><td>0.4264705882352941</td><td>0.9317073170731708</td><td>3</td></tr>\n",
       "<tr><td>#en.wikipedia</td><td>CAWylie</td><td>0</td><td>120</td><td>88</td><td>19</td><td>0.4264705882352941</td><td>0.9317073170731708</td><td>3</td></tr>\n",
       "<tr><td>#en.wikipedia</td><td>COIBot</td><td>0</td><td>121</td><td>88</td><td>19</td><td>0.4264705882352941</td><td>0.9317073170731708</td><td>3</td></tr>\n",
       "<tr><td>#en.wikipedia</td><td>Carbrera</td><td>0</td><td>122</td><td>88</td><td>19</td><td>0.4264705882352941</td><td>0.9317073170731708</td><td>3</td></tr>\n",
       "<tr><td>#en.wikipedia</td><td>Clarityfiend</td><td>0</td><td>123</td><td>88</td><td>19</td><td>0.4264705882352941</td><td>0.9317073170731708</td><td>3</td></tr>\n",
       "<tr><td>#en.wikipedia</td><td>CorbieVreccan</td><td>0</td><td>124</td><td>88</td><td>19</td><td>0.4264705882352941</td><td>0.9317073170731708</td><td>3</td></tr>\n",
       "<tr><td>#en.wikipedia</td><td>Craigmac41</td><td>0</td><td>125</td><td>88</td><td>19</td><td>0.4264705882352941</td><td>0.9317073170731708</td><td>3</td></tr>\n",
       "<tr><td>#en.wikipedia</td><td>Cyberbot I</td><td>0</td><td>126</td><td>88</td><td>19</td><td>0.4264705882352941</td><td>0.9317073170731708</td><td>3</td></tr>\n",
       "<tr><td>#en.wikipedia</td><td>DAJF</td><td>0</td><td>127</td><td>88</td><td>19</td><td>0.4264705882352941</td><td>0.9317073170731708</td><td>3</td></tr>\n",
       "<tr><td>#en.wikipedia</td><td>Dcirovic</td><td>0</td><td>128</td><td>88</td><td>19</td><td>0.4264705882352941</td><td>0.9317073170731708</td><td>3</td></tr>\n",
       "<tr><td>#en.wikipedia</td><td>Diannaa</td><td>0</td><td>129</td><td>88</td><td>19</td><td>0.4264705882352941</td><td>0.9317073170731708</td><td>3</td></tr>\n",
       "<tr><td>#en.wikipedia</td><td>DomOwner</td><td>0</td><td>130</td><td>88</td><td>19</td><td>0.4264705882352941</td><td>0.9317073170731708</td><td>3</td></tr>\n",
       "<tr><td>#en.wikipedia</td><td>Drbogdan</td><td>0</td><td>131</td><td>88</td><td>19</td><td>0.4264705882352941</td><td>0.9317073170731708</td><td>3</td></tr>\n",
       "<tr><td>#en.wikipedia</td><td>EarwigBot</td><td>0</td><td>132</td><td>88</td><td>19</td><td>0.4264705882352941</td><td>0.9317073170731708</td><td>3</td></tr>\n",
       "<tr><td>#en.wikipedia</td><td>EkoGraf</td><td>0</td><td>133</td><td>88</td><td>19</td><td>0.4264705882352941</td><td>0.9317073170731708</td><td>3</td></tr>\n",
       "<tr><td>#en.wikipedia</td><td>FeatherPluma</td><td>0</td><td>134</td><td>88</td><td>19</td><td>0.4264705882352941</td><td>0.9317073170731708</td><td>3</td></tr>\n",
       "<tr><td>#en.wikipedia</td><td>Freeman1856</td><td>0</td><td>135</td><td>88</td><td>19</td><td>0.4264705882352941</td><td>0.9317073170731708</td><td>3</td></tr>\n",
       "<tr><td>#en.wikipedia</td><td>Funcrunch</td><td>0</td><td>136</td><td>88</td><td>19</td><td>0.4264705882352941</td><td>0.9317073170731708</td><td>3</td></tr>\n",
       "<tr><td>#en.wikipedia</td><td>Giraffedata</td><td>0</td><td>137</td><td>88</td><td>19</td><td>0.4264705882352941</td><td>0.9317073170731708</td><td>3</td></tr>\n",
       "<tr><td>#en.wikipedia</td><td>GoodDay</td><td>0</td><td>138</td><td>88</td><td>19</td><td>0.4264705882352941</td><td>0.9317073170731708</td><td>3</td></tr>\n",
       "<tr><td>#en.wikipedia</td><td>Helltopay27</td><td>0</td><td>139</td><td>88</td><td>19</td><td>0.4264705882352941</td><td>0.9317073170731708</td><td>3</td></tr>\n",
       "<tr><td>#en.wikipedia</td><td>Herostratus</td><td>0</td><td>140</td><td>88</td><td>19</td><td>0.4264705882352941</td><td>0.9317073170731708</td><td>3</td></tr>\n",
       "<tr><td>#en.wikipedia</td><td>Jamesrivington</td><td>0</td><td>141</td><td>88</td><td>19</td><td>0.4264705882352941</td><td>0.9317073170731708</td><td>3</td></tr>\n",
       "<tr><td>#en.wikipedia</td><td>JasonAQuest</td><td>0</td><td>142</td><td>88</td><td>19</td><td>0.4264705882352941</td><td>0.9317073170731708</td><td>3</td></tr>\n",
       "<tr><td>#en.wikipedia</td><td>JimmyS900</td><td>0</td><td>143</td><td>88</td><td>19</td><td>0.4264705882352941</td><td>0.9317073170731708</td><td>3</td></tr>\n",
       "<tr><td>#en.wikipedia</td><td>Julia W</td><td>0</td><td>144</td><td>88</td><td>19</td><td>0.4264705882352941</td><td>0.9317073170731708</td><td>3</td></tr>\n",
       "<tr><td>#en.wikipedia</td><td>K6ka</td><td>0</td><td>145</td><td>88</td><td>19</td><td>0.4264705882352941</td><td>0.9317073170731708</td><td>3</td></tr>\n",
       "<tr><td>#en.wikipedia</td><td>Keith D</td><td>0</td><td>146</td><td>88</td><td>19</td><td>0.4264705882352941</td><td>0.9317073170731708</td><td>3</td></tr>\n",
       "<tr><td>#en.wikipedia</td><td>Kerry Raymond</td><td>0</td><td>147</td><td>88</td><td>19</td><td>0.4264705882352941</td><td>0.9317073170731708</td><td>3</td></tr>\n",
       "<tr><td>#en.wikipedia</td><td>Koplimek</td><td>0</td><td>148</td><td>88</td><td>19</td><td>0.4264705882352941</td><td>0.9317073170731708</td><td>3</td></tr>\n",
       "<tr><td>#en.wikipedia</td><td>Lacon432</td><td>0</td><td>149</td><td>88</td><td>19</td><td>0.4264705882352941</td><td>0.9317073170731708</td><td>3</td></tr>\n",
       "<tr><td>#en.wikipedia</td><td>Lenore</td><td>0</td><td>150</td><td>88</td><td>19</td><td>0.4264705882352941</td><td>0.9317073170731708</td><td>3</td></tr>\n",
       "<tr><td>#en.wikipedia</td><td>Lenticel</td><td>0</td><td>151</td><td>88</td><td>19</td><td>0.4264705882352941</td><td>0.9317073170731708</td><td>3</td></tr>\n",
       "<tr><td>#en.wikipedia</td><td>Lewisthejayhawk</td><td>0</td><td>152</td><td>88</td><td>19</td><td>0.4264705882352941</td><td>0.9317073170731708</td><td>3</td></tr>\n",
       "<tr><td>#en.wikipedia</td><td>Lowercase sigmabot III</td><td>0</td><td>153</td><td>88</td><td>19</td><td>0.4264705882352941</td><td>0.9317073170731708</td><td>3</td></tr>\n",
       "<tr><td>#en.wikipedia</td><td>Me, Myself, and I are Here</td><td>0</td><td>154</td><td>88</td><td>19</td><td>0.4264705882352941</td><td>0.9317073170731708</td><td>3</td></tr>\n",
       "<tr><td>#en.wikipedia</td><td>Mlaffs</td><td>0</td><td>155</td><td>88</td><td>19</td><td>0.4264705882352941</td><td>0.9317073170731708</td><td>4</td></tr>\n",
       "<tr><td>#en.wikipedia</td><td>Motivação</td><td>0</td><td>156</td><td>88</td><td>19</td><td>0.4264705882352941</td><td>0.9317073170731708</td><td>4</td></tr>\n",
       "<tr><td>#en.wikipedia</td><td>Mrschimpf</td><td>0</td><td>157</td><td>88</td><td>19</td><td>0.4264705882352941</td><td>0.9317073170731708</td><td>4</td></tr>\n",
       "<tr><td>#en.wikipedia</td><td>Mtminchi08</td><td>0</td><td>158</td><td>88</td><td>19</td><td>0.4264705882352941</td><td>0.9317073170731708</td><td>4</td></tr>\n",
       "<tr><td>#en.wikipedia</td><td>Nihiltres</td><td>0</td><td>159</td><td>88</td><td>19</td><td>0.4264705882352941</td><td>0.9317073170731708</td><td>4</td></tr>\n",
       "<tr><td>#en.wikipedia</td><td>Notreallydavid</td><td>0</td><td>160</td><td>88</td><td>19</td><td>0.4264705882352941</td><td>0.9317073170731708</td><td>4</td></tr>\n",
       "<tr><td>#en.wikipedia</td><td>Nyttend</td><td>0</td><td>161</td><td>88</td><td>19</td><td>0.4264705882352941</td><td>0.9317073170731708</td><td>4</td></tr>\n",
       "<tr><td>#en.wikipedia</td><td>OgreBot</td><td>0</td><td>162</td><td>88</td><td>19</td><td>0.4264705882352941</td><td>0.9317073170731708</td><td>4</td></tr>\n",
       "<tr><td>#en.wikipedia</td><td>PC78</td><td>0</td><td>163</td><td>88</td><td>19</td><td>0.4264705882352941</td><td>0.9317073170731708</td><td>4</td></tr>\n",
       "<tr><td>#en.wikipedia</td><td>Poeticbent</td><td>0</td><td>164</td><td>88</td><td>19</td><td>0.4264705882352941</td><td>0.9317073170731708</td><td>4</td></tr>\n",
       "<tr><td>#en.wikipedia</td><td>PointsofNoReturn</td><td>0</td><td>165</td><td>88</td><td>19</td><td>0.4264705882352941</td><td>0.9317073170731708</td><td>4</td></tr>\n",
       "<tr><td>#en.wikipedia</td><td>Portugalcanuck</td><td>0</td><td>166</td><td>88</td><td>19</td><td>0.4264705882352941</td><td>0.9317073170731708</td><td>4</td></tr>\n",
       "<tr><td>#en.wikipedia</td><td>PrimeHunter</td><td>0</td><td>167</td><td>88</td><td>19</td><td>0.4264705882352941</td><td>0.9317073170731708</td><td>4</td></tr>\n",
       "<tr><td>#en.wikipedia</td><td>RJGray</td><td>0</td><td>168</td><td>88</td><td>19</td><td>0.4264705882352941</td><td>0.9317073170731708</td><td>4</td></tr>\n",
       "<tr><td>#en.wikipedia</td><td>Redrose64</td><td>0</td><td>169</td><td>88</td><td>19</td><td>0.4264705882352941</td><td>0.9317073170731708</td><td>4</td></tr>\n",
       "<tr><td>#en.wikipedia</td><td>RevelationDirect</td><td>0</td><td>170</td><td>88</td><td>19</td><td>0.4264705882352941</td><td>0.9317073170731708</td><td>4</td></tr>\n",
       "<tr><td>#en.wikipedia</td><td>Richie Campbell</td><td>0</td><td>171</td><td>88</td><td>19</td><td>0.4264705882352941</td><td>0.9317073170731708</td><td>4</td></tr>\n",
       "<tr><td>#en.wikipedia</td><td>Rick lay95</td><td>0</td><td>172</td><td>88</td><td>19</td><td>0.4264705882352941</td><td>0.9317073170731708</td><td>4</td></tr>\n",
       "<tr><td>#en.wikipedia</td><td>Saintonge235</td><td>0</td><td>173</td><td>88</td><td>19</td><td>0.4264705882352941</td><td>0.9317073170731708</td><td>4</td></tr>\n",
       "<tr><td>#en.wikipedia</td><td>Saulopro</td><td>0</td><td>174</td><td>88</td><td>19</td><td>0.4264705882352941</td><td>0.9317073170731708</td><td>4</td></tr>\n",
       "<tr><td>#en.wikipedia</td><td>Sbmeirow</td><td>0</td><td>175</td><td>88</td><td>19</td><td>0.4264705882352941</td><td>0.9317073170731708</td><td>4</td></tr>\n",
       "<tr><td>#en.wikipedia</td><td>SchreiberBike</td><td>0</td><td>176</td><td>88</td><td>19</td><td>0.4264705882352941</td><td>0.9317073170731708</td><td>4</td></tr>\n",
       "<tr><td>#en.wikipedia</td><td>Scottperry</td><td>0</td><td>177</td><td>88</td><td>19</td><td>0.4264705882352941</td><td>0.9317073170731708</td><td>4</td></tr>\n",
       "<tr><td>#en.wikipedia</td><td>Squiddaddy</td><td>0</td><td>178</td><td>88</td><td>19</td><td>0.4264705882352941</td><td>0.9317073170731708</td><td>4</td></tr>\n",
       "<tr><td>#en.wikipedia</td><td>SteveAlex21</td><td>0</td><td>179</td><td>88</td><td>19</td><td>0.4264705882352941</td><td>0.9317073170731708</td><td>4</td></tr>\n",
       "<tr><td>#en.wikipedia</td><td>Sunray</td><td>0</td><td>180</td><td>88</td><td>19</td><td>0.4264705882352941</td><td>0.9317073170731708</td><td>4</td></tr>\n",
       "<tr><td>#en.wikipedia</td><td>Swe-finland</td><td>0</td><td>181</td><td>88</td><td>19</td><td>0.4264705882352941</td><td>0.9317073170731708</td><td>4</td></tr>\n",
       "<tr><td>#en.wikipedia</td><td>TCMemoire</td><td>0</td><td>182</td><td>88</td><td>19</td><td>0.4264705882352941</td><td>0.9317073170731708</td><td>4</td></tr>\n",
       "<tr><td>#en.wikipedia</td><td>TheFarix</td><td>0</td><td>183</td><td>88</td><td>19</td><td>0.4264705882352941</td><td>0.9317073170731708</td><td>4</td></tr>\n",
       "<tr><td>#en.wikipedia</td><td>ThePlatypusofDoom</td><td>0</td><td>184</td><td>88</td><td>19</td><td>0.4264705882352941</td><td>0.9317073170731708</td><td>4</td></tr>\n",
       "<tr><td>#en.wikipedia</td><td>Treybien</td><td>0</td><td>185</td><td>88</td><td>19</td><td>0.4264705882352941</td><td>0.9317073170731708</td><td>4</td></tr>\n",
       "<tr><td>#en.wikipedia</td><td>WP 1.0 bot</td><td>0</td><td>186</td><td>88</td><td>19</td><td>0.4264705882352941</td><td>0.9317073170731708</td><td>4</td></tr>\n",
       "<tr><td>#en.wikipedia</td><td>Wikiain</td><td>0</td><td>187</td><td>88</td><td>19</td><td>0.4264705882352941</td><td>0.9317073170731708</td><td>4</td></tr>\n",
       "<tr><td>#en.wikipedia</td><td>Wolverine625336995</td><td>0</td><td>188</td><td>88</td><td>19</td><td>0.4264705882352941</td><td>0.9317073170731708</td><td>4</td></tr>\n",
       "<tr><td>#en.wikipedia</td><td>Xqbot</td><td>0</td><td>189</td><td>88</td><td>19</td><td>0.4264705882352941</td><td>0.9317073170731708</td><td>4</td></tr>\n",
       "<tr><td>#en.wikipedia</td><td>Xufanc</td><td>0</td><td>190</td><td>88</td><td>19</td><td>0.4264705882352941</td><td>0.9317073170731708</td><td>4</td></tr>\n",
       "<tr><td>#en.wikipedia</td><td>ZappaOMati</td><td>0</td><td>191</td><td>88</td><td>19</td><td>0.4264705882352941</td><td>0.9317073170731708</td><td>4</td></tr>\n",
       "<tr><td>#en.wikipedia</td><td>2601:188:1:AEA0:6DB2:D148:E660:6130</td><td>-100</td><td>192</td><td>192</td><td>20</td><td>0.9362745098039216</td><td>0.9658536585365853</td><td>4</td></tr>\n",
       "<tr><td>#en.wikipedia</td><td>2605:6000:8BD9:4300:6580:26D1:27A4:93A0</td><td>-100</td><td>193</td><td>192</td><td>20</td><td>0.9362745098039216</td><td>0.9658536585365853</td><td>4</td></tr>\n",
       "<tr><td>#en.wikipedia</td><td>66.87.121.55</td><td>-100</td><td>194</td><td>192</td><td>20</td><td>0.9362745098039216</td><td>0.9658536585365853</td><td>4</td></tr>\n",
       "<tr><td>#en.wikipedia</td><td>Barbara (WVS)</td><td>-100</td><td>195</td><td>192</td><td>20</td><td>0.9362745098039216</td><td>0.9658536585365853</td><td>4</td></tr>\n",
       "<tr><td>#en.wikipedia</td><td>Editor2020</td><td>-100</td><td>196</td><td>192</td><td>20</td><td>0.9362745098039216</td><td>0.9658536585365853</td><td>4</td></tr>\n",
       "<tr><td>#en.wikipedia</td><td>Fodbold-fan</td><td>-100</td><td>197</td><td>192</td><td>20</td><td>0.9362745098039216</td><td>0.9658536585365853</td><td>4</td></tr>\n",
       "<tr><td>#en.wikipedia</td><td>Walter Görlitz</td><td>-100</td><td>198</td><td>192</td><td>20</td><td>0.9362745098039216</td><td>0.9658536585365853</td><td>4</td></tr>\n",
       "<tr><td>#en.wikipedia</td><td>2A01:CB05:8468:C300:215F:F263:FD4D:49B4</td><td>-200</td><td>199</td><td>199</td><td>21</td><td>0.9705882352941176</td><td>0.9804878048780488</td><td>4</td></tr>\n",
       "<tr><td>#en.wikipedia</td><td>Reports bot</td><td>-200</td><td>200</td><td>199</td><td>21</td><td>0.9705882352941176</td><td>0.9804878048780488</td><td>4</td></tr>\n",
       "<tr><td>#en.wikipedia</td><td>TheBellaTwins1445</td><td>-200</td><td>201</td><td>199</td><td>21</td><td>0.9705882352941176</td><td>0.9804878048780488</td><td>4</td></tr>\n",
       "<tr><td>#en.wikipedia</td><td>65.31.219.20</td><td>-300</td><td>202</td><td>202</td><td>22</td><td>0.9852941176470589</td><td>0.9902439024390244</td><td>4</td></tr>\n",
       "<tr><td>#en.wikipedia</td><td>Andy M. Wang</td><td>-300</td><td>203</td><td>202</td><td>22</td><td>0.9852941176470589</td><td>0.9902439024390244</td><td>4</td></tr>\n",
       "<tr><td>#en.wikipedia</td><td>Cydebot</td><td>-400</td><td>204</td><td>204</td><td>23</td><td>0.9950980392156863</td><td>0.9951219512195122</td><td>4</td></tr>\n",
       "<tr><td>#en.wikipedia</td><td>Calvin Hogg</td><td>-500</td><td>205</td><td>205</td><td>24</td><td>1.0</td><td>1.0</td><td>4</td></tr>\n",
       "</table></div>"
      ],
      "text/plain": [
       "<IPython.core.display.HTML object>"
      ]
     },
     "metadata": {},
     "output_type": "display_data"
    }
   ],
   "source": [
    "query = \"\"\"\n",
    "SELECT \n",
    "    channel,\n",
    "    user,\n",
    "    ROUND(SUM(delta),-2) AS hourly_change_rounded\n",
    "    ,ROW_NUMBER()   OVER (  ORDER BY ROUND(SUM(delta),-2) DESC ) AS row_no\n",
    "    ,RANK()         OVER (  ORDER BY ROUND(SUM(delta),-2) DESC ) AS rank_no\n",
    "    ,DENSE_RANK()   OVER (  ORDER BY ROUND(SUM(delta),-2) DESC ) AS dense_rank_no\n",
    "    ,PERCENT_RANK() OVER (  ORDER BY ROUND(SUM(delta),-2) DESC ) AS pct_rank\n",
    "    ,CUME_DIST()    OVER (  ORDER BY ROUND(SUM(delta),-2) DESC ) AS cumulative_dist\n",
    "    ,NTILE(4)       OVER (  ORDER BY ROUND(SUM(delta),-2) DESC ) AS ntile_val\n",
    "FROM \"example-wikipedia-windows\"\n",
    "WHERE channel = '#en.wikipedia'\n",
    "  AND __time BETWEEN '2016-06-27 00:00:00' AND '2016-06-27 01:00:00'\n",
    "GROUP BY TIME_FLOOR(__time, 'PT1H'), channel, user\n",
    "\n",
    "\"\"\"\n",
    "\n",
    "req = sql_client.sql_request(query)\n",
    "req.add_context(\"enableWindowing\", \"true\")\n",
    "display.sql(req)"
   ]
  },
  {
   "cell_type": "markdown",
   "id": "180edfb5-63f9-4768-b35f-418d049083e0",
   "metadata": {},
   "source": [
    "Notice the differences in ordinal ranking values:\n",
    "- row_no  - `ROW_NUMBER()` is grows monotonically by one for each row, regardless of ties.\n",
    "- rank_no - `RANK()` assigned the same rank value of `5` to the tied rows but then skips to `9` for the next row because there are 8 rows before it.\n",
    "- dense_rank_no - `DENSE_RANK()` also assigned the same rank of `5` to the tied values but then continues with `6`.\n",
    "\n",
    "Distribution ranks:\n",
    "- pct_rank  - calculates `(rank() -1 ) / ( rows in partition - 1 )` providing a measure of what percentage of values fall before the current value in the distribution.\n",
    "- cume_dist - calculates the cumulative distribution, it can be read as, this rows is in the top `cume_dist result` percent of the population\n",
    "- ntile(N)  - calculates which dsitribution bucket the row corresponds to, where N is the number of buckets, ntile(4) is calculating quartiles, ntile(100) would calculate percentile.\n",
    "   "
   ]
  },
  {
   "cell_type": "code",
   "execution_count": 47,
   "id": "81b34b1d-c5ac-485a-83fc-f98373b7bfe6",
   "metadata": {},
   "outputs": [
    {
     "data": {
      "text/html": [
       "<div class=\"druid\"><table>\n",
       "<tr><th>event_time</th><th>channel</th><th>change</th><th>row_no</th><th>rank_no</th><th>dense_rank_no</th><th>pct_rank</th><th>cumulative_dist</th><th>ntile_val</th><th>lag_val</th><th>lead_val</th><th>first_val</th><th>last_val</th></tr>\n",
       "<tr><td>2016-06-27T00:00:00.000Z</td><td>#kk.wikipedia</td><td>1</td><td>1</td><td>1</td><td>1</td><td>0.0</td><td>0.125</td><td>1</td><td></td><td>7</td><td>1</td><td>6900</td></tr>\n",
       "<tr><td>2016-06-27T00:00:00.000Z</td><td>#kk.wikipedia</td><td>7</td><td>2</td><td>2</td><td>2</td><td>0.14285714285714285</td><td>0.25</td><td>1</td><td>1</td><td>56</td><td>1</td><td>6900</td></tr>\n",
       "<tr><td>2016-06-27T00:00:00.000Z</td><td>#kk.wikipedia</td><td>56</td><td>3</td><td>3</td><td>3</td><td>0.2857142857142857</td><td>0.375</td><td>2</td><td>7</td><td>63</td><td>1</td><td>6900</td></tr>\n",
       "<tr><td>2016-06-27T00:00:00.000Z</td><td>#kk.wikipedia</td><td>63</td><td>4</td><td>4</td><td>4</td><td>0.42857142857142855</td><td>0.5</td><td>2</td><td>56</td><td>91</td><td>1</td><td>6900</td></tr>\n",
       "<tr><td>2016-06-27T00:00:00.000Z</td><td>#kk.wikipedia</td><td>91</td><td>5</td><td>5</td><td>5</td><td>0.5714285714285714</td><td>0.625</td><td>3</td><td>63</td><td>2440</td><td>1</td><td>6900</td></tr>\n",
       "<tr><td>2016-06-27T00:00:00.000Z</td><td>#kk.wikipedia</td><td>2440</td><td>6</td><td>6</td><td>6</td><td>0.7142857142857143</td><td>0.75</td><td>3</td><td>91</td><td>2703</td><td>1</td><td>6900</td></tr>\n",
       "<tr><td>2016-06-27T00:00:00.000Z</td><td>#kk.wikipedia</td><td>2703</td><td>7</td><td>7</td><td>7</td><td>0.8571428571428571</td><td>0.875</td><td>4</td><td>2440</td><td>6900</td><td>1</td><td>6900</td></tr>\n",
       "<tr><td>2016-06-27T00:00:00.000Z</td><td>#kk.wikipedia</td><td>6900</td><td>8</td><td>8</td><td>8</td><td>1.0</td><td>1.0</td><td>4</td><td>2703</td><td></td><td>1</td><td>6900</td></tr>\n",
       "<tr><td>2016-06-27T00:00:00.000Z</td><td>#lt.wikipedia</td><td>1</td><td>1</td><td>1</td><td>1</td><td>0.0</td><td>0.1</td><td>1</td><td></td><td>2</td><td>1</td><td>4358</td></tr>\n",
       "<tr><td>2016-06-27T00:00:00.000Z</td><td>#lt.wikipedia</td><td>2</td><td>2</td><td>2</td><td>2</td><td>0.1111111111111111</td><td>0.2</td><td>1</td><td>1</td><td>13</td><td>1</td><td>4358</td></tr>\n",
       "<tr><td>2016-06-27T00:00:00.000Z</td><td>#lt.wikipedia</td><td>13</td><td>3</td><td>3</td><td>3</td><td>0.2222222222222222</td><td>0.3</td><td>1</td><td>2</td><td>28</td><td>1</td><td>4358</td></tr>\n",
       "<tr><td>2016-06-27T00:00:00.000Z</td><td>#lt.wikipedia</td><td>28</td><td>4</td><td>4</td><td>4</td><td>0.3333333333333333</td><td>0.4</td><td>2</td><td>13</td><td>53</td><td>1</td><td>4358</td></tr>\n",
       "<tr><td>2016-06-27T00:00:00.000Z</td><td>#lt.wikipedia</td><td>53</td><td>5</td><td>5</td><td>5</td><td>0.4444444444444444</td><td>0.5</td><td>2</td><td>28</td><td>56</td><td>1</td><td>4358</td></tr>\n",
       "<tr><td>2016-06-27T00:00:00.000Z</td><td>#lt.wikipedia</td><td>56</td><td>6</td><td>6</td><td>6</td><td>0.5555555555555556</td><td>0.6</td><td>2</td><td>53</td><td>59</td><td>1</td><td>4358</td></tr>\n",
       "<tr><td>2016-06-27T00:00:00.000Z</td><td>#lt.wikipedia</td><td>59</td><td>7</td><td>7</td><td>7</td><td>0.6666666666666666</td><td>0.7</td><td>3</td><td>56</td><td>391</td><td>1</td><td>4358</td></tr>\n",
       "<tr><td>2016-06-27T00:00:00.000Z</td><td>#lt.wikipedia</td><td>391</td><td>8</td><td>8</td><td>8</td><td>0.7777777777777778</td><td>0.8</td><td>3</td><td>59</td><td>894</td><td>1</td><td>4358</td></tr>\n",
       "<tr><td>2016-06-27T00:00:00.000Z</td><td>#lt.wikipedia</td><td>894</td><td>9</td><td>9</td><td>9</td><td>0.8888888888888888</td><td>0.9</td><td>4</td><td>391</td><td>4358</td><td>1</td><td>4358</td></tr>\n",
       "<tr><td>2016-06-27T00:00:00.000Z</td><td>#lt.wikipedia</td><td>4358</td><td>10</td><td>10</td><td>10</td><td>1.0</td><td>1.0</td><td>4</td><td>894</td><td></td><td>1</td><td>4358</td></tr>\n",
       "</table></div>"
      ],
      "text/plain": [
       "<IPython.core.display.HTML object>"
      ]
     },
     "metadata": {},
     "output_type": "display_data"
    }
   ],
   "source": [
    "query = \"\"\"\n",
    "SELECT FLOOR(__time TO DAY) AS event_time,\n",
    "    channel,\n",
    "    ABS(delta) AS change,\n",
    "    ROW_NUMBER() OVER w AS row_no,\n",
    "    RANK() OVER w AS rank_no,\n",
    "    DENSE_RANK() OVER w AS dense_rank_no,\n",
    "    PERCENT_RANK() OVER w AS pct_rank,\n",
    "    CUME_DIST() OVER w AS cumulative_dist,\n",
    "    NTILE(4) OVER w AS ntile_val,\n",
    "    LAG(ABS(delta), 1, 0) OVER w AS lag_val,\n",
    "    LEAD(ABS(delta), 1, 0) OVER w AS lead_val,\n",
    "    FIRST_VALUE(ABS(delta)) OVER w AS first_val,\n",
    "    LAST_VALUE(ABS(delta)) OVER w AS last_val\n",
    "FROM \"example-wikipedia-windows\"\n",
    "WHERE channel IN ('#kk.wikipedia', '#lt.wikipedia')\n",
    "GROUP BY channel, ABS(delta), FLOOR(__time TO DAY) \n",
    "WINDOW w AS (PARTITION BY channel ORDER BY ABS(delta) ASC)\n",
    "\"\"\"\n",
    "\n",
    "req = sql_client.sql_request(query)\n",
    "req.add_context(\"enableWindowing\", \"true\")\n",
    "display.sql(req)"
   ]
  },
  {
   "cell_type": "code",
   "execution_count": null,
   "id": "7d65bb0b-611c-452d-b30e-1e08da561623",
   "metadata": {},
   "outputs": [],
   "source": [
    "INSERT INTO test VALUES('2023-10-01T00:00:00.000Z','a',5  );\n",
    "INSERT INTO test VALUES('2023-10-01T00:00:00.000Z','a',5  );\n",
    "INSERT INTO test VALUES('2023-10-01T00:00:00.000Z','a',5  );\n",
    "INSERT INTO test VALUES('2023-10-01T00:00:00.000Z','b',5  );\n",
    "INSERT INTO test VALUES('2023-10-01T00:00:01.000Z','a',10  );\n",
    "INSERT INTO test VALUES('2023-10-01T00:00:01.000Z','b',5  );\n",
    "INSERT INTO test VALUES('2023-10-01T00:00:02.000Z','a',10  );\n",
    "INSERT INTO test VALUES('2023-10-01T00:00:02.000Z','b',5  );\n",
    "INSERT INTO test VALUES('2023-10-01T00:00:03.000Z','b',10  );\n",
    "INSERT INTO test VALUES('2023-10-01T00:00:04.000Z','b',10  );"
   ]
  },
  {
   "cell_type": "markdown",
   "id": "c21a4b38-3e86-4209-bf47-393b72fc4c7e",
   "metadata": {},
   "source": [
    "The following query illustrates all of the built in window functions using the same data:\n",
    "\n",
    "* ROW_NUMBER which returns the numeric value for the row within the window\n",
    "* RANK which returns the numeric rank of the row within the window\n",
    "* DENSE_RANK which returns the rank of the row with no gaps. For example, if two rows tie for 1, the next row is ranked 2\n",
    "* PERCENT_RANK which returns the percentage rank of the row within the window according to the formula (rank - 1)/(total window rows - 1)\n",
    "* CUME_DIST which returns the cumulative distribution of the current row within the window calculated as number of window (rows at the same rank or higher than current row) / (total window rows)\n",
    "* NTILE which divides the number of results as evently as possible into a number of tiles as and returns the value of tile for the row\n",
    "* LAG which returns the value for the row that preceeds the current row by a given offset\n",
    "* LEAD which returns the value for the row that follows the current row by a given offset\n",
    "* FIRST_VALUE which returns the value for the expression for the first row within the window\n",
    "* LAST_VALUE which returns the value for the expression for the last row within the window\n",
    "\n",
    "See [Window functions](https://druid.apache.org/docs/latest/querying/sql-window-functions) for syntax and more detail.\n",
    "\n",
    "The query also demonstrates how you can alias a window within the SELECT clause and define it later with the WINDOW keyword."
   ]
  },
  {
   "cell_type": "code",
   "execution_count": null,
   "id": "59cf8980-0346-4e78-99f2-72fa39c57093",
   "metadata": {},
   "outputs": [],
   "source": []
  }
 ],
 "metadata": {
  "kernelspec": {
   "display_name": "Python 3 (ipykernel)",
   "language": "python",
   "name": "python3"
  },
  "language_info": {
   "codemirror_mode": {
    "name": "ipython",
    "version": 3
   },
   "file_extension": ".py",
   "mimetype": "text/x-python",
   "name": "python",
   "nbconvert_exporter": "python",
   "pygments_lexer": "ipython3",
   "version": "3.11.6"
  },
  "vscode": {
   "interpreter": {
    "hash": "b0fa6594d8f4cbf19f97940f81e996739fb7646882a419484c72d19e05852a7e"
   }
  }
 },
 "nbformat": 4,
 "nbformat_minor": 5
}
