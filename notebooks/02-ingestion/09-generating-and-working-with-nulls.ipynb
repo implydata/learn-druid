{
 "cells": [
  {
   "cell_type": "markdown",
   "id": "0cb3b009-ebde-4d56-9d59-a028d66d8309",
   "metadata": {},
   "source": [
    "# Generating and working with NULL values\n",
    "<!--\n",
    "  ~ Licensed to the Apache Software Foundation (ASF) under one\n",
    "  ~ or more contributor license agreements.  See the NOTICE file\n",
    "  ~ distributed with this work for additional information\n",
    "  ~ regarding copyright ownership.  The ASF licenses this file\n",
    "  ~ to you under the Apache License, Version 2.0 (the\n",
    "  ~ \"License\"); you may not use this file except in compliance\n",
    "  ~ with the License.  You may obtain a copy of the License at\n",
    "  ~\n",
    "  ~   http://www.apache.org/licenses/LICENSE-2.0\n",
    "  ~\n",
    "  ~ Unless required by applicable law or agreed to in writing,\n",
    "  ~ software distributed under the License is distributed on an\n",
    "  ~ \"AS IS\" BASIS, WITHOUT WARRANTIES OR CONDITIONS OF ANY\n",
    "  ~ KIND, either express or implied.  See the License for the\n",
    "  ~ specific language governing permissions and limitations\n",
    "  ~ under the License.\n",
    "  -->\n",
    "\n",
    "Databases are commonly capable of recording when a value on a row is missing using a reserved representation: [NULL](https://en.wikipedia.org/wiki/Null_(SQL)). They are stored, generated, and used in special ways by functions, operators, and aggregators.\n",
    "\n",
    "In this notebook, you will generate [NULL](https://druid.apache.org/docs/latest/querying/sql-data-types#null-values) values in tables from example data, working with them using a variety of functions and aggregations."
   ]
  },
  {
   "cell_type": "markdown",
   "id": "bbdbf6ad-ca7b-40f5-8ca3-1070f4a3ee42",
   "metadata": {},
   "source": [
    "## Prerequisites\n",
    "\n",
    "This tutorial works with Druid 28.0.0 or later.\n",
    "\n",
    "> __Using versions of Apache Druid prior to this may yield unexpected results.__\n",
    "> \n",
    "> There are two modes for [NULL-handling](https://druid.apache.org/docs/latest/querying/sql-data-types#null-values) in Apache Druid, with the default in Druid 28 and above to use SQL-compatible NULL handling. Define what mode to use by setting the `druid.generic.useDefaultValueForNull` runtime property. Read more in the [handling null values](https://druid.apache.org/docs/latest/design/segments/#handling-null-values) documentation.\n",
    "\n",
    "#### Run with Docker\n",
    "\n",
    "Launch this tutorial and all prerequisites using the `druid-jupyter` profile of the Docker Compose file for Jupyter-based Druid tutorials. For more information, see the Learn Druid repository [readme](https://github.com/implydata/learn-druid)."
   ]
  },
  {
   "cell_type": "markdown",
   "id": "5007a243-b81a-4601-8f57-5b14940abbff",
   "metadata": {},
   "source": [
    "## Initialization\n",
    "\n",
    "The following cells set up the notebook and learning environment ready for use.\n",
    "\n",
    "### Set up and connect to the learning environment\n",
    "\n",
    "Run the next cell to set up the Druid Python client's connection to Apache Druid.\n",
    "\n",
    "If successful, the Druid version number will be shown in the output."
   ]
  },
  {
   "cell_type": "code",
   "execution_count": null,
   "id": "c1ec783b-df3f-4168-9be2-cdc6ad3e33c2",
   "metadata": {},
   "outputs": [],
   "source": [
    "import druidapi\n",
    "import os\n",
    "\n",
    "if 'DRUID_HOST' not in os.environ.keys():\n",
    "    druid_host=f\"http://localhost:8888\"\n",
    "else:\n",
    "    druid_host=f\"http://{os.environ['DRUID_HOST']}:8888\"\n",
    "    \n",
    "print(f\"Opening a connection to {druid_host}.\")\n",
    "druid = druidapi.jupyter_client(druid_host)\n",
    "\n",
    "display = druid.display\n",
    "sql_client = druid.sql\n",
    "status_client = druid.status\n",
    "status_client.version"
   ]
  },
  {
   "cell_type": "markdown",
   "id": "c26404d1-31b9-4392-94f0-b074030216fd",
   "metadata": {},
   "source": [
    "## Generating NULLs at ingestion time"
   ]
  },
  {
   "cell_type": "markdown",
   "id": "39276a3d-a975-4d60-8856-c5447044837e",
   "metadata": {},
   "source": [
    "Run the following ingestion to create a table called `example-koalas-null-1`.\n",
    "\n",
    "You will use this later to see examples of IS NULL and IS NOT NULL.\n",
    "\n",
    "Notice, too, that there are CASE statements which purposefully inject true NULL into the table under certain conditions:\n",
    "* A CASE statement corrects values of \"N/A\" to NULL in `timezone`.\n",
    "* `referrer-null` contains a NULL whenever `referrer` has a value of \"Direct\" - else the original value from `referrer` is stored.\n",
    "* A new column `session_length-EDTonly` is added that only contains session lengths for EDT timezone events.\n",
    "* A new column, `session_length-PDTonly`, only contains the session length for PDT timezone events.\n",
    "* Finally, `session_length-others` contains the session length for anything other than EDT or PDT.\n",
    "* A new column called `percentClear` is created, correcting for missing values in the source data, and outputting NULL in other situations."
   ]
  },
  {
   "cell_type": "code",
   "execution_count": null,
   "id": "7f5793b6-6ece-42f2-8816-51ca02063074",
   "metadata": {},
   "outputs": [],
   "source": [
    "sql='''\n",
    "REPLACE INTO \"example-koalas-null-1\" OVERWRITE ALL\n",
    "WITH \"ext\" AS (SELECT *\n",
    "FROM TABLE(\n",
    "  EXTERN(\n",
    "    '{\"type\":\"http\",\"uris\":[\"https://static.imply.io/example-data/kttm-v2/kttm-v2-2019-08-25.json.gz\"]}',\n",
    "    '{\"type\":\"json\"}'\n",
    "  )\n",
    ") EXTEND (\"timestamp\" VARCHAR, \"agent_category\" VARCHAR, \"agent_type\" VARCHAR, \"browser\" VARCHAR, \"browser_version\" VARCHAR, \"city\" VARCHAR, \"continent\" VARCHAR, \"country\" VARCHAR, \"version\" VARCHAR, \"event_type\" VARCHAR, \"event_subtype\" VARCHAR, \"loaded_image\" VARCHAR, \"adblock_list\" VARCHAR, \"forwarded_for\" VARCHAR, \"language\" VARCHAR, \"number\" VARCHAR, \"os\" VARCHAR, \"path\" VARCHAR, \"platform\" VARCHAR, \"referrer\" VARCHAR, \"referrer_host\" VARCHAR, \"region\" VARCHAR, \"remote_address\" VARCHAR, \"screen\" VARCHAR, \"session\" VARCHAR, \"session_length\" BIGINT, \"timezone\" VARCHAR, \"timezone_offset\" VARCHAR, \"window\" VARCHAR))\n",
    "SELECT\n",
    "  TIME_PARSE(\"timestamp\") AS \"__time\",\n",
    "  CASE WHEN \"timezone\" = 'N/A' THEN NULL\n",
    "    ELSE \"timezone\"\n",
    "    END AS \"timezone\",\n",
    "  \"referrer\",\n",
    "  CASE WHEN \"referrer\" = 'Direct' THEN NULL\n",
    "    ELSE \"referrer\" END AS \"referrer-null\",\n",
    "  \"session_length\",\n",
    "  CASE WHEN (\"timezone\" = 'EDT') THEN \"session_length\" ELSE NULL END AS \"session_length-EDTonly\",\n",
    "  CASE WHEN (\"timezone\" = 'PDT') THEN \"session_length\" ELSE NULL END AS \"session_length-PDTonly\",\n",
    "  CASE WHEN (\"timezone\" <> 'EDT' AND \"timezone\" <> 'PDT') THEN \"session_length\" ELSE NULL END AS \"session_length-others\",\n",
    "  \"event_type\",\n",
    "  CASE WHEN (\"event_type\" = 'PercentClear') THEN\n",
    "      (CASE WHEN (\"event_subtype\" = '') THEN 0 ELSE \"event_subtype\" END)\n",
    "      ELSE NULL END AS \"percentClear\"\n",
    "FROM \"ext\"\n",
    "PARTITIONED BY DAY\n",
    "'''\n",
    "\n",
    "display.run_task(sql)\n",
    "sql_client.wait_until_ready('example-koalas-null-1')\n",
    "display.table('example-koalas-null-1')"
   ]
  },
  {
   "cell_type": "markdown",
   "id": "15bb3b84-8e1c-48c9-be4e-19f83ba8b9f6",
   "metadata": {},
   "source": [
    "Not all source data formats explicitly allow for the storage of NULLs. Let us imagine that this is why the developer of the [KoalasToTheMax](https://www.koalastothemax.com) website used the word \"Direct\" in the `referrer` column whenever a `referrer` could not be identified.\n",
    "\n",
    "In Druid, the data engineer decides to use NULL for this purpose instead, storing the revised data in a column called `referrer-null` using a CASE statement. It detects any value of \"Direct\" in the `referrer` column, and stores a true NULL when found. All other values are passed through from the `referrer` column as-is. The original data is maintained in the table in the `referrer` column.\n",
    "\n",
    "The same applies to `timezone` - when the data contains \"N/A\" it's determined that this is really best handled as a NULL. In this instance, however, the original data is discarded and only the newly nulled `timezone` data is stored.\n",
    "\n",
    "Run the following cell which shows a count of records in `referrer` with the value `Direct`, and the equivalent count in the `referrer-null` column. A third count is also shown of rows that do not have a timezone - or rather, in source data, had a value of \"N/A\". This is achieved using the FILTER (WHERE...) clause, one filtering against \"Direct\", and the others filtering using IS NULL."
   ]
  },
  {
   "cell_type": "code",
   "execution_count": null,
   "id": "6a18fd98-c7c5-42b2-8089-425b6dd8ca89",
   "metadata": {},
   "outputs": [],
   "source": [
    "sql='''\n",
    "SELECT\n",
    "  COUNT(*) FILTER (WHERE \"referrer\" = 'Direct') AS \"referrer\",\n",
    "  COUNT(*) FILTER (WHERE \"referrer-null\" IS NULL) AS \"referrer-null\",\n",
    "  COUNT(*) FILTER (WHERE \"timezone\" IS NULL) AS \"timezone-null\"\n",
    "FROM \"example-koalas-null-1\"\n",
    "'''\n",
    "\n",
    "display.sql(sql)"
   ]
  },
  {
   "cell_type": "markdown",
   "id": "1b6c9b88-837d-4c80-a28d-36184ba63355",
   "metadata": {},
   "source": [
    "In the source data, `PercentClear`-type events are recorded over time as people interact with an image on the [KoalasToTheMax](https://www.koalastothemax.com) during their visit to the website. As a user uncovers more of an image, events are recorded with an increasing percentage clear recorded in `event_subtype`.\n",
    "\n",
    "There is never a \"zero percent\" event recorded in the source - rather the data in `event_subtype` is left empty. A NULL and the lack of a value are not equivalent, so to ensure clarity for analysts working with SQL downstream, imagine a decision is taken to concretely distinguish having 0% clear from having no record of how much has been cleared (NULL). The ingestion SQL therefore creates a new column, `percentClear`.\n",
    "\n",
    "* The column only holds information about percentage of an image cleared (from `event_subtype`) - everything else is NULL.\n",
    "* It handles the missing \"zero percent\" by recording a zero to indicate the start of their image-clearing journey - distinguishing it from a NULL.\n",
    "\n",
    "Run the following cell to see how this shows up in the data."
   ]
  },
  {
   "cell_type": "code",
   "execution_count": null,
   "id": "96303995-0948-487f-9e2d-a7b40dbf5bad",
   "metadata": {},
   "outputs": [],
   "source": [
    "sql='''\n",
    "SELECT\n",
    "  CONCAT(\"percentClear\",'%') AS \"Percentage Cleared\",\n",
    "  COUNT(*) AS \"events\"\n",
    "FROM \"example-koalas-null-1\"\n",
    "WHERE \"percentClear\" IS NOT NULL\n",
    "GROUP BY \"percentClear\"\n",
    "ORDER BY CAST(\"percentClear\" AS DOUBLE)\n",
    "'''\n",
    "\n",
    "display.sql(sql)"
   ]
  },
  {
   "cell_type": "markdown",
   "id": "0efef0b4-0555-4165-9910-50bb3230d9ac",
   "metadata": {},
   "source": [
    "In the WHERE clause, notice the IS NOT NULL filter against `percentClear`. This ensures that the counts in the results only concern table rows related to `PercentClear`-type events. You may want to adjust the SQL above to see what effect removing this filter has."
   ]
  },
  {
   "cell_type": "markdown",
   "id": "45b8582e-6bb7-466f-8002-08a061e83fbc",
   "metadata": {},
   "source": [
    "## Scalar functions\n",
    "\n",
    "In the following SQL, some simple string [scalar functions](https://druid.apache.org/docs/latest/querying/sql-scalar) are used to output a number of new values.\n",
    "\n",
    "Run the cell to see how a NULL value affects results."
   ]
  },
  {
   "cell_type": "code",
   "execution_count": null,
   "id": "71aed22f-98f5-44f0-9201-f211086440b4",
   "metadata": {},
   "outputs": [],
   "source": [
    "sql='''\n",
    "SELECT\n",
    "  CONCAT(\"timezone\",' timezone') AS \"timezone\",\n",
    "  LENGTH(\"timezone\") AS \"length\",\n",
    "  REPLACE(\"timezone\",'T',' timezone') AS \"easyToRead\",\n",
    "  REVERSE(\"timezone\") AS \"backwards\",\n",
    "  COUNT(*) AS \"events\"\n",
    "FROM \"example-koalas-null-1\"\n",
    "WHERE TIME_IN_INTERVAL(\"__time\",'2019-08-25T00:00:10/PT5S')\n",
    "GROUP BY 1, 2, 3, 4\n",
    "'''\n",
    "\n",
    "display.sql(sql)"
   ]
  },
  {
   "cell_type": "markdown",
   "id": "bcf4fc28-9541-44e5-9784-f90db958c436",
   "metadata": {},
   "source": [
    "Use [NVL or COALESCE](https://druid.apache.org/docs/latest/querying/sql-scalar#other-scalar-functions) to return another value when an expression IS NULL.\n",
    "\n",
    "Run the following cell to see NVL being used, together with a simple of COALESCE example.\n",
    "\n",
    "If the `timezone` is NULL, the value \"UTC\" is returned instead."
   ]
  },
  {
   "cell_type": "code",
   "execution_count": null,
   "id": "6b837d39-8a17-45fc-b7cb-9639ea1b7573",
   "metadata": {},
   "outputs": [],
   "source": [
    "sql='''\n",
    "SELECT\n",
    "  \"timezone\",\n",
    "  COALESCE(\"timezone\",'UTC') AS \"timezone-coalesce\",\n",
    "  NVL(\"timezone\",'UTC') AS \"timezone-nvl\",\n",
    "  \"session_length\"\n",
    "FROM \"example-koalas-null-1\"\n",
    "WHERE TIME_IN_INTERVAL(\"__time\",'2019-08-25T00:00:10/PT5S')\n",
    "'''\n",
    "\n",
    "display.sql(sql)"
   ]
  },
  {
   "cell_type": "markdown",
   "id": "fbd0f498-f302-423e-a73f-10be4af756fb",
   "metadata": {},
   "source": [
    "In the following example, COALESCE addresses all three of the timezone-specific session lengths, returning whichever value in the list contains a value first."
   ]
  },
  {
   "cell_type": "code",
   "execution_count": null,
   "id": "dee99bd0-b348-433b-b993-6b1fb03ec656",
   "metadata": {},
   "outputs": [],
   "source": [
    "sql='''\n",
    "SELECT\n",
    "  COALESCE(\"timezone\",'UTC') AS \"timezone-coalesce\",\n",
    "  NVL(\"timezone\",'UTC') AS \"timezone-nvl\",\n",
    "  \"session_length\",\n",
    "  \"session_length-EDTonly\",\n",
    "  \"session_length-PDTonly\",\n",
    "  \"session_length-others\",\n",
    "  COALESCE(\"session_length-EDTonly\",\"session_length-PDTonly\",\"session_length-others\") AS \"sessionLength-coalesce\"\n",
    "FROM \"example-koalas-null-1\"\n",
    "WHERE TIME_IN_INTERVAL(\"__time\",'2019-08-25T00:00:10/PT5S')\n",
    "'''\n",
    "\n",
    "display.sql(sql)"
   ]
  },
  {
   "cell_type": "markdown",
   "id": "009de2f3-20ea-468e-a975-bc046fa213d3",
   "metadata": {},
   "source": [
    "## Aggregations and NULL"
   ]
  },
  {
   "cell_type": "markdown",
   "id": "caa6e060-ae5b-41d8-9bd1-507fe47cf408",
   "metadata": {},
   "source": [
    "In this section you will see an examples of how aggregation functions like COUNT handle data that contains NULL values.\n",
    "\n",
    "Run this cell to see the source data that will be used:"
   ]
  },
  {
   "cell_type": "code",
   "execution_count": null,
   "id": "92441394-9fe6-4b96-adf8-881aec3df639",
   "metadata": {},
   "outputs": [],
   "source": [
    "sql='''\n",
    "SELECT\n",
    "  \"event_type\",\n",
    "  \"percentClear\",\n",
    "  \"session_length\",\n",
    "  \"timezone\"\n",
    "FROM \"example-koalas-null-1\"\n",
    "WHERE TIME_IN_INTERVAL(\"__time\",'2019-08-25T00:00:10/PT5S')\n",
    "'''\n",
    "\n",
    "display.sql(sql)"
   ]
  },
  {
   "cell_type": "markdown",
   "id": "a5a65ee8-8442-403e-852c-cd718ae5c719",
   "metadata": {},
   "source": [
    "Run the following cell to see how COUNT works with NULL data.\n",
    "\n",
    "* A total number of all the rows is output as `totalRows`.\n",
    "* A count of all rows with a NULL `timezone` is made and output as `null-timezone-rows`.\n",
    "* A count is made of the number of rows where `timezone` contains a non-value, output as `nonNull-timezone-rows`.\n",
    "* The NULL and non-NULL row counts are added together, showing they total `totalRows`."
   ]
  },
  {
   "cell_type": "code",
   "execution_count": null,
   "id": "859ba529-446c-43b2-9c7f-5fedc2f00216",
   "metadata": {},
   "outputs": [],
   "source": [
    "sql='''\n",
    "SELECT\n",
    "  COUNT(*) AS \"totalRows\",\n",
    "  COUNT(*) FILTER (WHERE \"timezone\" IS NULL) AS \"null-timezone-rows\",\n",
    "  COUNT(*) FILTER (WHERE \"timezone\" IS NOT NULL) AS \"nonNull-timezone-rows\",\n",
    "  COUNT(*) FILTER (WHERE \"timezone\" IS NULL) + COUNT(*) FILTER (WHERE \"timezone\" IS NOT NULL) AS \"totalRows-2\"\n",
    "FROM \"example-koalas-null-1\"\n",
    "WHERE TIME_IN_INTERVAL(\"__time\",'2019-08-25T00:00:10/PT5S')\n",
    "'''\n",
    "\n",
    "display.sql(sql)"
   ]
  },
  {
   "cell_type": "markdown",
   "id": "bf8eae1e-44a5-4b82-bea5-b964d96ec979",
   "metadata": {},
   "source": [
    "Rather than filtering where `timezone` IS NOT NULL, another form of COUNT can be used to count rows that contain data by specifying the `timezone` dimension instead of a \"*\"."
   ]
  },
  {
   "cell_type": "code",
   "execution_count": null,
   "id": "04a68f77-3885-4787-8955-72d49c7f8ae7",
   "metadata": {},
   "outputs": [],
   "source": [
    "sql='''\n",
    "SELECT\n",
    "  COUNT(*) AS \"totalRows\",\n",
    "  COUNT(*) FILTER (WHERE \"timezone\" IS NULL) AS \"null-timezone-rows\",\n",
    "  COUNT(*) FILTER (WHERE \"timezone\" IS NOT NULL) AS \"nonNull-timezone-rows\",\n",
    "  COUNT(\"timezone\") AS \"nonNull-timezone-rows-2\",\n",
    "  COUNT(*) FILTER (WHERE \"timezone\" IS NULL) + COUNT(\"timezone\") AS \"totalRows-2\"\n",
    "FROM \"example-koalas-null-1\"\n",
    "WHERE TIME_IN_INTERVAL(\"__time\",'2019-08-25T00:00:10/PT5S')\n",
    "'''\n",
    "\n",
    "display.sql(sql)"
   ]
  },
  {
   "cell_type": "markdown",
   "id": "e3d0178b-f556-488a-9618-3245e7434e64",
   "metadata": {},
   "source": [
    "The next cell counts the number of distinct timezones."
   ]
  },
  {
   "cell_type": "code",
   "execution_count": null,
   "id": "b757242f-0206-4e4e-952e-9e4b84cc546b",
   "metadata": {},
   "outputs": [],
   "source": [
    "sql='''\n",
    "SELECT\n",
    "  COUNT(DISTINCT \"timezone\") AS \"distinct-timezones\"\n",
    "FROM \"example-koalas-null-1\"\n",
    "WHERE TIME_IN_INTERVAL(\"__time\",'2019-08-25T00:00:10/PT5S')\n",
    "'''\n",
    "\n",
    "display.sql(sql)"
   ]
  },
  {
   "cell_type": "markdown",
   "id": "75b39a6c-06c2-4f29-bb1f-6a5ee9a4f403",
   "metadata": {},
   "source": [
    "Run the following to shows that, as with COUNT on a specific column, NULL does not count as a separate value in COUNT DISTINCT operations."
   ]
  },
  {
   "cell_type": "code",
   "execution_count": null,
   "id": "03c47cd1-2c40-4e12-94a4-0e25916b81fb",
   "metadata": {},
   "outputs": [],
   "source": [
    "sql='''\n",
    "SELECT\n",
    "  COUNT(DISTINCT \"timezone\") AS \"distinct-timezones\",\n",
    "  COUNT(DISTINCT \"timezone\") FILTER (WHERE \"timezone\" IS NOT NULL) AS \"distinctNonNull-timezones\",\n",
    "  COUNT(DISTINCT \"timezone\") FILTER (WHERE \"timezone\" IS NULL) AS \"distinctNull-timezones\"\n",
    "FROM \"example-koalas-null-1\"\n",
    "WHERE TIME_IN_INTERVAL(\"__time\",'2019-08-25T00:00:10/PT5S')\n",
    "'''\n",
    "\n",
    "display.sql(sql)"
   ]
  },
  {
   "cell_type": "markdown",
   "id": "68ed9442-e399-43dd-8be6-0ab75d1cc7af",
   "metadata": {},
   "source": [
    "The following query shows that NULL is returned as a separate row during GROUP BY."
   ]
  },
  {
   "cell_type": "code",
   "execution_count": null,
   "id": "cffdbbf5-3a3d-4821-81d9-0a47d48026b4",
   "metadata": {},
   "outputs": [],
   "source": [
    "sql='''\n",
    "SELECT\n",
    "  \"timezone\",\n",
    "  COUNT(*) AS \"totalEvents\",\n",
    "  SUM(\"session_length\") AS \"totalSessionLength\",\n",
    "  STRING_FORMAT('%.3f',AVG(\"session_length\")) AS \"avgSessionLength\",\n",
    "  MAX(\"session_length\") AS \"maxSessionLength\",\n",
    "  MIN(\"session_length\") AS \"minSessionLength\"\n",
    "FROM \"example-koalas-null-1\"\n",
    "WHERE TIME_IN_INTERVAL(\"__time\",'2019-08-25T00:00:10/PT5S')\n",
    "GROUP BY 1\n",
    "ORDER BY timezone DESC\n",
    "'''\n",
    "\n",
    "display.sql(sql)"
   ]
  },
  {
   "cell_type": "markdown",
   "id": "731de75b-4a90-428c-9664-688a3eb52e27",
   "metadata": {},
   "source": [
    "Recall that the `session_length-EDTonly` and `session_length-PDTonly` dimensions only contains a session length in seconds when the timezone is EDT or PDT respectively, otherwise they contain a NULL.\n",
    "\n",
    "Run the following SQL to see that NULLs are ignored for other aggregations, too.\n",
    "\n",
    "* As above, `totalEvents` is the complete number of rows in the data.\n",
    "* `totalEventsEDT` shows the number of events that are known to have been recorded in the EDT timezone.\n",
    "* SUM, MAX, and MIN specifically reference the `session_length-EDTonly` and `session_length_PDTonly` dimensions.\n",
    "\n",
    "Cross-reference the results of the query above with the results of this query."
   ]
  },
  {
   "cell_type": "code",
   "execution_count": null,
   "id": "988474f2-c429-4e90-be62-c571b04b1b8e",
   "metadata": {},
   "outputs": [],
   "source": [
    "sql='''\n",
    "SELECT\n",
    "  \"timezone\",\n",
    "  COUNT(*) AS \"totalEvents\",\n",
    "  COUNT(*) FILTER (WHERE \"timezone\" = 'EDT') AS \"totalEvents-EDT\",\n",
    "  SUM(\"session_length-EDTonly\") AS \"totalSessionLength-EDT\",\n",
    "  MAX(\"session_length-EDTonly\") AS \"maxSessionLength-EDT\",\n",
    "  COUNT(*) FILTER (WHERE \"timezone\" = 'PDT') AS \"totalEvents-PDT\",\n",
    "  SUM(\"session_length-PDTonly\") AS \"totalSessionLength-PDT\",\n",
    "  MAX(\"session_length-PDTonly\") AS \"maxSessionLength-PDT\"\n",
    "FROM \"example-koalas-null-1\"\n",
    "WHERE TIME_IN_INTERVAL(\"__time\",'2019-08-25T00:00:10/PT5S')\n",
    "GROUP BY 1\n",
    "'''\n",
    "\n",
    "display.sql(sql)"
   ]
  },
  {
   "cell_type": "markdown",
   "id": "e72f1955-7294-471e-afbf-e1dcafe38868",
   "metadata": {},
   "source": [
    "Some aggregation functions [return NULL](https://druid.apache.org/docs/latest/querying/sql-aggregations/) by default.\n",
    "\n",
    "In the following query, COALESCE is used to combine the results of the query above into individual columns.\n",
    "\n",
    "* The two arguments for each COALESCE are aggregates of EDT and PDT using the relevant specific dimensions.\n",
    "* Each aggregate returns NULL if no rows are found to perform the aggregation on.\n",
    "* GROUP BY produces rows, one for each timezone.\n",
    "* COALESCE picks the first non-NULL value:\n",
    "  * For the EDT row, COALESCE returns the aggregation on the EDT column.\n",
    "  * For the PDT row, COALESCE returns the aggregation on the PDT column.\n",
    "  * For all other rows, there is no value to return - thus NULL is returned."
   ]
  },
  {
   "cell_type": "code",
   "execution_count": null,
   "id": "229edaa2-2679-450b-a21c-eb919b23d36d",
   "metadata": {},
   "outputs": [],
   "source": [
    "sql='''\n",
    "SELECT\n",
    "  \"timezone\",\n",
    "  COALESCE(SUM(\"session_length-EDTonly\"), SUM(\"session_length-PDTonly\")) AS \"total_session_length\",\n",
    "  COALESCE(MAX(\"session_length-EDTonly\"), MAX(\"session_length-PDTonly\")) AS \"max_session_length\"\n",
    "FROM \"example-koalas-null-1\"\n",
    "WHERE TIME_IN_INTERVAL(\"__time\",'2019-08-25T00:00:10/PT5S')\n",
    "GROUP BY 1\n",
    "'''\n",
    "\n",
    "display.sql(sql)"
   ]
  },
  {
   "cell_type": "markdown",
   "id": "b65d63a7-fdba-4107-96b7-940da296e959",
   "metadata": {},
   "source": [
    "## Arrays and NULL\n",
    "\n",
    "Run the following cell to create a new table, `example-koalas-null-2`.\n",
    "\n",
    "The SQL for this ingestion includes a GROUP BY clause to roll up the source data.\n",
    "* The `timestamp` is parsed with TIME_PARSE and then floored to the nearest 15 minutes using TIME_FLOOR.\n",
    "* The [ARRAY_AGG](https://druid.apache.org/docs/latest/querying/sql-aggregations) aggregator takes a number of rows and produces an array, effectively tagging each resulting row with the timezones that they relate to, storing it in `timezone_array`.\n",
    "* Other aggregates, such as SUM, MAX, and COUNT provide other information about the rolled up rows.\n",
    "\n",
    "Notice that this ingestion API call includes the [`arrayIngestMode` context parameter](https://druid.apache.org/docs/latest/querying/sql-data-types#arrays) to instruct Druid to create a true array-type field for `timezone_array`."
   ]
  },
  {
   "cell_type": "code",
   "execution_count": null,
   "id": "089a77d0-b215-463a-abce-eb9379831072",
   "metadata": {},
   "outputs": [],
   "source": [
    "sql='''\n",
    "REPLACE INTO \"example-koalas-null-2\" OVERWRITE ALL\n",
    "WITH \"ext\" AS (SELECT *\n",
    "FROM TABLE(\n",
    "  EXTERN(\n",
    "    '{\"type\":\"http\",\"uris\":[\"https://static.imply.io/example-data/kttm-v2/kttm-v2-2019-08-25.json.gz\"]}',\n",
    "    '{\"type\":\"json\"}'\n",
    "  )\n",
    ") EXTEND (\"timestamp\" VARCHAR, \"agent_category\" VARCHAR, \"agent_type\" VARCHAR, \"browser\" VARCHAR, \"browser_version\" VARCHAR, \"city\" VARCHAR, \"continent\" VARCHAR, \"country\" VARCHAR, \"version\" VARCHAR, \"event_type\" VARCHAR, \"event_subtype\" VARCHAR, \"loaded_image\" VARCHAR, \"adblock_list\" VARCHAR, \"forwarded_for\" VARCHAR, \"language\" VARCHAR, \"number\" VARCHAR, \"os\" VARCHAR, \"path\" VARCHAR, \"platform\" VARCHAR, \"referrer\" VARCHAR, \"referrer_host\" VARCHAR, \"region\" VARCHAR, \"remote_address\" VARCHAR, \"screen\" VARCHAR, \"session\" VARCHAR, \"session_length\" BIGINT, \"timezone\" VARCHAR, \"timezone_offset\" VARCHAR, \"window\" VARCHAR))\n",
    "SELECT\n",
    "  TIME_FLOOR(TIME_PARSE(\"timestamp\"),'PT15M') AS \"__time\",\n",
    "  ARRAY_AGG(DISTINCT CASE WHEN \"timezone\" = 'N/A' THEN NULL\n",
    "    ELSE \"timezone\"\n",
    "    END) AS \"timezone_array\",\n",
    "  SUM(\"session_length\") AS \"total_session_length\",\n",
    "  MAX(CASE WHEN (\"event_type\" = 'PercentClear') THEN\n",
    "      (CASE WHEN (\"event_subtype\" = '') THEN 0 ELSE CAST(\"event_subtype\" AS DOUBLE) END)\n",
    "      ELSE NULL END) AS \"max_percentClear\",\n",
    "  COUNT(*) FILTER (WHERE \"event_type\" = 'PercentClear') AS \"clear_events\",\n",
    "  COUNT(*) AS \"events\"\n",
    "FROM \"ext\"\n",
    "GROUP BY 1\n",
    "PARTITIONED BY DAY\n",
    "'''\n",
    "\n",
    "req = sql_client.sql_request(sql)\n",
    "req.add_context(\"arrayIngestMode\", \"array\")\n",
    "\n",
    "display.run_task(req)\n",
    "sql_client.wait_until_ready('example-koalas-null-2')\n",
    "display.table('example-koalas-null-2')"
   ]
  },
  {
   "cell_type": "markdown",
   "id": "8032f261-8387-4b4c-8da7-5dd04992ff86",
   "metadata": {},
   "source": [
    "You can return the position of values in an array using ARRAY_OFFSET_OF or ARRAY_ORDINAL_OF.\n",
    "\n",
    "Run the next cell to see this function being used to find NULL values in the table."
   ]
  },
  {
   "cell_type": "code",
   "execution_count": null,
   "id": "5899791c-fb2f-4849-b609-f24b25fd6a40",
   "metadata": {},
   "outputs": [],
   "source": [
    "sql='''\n",
    "SELECT\n",
    "  ARRAY_OFFSET_OF(\"timezone_array\", NULL) AS \"array_offset-GMT\",\n",
    "  ARRAY_ORDINAL_OF(\"timezone_array\", NULL) AS \"array_ordinal-GMT\",\n",
    "  COUNT(*) AS \"events\"\n",
    "FROM \"example-koalas-null-2\"\n",
    "WHERE TIME_IN_INTERVAL(\"__time\",'2019-08-25T00:00:00/PT15M')\n",
    "GROUP BY 1, 2\n",
    "'''\n",
    "\n",
    "display.sql(sql)"
   ]
  },
  {
   "cell_type": "markdown",
   "id": "ec57ede5-d96e-46cf-b162-aa5699dc6cf4",
   "metadata": {},
   "source": [
    "ARRAY_OFFSET_OF and ARRAY_ORDINAL_OF [array functions](https://druid.apache.org/docs/latest/querying/sql-array-functions) return NULL if a value cannot be found in an array. Run the following cell to see this in action."
   ]
  },
  {
   "cell_type": "code",
   "execution_count": null,
   "id": "a7b96359-0156-4a56-8e39-f5ab6a2d5bfc",
   "metadata": {},
   "outputs": [],
   "source": [
    "sql='''\n",
    "SELECT\n",
    "  ARRAY_OFFSET_OF(\"timezone_array\", 'GMT') AS \"array_offset-GMT\",\n",
    "  ARRAY_ORDINAL_OF(\"timezone_array\", 'GMT') AS \"array_ordinal-GMT\",\n",
    "  COUNT(*) AS \"events\"\n",
    "FROM \"example-koalas-null-2\"\n",
    "WHERE TIME_IN_INTERVAL(\"__time\",'2019-08-25T00:00:00/PT15M')\n",
    "GROUP BY 1, 2\n",
    "'''\n",
    "\n",
    "display.sql(sql)"
   ]
  },
  {
   "cell_type": "markdown",
   "id": "e4a84d50-82cc-44db-ac8a-e3136c3a59d1",
   "metadata": {},
   "source": [
    "Use [UNNEST](https://druid.apache.org/docs/latest/querying/sql/#unnest) to explode an array. Together with CROSS JOIN, this allows a row to be returned for each entry in the array.\n",
    "\n",
    "In the following SQL, the `timezone_array` is unnested and then joined to the `example-koalas-null-2` table, producing a single row per row, across which a count of events is generated. The HAVING clause ensures only those timezones recorded against at least 10 rows in the data are returned.\n",
    "\n",
    "Notice how there is a row for NULL, accounting for any source rows that have a NULL timezone."
   ]
  },
  {
   "cell_type": "code",
   "execution_count": null,
   "id": "4093327e-4ba0-4e91-8610-c3c461bf26f8",
   "metadata": {},
   "outputs": [],
   "source": [
    "sql='''\n",
    "SELECT\n",
    "  timezone_array.timezone AS \"timezone\",\n",
    "  COUNT(*) AS \"events\"\n",
    "FROM \"example-koalas-null-2\"\n",
    "CROSS JOIN\n",
    "  UNNEST(\"timezone_array\") AS timezone_array(timezone)\n",
    "WHERE TIME_IN_INTERVAL(\"__time\",'2019-08-25T00:00:00/PT6H')\n",
    "GROUP BY 1\n",
    "HAVING COUNT(*) > 10\n",
    "ORDER BY COUNT(*) DESC\n",
    "'''\n",
    "\n",
    "display.sql(sql)"
   ]
  },
  {
   "cell_type": "markdown",
   "id": "44738d6d-cec2-40ad-aaba-998c758c63f4",
   "metadata": {},
   "source": [
    "## Clean up\n",
    "\n",
    "Run the following cell to remove the three tables used in this notebook from the database."
   ]
  },
  {
   "cell_type": "code",
   "execution_count": null,
   "id": "8082b545-ba7f-4ede-bb6e-2a6dd62ba0d8",
   "metadata": {},
   "outputs": [],
   "source": [
    "druid.datasources.drop(\"example-koalas-null-1\")\n",
    "druid.datasources.drop(\"example-koalas-null-2\")"
   ]
  },
  {
   "cell_type": "markdown",
   "id": "54b8d5fe-ba85-4b5b-9669-0dd47dfbccd1",
   "metadata": {},
   "source": [
    "## Summary\n",
    "\n",
    "* Druid has two modes for handling and storing NULL values - Druid 28.0.0 defaults to SQL-compatible NULL handling.\n",
    "* You can transform source data to explicitly store NULLs using CASE statements.\n",
    "* Aggregation and scalar functions handle NULL values in defined ways.\n",
    "\n",
    "## Learn more\n",
    "\n",
    "* Read the documentation on:\n",
    "  * Enabling and disabling [SQL-compatible NULL handling](https://druid.apache.org/docs/latest/querying/sql-data-types#null-values) using `druid.generic.useDefaultValueForNull`\n",
    "  * How Druid stores [NULL during ingestion](https://druid.apache.org/docs/latest/design/segments#handling-null-values).\n",
    "  * The default returned value for different [aggregations](https://druid.apache.org/docs/latest/querying/sql-aggregations/).\n",
    "  * How [ARRAY functions](https://druid.apache.org/docs/latest/querying/sql-array-functions) work when not using SQL-compatible mode.\n",
    "* If you tend to use native rather than SQL queries, read about the [NULL filter](https://druid.apache.org/docs/latest/querying/filters#null-filter) in the documentation.\n",
    "* See the [table of default values](https://druid.apache.org/docs/latest/querying/sql-data-types/#standard-types) stored during ingestion when SQL-compatible NULL-handling is not turned on.\n",
    "* Follow the [notebook on GROUP BY](./01-groupby.ipynb) to see how NULL appears in [GROUPING SETS](https://druid.apache.org/docs/latest/querying/sql/#group-by).\n",
    "* Try out other scalar functions with NULL - check out the dedicated notebooks on [datetime](./07-functions-datetime.ipynb), [string](./08-functions-strings.ipynb), and [IP address](./10-functions-ip.ipynb) functions for examples."
   ]
  }
 ],
 "metadata": {
  "execution": {
   "allow_errors": true,
   "timeout": 300
  },
  "kernelspec": {
   "display_name": "Python 3 (ipykernel)",
   "language": "python",
   "name": "python3"
  },
  "language_info": {
   "codemirror_mode": {
    "name": "ipython",
    "version": 3
   },
   "file_extension": ".py",
   "mimetype": "text/x-python",
   "name": "python",
   "nbconvert_exporter": "python",
   "pygments_lexer": "ipython3",
   "version": "3.11.6"
  }
 },
 "nbformat": 4,
 "nbformat_minor": 5
}
