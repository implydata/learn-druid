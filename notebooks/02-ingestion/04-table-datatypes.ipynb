{
 "cells": [
  {
   "cell_type": "markdown",
   "id": "0cb3b009-ebde-4d56-9d59-a028d66d8309",
   "metadata": {},
   "source": [
    "# Data types in Druid\n",
    "<!--\n",
    "  ~ Licensed to the Apache Software Foundation (ASF) under one\n",
    "  ~ or more contributor license agreements.  See the NOTICE file\n",
    "  ~ distributed with this work for additional information\n",
    "  ~ regarding copyright ownership.  The ASF licenses this file\n",
    "  ~ to you under the Apache License, Version 2.0 (the\n",
    "  ~ \"License\"); you may not use this file except in compliance\n",
    "  ~ with the License.  You may obtain a copy of the License at\n",
    "  ~\n",
    "  ~   http://www.apache.org/licenses/LICENSE-2.0\n",
    "  ~\n",
    "  ~ Unless required by applicable law or agreed to in writing,\n",
    "  ~ software distributed under the License is distributed on an\n",
    "  ~ \"AS IS\" BASIS, WITHOUT WARRANTIES OR CONDITIONS OF ANY\n",
    "  ~ KIND, either express or implied.  See the License for the\n",
    "  ~ specific language governing permissions and limitations\n",
    "  ~ under the License.\n",
    "  -->\n",
    "\n",
    "This tutorial demonstrates how Druid stores [different types of data](https://druid.apache.org/docs/latest/querying/sql-data-types/) inside the database. There are examples of different [SQL-based ingestions](https://druid.apache.org/docs/latest/multi-stage-query/), each generating data types in resulting TABLEs. You will also see examples of conversion functions, like [CAST](https://druid.apache.org/docs/latest/querying/sql-scalar#other-scalar-functions), being used on various types of data."
   ]
  },
  {
   "cell_type": "markdown",
   "id": "bbdbf6ad-ca7b-40f5-8ca3-1070f4a3ee42",
   "metadata": {},
   "source": [
    "## Prerequisites\n",
    "\n",
    "This tutorial works with Druid 27.0.0 or later.\n",
    "\n",
    "#### Run with Docker\n",
    "\n",
    "Launch this tutorial and all prerequisites using the `druid-jupyter` profile of the Docker Compose file for Jupyter-based Druid tutorials. For more information, see the Learn Druid repository [readme](https://github.com/implydata/learn-druid).\n",
    "   "
   ]
  },
  {
   "cell_type": "markdown",
   "id": "5007a243-b81a-4601-8f57-5b14940abbff",
   "metadata": {},
   "source": [
    "## Initialization\n",
    "\n",
    "The following cells set up the notebook and learning environment ready for use.\n",
    "\n",
    "### Set up and connect to the learning environment\n",
    "\n",
    "Run the next cell to set up the Druid Python client's connection to Apache Druid.\n",
    "\n",
    "If successful, the Druid version number will be shown in the output."
   ]
  },
  {
   "cell_type": "code",
   "execution_count": null,
   "id": "c1ec783b-df3f-4168-9be2-cdc6ad3e33c2",
   "metadata": {},
   "outputs": [],
   "source": [
    "import druidapi\n",
    "import os\n",
    "\n",
    "if 'DRUID_HOST' not in os.environ.keys():\n",
    "    druid_host=f\"http://localhost:8888\"\n",
    "else:\n",
    "    druid_host=f\"http://{os.environ['DRUID_HOST']}:8888\"\n",
    "    \n",
    "print(f\"Opening a connection to {druid_host}.\")\n",
    "druid = druidapi.jupyter_client(druid_host)\n",
    "\n",
    "display = druid.display\n",
    "sql_client = druid.sql\n",
    "status_client = druid.status\n",
    "\n",
    "status_client.version"
   ]
  },
  {
   "cell_type": "markdown",
   "id": "472589e4-1026-4b3b-bb79-eedabb2b44c4",
   "metadata": {},
   "source": [
    "## Create and describe a Druid table\n",
    "\n",
    "Run the following cell to create a table called `example-flights-types-1`.\n",
    "\n",
    "Notice that the statement is specific about the columns to ingest based on is needed for this notebook."
   ]
  },
  {
   "cell_type": "code",
   "execution_count": null,
   "id": "cf6ed270-7d96-4704-b519-1ba5b4519c43",
   "metadata": {},
   "outputs": [],
   "source": [
    "sql='''\n",
    "REPLACE INTO \"example-flights-types-1\" OVERWRITE ALL\n",
    "WITH \"ext\" AS (SELECT *\n",
    "FROM TABLE(\n",
    "  EXTERN(\n",
    "    '{\"type\":\"http\",\"uris\":[\"https://static.imply.io/example-data/flight_on_time/flights/On_Time_Reporting_Carrier_On_Time_Performance_(1987_present)_2005_11.csv.zip\"]}',\n",
    "    '{\"type\":\"csv\",\"findColumnsFromHeader\":true}'\n",
    "  )\n",
    ") EXTEND (\"depaturetime\" VARCHAR, \"arrivalime\" VARCHAR, \"Year\" BIGINT, \"Quarter\" BIGINT, \"Month\" BIGINT, \"DayofMonth\" BIGINT, \"DayOfWeek\" BIGINT, \"FlightDate\" VARCHAR, \"Reporting_Airline\" VARCHAR, \"DOT_ID_Reporting_Airline\" BIGINT, \"IATA_CODE_Reporting_Airline\" VARCHAR, \"Tail_Number\" VARCHAR, \"Flight_Number_Reporting_Airline\" BIGINT, \"OriginAirportID\" BIGINT, \"OriginAirportSeqID\" BIGINT, \"OriginCityMarketID\" BIGINT, \"Origin\" VARCHAR, \"OriginCityName\" VARCHAR, \"OriginState\" VARCHAR, \"OriginStateFips\" BIGINT, \"OriginStateName\" VARCHAR, \"OriginWac\" BIGINT, \"DestAirportID\" BIGINT, \"DestAirportSeqID\" BIGINT, \"DestCityMarketID\" BIGINT, \"Dest\" VARCHAR, \"DestCityName\" VARCHAR, \"DestState\" VARCHAR, \"DestStateFips\" BIGINT, \"DestStateName\" VARCHAR, \"DestWac\" BIGINT, \"CRSDepTime\" BIGINT, \"DepTime\" BIGINT, \"DepDelay\" BIGINT, \"DepDelayMinutes\" BIGINT, \"DepDel15\" BIGINT, \"DepartureDelayGroups\" BIGINT, \"DepTimeBlk\" VARCHAR, \"TaxiOut\" BIGINT, \"WheelsOff\" BIGINT, \"WheelsOn\" BIGINT, \"TaxiIn\" BIGINT, \"CRSArrTime\" BIGINT, \"ArrTime\" BIGINT, \"ArrDelay\" BIGINT, \"ArrDelayMinutes\" BIGINT, \"ArrDel15\" BIGINT, \"ArrivalDelayGroups\" BIGINT, \"ArrTimeBlk\" VARCHAR, \"Cancelled\" BIGINT, \"CancellationCode\" VARCHAR, \"Diverted\" BIGINT, \"CRSElapsedTime\" BIGINT, \"ActualElapsedTime\" BIGINT, \"AirTime\" BIGINT, \"Flights\" BIGINT, \"Distance\" BIGINT, \"DistanceGroup\" BIGINT, \"CarrierDelay\" BIGINT, \"WeatherDelay\" BIGINT, \"NASDelay\" BIGINT, \"SecurityDelay\" BIGINT, \"LateAircraftDelay\" BIGINT, \"FirstDepTime\" VARCHAR, \"TotalAddGTime\" VARCHAR, \"LongestAddGTime\" VARCHAR, \"DivAirportLandings\" VARCHAR, \"DivReachedDest\" VARCHAR, \"DivActualElapsedTime\" VARCHAR, \"DivArrDelay\" VARCHAR, \"DivDistance\" VARCHAR, \"Div1Airport\" VARCHAR, \"Div1AirportID\" VARCHAR, \"Div1AirportSeqID\" VARCHAR, \"Div1WheelsOn\" VARCHAR, \"Div1TotalGTime\" VARCHAR, \"Div1LongestGTime\" VARCHAR, \"Div1WheelsOff\" VARCHAR, \"Div1TailNum\" VARCHAR, \"Div2Airport\" VARCHAR, \"Div2AirportID\" VARCHAR, \"Div2AirportSeqID\" VARCHAR, \"Div2WheelsOn\" VARCHAR, \"Div2TotalGTime\" VARCHAR, \"Div2LongestGTime\" VARCHAR, \"Div2WheelsOff\" VARCHAR, \"Div2TailNum\" VARCHAR, \"Div3Airport\" VARCHAR, \"Div3AirportID\" VARCHAR, \"Div3AirportSeqID\" VARCHAR, \"Div3WheelsOn\" VARCHAR, \"Div3TotalGTime\" VARCHAR, \"Div3LongestGTime\" VARCHAR, \"Div3WheelsOff\" VARCHAR, \"Div3TailNum\" VARCHAR, \"Div4Airport\" VARCHAR, \"Div4AirportID\" VARCHAR, \"Div4AirportSeqID\" VARCHAR, \"Div4WheelsOn\" VARCHAR, \"Div4TotalGTime\" VARCHAR, \"Div4LongestGTime\" VARCHAR, \"Div4WheelsOff\" VARCHAR, \"Div4TailNum\" VARCHAR, \"Div5Airport\" VARCHAR, \"Div5AirportID\" VARCHAR, \"Div5AirportSeqID\" VARCHAR, \"Div5WheelsOn\" VARCHAR, \"Div5TotalGTime\" VARCHAR, \"Div5LongestGTime\" VARCHAR, \"Div5WheelsOff\" VARCHAR, \"Div5TailNum\" VARCHAR, \"Unnamed: 109\" VARCHAR))\n",
    "SELECT\n",
    "  TIME_PARSE(\"depaturetime\") AS \"__time\",\n",
    "  \"Year\",\n",
    "  \"Reporting_Airline\",\n",
    "  \"Origin\",\n",
    "  \"Dest\",\n",
    "  \"Distance\"\n",
    "FROM \"ext\"\n",
    "WHERE \"depaturetime\" <> 0\n",
    "PARTITIONED BY DAY\n",
    "'''\n",
    "\n",
    "display.run_task(sql)\n",
    "sql_client.wait_until_ready('example-flights-types-1')"
   ]
  },
  {
   "cell_type": "markdown",
   "id": "889be0da-36ec-4510-876a-c7c040355b37",
   "metadata": {},
   "source": [
    "You can query the `INFORMATION_SCHEMA` schema's `COLUMNS` table to [get information](https://druid.apache.org/docs/latest/querying/sql-metadata-tables#columns-table) for any TABLE in Druid.\n",
    "\n",
    "Run this cell which queries this table to return further information about the underlying structure of the `example-flights-types-1` table.\n",
    "\n",
    "_What would you expect the data types to be for each of the columns?_"
   ]
  },
  {
   "cell_type": "code",
   "execution_count": null,
   "id": "3a375431-92a0-42d3-901f-434060e9ff57",
   "metadata": {},
   "outputs": [],
   "source": [
    "sql='''\n",
    "SELECT\n",
    "  \"COLUMN_NAME\",\n",
    "  \"ORDINAL_POSITION\",\n",
    "  \"DATA_TYPE\",\n",
    "  \"NUMERIC_PRECISION\",\n",
    "  \"NUMERIC_PRECISION_RADIX\",\n",
    "  \"DATETIME_PRECISION\",\n",
    "  \"CHARACTER_SET_NAME\",\n",
    "  \"JDBC_TYPE\"\n",
    "FROM \"INFORMATION_SCHEMA\".\"COLUMNS\"\n",
    "WHERE \"TABLE_NAME\" = 'example-flights-types-1'\n",
    "'''\n",
    "\n",
    "display.sql(sql)"
   ]
  },
  {
   "cell_type": "markdown",
   "id": "db0b419f-8de5-4ee4-8b2a-fcf4551af932",
   "metadata": {},
   "source": [
    "The type shown in the `DATA_TYPE` column tells you how Druid will interpret the data in SQL.\n",
    "\n",
    "> As shown in [documentation](https://druid.apache.org/docs/latest/querying/sql-data-types), these SQL types map to more fundamental types inside Druid itself. Take a moment to review the [documentation](https://druid.apache.org/docs/latest/querying/sql-data-types#standard-types) to understand how each `DATA_TYPE` in the `example-flights-types-1` TABLE maps to an internal Druid runtime type.\n",
    "\n",
    "The rest of this notebook works through examples of these data types:\n",
    "\n",
    "* [Numbers](#numbers) (e.g. TIMESTAMP, BOOLEAN, DOUBLE, FLOAT, LONG)\n",
    "* [Strings](#strings) (e.g. STRING)\n",
    "* [Arrays](#arrays) (ARRAY)\n",
    "* [Other](#other) (COMPLEX)"
   ]
  },
  {
   "cell_type": "markdown",
   "id": "018e3239-7276-4236-bf6e-b63194ad5957",
   "metadata": {},
   "source": [
    "## Numbers\n",
    "\n",
    "Run the following cell to create a new TABLE called `example-flights-types-2\".\n",
    "\n",
    "This statement incorporates:\n",
    "\n",
    "* An additional timestamp - `__time_arrival` - derived via [TIME_PARSE](https://druid.apache.org/docs/latest/querying/sql-scalar#date-and-time-functions) from `arrivalime` in the source data.\n",
    "* A [CASE](https://druid.apache.org/docs/latest/querying/sql-scalar#other-scalar-functions) function, outputing a boolean result to a column called `isSilicon`.\n",
    "* Two fields containing numeric data, `Year` and `Distance`."
   ]
  },
  {
   "cell_type": "code",
   "execution_count": null,
   "id": "e5520bea-d79f-4223-ba68-8dfb34a48400",
   "metadata": {},
   "outputs": [],
   "source": [
    "sql='''\n",
    "REPLACE INTO \"example-flights-types-2\" OVERWRITE ALL\n",
    "WITH \"ext\" AS (SELECT *\n",
    "FROM TABLE(\n",
    "  EXTERN(\n",
    "    '{\"type\":\"http\",\"uris\":[\"https://static.imply.io/example-data/flight_on_time/flights/On_Time_Reporting_Carrier_On_Time_Performance_(1987_present)_2005_11.csv.zip\"]}',\n",
    "    '{\"type\":\"csv\",\"findColumnsFromHeader\":true}'\n",
    "  )\n",
    ") EXTEND (\"depaturetime\" VARCHAR, \"arrivalime\" VARCHAR, \"Year\" BIGINT, \"Quarter\" BIGINT, \"Month\" BIGINT, \"DayofMonth\" BIGINT, \"DayOfWeek\" BIGINT, \"FlightDate\" VARCHAR, \"Reporting_Airline\" VARCHAR, \"DOT_ID_Reporting_Airline\" BIGINT, \"IATA_CODE_Reporting_Airline\" VARCHAR, \"Tail_Number\" VARCHAR, \"Flight_Number_Reporting_Airline\" BIGINT, \"OriginAirportID\" BIGINT, \"OriginAirportSeqID\" BIGINT, \"OriginCityMarketID\" BIGINT, \"Origin\" VARCHAR, \"OriginCityName\" VARCHAR, \"OriginState\" VARCHAR, \"OriginStateFips\" BIGINT, \"OriginStateName\" VARCHAR, \"OriginWac\" BIGINT, \"DestAirportID\" BIGINT, \"DestAirportSeqID\" BIGINT, \"DestCityMarketID\" BIGINT, \"Dest\" VARCHAR, \"DestCityName\" VARCHAR, \"DestState\" VARCHAR, \"DestStateFips\" BIGINT, \"DestStateName\" VARCHAR, \"DestWac\" BIGINT, \"CRSDepTime\" BIGINT, \"DepTime\" BIGINT, \"DepDelay\" BIGINT, \"DepDelayMinutes\" BIGINT, \"DepDel15\" BIGINT, \"DepartureDelayGroups\" BIGINT, \"DepTimeBlk\" VARCHAR, \"TaxiOut\" BIGINT, \"WheelsOff\" BIGINT, \"WheelsOn\" BIGINT, \"TaxiIn\" BIGINT, \"CRSArrTime\" BIGINT, \"ArrTime\" BIGINT, \"ArrDelay\" BIGINT, \"ArrDelayMinutes\" BIGINT, \"ArrDel15\" BIGINT, \"ArrivalDelayGroups\" BIGINT, \"ArrTimeBlk\" VARCHAR, \"Cancelled\" BIGINT, \"CancellationCode\" VARCHAR, \"Diverted\" BIGINT, \"CRSElapsedTime\" BIGINT, \"ActualElapsedTime\" BIGINT, \"AirTime\" BIGINT, \"Flights\" BIGINT, \"Distance\" BIGINT, \"DistanceGroup\" BIGINT, \"CarrierDelay\" BIGINT, \"WeatherDelay\" BIGINT, \"NASDelay\" BIGINT, \"SecurityDelay\" BIGINT, \"LateAircraftDelay\" BIGINT, \"FirstDepTime\" VARCHAR, \"TotalAddGTime\" VARCHAR, \"LongestAddGTime\" VARCHAR, \"DivAirportLandings\" VARCHAR, \"DivReachedDest\" VARCHAR, \"DivActualElapsedTime\" VARCHAR, \"DivArrDelay\" VARCHAR, \"DivDistance\" VARCHAR, \"Div1Airport\" VARCHAR, \"Div1AirportID\" VARCHAR, \"Div1AirportSeqID\" VARCHAR, \"Div1WheelsOn\" VARCHAR, \"Div1TotalGTime\" VARCHAR, \"Div1LongestGTime\" VARCHAR, \"Div1WheelsOff\" VARCHAR, \"Div1TailNum\" VARCHAR, \"Div2Airport\" VARCHAR, \"Div2AirportID\" VARCHAR, \"Div2AirportSeqID\" VARCHAR, \"Div2WheelsOn\" VARCHAR, \"Div2TotalGTime\" VARCHAR, \"Div2LongestGTime\" VARCHAR, \"Div2WheelsOff\" VARCHAR, \"Div2TailNum\" VARCHAR, \"Div3Airport\" VARCHAR, \"Div3AirportID\" VARCHAR, \"Div3AirportSeqID\" VARCHAR, \"Div3WheelsOn\" VARCHAR, \"Div3TotalGTime\" VARCHAR, \"Div3LongestGTime\" VARCHAR, \"Div3WheelsOff\" VARCHAR, \"Div3TailNum\" VARCHAR, \"Div4Airport\" VARCHAR, \"Div4AirportID\" VARCHAR, \"Div4AirportSeqID\" VARCHAR, \"Div4WheelsOn\" VARCHAR, \"Div4TotalGTime\" VARCHAR, \"Div4LongestGTime\" VARCHAR, \"Div4WheelsOff\" VARCHAR, \"Div4TailNum\" VARCHAR, \"Div5Airport\" VARCHAR, \"Div5AirportID\" VARCHAR, \"Div5AirportSeqID\" VARCHAR, \"Div5WheelsOn\" VARCHAR, \"Div5TotalGTime\" VARCHAR, \"Div5LongestGTime\" VARCHAR, \"Div5WheelsOff\" VARCHAR, \"Div5TailNum\" VARCHAR, \"Unnamed: 109\" VARCHAR))\n",
    "SELECT\n",
    "  TIME_PARSE(\"depaturetime\") AS \"__time\",\n",
    "  TIME_PARSE(\"arrivalime\") AS \"__time_arrival\",\n",
    "  \"Year\",\n",
    "  \"Reporting_Airline\",\n",
    "  \"Origin\",\n",
    "  CASE WHEN \"Origin\" = 'SFO' THEN true ELSE false END AS \"isSilicon\",\n",
    "  \"Dest\",\n",
    "  \"Distance\"\n",
    "FROM \"ext\"\n",
    "WHERE \"arrivalime\" <> 0\n",
    "AND \"depaturetime\" <> 0\n",
    "PARTITIONED BY DAY\n",
    "'''\n",
    "\n",
    "display.run_task(sql)\n",
    "sql_client.wait_until_ready('example-flights-types-2')"
   ]
  },
  {
   "cell_type": "markdown",
   "id": "5bf36766-24ec-499c-911b-8a7123cad691",
   "metadata": {},
   "source": [
    "Now run this cell to get a description of the table similar to that available in `INFORMATION_SCHEMA.COLUMNS`.\n",
    "\n",
    "Take a moment to correlate the data types shown for each column with the ingestion SQL."
   ]
  },
  {
   "cell_type": "code",
   "execution_count": null,
   "id": "294a9871-7a64-4911-bb7d-96d90bab0df8",
   "metadata": {},
   "outputs": [],
   "source": [
    "display.table('example-flights-types-2')"
   ]
  },
  {
   "cell_type": "markdown",
   "id": "f4ef1de0-d230-4969-a3f7-8473ddab48d2",
   "metadata": {},
   "source": [
    "### Timestamps\n",
    "\n",
    "Review the SQL statement above used to create the TABLE.\n",
    "\n",
    "```sql\n",
    "  TIME_PARSE(\"depaturetime\") AS \"__time\",\n",
    "  TIME_PARSE(\"arrivalime\") AS \"__time_arrival\",\n",
    "```\n",
    "\n",
    "Notice that:\n",
    "\n",
    "* The `__time` column has been recognised internally as a true TIMESTAMP.\n",
    "* `__time_arrival` is being stored as a BIGINT.\n",
    "\n",
    "To use secondary time data, such as `__time_arrival`, convert it to a true TIMESTAMP.\n",
    "\n",
    "Run the following cell, where the TIME_FLOOR function is applied to the `__time_arrival` column which has been converted to a timestamp in two ways:\n",
    "\n",
    "* With [MILLIS_TO_TIMESTAMP](https://druid.apache.org/docs/latest/querying/sql-scalar#date-and-time-functions) function.\n",
    "* With [CAST](https://druid.apache.org/docs/latest/querying/sql-scalar#other-scalar-functions)."
   ]
  },
  {
   "cell_type": "code",
   "execution_count": null,
   "id": "80418b6b-fb40-46d7-8eac-879342d33712",
   "metadata": {},
   "outputs": [],
   "source": [
    "sql='''\n",
    "SELECT\n",
    "  TIME_FLOOR(MILLIS_TO_TIMESTAMP(\"__time_arrival\"),'P1D') AS \"day-1\",\n",
    "  TIME_FLOOR(CAST(\"__time_arrival\" AS TIMESTAMP),'P1D') AS \"day-2\",\n",
    "  AVG(TIMESTAMPDIFF(SECOND, \"__time\", NVL(MILLIS_TO_TIMESTAMP(\"__time_arrival\"),\"__time\"))) AS \"averageFlightLength_s\"\n",
    "FROM \"example-flights-types-2\"\n",
    "WHERE TIME_IN_INTERVAL(\"__time\",'2005-11-01/P7D')\n",
    "GROUP BY 1, 2\n",
    "'''\n",
    "\n",
    "display.sql(sql)"
   ]
  },
  {
   "cell_type": "markdown",
   "id": "c99b46a5-3d31-410a-849f-31f67dc7ec8b",
   "metadata": {},
   "source": [
    "To parse string data to timestamps, you can:\n",
    "\n",
    "* Apply a [CAST](https://druid.apache.org/docs/latest/querying/sql-scalar#other-scalar-functions) from a SQL-standard datetime.\n",
    "* Use the dedicated [date and time functions](https://druid.apache.org/docs/latest/querying/sql-scalar#date-and-time-functions), which support different formats.\n",
    "\n",
    "Expanding on the SQL statement above, the third column in the SQL below, `day-3`, has been added.\n",
    "\n",
    "1. MILLIS_TO_TIMESTAMP converts `__time_arrival` to a timestamp.\n",
    "2. TIME_FORMAT converts the timestamp from (1) to a string in SQL format.\n",
    "3. CAST converts the string from (2) into a timestamp.\n",
    "4. TIME_FLOOR rounds the timestamp from (3) to a day."
   ]
  },
  {
   "cell_type": "code",
   "execution_count": null,
   "id": "2faf4fd3-70ce-4ff5-a83f-92c90f22617d",
   "metadata": {},
   "outputs": [],
   "source": [
    "sql='''\n",
    "SELECT\n",
    "  TIME_FLOOR(MILLIS_TO_TIMESTAMP(\"__time_arrival\"),'P1D') AS \"day-1\",\n",
    "  TIME_FLOOR(CAST(\"__time_arrival\" AS TIMESTAMP),'P1D') AS \"day-2\",\n",
    "  TIME_FLOOR(CAST(TIME_FORMAT(MILLIS_TO_TIMESTAMP(\"__time_arrival\"),'YYYY-MM-dd hh:mm:ss') AS TIMESTAMP),'P1D') AS \"day-3\",\n",
    "  AVG(TIMESTAMPDIFF(SECOND, \"__time\", NVL(MILLIS_TO_TIMESTAMP(\"__time_arrival\"),\"__time\"))) AS \"averageFlightLength_s\"\n",
    "FROM \"example-flights-types-2\"\n",
    "WHERE TIME_IN_INTERVAL(\"__time\",'2005-11-01/P7D')\n",
    "GROUP BY 1, 2, 3\n",
    "'''\n",
    "\n",
    "display.sql(sql)"
   ]
  },
  {
   "cell_type": "markdown",
   "id": "1e8f9703-1653-4687-a506-99a52f209642",
   "metadata": {},
   "source": [
    "### Booleans\n",
    "\n",
    "The result of the boolean CASE function is also a BIGINT.\n",
    "\n",
    "```sql\n",
    "    CASE WHEN \"Origin\" = 'SFO' THEN true ELSE false END AS \"isSilicon\",\n",
    "```\n",
    "\n",
    "Run the cell below to see what this looks like in the data."
   ]
  },
  {
   "cell_type": "code",
   "execution_count": null,
   "id": "08d7fa41-7647-4624-a226-533982840dd9",
   "metadata": {},
   "outputs": [],
   "source": [
    "sql='''\n",
    "SELECT\n",
    "  \"isSilicon\",\n",
    "  COUNT(*) AS \"flights\"\n",
    "FROM \"example-flights-types-2\"\n",
    "WHERE TIME_IN_INTERVAL(\"__time\",'2005-11-08/P7D')\n",
    "GROUP BY 1\n",
    "'''\n",
    "\n",
    "display.sql(sql)"
   ]
  },
  {
   "cell_type": "markdown",
   "id": "a2f5be57-95d2-42c9-86cf-db3b6fc0b984",
   "metadata": {},
   "source": [
    "To convert to a true boolean, use the CAST function.\n",
    "\n",
    "> CAST to BOOLEAN ensures Druid applies [strict boolean behaviour](https://druid.apache.org/docs/latest/querying/sql-data-types#boolean-logic), [vectorization](https://druid.apache.org/docs/latest/misc/math-expr/#vectorization-support), and the configured approach to [logical operations](https://druid.apache.org/docs/latest/misc/math-expr/#logical-operator-modes).\n",
    "\n",
    "Run the following cell to see an example."
   ]
  },
  {
   "cell_type": "code",
   "execution_count": null,
   "id": "b10dcbe8-ffcb-440d-9f00-7994f8682738",
   "metadata": {},
   "outputs": [],
   "source": [
    "sql='''\n",
    "SELECT\n",
    "  \"isSilicon\",\n",
    "  CAST(\"isSilicon\" AS BOOLEAN) AS \"isSilicon-1\"\n",
    "FROM \"example-flights-types-2\"\n",
    "WHERE TIME_IN_INTERVAL(\"__time\",'2005-11-08/P7D')\n",
    "GROUP BY 1\n",
    "'''\n",
    "\n",
    "display.sql(sql)"
   ]
  },
  {
   "cell_type": "markdown",
   "id": "f726077e-b10f-4cf2-af47-df9ca89d9cc9",
   "metadata": {},
   "source": [
    "Review the documentation to learn about the behaviour of [CAST to boolean from other data types](https://druid.apache.org/docs/latest/querying/math-expr#logical-operator-modes).\n",
    "\n",
    "Run the following cell to see more examples of CAST to boolean."
   ]
  },
  {
   "cell_type": "code",
   "execution_count": null,
   "id": "ac6e0797-b59f-4195-81ce-dbae404f961c",
   "metadata": {},
   "outputs": [],
   "source": [
    "sql='''\n",
    "SELECT\n",
    "  MOD(TIME_EXTRACT(\"__time\",'DAY'),2) AS \"oddDay\",\n",
    "  CAST(MOD(TIME_EXTRACT(\"__time\",'DAY'),2) AS BOOLEAN) AS \"oddDay-boolean\",\n",
    "  CASE\n",
    "    WHEN MOD(TIME_EXTRACT(\"__time\",'DAY'),2) = 0 THEN 'badger'\n",
    "    WHEN MOD(TIME_EXTRACT(\"__time\",'DAY'),2) = 1 THEN 'true'\n",
    "  END AS \"oddDay-1\",\n",
    "  CAST(\n",
    "    CASE WHEN MOD(TIME_EXTRACT(\"__time\",'DAY'),2) = 0 THEN 'badger'\n",
    "         WHEN MOD(TIME_EXTRACT(\"__time\",'DAY'),2) = 1 THEN 'true'\n",
    "    END AS BOOLEAN) AS \"oddDay-1-boolean\",\n",
    "  CASE\n",
    "    WHEN MOD(TIME_EXTRACT(\"__time\",'DAY'),2) = 0 THEN 1\n",
    "    WHEN MOD(TIME_EXTRACT(\"__time\",'DAY'),2) = 1 THEN 'mushroom'\n",
    "  END AS \"oddDay-2\",\n",
    "  CAST(\n",
    "    CASE WHEN MOD(TIME_EXTRACT(\"__time\",'DAY'),2) = 0 THEN 1\n",
    "         WHEN MOD(TIME_EXTRACT(\"__time\",'DAY'),2) = 1 THEN 'mushroom'\n",
    "    END AS BOOLEAN) AS \"oddDay-2-boolean\",\n",
    "  COUNT(*) AS \"flights\"\n",
    "FROM \"example-flights-types-2\"\n",
    "WHERE TIME_IN_INTERVAL(\"__time\",'2005-11-08/P7D')\n",
    "GROUP BY MOD(TIME_EXTRACT(\"__time\",'DAY'),2)\n",
    "'''\n",
    "\n",
    "display.sql(sql)"
   ]
  },
  {
   "cell_type": "markdown",
   "id": "a3ac6f2a-a30c-4c39-9dc2-ef8d756c59f2",
   "metadata": {},
   "source": [
    "And, below, a CAST to boolean from numeric data."
   ]
  },
  {
   "cell_type": "code",
   "execution_count": null,
   "id": "33a76aa5-fa6b-4a33-bde5-2b7ceb03c7e2",
   "metadata": {},
   "outputs": [],
   "source": [
    "sql='''\n",
    "SELECT\n",
    "  MOD(\"Distance\",3) AS \"distanceRemainder3\",\n",
    "  CAST(MOD(\"Distance\",3) AS BOOLEAN) AS \"distanceRemainder3-boolean\",\n",
    "  COUNT(*) AS \"flights\"\n",
    "FROM \"example-flights-types-2\"\n",
    "WHERE TIME_IN_INTERVAL(\"__time\",'2005-11-08/P7D')\n",
    "GROUP BY MOD(\"Distance\",3)\n",
    "'''\n",
    "\n",
    "display.sql(sql)"
   ]
  },
  {
   "cell_type": "markdown",
   "id": "c39c64bf-5cd2-4ac2-af70-019f35859771",
   "metadata": {},
   "source": [
    "Run the following cell to create a new TABLE, `example-flights-types-3`. It includes a specific CAST of the output of the CASE function to a BOOLEAN.\n",
    "\n",
    "_What do you expect the resulting data type to be?_"
   ]
  },
  {
   "cell_type": "code",
   "execution_count": null,
   "id": "b16e4286-f8cf-4faf-8624-01c87158fba4",
   "metadata": {},
   "outputs": [],
   "source": [
    "sql='''\n",
    "REPLACE INTO \"example-flights-types-3\" OVERWRITE ALL\n",
    "WITH \"ext\" AS (SELECT *\n",
    "FROM TABLE(\n",
    "  EXTERN(\n",
    "    '{\"type\":\"http\",\"uris\":[\"https://static.imply.io/example-data/flight_on_time/flights/On_Time_Reporting_Carrier_On_Time_Performance_(1987_present)_2005_11.csv.zip\"]}',\n",
    "    '{\"type\":\"csv\",\"findColumnsFromHeader\":true}'\n",
    "  )\n",
    ") EXTEND (\"depaturetime\" VARCHAR, \"arrivalime\" VARCHAR, \"Year\" BIGINT, \"Quarter\" BIGINT, \"Month\" BIGINT, \"DayofMonth\" BIGINT, \"DayOfWeek\" BIGINT, \"FlightDate\" VARCHAR, \"Reporting_Airline\" VARCHAR, \"DOT_ID_Reporting_Airline\" BIGINT, \"IATA_CODE_Reporting_Airline\" VARCHAR, \"Tail_Number\" VARCHAR, \"Flight_Number_Reporting_Airline\" BIGINT, \"OriginAirportID\" BIGINT, \"OriginAirportSeqID\" BIGINT, \"OriginCityMarketID\" BIGINT, \"Origin\" VARCHAR, \"OriginCityName\" VARCHAR, \"OriginState\" VARCHAR, \"OriginStateFips\" BIGINT, \"OriginStateName\" VARCHAR, \"OriginWac\" BIGINT, \"DestAirportID\" BIGINT, \"DestAirportSeqID\" BIGINT, \"DestCityMarketID\" BIGINT, \"Dest\" VARCHAR, \"DestCityName\" VARCHAR, \"DestState\" VARCHAR, \"DestStateFips\" BIGINT, \"DestStateName\" VARCHAR, \"DestWac\" BIGINT, \"CRSDepTime\" BIGINT, \"DepTime\" BIGINT, \"DepDelay\" BIGINT, \"DepDelayMinutes\" BIGINT, \"DepDel15\" BIGINT, \"DepartureDelayGroups\" BIGINT, \"DepTimeBlk\" VARCHAR, \"TaxiOut\" BIGINT, \"WheelsOff\" BIGINT, \"WheelsOn\" BIGINT, \"TaxiIn\" BIGINT, \"CRSArrTime\" BIGINT, \"ArrTime\" BIGINT, \"ArrDelay\" BIGINT, \"ArrDelayMinutes\" BIGINT, \"ArrDel15\" BIGINT, \"ArrivalDelayGroups\" BIGINT, \"ArrTimeBlk\" VARCHAR, \"Cancelled\" BIGINT, \"CancellationCode\" VARCHAR, \"Diverted\" BIGINT, \"CRSElapsedTime\" BIGINT, \"ActualElapsedTime\" BIGINT, \"AirTime\" BIGINT, \"Flights\" BIGINT, \"Distance\" BIGINT, \"DistanceGroup\" BIGINT, \"CarrierDelay\" BIGINT, \"WeatherDelay\" BIGINT, \"NASDelay\" BIGINT, \"SecurityDelay\" BIGINT, \"LateAircraftDelay\" BIGINT, \"FirstDepTime\" VARCHAR, \"TotalAddGTime\" VARCHAR, \"LongestAddGTime\" VARCHAR, \"DivAirportLandings\" VARCHAR, \"DivReachedDest\" VARCHAR, \"DivActualElapsedTime\" VARCHAR, \"DivArrDelay\" VARCHAR, \"DivDistance\" VARCHAR, \"Div1Airport\" VARCHAR, \"Div1AirportID\" VARCHAR, \"Div1AirportSeqID\" VARCHAR, \"Div1WheelsOn\" VARCHAR, \"Div1TotalGTime\" VARCHAR, \"Div1LongestGTime\" VARCHAR, \"Div1WheelsOff\" VARCHAR, \"Div1TailNum\" VARCHAR, \"Div2Airport\" VARCHAR, \"Div2AirportID\" VARCHAR, \"Div2AirportSeqID\" VARCHAR, \"Div2WheelsOn\" VARCHAR, \"Div2TotalGTime\" VARCHAR, \"Div2LongestGTime\" VARCHAR, \"Div2WheelsOff\" VARCHAR, \"Div2TailNum\" VARCHAR, \"Div3Airport\" VARCHAR, \"Div3AirportID\" VARCHAR, \"Div3AirportSeqID\" VARCHAR, \"Div3WheelsOn\" VARCHAR, \"Div3TotalGTime\" VARCHAR, \"Div3LongestGTime\" VARCHAR, \"Div3WheelsOff\" VARCHAR, \"Div3TailNum\" VARCHAR, \"Div4Airport\" VARCHAR, \"Div4AirportID\" VARCHAR, \"Div4AirportSeqID\" VARCHAR, \"Div4WheelsOn\" VARCHAR, \"Div4TotalGTime\" VARCHAR, \"Div4LongestGTime\" VARCHAR, \"Div4WheelsOff\" VARCHAR, \"Div4TailNum\" VARCHAR, \"Div5Airport\" VARCHAR, \"Div5AirportID\" VARCHAR, \"Div5AirportSeqID\" VARCHAR, \"Div5WheelsOn\" VARCHAR, \"Div5TotalGTime\" VARCHAR, \"Div5LongestGTime\" VARCHAR, \"Div5WheelsOff\" VARCHAR, \"Div5TailNum\" VARCHAR, \"Unnamed: 109\" VARCHAR))\n",
    "SELECT\n",
    "  TIME_PARSE(\"depaturetime\") AS \"__time\",\n",
    "  TIME_PARSE(\"arrivalime\") AS \"__time_arrival\",\n",
    "  \"Year\",\n",
    "  \"Reporting_Airline\",\n",
    "  \"Origin\",\n",
    "  CAST((CASE WHEN \"Origin\" = 'SFO' THEN true ELSE false END) AS BOOLEAN) AS \"isSilicon\",\n",
    "  \"Dest\",\n",
    "  \"Distance\"\n",
    "FROM \"ext\"\n",
    "WHERE \"arrivalime\" <> 0\n",
    "AND \"depaturetime\" <> 0\n",
    "PARTITIONED BY DAY\n",
    "'''\n",
    "\n",
    "display.run_task(sql)\n",
    "sql_client.wait_until_ready('example-flights-types-3')\n",
    "display.table('example-flights-types-3')"
   ]
  },
  {
   "cell_type": "markdown",
   "id": "7d04ed26-ad8c-4a5c-bd61-2ef2000d949f",
   "metadata": {},
   "source": [
    "### Numbers\n",
    "\n",
    "Run the following ingestion to create a new table, `example-flights-types-4`.\n",
    "\n",
    "The SQL statement includes a set of calculations:\n",
    "\n",
    "* An explicit CAST of `Distance` to a DOUBLE, emitted as `DoubleDistance`.\n",
    "* Various timestamp functions that emit numeric values:\n",
    "  * `timeTaken_seconds` uses two timestamps to emit the time taken in seconds.\n",
    "  * `speed_1` applies the same calculation, divided by distance, without a CAST on `Distance`.\n",
    "  * `speed_2` is the same calculation as `speed_2` but applies a CAST to DOUBLE on `Distance`.\n",
    "  * `speed_3` does the same as `speed_2` except it CASTs to FLOAT.\n",
    "* A CAST from a numeric to VARCHAR on the `DayofMonth` source column.\n",
    "\n",
    "_Can you predict what the resulting data types will be?_\n",
    "_What will the data look like in the table?_"
   ]
  },
  {
   "cell_type": "code",
   "execution_count": null,
   "id": "54de646d-f06e-4390-96b9-c28ba53bd7ae",
   "metadata": {},
   "outputs": [],
   "source": [
    "sql='''\n",
    "REPLACE INTO \"example-flights-types-4\" OVERWRITE ALL\n",
    "WITH \"ext\" AS (SELECT *\n",
    "FROM TABLE(\n",
    "  EXTERN(\n",
    "    '{\"type\":\"http\",\"uris\":[\"https://static.imply.io/example-data/flight_on_time/flights/On_Time_Reporting_Carrier_On_Time_Performance_(1987_present)_2005_11.csv.zip\"]}',\n",
    "    '{\"type\":\"csv\",\"findColumnsFromHeader\":true}'\n",
    "  )\n",
    ") EXTEND (\"depaturetime\" VARCHAR, \"arrivalime\" VARCHAR, \"Year\" BIGINT, \"Quarter\" BIGINT, \"Month\" BIGINT, \"DayofMonth\" BIGINT, \"DayOfWeek\" BIGINT, \"FlightDate\" VARCHAR, \"Reporting_Airline\" VARCHAR, \"DOT_ID_Reporting_Airline\" BIGINT, \"IATA_CODE_Reporting_Airline\" VARCHAR, \"Tail_Number\" VARCHAR, \"Flight_Number_Reporting_Airline\" BIGINT, \"OriginAirportID\" BIGINT, \"OriginAirportSeqID\" BIGINT, \"OriginCityMarketID\" BIGINT, \"Origin\" VARCHAR, \"OriginCityName\" VARCHAR, \"OriginState\" VARCHAR, \"OriginStateFips\" BIGINT, \"OriginStateName\" VARCHAR, \"OriginWac\" BIGINT, \"DestAirportID\" BIGINT, \"DestAirportSeqID\" BIGINT, \"DestCityMarketID\" BIGINT, \"Dest\" VARCHAR, \"DestCityName\" VARCHAR, \"DestState\" VARCHAR, \"DestStateFips\" BIGINT, \"DestStateName\" VARCHAR, \"DestWac\" BIGINT, \"CRSDepTime\" BIGINT, \"DepTime\" BIGINT, \"DepDelay\" BIGINT, \"DepDelayMinutes\" BIGINT, \"DepDel15\" BIGINT, \"DepartureDelayGroups\" BIGINT, \"DepTimeBlk\" VARCHAR, \"TaxiOut\" BIGINT, \"WheelsOff\" BIGINT, \"WheelsOn\" BIGINT, \"TaxiIn\" BIGINT, \"CRSArrTime\" BIGINT, \"ArrTime\" BIGINT, \"ArrDelay\" BIGINT, \"ArrDelayMinutes\" BIGINT, \"ArrDel15\" BIGINT, \"ArrivalDelayGroups\" BIGINT, \"ArrTimeBlk\" VARCHAR, \"Cancelled\" BIGINT, \"CancellationCode\" VARCHAR, \"Diverted\" BIGINT, \"CRSElapsedTime\" BIGINT, \"ActualElapsedTime\" BIGINT, \"AirTime\" BIGINT, \"Flights\" BIGINT, \"Distance\" BIGINT, \"DistanceGroup\" BIGINT, \"CarrierDelay\" BIGINT, \"WeatherDelay\" BIGINT, \"NASDelay\" BIGINT, \"SecurityDelay\" BIGINT, \"LateAircraftDelay\" BIGINT, \"FirstDepTime\" VARCHAR, \"TotalAddGTime\" VARCHAR, \"LongestAddGTime\" VARCHAR, \"DivAirportLandings\" VARCHAR, \"DivReachedDest\" VARCHAR, \"DivActualElapsedTime\" VARCHAR, \"DivArrDelay\" VARCHAR, \"DivDistance\" VARCHAR, \"Div1Airport\" VARCHAR, \"Div1AirportID\" VARCHAR, \"Div1AirportSeqID\" VARCHAR, \"Div1WheelsOn\" VARCHAR, \"Div1TotalGTime\" VARCHAR, \"Div1LongestGTime\" VARCHAR, \"Div1WheelsOff\" VARCHAR, \"Div1TailNum\" VARCHAR, \"Div2Airport\" VARCHAR, \"Div2AirportID\" VARCHAR, \"Div2AirportSeqID\" VARCHAR, \"Div2WheelsOn\" VARCHAR, \"Div2TotalGTime\" VARCHAR, \"Div2LongestGTime\" VARCHAR, \"Div2WheelsOff\" VARCHAR, \"Div2TailNum\" VARCHAR, \"Div3Airport\" VARCHAR, \"Div3AirportID\" VARCHAR, \"Div3AirportSeqID\" VARCHAR, \"Div3WheelsOn\" VARCHAR, \"Div3TotalGTime\" VARCHAR, \"Div3LongestGTime\" VARCHAR, \"Div3WheelsOff\" VARCHAR, \"Div3TailNum\" VARCHAR, \"Div4Airport\" VARCHAR, \"Div4AirportID\" VARCHAR, \"Div4AirportSeqID\" VARCHAR, \"Div4WheelsOn\" VARCHAR, \"Div4TotalGTime\" VARCHAR, \"Div4LongestGTime\" VARCHAR, \"Div4WheelsOff\" VARCHAR, \"Div4TailNum\" VARCHAR, \"Div5Airport\" VARCHAR, \"Div5AirportID\" VARCHAR, \"Div5AirportSeqID\" VARCHAR, \"Div5WheelsOn\" VARCHAR, \"Div5TotalGTime\" VARCHAR, \"Div5LongestGTime\" VARCHAR, \"Div5WheelsOff\" VARCHAR, \"Div5TailNum\" VARCHAR, \"Unnamed: 109\" VARCHAR))\n",
    "SELECT\n",
    "  TIME_PARSE(\"depaturetime\") AS \"__time\",\n",
    "  TIME_PARSE(\"arrivalime\") AS \"__time_arrival\",\n",
    "  TIMESTAMPDIFF(SECOND, TIME_PARSE(\"depaturetime\"), NVL(TIME_PARSE(\"arrivalime\"),TIME_PARSE(\"depaturetime\"))) AS \"timeTaken_seconds\",\n",
    "  \"Distance\",\n",
    "  CAST(\"Distance\" AS DOUBLE) AS \"doubleDistance\",\n",
    "  TIMESTAMPDIFF(SECOND, TIME_PARSE(\"depaturetime\"), NVL(TIME_PARSE(\"arrivalime\"),TIME_PARSE(\"depaturetime\"))) / \"Distance\" AS \"speed\",\n",
    "  TIMESTAMPDIFF(SECOND, TIME_PARSE(\"depaturetime\"), NVL(TIME_PARSE(\"arrivalime\"),TIME_PARSE(\"depaturetime\"))) / CAST(\"Distance\" AS DOUBLE) AS \"doubleSpeed\",\n",
    "  TIMESTAMPDIFF(SECOND, TIME_PARSE(\"depaturetime\"), NVL(TIME_PARSE(\"arrivalime\"),TIME_PARSE(\"depaturetime\"))) / CAST(\"Distance\" AS FLOAT) AS \"floatSpeed\",\n",
    "  \"DayofMonth\",\n",
    "  CAST(\"DayofMonth\" AS VARCHAR) AS \"DayofMonth_Filter\",\n",
    "  \"Reporting_Airline\",\n",
    "  \"Origin\",\n",
    "  CASE WHEN \"Origin\" = 'SFO' THEN true ELSE false END AS \"isSilicon\",\n",
    "  \"Dest\"\n",
    "FROM \"ext\"\n",
    "WHERE \"arrivalime\" <> 0\n",
    "AND \"depaturetime\" <> 0\n",
    "PARTITIONED BY DAY\n",
    "'''\n",
    "\n",
    "display.run_task(sql)\n",
    "sql_client.wait_until_ready('example-flights-types-4')\n",
    "display.table('example-flights-types-4')"
   ]
  },
  {
   "cell_type": "markdown",
   "id": "3a4f215a-7f10-42b8-94f6-6037f161996f",
   "metadata": {},
   "source": [
    "Notice the data types of `Distance` and of the three `speed` columns.\n",
    "\n",
    "* `Distance` has a data type of BIGINT.\n",
    "* `doubleDistance` has a data type of DOUBLE.\n",
    "* `speed` inherits the data type of `Distance`.\n",
    "* `doubleSpeed` inherits the data type of `Distance` CAST to a DOUBLE.\n",
    "* `floatSpeed` inherits the data type of `Distance` CAST to a FLOAT.\n",
    "\n",
    "Run the following query to see how the data differs between each one."
   ]
  },
  {
   "cell_type": "code",
   "execution_count": null,
   "id": "3397e916-d16c-43c2-aed9-ff9c4b151f6f",
   "metadata": {},
   "outputs": [],
   "source": [
    "sql='''\n",
    "SELECT\n",
    "  \"Origin\",\n",
    "  \"Dest\",\n",
    "  \"Distance\",\n",
    "  \"doubleDistance\",\n",
    "  \"speed\",\n",
    "  \"doubleSpeed\",\n",
    "  \"floatSpeed\"\n",
    "FROM \"example-flights-types-4\"\n",
    "WHERE TIME_IN_INTERVAL(\"__time\",'2005-11-08/PT15M')\n",
    "'''\n",
    "\n",
    "display.sql(sql)"
   ]
  },
  {
   "cell_type": "markdown",
   "id": "3e7fb5d5-c406-4df1-92d2-41fbe2ad9d9e",
   "metadata": {},
   "source": [
    "## Strings\n",
    "\n",
    "CHAR and VARCHAR data is stored as a string, and can be understood as holding single or [multiple](https://druid.apache.org/docs/latest/querying/sql-data-types#multi-value-strings) values.\n",
    "\n",
    "> [Multi-value strings](https://druid.apache.org/docs/latest/querying/multi-value-dimensions) exhibit [special behaviour](https://druid.apache.org/docs/latest/querying/sql-data-types#multi-value-strings-behavior). A full exploration is out of the scope of this notebook."
   ]
  },
  {
   "cell_type": "markdown",
   "id": "ea07299d-27e2-407d-8df7-2bee1127d444",
   "metadata": {},
   "source": [
    "In the table above, the `DayofMonth_Filter` column is recognized as a VARCHAR because of the CAST function.\n",
    "\n",
    "> See [schema design tips](https://druid.apache.org/docs/latest/ingestion/schema-design/#string-vs-numeric-dimensions) to learn more about the differences between storing data as numeric or a string.\n",
    "\n",
    "Run the following cell to see a simple query that makes use of this filtering column."
   ]
  },
  {
   "cell_type": "code",
   "execution_count": null,
   "id": "6a116797-2dfb-4273-a50e-fda337bb3f7e",
   "metadata": {},
   "outputs": [],
   "source": [
    "sql='''\n",
    "SELECT\n",
    "    COUNT(*) FILTER (WHERE \"DayofMonth_Filter\" = '10') AS \"10thDayCount\",\n",
    "    COUNT(*) FILTER (WHERE \"DayofMonth_Filter\" = '9') AS \"9thDayCount\"\n",
    "FROM \"example-flights-types-4\"\n",
    "'''\n",
    "\n",
    "display.sql(sql)"
   ]
  },
  {
   "cell_type": "markdown",
   "id": "143b76e0-7c6a-4766-927c-4fb6ec82656f",
   "metadata": {},
   "source": [
    "Building on the previous example, run the following cell to see a CAST using an internally stored string to compare with a numeric value:"
   ]
  },
  {
   "cell_type": "code",
   "execution_count": null,
   "id": "615fe582-ca47-4602-a1a6-383a0c4ca2bb",
   "metadata": {},
   "outputs": [],
   "source": [
    "sql='''\n",
    "SELECT\n",
    "    COUNT(*) FILTER (WHERE \"DayofMonth_Filter\" = '10') AS \"10thDayCount\",\n",
    "    COUNT(*) FILTER (WHERE \"DayofMonth_Filter\" = '9') AS \"9thDayCount-1\",\n",
    "    COUNT(*) FILTER (WHERE CAST(\"DayofMonth_Filter\" AS BIGINT) = 9) AS \"9thDayCount-2\",\n",
    "    COUNT(*) FILTER (WHERE CAST(\"DayofMonth_Filter\" AS BIGINT) = 8) AS \"8thDayCount\"\n",
    "FROM \"example-flights-types-4\"\n",
    "'''\n",
    "\n",
    "display.sql(sql)"
   ]
  },
  {
   "cell_type": "markdown",
   "id": "4f42e716-592a-42aa-bfa2-d743f963983f",
   "metadata": {},
   "source": [
    "You can also convert from a TIMESTAMP to a string.\n",
    "\n",
    "Run the following cell to see a CAST from TIMESTAMP to a string, as well as an example of the TIME_FORMAT function to create the same output.\n",
    "\n",
    "> For more examples of TIME_FORMAT check out the dedicated notebook on [date and time functions](../03-query/07-functions-datetime.ipynb)."
   ]
  },
  {
   "cell_type": "code",
   "execution_count": null,
   "id": "f2cbad55-b547-42e1-8713-6e1f6144c1b2",
   "metadata": {},
   "outputs": [],
   "source": [
    "sql='''\n",
    "SELECT\n",
    "    CAST(\"__time\" AS VARCHAR) AS \"__time_VARCHAR\",\n",
    "    TIME_FORMAT(__time, 'YYYY-MM-dd hh:mm:ss a') AS \"__time_FORMAT\"\n",
    "FROM \"example-flights-types-4\"\n",
    "WHERE TIME_IN_INTERVAL(\"__time\",'2005-11-08/PT10M')\n",
    "'''\n",
    "\n",
    "display.sql(sql)"
   ]
  },
  {
   "cell_type": "markdown",
   "id": "a112ea9e-8f83-4adb-869a-498051b854e4",
   "metadata": {},
   "source": [
    "## Arrays\n",
    "\n",
    "[Arrays](https://druid.apache.org/docs/latest/querying/sql-data-types#arrays) are specially recognised in Druid, constructed using appropriate [aggregations](https://druid.apache.org/docs/latest/querying/sql-aggregations) and then worked with using dedicated SQL [functions](https://druid.apache.org/docs/latest/querying/sql-array-functions).\n",
    "\n",
    "A full exploration is out of the scope of this notebook.\n",
    "\n",
    "Rather than using CAST functions, use the [documented functions](https://druid.apache.org/docs/latest/querying/sql-array-functions) to convert between ARRAY and VARCHAR types.\n",
    "\n",
    "Run the following cell.\n",
    "\n",
    "* `origin-array` contains the output of an ARRAY_AGG function, which constructs an ARRAY at query-time from 15-minutes-worth of source data.\n",
    "* The same function is then used with the ARRAY_TO_STRING function to create a comma-separated string, output as `origin-array-string`.\n",
    "* Finally, that function is used inside STRING_TO_ARRAY to convert the string back into an array again as `origin-array-string-array`."
   ]
  },
  {
   "cell_type": "code",
   "execution_count": null,
   "id": "05d02188-bbbf-4691-8024-186970e36198",
   "metadata": {},
   "outputs": [],
   "source": [
    "sql='''\n",
    "SELECT\n",
    "  ARRAY_AGG(DISTINCT \"Origin\") AS \"origin-array\",\n",
    "  ARRAY_TO_STRING(ARRAY_AGG(DISTINCT \"Origin\"),',') AS \"origin-array-string\",\n",
    "  STRING_TO_ARRAY(ARRAY_TO_STRING(ARRAY_AGG(DISTINCT \"Origin\"),','),',') AS \"origin-array-string-array\"\n",
    "FROM \"example-flights-types-4\"\n",
    "WHERE TIME_IN_INTERVAL(\"__time\",'2005-11-08/PT15M')\n",
    "'''\n",
    "\n",
    "display.sql(sql)"
   ]
  },
  {
   "cell_type": "markdown",
   "id": "22cf1c05-7fec-4574-88ea-db9844565bfb",
   "metadata": {},
   "source": [
    "## Other\n",
    "\n",
    "Special types of data are stored as COMPLEX or OTHER, including Apache Datasketches.\n",
    "\n",
    "Run the following ingestion to create a table where this type can be seen.\n",
    "\n",
    "> For more information on how this cell works, see the dedicated notebook on [generating sketches at ingestion time](./03-generating-sketches.ipynb)."
   ]
  },
  {
   "cell_type": "code",
   "execution_count": null,
   "id": "f52a94fb-d2e4-403f-ab10-84d3af7bf2c8",
   "metadata": {},
   "outputs": [],
   "source": [
    "sql='''\n",
    "REPLACE INTO \"example-flights-types-5\" OVERWRITE ALL\n",
    "WITH \"ext\" AS (SELECT *\n",
    "FROM TABLE(\n",
    "  EXTERN(\n",
    "    '{\"type\":\"http\",\"uris\":[\"https://static.imply.io/example-data/flight_on_time/flights/On_Time_Reporting_Carrier_On_Time_Performance_(1987_present)_2005_11.csv.zip\"]}',\n",
    "    '{\"type\":\"csv\",\"findColumnsFromHeader\":true}'\n",
    "  )\n",
    ") EXTEND (\"depaturetime\" VARCHAR, \"arrivalime\" VARCHAR, \"Year\" BIGINT, \"Quarter\" BIGINT, \"Month\" BIGINT, \"DayofMonth\" BIGINT, \"DayOfWeek\" BIGINT, \"FlightDate\" VARCHAR, \"Reporting_Airline\" VARCHAR, \"DOT_ID_Reporting_Airline\" BIGINT, \"IATA_CODE_Reporting_Airline\" VARCHAR, \"Tail_Number\" VARCHAR, \"Flight_Number_Reporting_Airline\" BIGINT, \"OriginAirportID\" BIGINT, \"OriginAirportSeqID\" BIGINT, \"OriginCityMarketID\" BIGINT, \"Origin\" VARCHAR, \"OriginCityName\" VARCHAR, \"OriginState\" VARCHAR, \"OriginStateFips\" BIGINT, \"OriginStateName\" VARCHAR, \"OriginWac\" BIGINT, \"DestAirportID\" BIGINT, \"DestAirportSeqID\" BIGINT, \"DestCityMarketID\" BIGINT, \"Dest\" VARCHAR, \"DestCityName\" VARCHAR, \"DestState\" VARCHAR, \"DestStateFips\" BIGINT, \"DestStateName\" VARCHAR, \"DestWac\" BIGINT, \"CRSDepTime\" BIGINT, \"DepTime\" BIGINT, \"DepDelay\" BIGINT, \"DepDelayMinutes\" BIGINT, \"DepDel15\" BIGINT, \"DepartureDelayGroups\" BIGINT, \"DepTimeBlk\" VARCHAR, \"TaxiOut\" BIGINT, \"WheelsOff\" BIGINT, \"WheelsOn\" BIGINT, \"TaxiIn\" BIGINT, \"CRSArrTime\" BIGINT, \"ArrTime\" BIGINT, \"ArrDelay\" BIGINT, \"ArrDelayMinutes\" BIGINT, \"ArrDel15\" BIGINT, \"ArrivalDelayGroups\" BIGINT, \"ArrTimeBlk\" VARCHAR, \"Cancelled\" BIGINT, \"CancellationCode\" VARCHAR, \"Diverted\" BIGINT, \"CRSElapsedTime\" BIGINT, \"ActualElapsedTime\" BIGINT, \"AirTime\" BIGINT, \"Flights\" BIGINT, \"Distance\" BIGINT, \"DistanceGroup\" BIGINT, \"CarrierDelay\" BIGINT, \"WeatherDelay\" BIGINT, \"NASDelay\" BIGINT, \"SecurityDelay\" BIGINT, \"LateAircraftDelay\" BIGINT, \"FirstDepTime\" VARCHAR, \"TotalAddGTime\" VARCHAR, \"LongestAddGTime\" VARCHAR, \"DivAirportLandings\" VARCHAR, \"DivReachedDest\" VARCHAR, \"DivActualElapsedTime\" VARCHAR, \"DivArrDelay\" VARCHAR, \"DivDistance\" VARCHAR, \"Div1Airport\" VARCHAR, \"Div1AirportID\" VARCHAR, \"Div1AirportSeqID\" VARCHAR, \"Div1WheelsOn\" VARCHAR, \"Div1TotalGTime\" VARCHAR, \"Div1LongestGTime\" VARCHAR, \"Div1WheelsOff\" VARCHAR, \"Div1TailNum\" VARCHAR, \"Div2Airport\" VARCHAR, \"Div2AirportID\" VARCHAR, \"Div2AirportSeqID\" VARCHAR, \"Div2WheelsOn\" VARCHAR, \"Div2TotalGTime\" VARCHAR, \"Div2LongestGTime\" VARCHAR, \"Div2WheelsOff\" VARCHAR, \"Div2TailNum\" VARCHAR, \"Div3Airport\" VARCHAR, \"Div3AirportID\" VARCHAR, \"Div3AirportSeqID\" VARCHAR, \"Div3WheelsOn\" VARCHAR, \"Div3TotalGTime\" VARCHAR, \"Div3LongestGTime\" VARCHAR, \"Div3WheelsOff\" VARCHAR, \"Div3TailNum\" VARCHAR, \"Div4Airport\" VARCHAR, \"Div4AirportID\" VARCHAR, \"Div4AirportSeqID\" VARCHAR, \"Div4WheelsOn\" VARCHAR, \"Div4TotalGTime\" VARCHAR, \"Div4LongestGTime\" VARCHAR, \"Div4WheelsOff\" VARCHAR, \"Div4TailNum\" VARCHAR, \"Div5Airport\" VARCHAR, \"Div5AirportID\" VARCHAR, \"Div5AirportSeqID\" VARCHAR, \"Div5WheelsOn\" VARCHAR, \"Div5TotalGTime\" VARCHAR, \"Div5LongestGTime\" VARCHAR, \"Div5WheelsOff\" VARCHAR, \"Div5TailNum\" VARCHAR, \"Unnamed: 109\" VARCHAR))\n",
    "SELECT\n",
    "  TIME_FLOOR(TIME_PARSE(\"depaturetime\"), 'PT1H') AS \"__time\",\n",
    "  TIME_FLOOR(TIME_PARSE(\"arrivalime\"), 'PT1H') AS \"__arrival_time\",\n",
    "  \"Reporting_Airline\",\n",
    "  DS_HLL(\"Tail_Number\") AS \"Tail_Number_HLL\",\n",
    "  DS_THETA(\"Tail_Number\") AS \"Tail_Number_THETA\"\n",
    "FROM \"ext\"\n",
    "WHERE \"arrivalime\" <> 0\n",
    "AND \"depaturetime\" <> 0\n",
    "GROUP BY 1, 2, 3\n",
    "PARTITIONED BY DAY\n",
    "'''\n",
    "\n",
    "req = sql_client.sql_request(sql)\n",
    "req.add_context(\"finalize\", \"false\")\n",
    "req.add_context(\"finalizeAggregations\", \"false\")\n",
    "\n",
    "display.run_task(req)\n",
    "sql_client.wait_until_ready('example-flights-types-5')\n",
    "display.table('example-flights-types-5')"
   ]
  },
  {
   "cell_type": "markdown",
   "id": "ea49154a-4661-4e65-9651-bc5f971e215d",
   "metadata": {},
   "source": [
    "Notice that both the sketched columns are recognised as COMPLEX types, and need to be addressed using their dedicated functions and aggregations.\n",
    "\n",
    "Run the following cell to see an approximate count being used on the sketch stored in `Tail_Number_HLL`.\n",
    "\n",
    "> For more examples, see the dedicated notebook on [approximate COUNT DISTINCT](../03-query/03-approxCountDistinct.ipynb) operations."
   ]
  },
  {
   "cell_type": "code",
   "execution_count": null,
   "id": "c4c7cce0-f64e-4105-bb99-7f337c8cffaf",
   "metadata": {},
   "outputs": [],
   "source": [
    "sql='''\n",
    "SELECT\n",
    "  TIME_FLOOR(\"__time\",'PT6H') AS \"period\",\n",
    "  APPROX_COUNT_DISTINCT_DS_HLL(Tail_Number_HLL) AS \"approxCount\"\n",
    "FROM \"example-flights-types-5\"\n",
    "WHERE TIME_IN_INTERVAL(\"__time\",'2005-11-08/P1D')\n",
    "GROUP BY 1\n",
    "'''\n",
    "\n",
    "display.sql(sql)"
   ]
  },
  {
   "cell_type": "markdown",
   "id": "44738d6d-cec2-40ad-aaba-998c758c63f4",
   "metadata": {},
   "source": [
    "## Clean up\n",
    "\n",
    "Run the following cell to remove the tables that were created by this notebook from the database."
   ]
  },
  {
   "cell_type": "code",
   "execution_count": null,
   "id": "8082b545-ba7f-4ede-bb6e-2a6dd62ba0d8",
   "metadata": {},
   "outputs": [],
   "source": [
    "druid.datasources.drop(\"example-flights-types-1\")\n",
    "druid.datasources.drop(\"example-flights-types-2\")\n",
    "druid.datasources.drop(\"example-flights-types-3\")\n",
    "druid.datasources.drop(\"example-flights-types-4\")\n",
    "druid.datasources.drop(\"example-flights-types-5\")"
   ]
  },
  {
   "cell_type": "markdown",
   "id": "54b8d5fe-ba85-4b5b-9669-0dd47dfbccd1",
   "metadata": {},
   "source": [
    "## Summary\n",
    "\n",
    "* Druid tables are created through ingestion.\n",
    "* Data types for columns are inferred from the SELECT statement, conforming to SQL types.\n",
    "* SQL types map to internal types in Druid.\n",
    "* Only the primary timestamp, `__time`, is recognized as a true TIMESTAMP.\n",
    "* You can use type-specific functions, as well as CAST, to specify and convert between types at ingestion and query time.\n",
    "\n",
    "## Learn more\n",
    "\n",
    "* [Read more](https://druid.apache.org/docs/latest/querying/sql-metadata-tables#columns-table) about the `INFORMATION_SCHEMA.COLUMNS` table.\n",
    "* See the documentation around [data types in Druid](https://druid.apache.org/docs/latest/querying/sql-data-types/).\n",
    "* Experiment with ingestions that re-use existing column names but change their data type.\n",
    "* Read more about about [automatic schema detection and schemaless ingestion](https://druid.apache.org/docs/latest/ingestion/ingestion-spec#dimensionsspec) for JSON-based ingestion in the documentation.\n",
    "* Try out the notebook on [approximate COUNT DISTINCT](../03-query/03-approxCountDistinct.ipynb) and on [generating sketches at ingestion time](./03-generating-sketches.ipynb).\n",
    "* Take a look at more [date and time functions](../03-query/07-functions-datetime.ipynb)."
   ]
  }
 ],
 "metadata": {
  "execution": {
   "allow_errors": true,
   "timeout": 300
  },
  "kernelspec": {
   "display_name": "Python 3 (ipykernel)",
   "language": "python",
   "name": "python3"
  },
  "language_info": {
   "codemirror_mode": {
    "name": "ipython",
    "version": 3
   },
   "file_extension": ".py",
   "mimetype": "text/x-python",
   "name": "python",
   "nbconvert_exporter": "python",
   "pygments_lexer": "ipython3",
   "version": "3.11.6"
  }
 },
 "nbformat": 4,
 "nbformat_minor": 5
}
