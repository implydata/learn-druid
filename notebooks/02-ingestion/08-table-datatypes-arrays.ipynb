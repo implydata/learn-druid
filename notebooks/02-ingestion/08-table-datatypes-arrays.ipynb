{
 "cells": [
  {
   "cell_type": "markdown",
   "id": "0cb3b009-ebde-4d56-9d59-a028d66d8309",
   "metadata": {},
   "source": [
    "# Array data types in Druid\n",
    "<!--\n",
    "  ~ Licensed to the Apache Software Foundation (ASF) under one\n",
    "  ~ or more contributor license agreements.  See the NOTICE file\n",
    "  ~ distributed with this work for additional information\n",
    "  ~ regarding copyright ownership.  The ASF licenses this file\n",
    "  ~ to you under the Apache License, Version 2.0 (the\n",
    "  ~ \"License\"); you may not use this file except in compliance\n",
    "  ~ with the License.  You may obtain a copy of the License at\n",
    "  ~\n",
    "  ~   http://www.apache.org/licenses/LICENSE-2.0\n",
    "  ~\n",
    "  ~ Unless required by applicable law or agreed to in writing,\n",
    "  ~ software distributed under the License is distributed on an\n",
    "  ~ \"AS IS\" BASIS, WITHOUT WARRANTIES OR CONDITIONS OF ANY\n",
    "  ~ KIND, either express or implied.  See the License for the\n",
    "  ~ specific language governing permissions and limitations\n",
    "  ~ under the License.\n",
    "  -->\n",
    "\n",
    "In this notebook you will find examples of how to work with the array datatype in Druid, constructing them at query time and ingestion time using [scalar](https://druid.apache.org/docs/latest/querying/sql-array-functions) and [aggregation](https://druid.apache.org/docs/latest/querying/sql-aggregations) functions of expanding them with UNNEST."
   ]
  },
  {
   "cell_type": "markdown",
   "id": "bbdbf6ad-ca7b-40f5-8ca3-1070f4a3ee42",
   "metadata": {},
   "source": [
    "## Prerequisites\n",
    "\n",
    "This tutorial works with Druid 29.0.0 or later.\n",
    "\n",
    "#### Run with Docker\n",
    "\n",
    "Launch this tutorial and all prerequisites using the `druid-jupyter` profile of the Docker Compose file for Jupyter-based Druid tutorials. For more information, see the Learn Druid repository [readme](https://github.com/implydata/learn-druid)."
   ]
  },
  {
   "cell_type": "markdown",
   "id": "5007a243-b81a-4601-8f57-5b14940abbff",
   "metadata": {},
   "source": [
    "## Initialization\n",
    "\n",
    "The following cells set up the notebook and learning environment ready for use.\n",
    "\n",
    "Run the next cell to set up the Druid Python client's connection to Apache Druid.\n",
    "\n",
    "If successful, the Druid version number will be shown in the output."
   ]
  },
  {
   "cell_type": "code",
   "execution_count": null,
   "id": "c1ec783b-df3f-4168-9be2-cdc6ad3e33c2",
   "metadata": {},
   "outputs": [],
   "source": [
    "import druidapi\n",
    "import os\n",
    "\n",
    "if 'DRUID_HOST' not in os.environ.keys():\n",
    "    druid_host=f\"http://localhost:8888\"\n",
    "else:\n",
    "    druid_host=f\"http://{os.environ['DRUID_HOST']}:8888\"\n",
    "    \n",
    "print(f\"Opening a connection to {druid_host}.\")\n",
    "druid = druidapi.jupyter_client(druid_host)\n",
    "\n",
    "display = druid.display\n",
    "sql_client = druid.sql\n",
    "status_client = druid.status\n",
    "\n",
    "status_client.version"
   ]
  },
  {
   "cell_type": "markdown",
   "id": "1c234248-f620-433e-af68-cf7c1d9efb12",
   "metadata": {},
   "source": [
    "## Construct arrays at query time\n",
    "\n",
    "Run the following cell to create a table, `example-koalas-arrays-1`.\n",
    "\n",
    "This table contains data you will use later in the notebook.\n",
    "\n",
    "In the source data, the `language` field contains [multi-value strings](https://druid.apache.org/docs/latest/querying/sql-data-types#multi-value-strings). In the ingestion, this is brought in as `language-mv`."
   ]
  },
  {
   "cell_type": "code",
   "execution_count": null,
   "id": "69c4885a-70ca-424d-a36d-7fd0e8dbff1b",
   "metadata": {},
   "outputs": [],
   "source": [
    "sql='''\n",
    "REPLACE INTO \"example-koalas-arrays-1\" OVERWRITE ALL WITH \"ext\" AS (\n",
    "  SELECT \n",
    "    * \n",
    "  FROM \n",
    "    TABLE(\n",
    "      EXTERN(\n",
    "        '{\"type\":\"http\",\"uris\":[\"https://static.imply.io/example-data/kttm-v2/kttm-v2-2019-08-25.json.gz\"]}', \n",
    "        '{\"type\":\"json\"}'\n",
    "      )\n",
    "    ) EXTEND (\n",
    "      \"timestamp\" VARCHAR, \"agent_category\" VARCHAR, \n",
    "      \"agent_type\" VARCHAR, \"browser\" VARCHAR, \n",
    "      \"browser_version\" VARCHAR, \"city\" VARCHAR, \n",
    "      \"continent\" VARCHAR, \"country\" VARCHAR, \n",
    "      \"version\" VARCHAR, \"event_type\" VARCHAR, \n",
    "      \"event_subtype\" VARCHAR, \"loaded_image\" VARCHAR, \n",
    "      \"adblock_list\" VARCHAR, \"forwarded_for\" VARCHAR, \n",
    "      \"language\" VARCHAR, \"number\" VARCHAR, \n",
    "      \"os\" VARCHAR, \"path\" VARCHAR, \"platform\" VARCHAR, \n",
    "      \"referrer\" VARCHAR, \"referrer_host\" VARCHAR, \n",
    "      \"region\" VARCHAR, \"remote_address\" VARCHAR, \n",
    "      \"screen\" VARCHAR, \"session\" VARCHAR, \n",
    "      \"session_length\" BIGINT, \"timezone\" VARCHAR, \n",
    "      \"timezone_offset\" VARCHAR, \"window\" VARCHAR\n",
    "    )\n",
    ") \n",
    "SELECT \n",
    "  TIME_PARSE(\"timestamp\") AS \"__time\", \n",
    "  \"timezone\", \n",
    "  \"browser\", \n",
    "  \"language\" AS \"language-mv\", \n",
    "  \"session\",\n",
    "  \"event_type\",\n",
    "  \"event_subtype\"\n",
    "FROM \n",
    "  \"ext\" PARTITIONED BY DAY\n",
    "'''\n",
    "\n",
    "display.run_task(sql)\n",
    "sql_client.wait_until_ready('example-koalas-arrays-1')\n",
    "display.table('example-koalas-arrays-1')"
   ]
  },
  {
   "cell_type": "markdown",
   "id": "d9a62bff-c0b6-43ef-ab56-1aafe674c1ba",
   "metadata": {},
   "source": [
    "### Array scalar functions\n",
    "\n",
    "The ARRAY function constructs an array from a number of elements in a row and returns an array. Run the following cell to see ARRAY being used to create two fields:\n",
    "\n",
    "* `staticArray` is a simple array of constants.\n",
    "* The `tags` column contains the browser and timezone of each row.\n",
    "\n",
    "Note that here, and in all the other examples of this notebook, all the elements of an array [share the same data type](https://druid.apache.org/docs/latest/querying/sql-functions#array)."
   ]
  },
  {
   "cell_type": "code",
   "execution_count": null,
   "id": "442c9b54-8c9f-4a8f-b10a-c1f6b6227ca4",
   "metadata": {},
   "outputs": [],
   "source": [
    "sql='''\n",
    "SELECT \n",
    "  ARRAY[ 'en-GB', 'fr' ] AS \"staticArray\", \n",
    "  ARRAY[ \"browser\", \"timezone\" ] AS \"tags\" \n",
    "FROM \n",
    "  \"example-koalas-arrays-1\" \n",
    "WHERE \n",
    "  TIME_IN_INTERVAL(\"__time\", '2019-08-25T14/PT2S')\n",
    "'''\n",
    "\n",
    "display.sql(sql)"
   ]
  },
  {
   "cell_type": "markdown",
   "id": "f706a8f3-e16e-42b0-ac7b-3e9c9486c9e9",
   "metadata": {},
   "source": [
    "The SQL below extends this with an MV_TO_ARRAY function. It adds an array of language tags for each row from the source data's [multi-value string](https://druid.apache.org/docs/latest/querying/sql-data-types#multi-value-strings) data that was ingested into `language-mv`."
   ]
  },
  {
   "cell_type": "code",
   "execution_count": null,
   "id": "3ec353b3-83db-45b2-8ab4-d0a10894b7e9",
   "metadata": {},
   "outputs": [],
   "source": [
    "sql='''\n",
    "SELECT \n",
    "  ARRAY[ 'en-GB', 'fr' ] AS \"staticArray\", \n",
    "  ARRAY[ \"browser\", \"timezone\" ] AS \"tags\", \n",
    "  MV_TO_ARRAY(\"language-mv\") AS \"tags-languages\" \n",
    "FROM \n",
    "  \"example-koalas-arrays-1\" \n",
    "WHERE \n",
    "  TIME_IN_INTERVAL(\"__time\", '2019-08-25T14/PT2S')\n",
    "'''\n",
    "\n",
    "display.sql(sql)"
   ]
  },
  {
   "cell_type": "markdown",
   "id": "611030ac-c44a-49e0-bec0-507a6b96f714",
   "metadata": {},
   "source": [
    "Using the ARRAY_PREPEND and ARRAY_APPEND functions, elements can be added to an array.\n",
    "\n",
    "Run the cell below to see an example where:\n",
    "\n",
    "* ARRAY_PREPEND adds Vogon to the beginning of all language tags when the browser is `Chrome`.\n",
    "* ARRAY_APPEND adds Klingon to the end of all language tags in all other cases."
   ]
  },
  {
   "cell_type": "code",
   "execution_count": null,
   "id": "42c75201-0e82-4d42-92f3-fa929aedabcc",
   "metadata": {
    "scrolled": true
   },
   "outputs": [],
   "source": [
    "sql='''\n",
    "SELECT \n",
    "  CASE \"browser\" WHEN 'Chrome' THEN ARRAY_PREPEND( 'vog', MV_TO_ARRAY(\"language-mv\") )\n",
    "    ELSE ARRAY_APPEND( MV_TO_ARRAY(\"language-mv\"), 'tlh')\n",
    "    END AS \"tags-languages\" \n",
    "FROM \n",
    "  \"example-koalas-arrays-1\" \n",
    "WHERE \n",
    "  TIME_IN_INTERVAL(\"__time\", '2019-08-25T14/PT2S')\n",
    "'''\n",
    "\n",
    "display.sql(sql)"
   ]
  },
  {
   "cell_type": "markdown",
   "id": "b457d4b7-edbf-4c6c-a829-5aabf8f9a5e8",
   "metadata": {},
   "source": [
    "ARRAY_CONCAT takes two arrays and outputs a single new array.\n",
    "\n",
    "Using ARRAY_CONCAT we can create just one list of tags for each row covering languages and browsers.\n",
    "\n",
    "* The first argument creates an array representation of both the browser and timezone.\n",
    "* The second argument is the array returned by the conversion of the `language-mv` data into an array."
   ]
  },
  {
   "cell_type": "code",
   "execution_count": null,
   "id": "94eadff8-7799-409a-b9a5-c0741d83e2f7",
   "metadata": {},
   "outputs": [],
   "source": [
    "sql='''\n",
    "SELECT \n",
    "  ARRAY_CONCAT(\n",
    "    ARRAY[ \"browser\", \"timezone\" ], \n",
    "    MV_TO_ARRAY(\"language-mv\") ) AS \"tags\" \n",
    "FROM \n",
    "  \"example-koalas-arrays-1\" \n",
    "WHERE \n",
    "  TIME_IN_INTERVAL(\"__time\", '2019-08-25T14/PT2S')\n",
    "'''\n",
    "\n",
    "display.sql(sql)"
   ]
  },
  {
   "cell_type": "markdown",
   "id": "3accca60-be5f-48e5-9a02-cc05c015b436",
   "metadata": {},
   "source": [
    "### Array aggregators\n",
    "\n",
    "While ARRAY creates an array from individual dimensions in a row, ARRAY_AGG creates an array from values _across_ rows as part of a GROUP BY query.\n",
    "\n",
    "In the following cell:\n",
    "\n",
    "* GROUP BY separates the source rows into 10-second buckets.\n",
    "* Individual values from `browser` are merged from across the source rows into an array, one for for each 10-second bucket."
   ]
  },
  {
   "cell_type": "code",
   "execution_count": null,
   "id": "867d5314-40b5-4f89-bdcb-8d00b677def0",
   "metadata": {},
   "outputs": [],
   "source": [
    "sql='''\n",
    "SELECT \n",
    "  TIME_FLOOR(\"__time\", 'PT10S') AS \"time-bucket\", \n",
    "  ARRAY_AGG(\"browser\") AS \"tags-browsers\" \n",
    "FROM \n",
    "  \"example-koalas-arrays-1\" \n",
    "WHERE \n",
    "  TIME_IN_INTERVAL(\"__time\", '2019-08-25T10/PT1M') \n",
    "GROUP BY \n",
    "  1\n",
    "'''\n",
    "\n",
    "display.sql(sql)"
   ]
  },
  {
   "cell_type": "markdown",
   "id": "cdc1261c-bb3a-47e4-9a4e-4f51fc4ce1f7",
   "metadata": {},
   "source": [
    "As the size of the time window increases, more elements will be added to the array as the number of rows to be grouped increases. As there is a limit on the size of arrays, an extra parameter may need to be added to the ARRAY_AGG function to increase the maximum size.\n",
    "\n",
    "In the following cell the time floor has been increased to 1 minute (`PT1M`) along with an additional maximum size parameter of 65535 bytes.\n",
    "\n",
    "Run this cell with and without the maximum size parameter for ARRAY_AGG."
   ]
  },
  {
   "cell_type": "code",
   "execution_count": null,
   "id": "5eada8c3-3e4b-43d7-8a35-7bbf7e0fb352",
   "metadata": {},
   "outputs": [],
   "source": [
    "sql='''\n",
    "SELECT \n",
    "  TIME_FLOOR(\"__time\", 'PT1M') AS \"time-bucket\", \n",
    "  ARRAY_AGG(\"browser\", 65535) AS \"tags-browsers\" \n",
    "FROM \n",
    "  \"example-koalas-arrays-1\" \n",
    "WHERE \n",
    "  TIME_IN_INTERVAL(\"__time\", '2019-08-25T10/PT2M') \n",
    "GROUP BY \n",
    "  1\n",
    "'''\n",
    "\n",
    "display.sql(sql)"
   ]
  },
  {
   "cell_type": "markdown",
   "id": "5ccddfb0-3145-475c-88e5-9e556dfd6598",
   "metadata": {},
   "source": [
    "In order to only return distinct values when the arrays are constructed, the following SQL contains the DISTINCT keyword with ARRAY_AGG.\n",
    "\n",
    "Notice that the reduction in the size of the array means that the additionam maximum size parameter can be removed from ARRAY_AGG."
   ]
  },
  {
   "cell_type": "code",
   "execution_count": null,
   "id": "2549908b-da51-4efb-8a1b-41e19828e4d2",
   "metadata": {},
   "outputs": [],
   "source": [
    "sql='''\n",
    "SELECT \n",
    "  TIME_FLOOR(\"__time\", 'PT1M') AS \"time-bucket\", \n",
    "  ARRAY_AGG(DISTINCT \"browser\") AS \"tags-browsers\" \n",
    "FROM \n",
    "  \"example-koalas-arrays-1\" \n",
    "WHERE \n",
    "  TIME_IN_INTERVAL(\"__time\", '2019-08-25T10/PT2M') \n",
    "GROUP BY \n",
    "  1\n",
    "'''\n",
    "\n",
    "display.sql(sql)"
   ]
  },
  {
   "cell_type": "markdown",
   "id": "aa651f43-393f-4781-9169-b208c5ec3691",
   "metadata": {},
   "source": [
    "Just as ARRAY_CONCAT combines two arrays on the same row, ARRAY_CONCAT_AGG merges arrays from across rows.\n",
    "\n",
    "The following cell demonstrates this in a very similar way as the example for ARRAY_AGG above:\n",
    "\n",
    "* GROUP BY separates the source rows into 10-second buckets.\n",
    "* Arrays from `language-mv` (via MV_TO_ARRAY) are merged from across the source rows into an array, one for for each 10-second bucket.\n",
    "* The DISTINCT clause ensures that, after this aggregation, only the unique values are returned as `tags-language`.\n",
    "\n",
    "You can also run this cell without DISTINCT, experimenting with a maximum array size parameter."
   ]
  },
  {
   "cell_type": "code",
   "execution_count": null,
   "id": "6daa7676-d4d8-4447-82cf-1d31aefe84e3",
   "metadata": {},
   "outputs": [],
   "source": [
    "sql='''\n",
    "SELECT \n",
    "  TIME_FLOOR(\"__time\", 'PT10S') AS \"time-bucket\", \n",
    "  ARRAY_CONCAT_AGG(DISTINCT MV_TO_ARRAY(\"language-mv\")) AS \"tags-languages\" \n",
    "FROM \n",
    "  \"example-koalas-arrays-1\" \n",
    "WHERE \n",
    "  TIME_IN_INTERVAL(\"__time\", '2019-08-25T10/PT2M') \n",
    "GROUP BY \n",
    "  1\n",
    "'''\n",
    "\n",
    "display.sql(sql)"
   ]
  },
  {
   "cell_type": "markdown",
   "id": "8a4d6f17-6253-41c2-90eb-ec844aee8297",
   "metadata": {},
   "source": [
    "Aggregating functions can be used in combination with the scalar functions.\n",
    "\n",
    "In the following cell GROUP BY splits the source table rows into 1-minute buckets, and each bucket contains a single array containing all the tags in that bucket.\n",
    "\n",
    "* ARRAY_AGG produces a distinct array of browsers.\n",
    "* ARRAY_CONCAT_AGG produces a distinct array of languages from the array version of `language-mv`.\n",
    "* ARRAY_CONCAT merges the two resulting arrays, producing an array that now contains both browsers and languages.\n",
    "* ARRAY_APPEND adds the `vog` element to the end of the array."
   ]
  },
  {
   "cell_type": "code",
   "execution_count": null,
   "id": "4003454a-bf56-446a-902d-ad9b1a40f484",
   "metadata": {},
   "outputs": [],
   "source": [
    "sql='''\n",
    "SELECT \n",
    "  TIME_FLOOR(\"__time\", 'PT1M') AS \"time-bucket\", \n",
    "  ARRAY_APPEND(\n",
    "    ARRAY_CONCAT(\n",
    "      ARRAY_AGG(DISTINCT \"browser\"), \n",
    "      ARRAY_CONCAT_AGG(DISTINCT MV_TO_ARRAY(\"language-mv\"))\n",
    "    ), \n",
    "    'vog'\n",
    "  ) AS \"tags\" \n",
    "FROM \n",
    "  \"example-koalas-arrays-1\" \n",
    "WHERE \n",
    "  TIME_IN_INTERVAL(\"__time\", '2019-08-25T10/PT5M') \n",
    "GROUP BY \n",
    "  1\n",
    "'''\n",
    "\n",
    "display.sql(sql)"
   ]
  },
  {
   "cell_type": "markdown",
   "id": "d54d197a-a905-4c3b-a75d-4e5f9b84c65f",
   "metadata": {},
   "source": [
    "Through ARRAY_AGG, arrays can be constructed that contain nested objects and other arrays.\n",
    "\n",
    "In the example that follows, source rows from the table are grouped into sessions using `session`.  Then, for each session, ARRAY_AGG is used twice:\n",
    "\n",
    "* `journey-arrays` is built up of individual arrays through ARRAY, with each array containing the time, `event_type`, and `event_subtype`.\n",
    "* `journey-objects` is built up of nested objects containing the same data, made using JSON_OBJECT.\n",
    "\n",
    "Note that there is no explicit ORDER BY when the array is constructed. This means events in the arrays are [not guaranteed to be in any particular order](https://druid.apache.org/docs/latest/querying/sql-aggregations)."
   ]
  },
  {
   "cell_type": "code",
   "execution_count": null,
   "id": "31bdb497-8943-44dc-8daf-55ea1abb4074",
   "metadata": {},
   "outputs": [],
   "source": [
    "sql='''\n",
    "SELECT\n",
    "  \"session\",\n",
    "  ARRAY_AGG(\n",
    "    ARRAY[\n",
    "      TIME_FORMAT(\"__time\"),\n",
    "      \"event_type\",\n",
    "      \"event_subtype\"\n",
    "    ], 65535) AS \"journey-arrays\",\n",
    "  ARRAY_AGG(\n",
    "    JSON_OBJECT(\n",
    "      KEY 'timestamp' VALUE TIME_FORMAT(\"__time\"),\n",
    "      KEY 'event' VALUE \"event_type\",\n",
    "      KEY 'event_sub' VALUE \"event_subtype\"\n",
    "    )\n",
    "  ) AS \"journey-objects\"\n",
    "FROM \"example-koalas-arrays-1\"\n",
    "WHERE TIME_IN_INTERVAL(\"__time\",'2019-08-25T10/PT10S')\n",
    "GROUP BY \"session\"\n",
    "'''\n",
    "\n",
    "display.sql(sql)"
   ]
  },
  {
   "cell_type": "markdown",
   "id": "7582dcdf-7110-4f41-92c1-89856e468951",
   "metadata": {},
   "source": [
    "## Construct an array at ingestion time\n",
    "\n",
    "You can use a variety of functions and aggregators at ingestion time to create arrays in your data.\n",
    "\n",
    "In all the examples that follow, the context parameter `arrayIngestMode` [context parameter](https://druid.apache.org/docs/latest/querying/sql-data-types/#arrays) has been set to `array` to ensure that the [ARRAY](https://druid.apache.org/docs/latest/querying/sql-data-types#arrays) data type is applied to the columns in the table."
   ]
  },
  {
   "cell_type": "markdown",
   "id": "808959c3-c565-48a2-af3a-0360f71d11fa",
   "metadata": {},
   "source": [
    "### Using existing data\n",
    "\n",
    "Convert existing lists of values from source data using MV_TO_ARRAY and STRING_TO_ARRAY.\n",
    "\n",
    "Run the following cell to create a new table, `example-koalas-arrays-2`.\n",
    "\n",
    "For each row in the source data:\n",
    "\n",
    "* The incoming multi-value string data is converted to an array in `tags-languages`.\n",
    "* The ARRAY function is used to create a `journey-array`:\n",
    "  * A test is made using CASE to only return an ARRAY under certain conditions, namely that the event is indicative of visitor's progress through the website.\n",
    "  * A second test is a data cleansing action, required since that progress is not always returned as \"zero\" - ie, that someone just started their journey.\n",
    "  * The ARRAY function creates an array containing the timestamp, stored as a LONG, and a percentage progress as recorded from the source data.\n",
    "  * CAST ensures all the resulting array elements contain the same data type."
   ]
  },
  {
   "cell_type": "code",
   "execution_count": null,
   "id": "a047fdbd-8b9d-4acf-95fe-cb62fa59a777",
   "metadata": {},
   "outputs": [],
   "source": [
    "sql='''\n",
    "REPLACE INTO \"example-koalas-arrays-2\" OVERWRITE ALL WITH \"ext\" AS (\n",
    "  SELECT \n",
    "    * \n",
    "  FROM \n",
    "    TABLE(\n",
    "      EXTERN(\n",
    "        '{\"type\":\"http\",\"uris\":[\"https://static.imply.io/example-data/kttm-v2/kttm-v2-2019-08-25.json.gz\"]}', \n",
    "        '{\"type\":\"json\"}'\n",
    "      )\n",
    "    ) EXTEND (\n",
    "      \"timestamp\" VARCHAR, \"agent_category\" VARCHAR, \n",
    "      \"agent_type\" VARCHAR, \"browser\" VARCHAR, \n",
    "      \"browser_version\" VARCHAR, \"city\" VARCHAR, \n",
    "      \"continent\" VARCHAR, \"country\" VARCHAR, \n",
    "      \"version\" VARCHAR, \"event_type\" VARCHAR, \n",
    "      \"event_subtype\" VARCHAR, \"loaded_image\" VARCHAR, \n",
    "      \"adblock_list\" VARCHAR, \"forwarded_for\" VARCHAR, \n",
    "      \"language\" VARCHAR, \"number\" VARCHAR, \n",
    "      \"os\" VARCHAR, \"path\" VARCHAR, \"platform\" VARCHAR, \n",
    "      \"referrer\" VARCHAR, \"referrer_host\" VARCHAR, \n",
    "      \"region\" VARCHAR, \"remote_address\" VARCHAR, \n",
    "      \"screen\" VARCHAR, \"session\" VARCHAR, \n",
    "      \"session_length\" BIGINT, \"timezone\" VARCHAR, \n",
    "      \"timezone_offset\" VARCHAR, \"window\" VARCHAR\n",
    "    )\n",
    ") \n",
    "SELECT \n",
    "  TIME_PARSE(\"timestamp\") AS \"__time\", \n",
    "  \"timezone\", \n",
    "  \"browser\", \n",
    "  MV_TO_ARRAY(\"language\") AS \"tags-languages\", \n",
    "  \"session\", \n",
    "  \"event_type\", \n",
    "  \"event_subtype\", \n",
    "  \"session_length\", \n",
    "  CASE\n",
    "    WHEN (\"event_type\" = 'PercentClear') THEN (\n",
    "      CASE\n",
    "        WHEN (\"event_subtype\" = '') THEN ARRAY[CAST(TIME_PARSE(\"timestamp\") AS BIGINT), 0]\n",
    "        ELSE ARRAY[CAST(TIME_PARSE(\"timestamp\") AS BIGINT), CAST(\"event_subtype\" AS BIGINT)]\n",
    "        END\n",
    "    )\n",
    "    ELSE NULL END AS \"journey-array\"\n",
    "FROM \n",
    "  \"ext\" PARTITIONED BY DAY\n",
    "'''\n",
    "\n",
    "req = sql_client.sql_request(sql)\n",
    "req.add_context(\"arrayIngestMode\", \"array\")\n",
    "\n",
    "display.run_task(req)\n",
    "sql_client.wait_until_ready('example-koalas-arrays-2')\n",
    "display.table('example-koalas-arrays-2')"
   ]
  },
  {
   "cell_type": "markdown",
   "id": "0831ca8b-dca7-4454-ba79-721c9dcf03ca",
   "metadata": {},
   "source": [
    "Run the following cell to see a sample of the data.\n",
    "\n",
    "Notice that the `journey-timestamp` is a true secondary timestamp, so is stored as milliseconds since the Unix epoch. In order for all elements of the `journey-array` array be of the same data type, the CAST function has been used on journey stage to ensure it is a DECIMAL."
   ]
  },
  {
   "cell_type": "code",
   "execution_count": null,
   "id": "89666247-feb0-4ca8-b32e-3101f4810c4d",
   "metadata": {},
   "outputs": [],
   "source": [
    "sql='''\n",
    "SELECT *\n",
    "FROM \"example-koalas-arrays-2\"\n",
    "WHERE TIME_IN_INTERVAL(\"__time\",'2019-08-25T10/PT5S')\n",
    "'''\n",
    "\n",
    "display.sql(sql)"
   ]
  },
  {
   "cell_type": "markdown",
   "id": "472589e4-1026-4b3b-bb79-eedabb2b44c4",
   "metadata": {},
   "source": [
    "### Create an array at ingestion time using rollup (GROUP BY)\n",
    "\n",
    "Run the following cell to create a table called `example-koalas-arrays-3`, where source data is grouped into 30-minute buckets.\n",
    "\n",
    "A row is then emitted containing, for each group:\n",
    "\n",
    "* An distinct array from ARRAY_AGG of each event's timezone - with a CASE replacing any 'N/A' entry with NULL.\n",
    "* A distinct array of each event's browsers through ARRAY_AGG.\n",
    "* A distinct array of the combination of each row's own language tag array through ARRAY_CONCAT_AGG."
   ]
  },
  {
   "cell_type": "code",
   "execution_count": null,
   "id": "f52a94fb-d2e4-403f-ab10-84d3af7bf2c8",
   "metadata": {},
   "outputs": [],
   "source": [
    "sql='''\n",
    "REPLACE INTO \"example-koalas-arrays-3\" OVERWRITE ALL\n",
    "WITH \"ext\" AS (\n",
    "  SELECT *\n",
    "  FROM TABLE(EXTERN('{\"type\":\"http\",\"uris\":[\"https://static.imply.io/example-data/kttm-v2/kttm-v2-2019-08-25.json.gz\"]}', '{\"type\":\"json\"}')) EXTEND (\"timestamp\" VARCHAR, \"agent_category\" VARCHAR, \"agent_type\" VARCHAR, \"browser\" VARCHAR, \"browser_version\" VARCHAR, \"city\" VARCHAR, \"continent\" VARCHAR, \"country\" VARCHAR, \"version\" VARCHAR, \"event_type\" VARCHAR, \"event_subtype\" VARCHAR, \"loaded_image\" VARCHAR, \"adblock_list\" VARCHAR, \"forwarded_for\" VARCHAR, \"language\" VARCHAR, \"number\" VARCHAR, \"os\" VARCHAR, \"path\" VARCHAR, \"platform\" VARCHAR, \"referrer\" VARCHAR, \"referrer_host\" VARCHAR, \"region\" VARCHAR, \"remote_address\" VARCHAR, \"screen\" VARCHAR, \"session\" VARCHAR, \"session_length\" BIGINT, \"timezone\" VARCHAR, \"timezone_offset\" VARCHAR, \"window\" VARCHAR)\n",
    ")\n",
    "SELECT \n",
    "  TIME_FLOOR(TIME_PARSE(\"timestamp\"),'PT30M') AS \"__time\",\n",
    "  ARRAY_AGG(\n",
    "    DISTINCT CASE\n",
    "      WHEN \"timezone\" = 'N/A' THEN NULL\n",
    "      ELSE \"timezone\"\n",
    "      END\n",
    "    , 65535\n",
    "  ) AS \"tags-timezones\", \n",
    "  ARRAY_AGG(DISTINCT \"browser\", 65535) AS \"tags-browsers\", \n",
    "  ARRAY_CONCAT_AGG(DISTINCT MV_TO_ARRAY(\"language\"), 65535) AS \"tags-languages\",\n",
    "  COUNT(DISTINCT \"session\") AS \"sessions\",\n",
    "  MAX(\"session_length\") AS \"longest_session\",\n",
    "  COUNT(*) AS \"events\"\n",
    "FROM \n",
    "  \"ext\"\n",
    "GROUP BY\n",
    "  1\n",
    "PARTITIONED BY DAY\n",
    "'''\n",
    "\n",
    "req = sql_client.sql_request(sql)\n",
    "req.add_context(\"arrayIngestMode\", \"array\")\n",
    "req.add_context(\"finalizeAggregations\", \"true\")\n",
    "\n",
    "display.run_task(req)\n",
    "sql_client.wait_until_ready('example-koalas-arrays-3')\n",
    "display.table('example-koalas-arrays-3')"
   ]
  },
  {
   "cell_type": "markdown",
   "id": "e23ae25e-ee2a-4b26-8abc-763747761276",
   "metadata": {},
   "source": [
    "Take a look at a sample of the resulting data by running the cell below."
   ]
  },
  {
   "cell_type": "code",
   "execution_count": null,
   "id": "2b5b6d89-911c-4749-bdfe-1a1587f552cc",
   "metadata": {},
   "outputs": [],
   "source": [
    "sql='''\n",
    "SELECT\n",
    "  \"__time\",\n",
    "  \"tags-languages\",\n",
    "  \"tags-timezones\",\n",
    "  \"tags-browsers\"\n",
    "FROM \"example-koalas-arrays-3\"\n",
    "WHERE TIME_IN_INTERVAL(\"__time\",'2019-08-25T02/PT2H')\n",
    "AND \"longest_session\" > 500000\n",
    "'''\n",
    "\n",
    "display.sql(sql)"
   ]
  },
  {
   "cell_type": "markdown",
   "id": "7a1be37f-37d7-49bb-af84-58c8e9c68e13",
   "metadata": {},
   "source": [
    "## Determine array size\n",
    "\n",
    "By using ARRAY_LENGTH it's possible to count the number of elements in the array.\n",
    "\n",
    "The results of the next cell show the time periods with the most number of languages over a six-hour period."
   ]
  },
  {
   "cell_type": "code",
   "execution_count": null,
   "id": "af2e8e43-32de-4b1d-9085-62a7919d7da5",
   "metadata": {},
   "outputs": [],
   "source": [
    "sql='''\n",
    "SELECT\n",
    "  \"__time\" AS \"Period\",\n",
    "  MAX(ARRAY_LENGTH(\"tags-languages\")) AS \"Tagged Languages\"\n",
    "FROM \"example-koalas-arrays-3\"\n",
    "WHERE TIME_IN_INTERVAL(\"__time\",'2019-08-25T10/PT6H')\n",
    "GROUP BY 1\n",
    "ORDER BY 2 DESC\n",
    "'''\n",
    "\n",
    "display.sql(sql)"
   ]
  },
  {
   "cell_type": "markdown",
   "id": "06b889eb-0408-4a3a-965a-d852f18682fd",
   "metadata": {},
   "source": [
    "## Filter results using arrays\n",
    "\n",
    "The ARRAY_CONTAINS function tests for the presence of either an element or another array.\n",
    "\n",
    "Running the next cell will show a count of the number of sessions broken down into 15-minute intervals. ARRAY_CONTAINS is used in combination with FILTER (WHERE) to break down the counts into English, French, and Spanish.\n",
    "\n",
    "However, the WHERE clause contains an ARRAY_CONTAINS also. It restricts the number of rows used in the calculation to those that contain all three tags: `en`, `fr`, and `es`."
   ]
  },
  {
   "cell_type": "code",
   "execution_count": null,
   "id": "a25b4c16-d08f-4686-9543-9fbefc3b8adb",
   "metadata": {},
   "outputs": [],
   "source": [
    "sql='''\n",
    "SELECT\n",
    "  TIME_FLOOR(\"__time\",'PT15M') AS \"Period\",\n",
    "  COUNT(DISTINCT \"session\") FILTER (WHERE ARRAY_CONTAINS(\"tags-languages\",'en')) AS \"English Sessions\",\n",
    "  COUNT(DISTINCT \"session\") FILTER (WHERE ARRAY_CONTAINS(\"tags-languages\",'fr')) AS \"French Sessions\",\n",
    "  COUNT(DISTINCT \"session\") FILTER (WHERE ARRAY_CONTAINS(\"tags-languages\",'es')) AS \"Spanish Sessions\",\n",
    "  COUNT(DISTINCT \"session\") AS \"Total Sessions\"\n",
    "FROM \"example-koalas-arrays-2\"\n",
    "WHERE TIME_IN_INTERVAL(\"__time\",'2019-08-25/PT6H')\n",
    "AND ARRAY_CONTAINS(\"tags-languages\",ARRAY['en','fr','es'])\n",
    "GROUP BY 1\n",
    "'''\n",
    "\n",
    "display.sql(sql)"
   ]
  },
  {
   "cell_type": "markdown",
   "id": "7f92fcfb-608f-47e7-ade5-1e029099470d",
   "metadata": {},
   "source": [
    "In order to include source rows that contain _any_ of the three target languages, the following cell uses the ARRAY_OVERLAP function instead of ARRAY_CONTAINS in the WHERE clause.\n",
    "\n",
    "ARRAY_OVERLAP tests whether there is any overlap at all between the language tags on each row and the array of lanugages being tested against.\n",
    "\n",
    "Run the cell to see how this affects results."
   ]
  },
  {
   "cell_type": "code",
   "execution_count": null,
   "id": "ecabebed-3535-41c3-8a8e-152450814d7e",
   "metadata": {},
   "outputs": [],
   "source": [
    "sql='''\n",
    "SELECT\n",
    "  TIME_FLOOR(\"__time\",'PT15M') AS \"Period\",\n",
    "  COUNT(DISTINCT \"session\") FILTER (WHERE ARRAY_CONTAINS(\"tags-languages\",'en')) AS \"English Sessions\",\n",
    "  COUNT(DISTINCT \"session\") FILTER (WHERE ARRAY_CONTAINS(\"tags-languages\",'fr')) AS \"French Sessions\",\n",
    "  COUNT(DISTINCT \"session\") FILTER (WHERE ARRAY_CONTAINS(\"tags-languages\",'es')) AS \"Spanish Sessions\",\n",
    "  COUNT(DISTINCT \"session\") AS \"Total Sessions\"\n",
    "FROM \"example-koalas-arrays-2\"\n",
    "WHERE TIME_IN_INTERVAL(\"__time\",'2019-08-25/PT6H')\n",
    "AND ARRAY_OVERLAP(\"tags-languages\",ARRAY['en','fr','es'])\n",
    "GROUP BY 1\n",
    "'''\n",
    "\n",
    "display.sql(sql)"
   ]
  },
  {
   "cell_type": "markdown",
   "id": "38de8372-f716-4392-b1bb-6390831bfb5b",
   "metadata": {},
   "source": [
    "## Find elements in an array\n",
    "\n",
    "ARRAY_ORDINAL and ARRAY_OFFSET return values from specific positions in the array.\n",
    "\n",
    "To see these in action, run the following cell to create a new table, `example-koalas-arrays-4`.\n",
    "\n",
    "The GROUP BY in this ingestion breaks up the rows into 30-minute blocks, and then into individual sessions together with its browser. Only the events that record someone's journey through their visit on the website are included - these are identified by the WHERE clause filter on `event_type` to `PercentClear`.\n",
    "\n",
    "Each row in the table then contains two columns:\n",
    "\n",
    "* ARRAY_AGG is used to create 'journey-timestamps' - it contains an array of the timestamps for every row in the group.\n",
    "* Again for every row in the group, 'journey-percentages' contains an array of the percentage through the journey."
   ]
  },
  {
   "cell_type": "code",
   "execution_count": null,
   "id": "114dfff1-c1cf-4def-b4f3-b35cfa7b21e7",
   "metadata": {},
   "outputs": [],
   "source": [
    "sql='''\n",
    "REPLACE INTO \"example-koalas-arrays-4\" OVERWRITE ALL WITH \"ext\" AS (\n",
    "  SELECT \n",
    "    * \n",
    "  FROM \n",
    "    TABLE(\n",
    "      EXTERN(\n",
    "        '{\"type\":\"http\",\"uris\":[\"https://static.imply.io/example-data/kttm-v2/kttm-v2-2019-08-25.json.gz\"]}', \n",
    "        '{\"type\":\"json\"}'\n",
    "      )\n",
    "    ) EXTEND (\n",
    "      \"timestamp\" VARCHAR, \"agent_category\" VARCHAR, \n",
    "      \"agent_type\" VARCHAR, \"browser\" VARCHAR, \n",
    "      \"browser_version\" VARCHAR, \"city\" VARCHAR, \n",
    "      \"continent\" VARCHAR, \"country\" VARCHAR, \n",
    "      \"version\" VARCHAR, \"event_type\" VARCHAR, \n",
    "      \"event_subtype\" VARCHAR, \"loaded_image\" VARCHAR, \n",
    "      \"adblock_list\" VARCHAR, \"forwarded_for\" VARCHAR, \n",
    "      \"language\" VARCHAR, \"number\" VARCHAR, \n",
    "      \"os\" VARCHAR, \"path\" VARCHAR, \"platform\" VARCHAR, \n",
    "      \"referrer\" VARCHAR, \"referrer_host\" VARCHAR, \n",
    "      \"region\" VARCHAR, \"remote_address\" VARCHAR, \n",
    "      \"screen\" VARCHAR, \"session\" VARCHAR, \n",
    "      \"session_length\" BIGINT, \"timezone\" VARCHAR, \n",
    "      \"timezone_offset\" VARCHAR, \"window\" VARCHAR\n",
    "    )\n",
    ") \n",
    "SELECT \n",
    "  TIME_FLOOR(TIME_PARSE(\"timestamp\"), 'PT30M') AS \"__time\",\n",
    "  \"session\",\n",
    "  \"browser\",\n",
    "  ARRAY_AGG(\n",
    "    CASE\n",
    "      WHEN (\"event_subtype\" = '') THEN 0\n",
    "      ELSE CAST(\"event_subtype\" AS BIGINT)\n",
    "      END, \n",
    "    65535\n",
    "  ) AS \"journey-percentages\", \n",
    "  ARRAY_AGG(TIME_PARSE(\"timestamp\"), 65535) AS \"journey-timestamps\" \n",
    "FROM \n",
    "  \"ext\"\n",
    "WHERE \"event_type\" = 'PercentClear'\n",
    "GROUP BY \n",
    "  1, 2, 3\n",
    "PARTITIONED BY DAY\n",
    "'''\n",
    "\n",
    "req = sql_client.sql_request(sql)\n",
    "req.add_context(\"arrayIngestMode\", \"array\")\n",
    "req.add_context(\"finalizeAggregations\", \"true\")\n",
    "\n",
    "display.run_task(req)\n",
    "sql_client.wait_until_ready('example-koalas-arrays-4')\n",
    "display.table('example-koalas-arrays-4')"
   ]
  },
  {
   "cell_type": "markdown",
   "id": "09884187-360a-4f06-96f8-faf5ace9538a",
   "metadata": {},
   "source": [
    "The following cell shows the results for a specific session.\n",
    "\n",
    "The source data has a one-to-one relationship between the `session` and the `browser`, so even though this was a grouped dimension during ingestion there remains only one row per session in the table.\n",
    "\n",
    "Notice the correlation between the data in `journey-percentages` and `journey-timestamps`."
   ]
  },
  {
   "cell_type": "code",
   "execution_count": null,
   "id": "cdba48a5-40ef-4bb4-9629-cd448c8b2cf3",
   "metadata": {},
   "outputs": [],
   "source": [
    "sql='''\n",
    "SELECT *\n",
    "FROM \"example-koalas-arrays-4\"\n",
    "WHERE TIME_IN_INTERVAL(\"__time\",'2019-08-25/PT1M')\n",
    "AND \"session\" = 'S00079331'\n",
    "'''\n",
    "\n",
    "display.sql(sql)"
   ]
  },
  {
   "cell_type": "markdown",
   "id": "330c65ab-3a62-4c6d-9efd-8925392afd9f",
   "metadata": {},
   "source": [
    "The next cell uses these arrays with ARRAY_ORDINAL_OF and ARRAY_ORDINAL.\n",
    "\n",
    "First, ARRAY_ORDINAL_OF attempts to return the position of a zero-percent clear event in the array.\n",
    "\n",
    "```sql\n",
    "ARRAY_ORDINAL_OF(\"journey-percentages\",'0')\n",
    "```\n",
    "\n",
    "This position is then used in ARRAY_ORDINAL on the `journey-timestamps` to find the timestamp.\n",
    "\n",
    "```sql\n",
    "ARRAY_ORDINAL(\"journey-timestamps\", ... )\n",
    "```\n",
    "\n",
    "You will note that:\n",
    "* The result of this function call is wrapped in MILLIS_TO_TIMESTAMP so that a proper timestamp is returned in results.\n",
    "* For each column, a CASE test is made to catch errors that may occur if the percentage we're looking for is not in the array.\n",
    "\n",
    "Run the cell below to see what the results are for the same session from the previous results."
   ]
  },
  {
   "cell_type": "code",
   "execution_count": null,
   "id": "dc4a041c-d2e4-47b4-91bc-92020d4e5679",
   "metadata": {},
   "outputs": [],
   "source": [
    "sql='''\n",
    "SELECT\n",
    "  CASE WHEN\n",
    "    ARRAY_ORDINAL_OF(\"journey-percentages\",0) > 0\n",
    "      THEN MILLIS_TO_TIMESTAMP(ARRAY_ORDINAL(\"journey-timestamps\",ARRAY_ORDINAL_OF(\"journey-percentages\",0)))\n",
    "      ELSE NULL END AS \"time-0\",\n",
    "  CASE WHEN\n",
    "    ARRAY_ORDINAL_OF(\"journey-percentages\",25) > 0\n",
    "      THEN MILLIS_TO_TIMESTAMP(ARRAY_ORDINAL(\"journey-timestamps\",ARRAY_ORDINAL_OF(\"journey-percentages\",25)))\n",
    "      ELSE NULL END AS \"time-25\",\n",
    "  CASE WHEN\n",
    "    ARRAY_ORDINAL_OF(\"journey-percentages\",50) > 0\n",
    "      THEN MILLIS_TO_TIMESTAMP(ARRAY_ORDINAL(\"journey-timestamps\",ARRAY_ORDINAL_OF(\"journey-percentages\",50)))\n",
    "      ELSE NULL END AS \"time-50\",\n",
    "  CASE WHEN\n",
    "    ARRAY_ORDINAL_OF(\"journey-percentages\",75) > 0\n",
    "      THEN MILLIS_TO_TIMESTAMP(ARRAY_ORDINAL(\"journey-timestamps\",ARRAY_ORDINAL_OF(\"journey-percentages\",75)))\n",
    "      ELSE NULL END AS \"time-75\",\n",
    "  CASE WHEN\n",
    "    ARRAY_ORDINAL_OF(\"journey-percentages\",95) > 0\n",
    "      THEN MILLIS_TO_TIMESTAMP(ARRAY_ORDINAL(\"journey-timestamps\",ARRAY_ORDINAL_OF(\"journey-percentages\",95)))\n",
    "      ELSE NULL END AS \"time-95\"\n",
    "FROM \"example-koalas-arrays-4\"\n",
    "WHERE TIME_IN_INTERVAL(\"__time\",'2019-08-25/PT1M')\n",
    "AND \"session\" = 'S00079331'\n",
    "'''\n",
    "\n",
    "display.sql(sql)"
   ]
  },
  {
   "cell_type": "markdown",
   "id": "3d62bfe2-6c06-4d46-88fd-7418fc44799e",
   "metadata": {},
   "source": [
    "In a final step, let's use this data to calculate the average time taken to move between these stages, focusing on a particular period of time in the data.\n",
    "\n",
    "The query above is put into a temporary table, `journey-timestamps`, and a main query then addresses that table.\n",
    "\n",
    "* TIMESTAMPDIFF calculates the number of seconds between each of the timestamps and returns them as `to25`, `to50`, and so on.\n",
    "* MAX is wrapped around TIMESTAMPDIFF to return the longest period of time."
   ]
  },
  {
   "cell_type": "code",
   "execution_count": null,
   "id": "52f7df7b-2b27-41aa-a4be-21380aea4b88",
   "metadata": {},
   "outputs": [],
   "source": [
    "sql='''\n",
    "WITH \"journey-timestamps\" AS (\n",
    "SELECT\n",
    "  \"session\",\n",
    "  \"browser\",\n",
    "  CASE WHEN\n",
    "    ARRAY_ORDINAL_OF(\"journey-percentages\",0) > 0\n",
    "      THEN MILLIS_TO_TIMESTAMP(ARRAY_ORDINAL(\"journey-timestamps\",ARRAY_ORDINAL_OF(\"journey-percentages\",0)))\n",
    "      ELSE NULL END AS \"time-0\",\n",
    "  CASE WHEN\n",
    "    ARRAY_ORDINAL_OF(\"journey-percentages\",25) > 0\n",
    "      THEN MILLIS_TO_TIMESTAMP(ARRAY_ORDINAL(\"journey-timestamps\",ARRAY_ORDINAL_OF(\"journey-percentages\",25)))\n",
    "      ELSE NULL END AS \"time-25\",\n",
    "  CASE WHEN\n",
    "    ARRAY_ORDINAL_OF(\"journey-percentages\",50) > 0\n",
    "      THEN MILLIS_TO_TIMESTAMP(ARRAY_ORDINAL(\"journey-timestamps\",ARRAY_ORDINAL_OF(\"journey-percentages\",50)))\n",
    "      ELSE NULL END AS \"time-50\",\n",
    "  CASE WHEN\n",
    "    ARRAY_ORDINAL_OF(\"journey-percentages\",75) > 0\n",
    "      THEN MILLIS_TO_TIMESTAMP(ARRAY_ORDINAL(\"journey-timestamps\",ARRAY_ORDINAL_OF(\"journey-percentages\",75)))\n",
    "      ELSE NULL END AS \"time-75\",\n",
    "  CASE WHEN\n",
    "    ARRAY_ORDINAL_OF(\"journey-percentages\",95) > 0\n",
    "      THEN MILLIS_TO_TIMESTAMP(ARRAY_ORDINAL(\"journey-timestamps\",ARRAY_ORDINAL_OF(\"journey-percentages\",95)))\n",
    "      ELSE NULL END AS \"time-95\"\n",
    "FROM \"example-koalas-arrays-4\"\n",
    "WHERE TIME_IN_INTERVAL(\"__time\",'2019-08-25/PT6H')\n",
    ")\n",
    "\n",
    "SELECT\n",
    "  \"browser\",\n",
    "  MAX(TIMESTAMPDIFF(SECOND,\"time-0\",\"time-25\")) AS \"to25\",\n",
    "  MAX(TIMESTAMPDIFF(SECOND,\"time-25\",\"time-50\")) AS \"to50\",\n",
    "  MAX(TIMESTAMPDIFF(SECOND,\"time-50\",\"time-75\")) AS \"to75\",\n",
    "  MAX(TIMESTAMPDIFF(SECOND,\"time-75\",\"time-95\")) AS \"to95\"\n",
    "FROM \"journey-timestamps\"\n",
    "GROUP BY 1\n",
    "'''\n",
    "\n",
    "display.sql(sql)"
   ]
  },
  {
   "cell_type": "markdown",
   "id": "df813d07-6221-4e22-85fc-30da439e1b01",
   "metadata": {},
   "source": [
    "## Join to an array with UNNEST\n",
    "\n",
    "By using the UNNEST, an array can be expanded to a temporary table that can then be joined to another datasource.\n",
    "\n",
    "Recall that the `example-koalas-arrays-2` table contains an array of languages from the original `languages` column called `tags-languages`."
   ]
  },
  {
   "cell_type": "code",
   "execution_count": null,
   "id": "33e87c69-d860-45b1-8d95-0999ba9a4bba",
   "metadata": {},
   "outputs": [],
   "source": [
    "sql='''\n",
    "SELECT\n",
    "  \"tags-languages\",\n",
    "  \"browser\",\n",
    "  \"session_length\"\n",
    "FROM \"example-koalas-arrays-2\"\n",
    "WHERE TIME_IN_INTERVAL(\"__time\",'2019-08-25T4/PT2S')\n",
    "'''\n",
    "\n",
    "display.sql(sql)"
   ]
  },
  {
   "cell_type": "markdown",
   "id": "1bfd9e9b-a65d-4021-8051-3f8c4a12d470",
   "metadata": {},
   "source": [
    "The UNNEST function returns each entry in an array as a row as a new table.\n",
    "\n",
    "In the following cell, UNNEST is used with CROSS JOIN to return a row for each language for each `browser` and each `session_length`.\n",
    "\n",
    "* Only `browser` and `session_length` are returned from `example-koalas-arrays-2`.\n",
    "* UNNEST takes the language tags array for each of those rows and returns it as a table called `la` with one column, `language`.\n",
    "* The CROSS JOIN causes a cartesian product between the two rows, therefore adding every `language` to the associated row from `example-koalas-arrays-2`."
   ]
  },
  {
   "cell_type": "code",
   "execution_count": null,
   "id": "4b1a6332-1041-4a3c-9f71-cf97fe69e4a1",
   "metadata": {},
   "outputs": [],
   "source": [
    "sql='''\n",
    "SELECT\n",
    "  la.\"language\",\n",
    "  \"session\",\n",
    "  \"browser\"\n",
    "FROM \"example-koalas-arrays-2\"\n",
    "CROSS JOIN UNNEST(\"tags-languages\") AS la(\"language\")\n",
    "WHERE TIME_IN_INTERVAL(\"__time\",'2019-08-25T4/PT2S')\n",
    "'''\n",
    "\n",
    "display.sql(sql)"
   ]
  },
  {
   "cell_type": "markdown",
   "id": "fbf1a378-4fab-4925-abc0-79509f140abe",
   "metadata": {},
   "source": [
    "This data can then be used in a GROUP BY to generate metrics on a per-language basis."
   ]
  },
  {
   "cell_type": "code",
   "execution_count": null,
   "id": "14d08f8d-81a5-4656-ad32-d4ac8fcf35af",
   "metadata": {},
   "outputs": [],
   "source": [
    "sql='''\n",
    "SELECT\n",
    "  la.\"language\",\n",
    "  MIN(\"session_length\") AS \"shortest-session\",\n",
    "  MAX(\"session_length\") AS \"longest-session\",\n",
    "  COUNT(DISTINCT \"session\") AS \"unique-sessions\"\n",
    "FROM \"example-koalas-arrays-2\"\n",
    "CROSS JOIN UNNEST(\"tags-languages\") AS la(\"language\")\n",
    "WHERE TIME_IN_INTERVAL(\"__time\",'2019-08-25T4/PT2S')\n",
    "GROUP BY 1\n",
    "'''\n",
    "\n",
    "display.sql(sql)"
   ]
  },
  {
   "cell_type": "markdown",
   "id": "1f78b53f-b6db-4e53-82da-0b4bf44ad992",
   "metadata": {},
   "source": [
    "<a id=\"ingest_array\"></a>\n",
    "## Ingest arrays directly from source data\n",
    "Arrays of primitive values in the source data can be loaded directly into Druid using SQL based or native ingestion. The elements of the array and whole array values are indexed. Filtering on whole array values will use array valued index and functions like ARRAY_CONTAINS will use the array element valued index.\n",
    "\n",
    "The following examples ingest some array data of different primitive types and demonstrate the use of these filtering mechanisms.\n",
    "The data contains two string arrays `\"pets\"` and `\"breeds\"` and an array of numeric values `\"weights\"`:\n",
    "```\n",
    "{\"time\":\"2024-01-10 05:00:00\", \"owner\":\"Alex\",   \"pets\":[\"Max\",\"Yoli\"],\"breeds\":[\"boxer\",\"lab\"],\"weights\":[48,65]}\n",
    "{\"time\":\"2024-01-10 05:30:00\", \"owner\":\"Jill\",   \"pets\":[\"Mowgli\",\"Pelusa\"],\"breeds\":[\"boxer\",\"mix\"],\"weights\":[56,27]}\n",
    "{\"time\":\"2024-01-10 06:00:00\", \"owner\":\"Devraj\", \"pets\":[\"Linda\",\"Frida\"],\"breeds\":[\"beagle\",\"basenji\"],\"weights\":[40,45]}\n",
    "{\"time\":\"2024-01-10 06:30:00\", \"owner\":\"Kyle\",   \"pets\":[\"Kala\",\"Boots\"],\"breeds\":[\"pitbull\",\"siamese\"],\"weights\":[58,10]}\n",
    "```\n",
    "\n",
    "Druid supports ARRAY datatypes in the EXTEND clause of the EXTERN table function defining the schema of the external data:\n",
    "```\n",
    "  FROM TABLE(\n",
    "    EXTERN(\n",
    "      '{\"type\":\"inline\",\"data\":...',\n",
    "      '{\"type\":\"json\"}'\n",
    "    )\n",
    "  ) EXTEND (\"time\" VARCHAR, \"owner\" VARCHAR, \"pets\" VARCHAR ARRAY, \"breeds\" VARCHAR ARRAY, \"weights\" DOUBLE ARRAY)\n",
    "```\n",
    "- use type \\<DATATYPE> ARRAY to ingest arrays\n",
    "- in this example \"pets\" and \"breeds\" are loaded as a VARCHAR ARRAY\n",
    "- and \"weights\" is loaded as a DOUBLE ARRAY \n",
    "\n",
    "Run the following cell to ingest the data:"
   ]
  },
  {
   "cell_type": "code",
   "execution_count": null,
   "id": "e10e2d6a-4e0f-46bf-a917-0398b0409833",
   "metadata": {},
   "outputs": [],
   "source": [
    "sql='''\n",
    "REPLACE INTO \"example-arrays-in-source\" OVERWRITE ALL\n",
    "WITH \"ext\" AS (\n",
    "  SELECT *\n",
    "  FROM TABLE(\n",
    "    EXTERN(\n",
    "      '{\"type\":\"inline\",\"data\":\"{\\\\\"time\\\\\":\\\\\"2024-01-10 05:00:00\\\\\", \\\\\"owner\\\\\":\\\\\"Alex\\\\\",   \\\\\"pets\\\\\":[\\\\\"Max\\\\\",\\\\\"Yoli\\\\\"],\\\\\"breeds\\\\\":[\\\\\"boxer\\\\\",\\\\\"lab\\\\\"],\\\\\"weights\\\\\":[48,65]}\\\\n{\\\\\"time\\\\\":\\\\\"2024-01-10 05:30:00\\\\\", \\\\\"owner\\\\\":\\\\\"Jill\\\\\",   \\\\\"pets\\\\\":[\\\\\"Mowgli\\\\\",\\\\\"Pelusa\\\\\"],\\\\\"breeds\\\\\":[\\\\\"boxer\\\\\",\\\\\"mix\\\\\"],\\\\\"weights\\\\\":[56,27]}\\\\n{\\\\\"time\\\\\":\\\\\"2024-01-10 06:00:00\\\\\", \\\\\"owner\\\\\":\\\\\"Devraj\\\\\", \\\\\"pets\\\\\":[\\\\\"Linda\\\\\",\\\\\"Frida\\\\\"],\\\\\"breeds\\\\\":[\\\\\"beagle\\\\\",\\\\\"basenji\\\\\"],\\\\\"weights\\\\\":[40,45]}\\\\n{\\\\\"time\\\\\":\\\\\"2024-01-10 06:30:00\\\\\", \\\\\"owner\\\\\":\\\\\"Kyle\\\\\",   \\\\\"pets\\\\\":[\\\\\"Kala\\\\\",\\\\\"Boots\\\\\"],\\\\\"breeds\\\\\":[\\\\\"pitbull\\\\\",\\\\\"siamese\\\\\"],\\\\\"weights\\\\\":[58,10]}\"}',\n",
    "      '{\"type\":\"json\"}'\n",
    "    )\n",
    "  ) EXTEND (\"time\" VARCHAR, \"owner\" VARCHAR, \"pets\" VARCHAR ARRAY, \"breeds\" VARCHAR ARRAY, \"weights\" DOUBLE ARRAY)\n",
    ")\n",
    "SELECT\n",
    "  TIME_PARSE(\"time\") as __time,\n",
    "  \"owner\",\n",
    "  \"pets\",\n",
    "  \"breeds\",\n",
    "  ARRAY_TO_MV(\"breeds\") as \"breeds_mv\",\n",
    "  \"weights\"\n",
    "FROM \"ext\"\n",
    "PARTITIONED BY ALL\n",
    "'''\n",
    "req = sql_client.sql_request(sql)\n",
    "req.add_context(\"arrayIngestMode\", \"array\")\n",
    "\n",
    "display.run_task(req)\n",
    "sql_client.wait_until_ready('example-arrays-in-source')\n",
    "display.table('example-arrays-in-source')"
   ]
  },
  {
   "cell_type": "markdown",
   "id": "2ddf76ef-d731-4de9-8a3a-1e9a40ff9fad",
   "metadata": {},
   "source": [
    "Notice that the ingestion is loading the \"breeds\" column as both and array and a multi-value string column. \n",
    "While this is not usual it will help to understand the difference between the two.\n",
    "\n",
    "Take a look at the data:"
   ]
  },
  {
   "cell_type": "code",
   "execution_count": null,
   "id": "a4a1ea7e-36ef-4a82-82be-ac9b56adfbdc",
   "metadata": {},
   "outputs": [],
   "source": [
    "sql='''\n",
    "SELECT * \n",
    "FROM \"example-arrays-in-source\" x\n",
    "'''\n",
    "\n",
    "display.sql(sql)"
   ]
  },
  {
   "cell_type": "markdown",
   "id": "ad81872f-5f50-475f-a3b6-dd4a5334d2ea",
   "metadata": {},
   "source": [
    "The result shows \"breeds\" and \"breeds_mv\" that look identical except for the fact that \"breeds_mv\" is sorted.\n",
    "The query group by behavior on these two columns is quite different.\n",
    "The SQL example below shows how grouping on an ARRAY column will group on the whole array value:"
   ]
  },
  {
   "cell_type": "code",
   "execution_count": null,
   "id": "12051888-bb4c-4803-a8d1-121798786a7a",
   "metadata": {},
   "outputs": [],
   "source": [
    "sql='''\n",
    "SELECT \"breeds\", count(*) \n",
    "FROM \"example-arrays-in-source\" x\n",
    "GROUP BY 1\n",
    "'''\n",
    "\n",
    "display.sql(sql)"
   ]
  },
  {
   "cell_type": "markdown",
   "id": "07f01b60-4678-4fe3-a189-afe28b8ffe6e",
   "metadata": {},
   "source": [
    "The multi-value column aggregation behavior is different, it naturally expands/unnests the multiple values resulting in:"
   ]
  },
  {
   "cell_type": "code",
   "execution_count": null,
   "id": "8e1b8326-0bb7-4d21-93f8-5bde83a4c10d",
   "metadata": {},
   "outputs": [],
   "source": [
    "sql='''\n",
    "SELECT \"breeds_mv\", count(*) \n",
    "FROM \"example-arrays-in-source\" x\n",
    "GROUP BY 1\n",
    "'''\n",
    "\n",
    "display.sql(sql)"
   ]
  },
  {
   "cell_type": "markdown",
   "id": "a3e6cbc1-87eb-46d4-ad49-ab040092b276",
   "metadata": {},
   "source": [
    "The same aggregation behavior as the MVD column can be achieved by explicitly unnesting the `\"breed\"` array column:"
   ]
  },
  {
   "cell_type": "code",
   "execution_count": null,
   "id": "d3c90084-7fc5-46d9-a50b-bbc92b1dd757",
   "metadata": {},
   "outputs": [],
   "source": [
    "sql='''\n",
    "SELECT b.\"breed\", count(*) \n",
    "FROM \"example-arrays-in-source\" x, UNNEST(\"breeds\") AS b(\"breed\")\n",
    "GROUP BY 1\n",
    "'''\n",
    "\n",
    "display.sql(sql)"
   ]
  },
  {
   "cell_type": "markdown",
   "id": "4d888de3-354c-4719-b8c2-87b374b4c5aa",
   "metadata": {},
   "source": [
    "You can filter for a literal array value, a match occurs only if the contents are identical, including order of the values:"
   ]
  },
  {
   "cell_type": "code",
   "execution_count": null,
   "id": "cf87b571-3bd2-4cf8-bc87-ad7703d497f7",
   "metadata": {},
   "outputs": [],
   "source": [
    "sql='''\n",
    "SELECT * \n",
    "FROM \"example-arrays-in-source\" x\n",
    "WHERE \"pets\"=ARRAY['Kala','Boots']\n",
    "'''\n",
    "\n",
    "display.sql(sql)"
   ]
  },
  {
   "cell_type": "markdown",
   "id": "1e7aa25f-1f7d-4ccc-9954-b8986bf1cb08",
   "metadata": {},
   "source": [
    "Use ARRAY_CONTAINS function to find rows with a specific element appearing in the array column. \n",
    "The following SQL finds customers who have a pet boxer:"
   ]
  },
  {
   "cell_type": "code",
   "execution_count": null,
   "id": "b4c70480-4230-429d-bcb0-63e411bfc7dd",
   "metadata": {},
   "outputs": [],
   "source": [
    "sql='''\n",
    "SELECT * \n",
    "FROM \"example-arrays-in-source\" x\n",
    "WHERE ARRAY_CONTAINS(\"breeds\",'boxer')\n",
    "'''\n",
    "\n",
    "display.sql(sql)"
   ]
  },
  {
   "cell_type": "markdown",
   "id": "35046780-4870-4f71-834f-7877b2c2781b",
   "metadata": {},
   "source": [
    "Find customers with pets that weigh more than 50 pounds by UNNESTing the \"weights\" array and comparing the individual items:"
   ]
  },
  {
   "cell_type": "code",
   "execution_count": null,
   "id": "b7163382-6b8c-49df-9048-6a473e04c11e",
   "metadata": {},
   "outputs": [],
   "source": [
    "sql='''\n",
    "SELECT * \n",
    "FROM \"example-arrays-in-source\" x, UNNEST(x.\"weights\") AS y(\"weight\")\n",
    "WHERE y.\"weight\">50\n",
    "'''\n",
    "\n",
    "display.sql(sql)"
   ]
  },
  {
   "cell_type": "markdown",
   "id": "ea406773-3140-4535-a4da-cd081cb045bb",
   "metadata": {},
   "source": [
    "<a id='json_array_of_objects'></a>\n",
    "## Working with nested arrays of objects\n",
    "Druid can ingest arrays of objects and they can be UNNESTed, filtered and aggregated.\n",
    "This is very useful when data contains lists of related objects associated to an event. Here's an IOT example that contains an array of metrics issued by the sensors of a device:\n",
    "\n",
    "```\n",
    "{\n",
    "    \"time\":\"2024-01-01 10:00:00\",\n",
    "    \"device\":\"ABF001\",\n",
    "    \"loop\":\"NH3-100-01\",\n",
    "    \"loop-seq\":1,\n",
    "    \"process\":\n",
    "            {\n",
    "                \"name\":\"NH3-100\",\n",
    "                \"session\":\"BATCH-000001\",\n",
    "                \"metrics\":[\n",
    "                     {\"name\":\"temperature\",\"value\":30},\n",
    "                     {\"name\":\"pressure\",\"value\":56},\n",
    "                     {\"name\":\"flow\",\"value\":10}\n",
    "                  ]\n",
    "            }\n",
    "}\n",
    "```\n",
    "\n",
    "Given that different devices may have different sets of sensors, another example in the same set might look like:\n",
    "```\n",
    "{\n",
    "    \"time\":\"2024-01-01 10:00:00\",\n",
    "    \"device\":\"HEAT001\",\n",
    "    \"loop\":\"NH3-100-01\",\n",
    "    \"loop-seq\":2,\n",
    "    \"process\":\n",
    "        {\n",
    "            \"name\":\"NH3-100\",\n",
    "            \"session\":\"BATCH-000001\",\n",
    "            \"metrics\":[\n",
    "                 {\"name\":\"temperature\",\"value\":455},\n",
    "                 {\"name\":\"pressure\",\"value\":100},\n",
    "                 {\"name\":\"fuel-input\", \"value\":10}\n",
    "              ]\n",
    "        }\n",
    "}\n",
    "```\n",
    "\n",
    "Use the following cell to load these two examples:"
   ]
  },
  {
   "cell_type": "code",
   "execution_count": null,
   "id": "ab7528d4-ef32-4631-8293-a7993835b2a0",
   "metadata": {},
   "outputs": [],
   "source": [
    "sql='''\n",
    "REPLACE INTO \"example-array-json-objects\" OVERWRITE ALL\n",
    "WITH \"ext\" AS (\n",
    "  SELECT *\n",
    "  FROM TABLE(\n",
    "    EXTERN(\n",
    "      '{\"type\":\"inline\",\"data\":\"{ \\\\\"time\\\\\":\\\\\"2024-01-01 10:00:00\\\\\",  \\\\\"device\\\\\":\\\\\"ABF001\\\\\", \\\\\"loop\\\\\":\\\\\"NH3-100-01\\\\\", \\\\\"loop-seq\\\\\":1,\\\\\"process\\\\\": {\\\\\"name\\\\\":\\\\\"NH3-100\\\\\",\\\\\"session\\\\\":\\\\\"BATCH-000001\\\\\",\\\\\"metrics\\\\\":[ {\\\\\"name\\\\\":\\\\\"temperature\\\\\",\\\\\"value\\\\\":30}, {\\\\\"name\\\\\":\\\\\"pressure\\\\\",\\\\\"value\\\\\":56}, {\\\\\"name\\\\\":\\\\\"flow\\\\\",\\\\\"value\\\\\":10}]}}\\\\n{\\\\\"time\\\\\":\\\\\"2024-01-01 10:00:00\\\\\",\\\\\"device\\\\\":\\\\\"HEAT001\\\\\",\\\\\"loop\\\\\":\\\\\"NH3-100-01\\\\\",\\\\\"loop-seq\\\\\":2,\\\\\"process\\\\\":{ \\\\\"name\\\\\":\\\\\"NH3-100\\\\\", \\\\\"session\\\\\":\\\\\"BATCH-000001\\\\\",\\\\\"metrics\\\\\":[{\\\\\"name\\\\\":\\\\\"temperature\\\\\",\\\\\"value\\\\\":455},{\\\\\"name\\\\\":\\\\\"pressure\\\\\",\\\\\"value\\\\\":100},{\\\\\"name\\\\\":\\\\\"fuel-input\\\\\", \\\\\"value\\\\\":10}]}}\\\\n\"}',      '{\"type\":\"json\"}'\n",
    "    )\n",
    "  ) EXTEND (\"time\" VARCHAR, \"device\" VARCHAR, \"loop\" VARCHAR, \"loop-seq\" BIGINT, \"process\" TYPE('COMPLEX<json>'))\n",
    ")\n",
    "SELECT\n",
    "  TIME_PARSE(TRIM(\"time\")) AS \"__time\",\n",
    "  \"device\",\n",
    "  \"loop\",\n",
    "  \"loop-seq\",\n",
    "  \"process\"\n",
    "FROM \"ext\"\n",
    "PARTITIONED BY DAY\n",
    "'''\n",
    "req = sql_client.sql_request(sql)\n",
    "req.add_context(\"arrayIngestMode\", \"array\")\n",
    "\n",
    "display.run_task(req)\n",
    "sql_client.wait_until_ready('example-array-json-objects')\n",
    "display.table('example-array-json-objects')"
   ]
  },
  {
   "cell_type": "markdown",
   "id": "4b866323-7538-434e-a890-c99f1ea5bbd9",
   "metadata": {},
   "source": [
    "Use the JSON_QUERY_ARRAY function to access nested arrays of objects:"
   ]
  },
  {
   "cell_type": "code",
   "execution_count": null,
   "id": "d2dea605-2cd4-4bb1-a01a-cb5c328188b1",
   "metadata": {},
   "outputs": [],
   "source": [
    "sql='''\n",
    "SELECT \"loop\", JSON_QUERY_ARRAY( \"process\", '$.metrics') \"metric_array\" FROM \"example-array-json-objects\"\n",
    "'''\n",
    "display.sql(sql)"
   ]
  },
  {
   "cell_type": "markdown",
   "id": "2c780164-ea51-4662-bd97-45db00d5d7af",
   "metadata": {},
   "source": [
    "Combine JSON_QUERY_ARRAY with UNNEST to access array elements, and use JSON_VALUE functions to access array object fields to do filtering and aggregation:"
   ]
  },
  {
   "cell_type": "code",
   "execution_count": null,
   "id": "d5191c58-d948-4b3e-bd34-53df6f30ffc7",
   "metadata": {},
   "outputs": [],
   "source": [
    "sql='''\n",
    "SELECT \"loop\", \n",
    "        JSON_VALUE( m.\"metric\", '$.name') metric_name, \n",
    "        MIN( JSON_VALUE( m.\"metric\", '$.value' RETURNING DOUBLE) ) min_metric_value,\n",
    "        MAX( JSON_VALUE( m.\"metric\", '$.value' RETURNING DOUBLE) ) max_metric_value,\n",
    "        AVG( JSON_VALUE( m.\"metric\", '$.value' RETURNING DOUBLE) ) avg_metric_value\n",
    "FROM \"example-array-json-objects\", \n",
    "      UNNEST( JSON_QUERY_ARRAY( \"process\", '$.metrics')) AS m(\"metric\")\n",
    "WHERE JSON_VALUE( m.\"metric\", '$.name') IN ('temperature', 'pressure')\n",
    "GROUP BY 1,2\n",
    "'''\n",
    "display.sql(sql)"
   ]
  },
  {
   "cell_type": "markdown",
   "id": "44738d6d-cec2-40ad-aaba-998c758c63f4",
   "metadata": {},
   "source": [
    "## Clean up\n",
    "\n",
    "Run the following cell to remove the tables used in this notebook from the database."
   ]
  },
  {
   "cell_type": "code",
   "execution_count": null,
   "id": "8082b545-ba7f-4ede-bb6e-2a6dd62ba0d8",
   "metadata": {},
   "outputs": [],
   "source": [
    "druid.datasources.drop(\"example-koalas-arrays-1\")\n",
    "druid.datasources.drop(\"example-koalas-arrays-2\")\n",
    "druid.datasources.drop(\"example-koalas-arrays-3\")\n",
    "druid.datasources.drop(\"example-koalas-arrays-4\")\n",
    "druid.datasources.drop(\"example-array-json-objects\")\n",
    "druid.datasources.drop(\"example-arrays-in-source\")"
   ]
  },
  {
   "cell_type": "markdown",
   "id": "54b8d5fe-ba85-4b5b-9669-0dd47dfbccd1",
   "metadata": {},
   "source": [
    "## Summary\n",
    "\n",
    "* Arrays can be created in a number of ways at query time, including by conversion from delimited and multi-value strings.\n",
    "* With the right context parameters, arrays can be constructed from source data and created using aggregators.\n",
    "* Scalar array functions allow for items to be found and added.\n",
    "* The UNNEST function, together with a JOIN, allows for arrays to be expanded into individual rows.\n",
    "* JSON_QUERY_ARRAY combined with UNNEST enables the use of arrays of objects that can be expanded into rows and columns.\n",
    "\n",
    "## Learn more\n",
    "\n",
    "* Read more about arrays on the [SQL data types](https://druid.apache.org/docs/latest/querying/sql-data-types/#arrays) page in the official documentation.\n",
    "* See the full documentation on [scalar](https://druid.apache.org/docs/latest/querying/sql-array-functions) and [aggregation](https://druid.apache.org/docs/latest/querying/sql-aggregations) array functions\n",
    "* Check out the [official tutorial on UNNEST](https://druid.apache.org/docs/latest/tutorials/tutorial-unnest-arrays) with arrays "
   ]
  }
 ],
 "metadata": {
  "execution": {
   "allow_errors": true,
   "timeout": 300
  },
  "kernelspec": {
   "display_name": "Python 3 (ipykernel)",
   "language": "python",
   "name": "python3"
  },
  "language_info": {
   "codemirror_mode": {
    "name": "ipython",
    "version": 3
   },
   "file_extension": ".py",
   "mimetype": "text/x-python",
   "name": "python",
   "nbconvert_exporter": "python",
   "pygments_lexer": "ipython3",
   "version": "3.11.6"
  }
 },
 "nbformat": 4,
 "nbformat_minor": 5
}
