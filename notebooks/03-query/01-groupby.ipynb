{
 "cells": [
  {
   "cell_type": "markdown",
   "id": "0cb3b009-ebde-4d56-9d59-a028d66d8309",
   "metadata": {},
   "source": [
    "# Aggregating results by using GROUP BY\n",
    "<!--\n",
    "  ~ Licensed to the Apache Software Foundation (ASF) under one\n",
    "  ~ or more contributor license agreements.  See the NOTICE file\n",
    "  ~ distributed with this work for additional information\n",
    "  ~ regarding copyright ownership.  The ASF licenses this file\n",
    "  ~ to you under the Apache License, Version 2.0 (the\n",
    "  ~ \"License\"); you may not use this file except in compliance\n",
    "  ~ with the License.  You may obtain a copy of the License at\n",
    "  ~\n",
    "  ~   http://www.apache.org/licenses/LICENSE-2.0\n",
    "  ~\n",
    "  ~ Unless required by applicable law or agreed to in writing,\n",
    "  ~ software distributed under the License is distributed on an\n",
    "  ~ \"AS IS\" BASIS, WITHOUT WARRANTIES OR CONDITIONS OF ANY\n",
    "  ~ KIND, either express or implied.  See the License for the\n",
    "  ~ specific language governing permissions and limitations\n",
    "  ~ under the License.\n",
    "  -->\n",
    "\n",
    "This tutorial demonstrates how to work with [`GROUP BY`](https://druid.apache.org/docs/27.0.0/querying/sql#group-by) to aggregate rows and produce metrics from underlying measures at query time and during ingestion."
   ]
  },
  {
   "cell_type": "markdown",
   "id": "bbdbf6ad-ca7b-40f5-8ca3-1070f4a3ee42",
   "metadata": {},
   "source": [
    "## Prerequisites\n",
    "\n",
    "This tutorial works with Druid 27.0.0 or later.\n",
    "\n",
    "### Run with Docker\n",
    "\n",
    "<!-- Profiles are:\n",
    "`druid-jupyter` - just Jupyter and Druid\n",
    "`all-services` - includes Jupyter, Druid, and Kafka\n",
    " -->\n",
    "\n",
    "Launch this tutorial and all prerequisites using the `druid-jupyter` profile of the Docker Compose file for Jupyter-based Druid tutorials. For more information, see [Docker for Jupyter Notebook tutorials](https://druid.apache.org/docs/latest/tutorials/tutorial-jupyter-docker.html).\n"
   ]
  },
  {
   "cell_type": "markdown",
   "id": "5007a243-b81a-4601-8f57-5b14940abbff",
   "metadata": {},
   "source": [
    "## Initialization\n",
    "\n",
    "Run the next cell to set up the Druid Python client's connection to Apache Druid.\n",
    "\n",
    "If successful, the Druid version number will be shown in the output."
   ]
  },
  {
   "cell_type": "code",
   "execution_count": null,
   "id": "c1ec783b-df3f-4168-9be2-cdc6ad3e33c2",
   "metadata": {},
   "outputs": [],
   "source": [
    "import druidapi\n",
    "import os\n",
    "\n",
    "if 'DRUID_HOST' not in os.environ.keys():\n",
    "    druid_host=f\"http://localhost:8888\"\n",
    "else:\n",
    "    druid_host=f\"http://{os.environ['DRUID_HOST']}:8888\"\n",
    "    \n",
    "print(f\"Opening a connection to {druid_host}.\")\n",
    "druid = druidapi.jupyter_client(druid_host)\n",
    "\n",
    "display = druid.display\n",
    "sql_client = druid.sql\n",
    "status_client = druid.status\n",
    "\n",
    "status_client.version"
   ]
  },
  {
   "cell_type": "markdown",
   "id": "472589e4-1026-4b3b-bb79-eedabb2b44c4",
   "metadata": {},
   "source": [
    "### Load example data\n",
    "\n",
    "Once your Druid environment is up and running, ingest the sample data for this tutorial.\n",
    "\n",
    "Run the following cell to create a table called `example-koalas-groupby`. Notice only columns required for this notebook are ingested from the overall sample dataset.\n",
    "\n",
    "When completed, you'll see table details."
   ]
  },
  {
   "cell_type": "code",
   "execution_count": null,
   "id": "f52a94fb-d2e4-403f-ab10-84d3af7bf2c8",
   "metadata": {},
   "outputs": [],
   "source": [
    "sql='''\n",
    "REPLACE INTO \"example-koalas-groupby\" OVERWRITE ALL\n",
    "WITH \"ext\" AS (SELECT *\n",
    "FROM TABLE(\n",
    "  EXTERN(\n",
    "    '{\"type\":\"http\",\"uris\":[\"https://static.imply.io/example-data/kttm-v2/kttm-v2-2019-08-25.json.gz\"]}',\n",
    "    '{\"type\":\"json\"}'\n",
    "  )\n",
    ") EXTEND (\"timestamp\" VARCHAR, \"agent_category\" VARCHAR, \"agent_type\" VARCHAR, \"browser\" VARCHAR, \"browser_version\" VARCHAR, \"city\" VARCHAR, \"continent\" VARCHAR, \"country\" VARCHAR, \"version\" VARCHAR, \"event_type\" VARCHAR, \"event_subtype\" VARCHAR, \"loaded_image\" VARCHAR, \"adblock_list\" VARCHAR, \"forwarded_for\" VARCHAR, \"language\" VARCHAR, \"number\" VARCHAR, \"os\" VARCHAR, \"path\" VARCHAR, \"platform\" VARCHAR, \"referrer\" VARCHAR, \"referrer_host\" VARCHAR, \"region\" VARCHAR, \"remote_address\" VARCHAR, \"screen\" VARCHAR, \"session\" VARCHAR, \"session_length\" BIGINT, \"timezone\" VARCHAR, \"timezone_offset\" VARCHAR, \"window\" VARCHAR))\n",
    "SELECT\n",
    "  TIME_PARSE(\"timestamp\") AS \"__time\",\n",
    "  \"browser\",\n",
    "  \"city\",\n",
    "  \"continent\",\n",
    "  \"country\",\n",
    "  \"loaded_image\",\n",
    "  \"os\",\n",
    "  \"session_length\"\n",
    "FROM \"ext\"\n",
    "PARTITIONED BY DAY\n",
    "'''\n",
    "\n",
    "display.run_task(sql)\n",
    "sql_client.wait_until_ready('example-koalas-groupby')\n",
    "display.table('example-koalas-groupby')"
   ]
  },
  {
   "cell_type": "markdown",
   "id": "9c3d6b39-6551-4b2a-bdfb-9606aa92c853",
   "metadata": {},
   "source": [
    "Finally, run the following cell to import additional Python modules that you will use for this notebook."
   ]
  },
  {
   "cell_type": "code",
   "execution_count": null,
   "id": "dc4c2524-0eba-4bc6-84ed-da3a25aa5fbe",
   "metadata": {},
   "outputs": [],
   "source": [
    "import json\n",
    "import matplotlib\n",
    "import matplotlib.pyplot as plt\n",
    "import pandas as pd"
   ]
  },
  {
   "cell_type": "markdown",
   "id": "637868b6-cf53-47e8-b842-30d5dd1f8fa8",
   "metadata": {},
   "source": [
    "## Introduction to `GROUP BY`\n",
    "\n",
    "You can combine rows of common values in your results by using the [`GROUP BY` clause](https://druid.apache.org/docs/27.0.0/querying/sql#group-by), producing aggregations from the source values. `GROUP BY` is an important technique to [apply at ingestion time](https://druid.apache.org/docs/27.0.0/ingestion/rollup), allowing you to aggregate raw data and pre-calculate common aggregates.\n",
    "\n",
    "This notebook focuses on SQL-based functions. Native equivalents exist for use in, for example, the [`metricsSpec` section](https://druid.apache.org/docs/27.0.0/ingestion/ingestion-spec#metricsspec) of JSON-based specifications of streaming ingestion."
   ]
  },
  {
   "cell_type": "markdown",
   "id": "50c81661-7440-49bc-b91f-9539779f327c",
   "metadata": {},
   "source": [
    "### Generate simple aggregations\n",
    "\n",
    "Run the following cell to generate a table of results from the example dataset.\n",
    "\n",
    "The SQL includes the `GROUP BY` clause, combining rows in the results with a common value in `loaded_image`."
   ]
  },
  {
   "cell_type": "code",
   "execution_count": null,
   "id": "d89e19c1-a4de-4f76-84d8-de3e16544f26",
   "metadata": {},
   "outputs": [],
   "source": [
    "sql='''\n",
    "SELECT\n",
    "  \"loaded_image\",\n",
    "  avg(session_length) AS \"timetakenms_average\",\n",
    "  max(session_length) AS \"timetakenms_max\",\n",
    "  min(session_length) AS \"timetakenms_min\",\n",
    "  count(*) AS \"count\",\n",
    "  count(DISTINCT \"country\") AS \"countries\"\n",
    "FROM \"example-koalas-groupby\"\n",
    "WHERE TIME_IN_INTERVAL(\"__time\", '2019-08-25T10:00:00/2019-08-25T18:00:00')\n",
    "GROUP BY 1\n",
    "'''\n",
    "\n",
    "display.sql(sql)"
   ]
  },
  {
   "cell_type": "markdown",
   "id": "0f5a5c01-cbe0-439c-9f28-22685838dc32",
   "metadata": {},
   "source": [
    "The `GROUP BY` combines data from the raw data with common a `browser`, and generates three [aggregates](https://druid.apache.org/docs/27.0.0/querying/aggregations): the average, maximum, and minimum time taken to complete a session.\n",
    "\n",
    "A `COUNT` is also generated, returning the number of events from the `TABLE` that are in the group. `COUNT` can also be used to calculate the number of distinct values in a set by using the `DISTINCT` operator, used in the SQL below to `COUNT` the distinct number of countries per image.\n",
    "\n",
    "The `WHERE` clause uses a `TIME_IN_INTERVAL` function to ensure we only retrieve rows for a specific time period - good practice for all Druid queries. In this case, only events between 10am and 6pm on the 25th August 2019 are included.\n",
    "\n",
    "`GROUP BY 1` is a shorthand way of writing a `GROUP BY \"loaded_image\"."
   ]
  },
  {
   "cell_type": "markdown",
   "id": "cd371a80-3b30-4527-8297-e711c7d63b92",
   "metadata": {},
   "source": [
    "### Generate objects\n",
    "\n",
    "The following SQL uses the `STRING_AGG` and `ARRAY_AGG` functions in their `DISTINCT` form to create collections of the values from the source data.\n",
    "\n",
    "Run this cell to see how the values in `continent` are handled for each `loaded_image`."
   ]
  },
  {
   "cell_type": "code",
   "execution_count": null,
   "id": "99acfe2d-45d1-477b-bff2-8bd1e2a51bba",
   "metadata": {},
   "outputs": [],
   "source": [
    "sql='''\n",
    "SELECT\n",
    "  \"loaded_image\",\n",
    "  STRING_AGG(DISTINCT \"continent\", ',') AS \"string\",\n",
    "  ARRAY_AGG(DISTINCT \"continent\") AS \"array\",\n",
    "  count(*) AS \"count\"\n",
    "FROM \"example-koalas-groupby\"\n",
    "WHERE TIME_IN_INTERVAL(\"__time\", '2019-08-25T10:00:00/2019-08-25T18:00:00')\n",
    "GROUP BY 1\n",
    "'''\n",
    "\n",
    "display.sql(sql)"
   ]
  },
  {
   "cell_type": "markdown",
   "id": "206fbcba-4641-42f5-b238-5053a5304865",
   "metadata": {},
   "source": [
    "### Find the earliest and latest value\n",
    "\n",
    "Several functions exist to determine the earliest and latest values in the source data.\n",
    "\n",
    "Run the cell below, which uses the `EARLIEST_BY` and `LATEST_BY` functions to calculate, between 10am and 6pm on the 25th August, the earliest and latest recorded `country`, broken down by continent."
   ]
  },
  {
   "cell_type": "code",
   "execution_count": null,
   "id": "4b231751-7cab-4155-8181-34ebad4abe18",
   "metadata": {},
   "outputs": [],
   "source": [
    "sql='''\n",
    "SELECT\n",
    "  \"continent\",\n",
    "  EARLIEST_BY(\"country\",\"__time\",1024) AS \"earliest_country\",\n",
    "  LATEST_BY(\"country\",\"__time\",1024) AS \"latest_country\"\n",
    "FROM \"example-koalas-groupby\"\n",
    "WHERE TIME_IN_INTERVAL(\"__time\", '2019-08-25T10:00:00/2019-08-25T18:00:00')\n",
    "GROUP BY 1\n",
    "'''\n",
    "\n",
    "display.sql(sql)"
   ]
  },
  {
   "cell_type": "markdown",
   "id": "2dd3c695-b1a4-4c6c-99f7-9ae1b3c6f574",
   "metadata": {},
   "source": [
    "## Transformation\n",
    "\n",
    "You can include an [expression](https://druid.apache.org/docs/latest/querying/math-expr) in the SQL statement to apply a function to the source data.\n",
    "\n",
    "### Group by the results of an expression\n",
    "\n",
    "Run the cell below, where a function has been applied to the `loaded_image` data to extract only the filename by using a regular expression via  [`REGEXP_EXTRACT`](https://druid.apache.org/docs/latest/querying/sql-scalar#string-functions). The result of this function is then used in the `GROUP BY`, providing a results table that only contains the filename."
   ]
  },
  {
   "cell_type": "code",
   "execution_count": null,
   "id": "f6b50fb9-8b38-438d-9327-da777c8f6d67",
   "metadata": {},
   "outputs": [],
   "source": [
    "sql='''\n",
    "SELECT\n",
    "  REGEXP_EXTRACT(\"loaded_image\",'([a-zA-Z0-9\\s_\\\\.\\-\\(\\):])+(.jpg)$') AS \"loaded_image_filename\",\n",
    "  avg(session_length) AS \"timetakenms_average\",\n",
    "  max(session_length) AS \"timetakenms_max\",\n",
    "  min(session_length) AS \"timetakenms_min\",\n",
    "  count(*) AS \"count\"\n",
    "FROM \"example-koalas-groupby\"\n",
    "WHERE TIME_IN_INTERVAL(\"__time\", '2019-08-25T10:00:00/2019-08-25T18:00:00')\n",
    "GROUP BY 1\n",
    "ORDER BY 2 DESC\n",
    "'''\n",
    "\n",
    "display.sql(sql)"
   ]
  },
  {
   "cell_type": "markdown",
   "id": "7ffb72df-fb05-4334-9c33-eb797f237a07",
   "metadata": {},
   "source": [
    "### Group by time\n",
    "\n",
    "Run the next cell to apply a time function, [`TIME_EXTRACT`](https://druid.apache.org/docs/27.0.0/querying/sql-functions#time_extract), to extract the HOUR from the underlying data, providing a breakdown of the number of sessions by hour-of-the-day across the entire time period. The SQL then stores the results in a Pandas dataframe and displays a histogram."
   ]
  },
  {
   "cell_type": "code",
   "execution_count": null,
   "id": "6237e10e-bc66-4cae-97d1-97dc77d5e629",
   "metadata": {},
   "outputs": [],
   "source": [
    "sql='''\n",
    "SELECT\n",
    "  TIME_EXTRACT(\"__time\", 'HOUR') AS \"time\",\n",
    "  count(*) AS \"count\"\n",
    "FROM \"example-koalas-groupby\"\n",
    "WHERE TIME_IN_INTERVAL(\"__time\", '2019-08-25T00:00:00/2019-08-30T00:00:00')\n",
    "GROUP BY 1\n",
    "'''\n",
    "\n",
    "df = pd.DataFrame(sql_client.sql(sql))\n",
    "df.plot.bar(x='time', y='count')\n",
    "plt.show()"
   ]
  },
  {
   "cell_type": "markdown",
   "id": "f3e15f38-cbd1-4cfd-ad45-db09c9fe9e54",
   "metadata": {},
   "source": [
    "Druid can apply the `TIME_EXTRACT` function in two ways - one where timezones are specified, and one without.\n",
    "\n",
    "Run this cell to see a table showing the hour from the source data, along with the equivalent hour in Los Angeles, Copenhagen, and Shanghai."
   ]
  },
  {
   "cell_type": "code",
   "execution_count": null,
   "id": "5270337b-2b07-4bb1-aa1e-6b5da5f752e0",
   "metadata": {},
   "outputs": [],
   "source": [
    "sql='''\n",
    "SELECT\n",
    "  TIME_EXTRACT(\"__time\", 'HOUR') AS \"time\",\n",
    "  TIME_EXTRACT(\"__time\", 'HOUR', 'America/Los_Angeles') AS \"time_LA\",\n",
    "  TIME_EXTRACT(\"__time\", 'HOUR', 'Europe/Copenhagen') AS \"time_Cop\",\n",
    "  TIME_EXTRACT(\"__time\", 'HOUR', 'Asia/Shanghai') AS \"time_Sha\",\n",
    "  count(*) AS \"count\"\n",
    "FROM \"example-koalas-groupby\"\n",
    "WHERE TIME_IN_INTERVAL(\"__time\", '2019-08-25T00:00:00/2019-08-26T00:00:00')\n",
    "GROUP BY 1,2,3,4\n",
    "ORDER BY 2 ASC\n",
    "'''\n",
    "\n",
    "display.sql(sql)"
   ]
  },
  {
   "cell_type": "markdown",
   "id": "66b08db9-b63f-45cb-9ac2-18d4cf6eedad",
   "metadata": {},
   "source": [
    "For data vizualisations where time is on the x axis, the `TIME_FLOOR` function is particularly useful.\n",
    "\n",
    "Run the next cell, which stores the results of a query in a dataframe and then plots them into a line chart for the period."
   ]
  },
  {
   "cell_type": "code",
   "execution_count": null,
   "id": "ae7d655b-d2e9-4645-a137-39c108e016e4",
   "metadata": {},
   "outputs": [],
   "source": [
    "sql='''\n",
    "SELECT\n",
    "  STRING_FORMAT('%tR',TIME_FLOOR(\"__time\", 'PT1H')) AS \"time\",\n",
    "  count(*) AS \"count\",\n",
    "  sum(session_length) AS \"timetakenms\"\n",
    "FROM \"example-koalas-groupby\"\n",
    "WHERE TIME_IN_INTERVAL(\"__time\", '2019-08-25T00:00:00/2019-08-26T00:00:00')\n",
    "GROUP BY 1\n",
    "'''\n",
    "\n",
    "df = pd.DataFrame(sql_client.sql(sql))\n",
    "\n",
    "fig, ax = plt.subplots()\n",
    "\n",
    "df.plot(x = 'time', y = 'count', ax = ax) \n",
    "df.plot(x = 'time', y = 'timetakenms', ax = ax, secondary_y = True) \n",
    "plt.show()"
   ]
  },
  {
   "cell_type": "markdown",
   "id": "33dfdaf2-4456-40f9-b43a-6448b9ba4846",
   "metadata": {},
   "source": [
    "* The [`TIME_FLOOR`](https://druid.apache.org/docs/latest/querying/sql-functions#time_floor) function is used against `__time` to return only the date and hour for each timestamp in the source data. The result of this is then passed to the `STRING_FORMAT` function to apply string formatting.\n",
    "\n",
    "* The [`TIME_IN_INTERVAL`](https://druid.apache.org/docs/27.0.0/querying/sql-functions#time_in_interval) ensures the result set only contains results for events on the 25th August 2019.\n",
    "\n",
    "* Two aggregates are calculated - the number of sessions (COUNT) and the sum total length of all sessions (`timetakenms`)."
   ]
  },
  {
   "cell_type": "markdown",
   "id": "119a2dd6-456d-471d-a7d8-a87ae632b69e",
   "metadata": {},
   "source": [
    "## Filtering\n",
    "\n",
    "`WHERE` filters rows from source data used in the query, while `HAVING` filters result sets.\n",
    "\n",
    "In this section, see how these two mechanisms for filtering data can be used with `GROUP BY` queries."
   ]
  },
  {
   "cell_type": "markdown",
   "id": "9c7a2672-89fc-478d-b108-7a98d5ea12f4",
   "metadata": {},
   "source": [
    "### Filter the source data\n",
    "\n",
    "The results of the `REGEXP_EXTRACT` example query above includes rows where no filename could be found in the source data.\n",
    "\n",
    "To prevent this from happening, you can add a `LIKE` function in the `WHERE` clause to ensure source rows for the query contain a JPG image in the `loaded_image`."
   ]
  },
  {
   "cell_type": "code",
   "execution_count": null,
   "id": "7c7415f5-1e97-4d2a-9b80-631d18eba8eb",
   "metadata": {},
   "outputs": [],
   "source": [
    "sql='''\n",
    "SELECT\n",
    "  REGEXP_EXTRACT(\"loaded_image\",'([a-zA-Z0-9\\s_\\\\.\\-\\(\\):])+(.jpg)$') AS \"loaded_image_filename\",\n",
    "  avg(session_length) AS \"timetakenms_average\",\n",
    "  max(session_length) AS \"timetakenms_max\",\n",
    "  min(session_length) AS \"timetakenms_min\",\n",
    "  count(*) AS \"count\"\n",
    "FROM \"example-koalas-groupby\"\n",
    "WHERE TIME_IN_INTERVAL(\"__time\", '2019-08-25T10:00:00/2019-08-25T18:00:00')\n",
    "AND \"loaded_image\" LIKE '%jpg'\n",
    "GROUP BY 1\n",
    "ORDER BY 2 DESC\n",
    "'''\n",
    "\n",
    "display.sql(sql)"
   ]
  },
  {
   "cell_type": "markdown",
   "id": "8fb00f09-93a3-4a4d-9c35-6af3b30f1e59",
   "metadata": {},
   "source": [
    "### Filter the results\n",
    "\n",
    "A `WHERE` clause only filters source data. Since the `loaded_image_filename` dimension is calculated, we cannot use `WHERE` to filter the result set. This SQL, for example, would be invalid:\n",
    "\n",
    "```sql\n",
    "WHERE \"loaded_image_filename\" = 'koalas2.jpg'\n",
    "```\n",
    "\n",
    "The `HAVING` clause filters the final result set, allowing filters to be created that address calculated columns directly.\n",
    "\n",
    "In the following SQL, the calculated column, `loaded_image_filename`, is used in the `HAVING` clause to remove any empty results, an alternative approach to the `WHERE` filter above.\n",
    "\n",
    "Running this cell will show that the results match. Remember, however, that the `WHERE`-based query is far more efficient than this new query as it draws fewer rows out of the source `TABLE`. In this alternative form, filtering happens very late in query execution."
   ]
  },
  {
   "cell_type": "code",
   "execution_count": null,
   "id": "6efa3a7d-dedd-4492-b38e-c7b3e2175bd8",
   "metadata": {},
   "outputs": [],
   "source": [
    "sql='''\n",
    "SELECT\n",
    "  REGEXP_EXTRACT(\"loaded_image\",'([a-zA-Z0-9\\s_\\\\.\\-\\(\\):])+(.jpg)$') AS \"loaded_image_filename\",\n",
    "  avg(session_length) AS \"timetakenms_average\",\n",
    "  max(session_length) AS \"timetakenms_max\",\n",
    "  min(session_length) AS \"timetakenms_min\",\n",
    "  count(*) AS \"count\"\n",
    "FROM \"example-koalas-groupby\"\n",
    "WHERE TIME_IN_INTERVAL(\"__time\", '2019-08-25T10:00:00/2019-08-25T18:00:00')\n",
    "GROUP BY 1\n",
    "HAVING \"loaded_image_filename\" IS NOT NULL\n",
    "ORDER BY 2 DESC\n",
    "'''\n",
    "\n",
    "display.sql(sql)"
   ]
  },
  {
   "cell_type": "markdown",
   "id": "56b0391f-4716-42bf-9e02-e0af92475f25",
   "metadata": {},
   "source": [
    "`HAVING` is commonly used to filter results based on the output of aggregate functions.\n",
    "\n",
    "Run the following cell to calculate the average session length and return images that take over 300000 milliseconds (300 seconds) to load on average."
   ]
  },
  {
   "cell_type": "code",
   "execution_count": null,
   "id": "fa67e865-4b02-4733-a21e-ea59324a840c",
   "metadata": {
    "tags": []
   },
   "outputs": [],
   "source": [
    "sql='''\n",
    "SELECT\n",
    "  REGEXP_EXTRACT(\"loaded_image\",'([a-zA-Z0-9\\s_\\\\.\\-\\(\\):])+(.jpg)$') AS \"loaded_image_filename\",\n",
    "  avg(session_length) AS \"timetakenms_average\",\n",
    "  max(session_length) AS \"timetakenms_max\",\n",
    "  min(session_length) AS \"timetakenms_min\",\n",
    "  count(*) AS \"count\"\n",
    "FROM \"example-koalas-groupby\"\n",
    "WHERE TIME_IN_INTERVAL(\"__time\", '2019-08-25T10:00:00/2019-08-25T18:00:00')\n",
    "AND \"loaded_image\" LIKE '%jpg'\n",
    "GROUP BY 1\n",
    "HAVING \"timetakenms_average\" > 300000\n",
    "ORDER BY 2 DESC\n",
    "'''\n",
    "\n",
    "display.sql(sql)"
   ]
  },
  {
   "cell_type": "markdown",
   "id": "e0e1d1ac-a5d4-4088-b66b-7a64fc16cdff",
   "metadata": {},
   "source": [
    "### Filter data used in the aggregate calculation\n",
    "\n",
    "Expressions can themselves have a filter, restricting the rows that are included in the calculation of the specific aggregation.\n",
    "\n",
    "Run the following cell where the `FILTER` clause has been added to the `COUNT` calculation."
   ]
  },
  {
   "cell_type": "code",
   "execution_count": null,
   "id": "45452caa-04df-4bc6-bbe9-6b0a3475d7c1",
   "metadata": {},
   "outputs": [],
   "source": [
    "sql='''\n",
    "SELECT\n",
    "  REGEXP_EXTRACT(\"loaded_image\",'([a-zA-Z0-9\\s_\\\\.\\-\\(\\):])+(.jpg)$') AS \"loaded_image_filename\",\n",
    "  count(*) FILTER (WHERE \"os\" LIKE 'OS %') AS \"count_OSX\",\n",
    "  count(*) FILTER (WHERE \"os\" LIKE 'Windows %') AS \"count_windows\"\n",
    "FROM \"example-koalas-groupby\"\n",
    "WHERE TIME_IN_INTERVAL(\"__time\", '2019-08-25T10:00:00/2019-08-25T18:00:00')\n",
    "AND \"loaded_image\" LIKE '%jpg'\n",
    "GROUP BY 1\n",
    "ORDER BY 2 DESC\n",
    "'''\n",
    "\n",
    "display.sql(sql)"
   ]
  },
  {
   "cell_type": "markdown",
   "id": "b7336c90-5dc5-460b-b5ea-b29bcc8e25f5",
   "metadata": {},
   "source": [
    "There are two counts returned, one which only counts rows with a `OS`-like operating system, and another `COUNT` that only accounts for `Windows`-like operating systems."
   ]
  },
  {
   "cell_type": "markdown",
   "id": "67b4a770-4ea7-42c4-a6bc-2d6f2d38e14b",
   "metadata": {},
   "source": [
    "## Apply advanced groupings\n",
    "\n",
    "A `GROUP BY` clause creates a set of aggregations by each of the columns that you specify.\n",
    "\n",
    "The `GROUP BY` statement in the next cell calculates a maximum session length and a `COUNT` of the events for each `os` for each `browser`. Or, put another way, grouped by operating system grouped by browser."
   ]
  },
  {
   "cell_type": "code",
   "execution_count": null,
   "id": "dcff4d11-359e-4fc1-b784-d0f000a143b8",
   "metadata": {},
   "outputs": [],
   "source": [
    "sql='''\n",
    "SELECT\n",
    "  \"browser\",\n",
    "  \"os\",\n",
    "  max(session_length) AS \"max_session\",\n",
    "  count(*) AS \"count\"\n",
    "FROM \"example-koalas-groupby\"\n",
    "WHERE TIME_IN_INTERVAL(\"__time\", '2019-08-25T10:00:00/2019-08-25T18:00:00')\n",
    "AND \"os\" LIKE 'Windows%'\n",
    "GROUP BY 1, 2\n",
    "'''\n",
    "\n",
    "display.sql(sql)"
   ]
  },
  {
   "cell_type": "markdown",
   "id": "b736a925-66bf-499a-9464-deff03328184",
   "metadata": {},
   "source": [
    "### Return independent groups\n",
    "\n",
    "Rather than additive grouping, `GROUPING SETS` generates separate groups against each of the dimensions specified.\n",
    "\n",
    "Run the following cell, which creates two sets results - one grouped by `browser`, and another grouped by `os`."
   ]
  },
  {
   "cell_type": "code",
   "execution_count": null,
   "id": "26bf28bc-15cf-4f74-aff4-bcd68ea06d7b",
   "metadata": {},
   "outputs": [],
   "source": [
    "sql='''\n",
    "SELECT\n",
    "  \"browser\",\n",
    "  \"os\",\n",
    "  max(session_length) AS \"max_session\",\n",
    "  count(*) AS \"count\"\n",
    "FROM \"example-koalas-groupby\"\n",
    "WHERE TIME_IN_INTERVAL(\"__time\", '2019-08-25T10:00:00/2019-08-25T18:00:00')\n",
    "AND \"os\" LIKE 'Windows%'\n",
    "GROUP BY GROUPING SETS (\"browser\",\"os\")\n",
    "'''\n",
    "\n",
    "display.sql(sql)"
   ]
  },
  {
   "cell_type": "markdown",
   "id": "3a498176-68e4-40b6-b565-d9cd853020d1",
   "metadata": {},
   "source": [
    "### Return multiple groupings\n",
    "\n",
    "It's also possible to combine approaches, executing a single query that provides multiple groupings that can be used in multiple ways by the calling application.\n",
    "\n",
    "In the SQL below, the `GROUPING SETS` clause has been expanded so that three sets of results are provided. One is purely a `GROUP` on `continent`. The second is grouped by `continent` and then by `os`, and the final is grouped by `continent` and then by `browser`."
   ]
  },
  {
   "cell_type": "code",
   "execution_count": null,
   "id": "8479bb43-edb2-4f27-bc0c-9814099246b2",
   "metadata": {},
   "outputs": [],
   "source": [
    "sql='''\n",
    "SELECT\n",
    "  \"continent\",\n",
    "  \"browser\",\n",
    "  \"os\",\n",
    "  max(session_length) AS \"max_session\",\n",
    "  count(*) AS \"count\"\n",
    "FROM \"example-koalas-groupby\"\n",
    "WHERE TIME_IN_INTERVAL(\"__time\", '2019-08-25T10:00:00/2019-08-25T18:00:00')\n",
    "AND \"os\" LIKE 'Windows%'\n",
    "AND \"continent\" LIKE '%America'\n",
    "GROUP BY GROUPING SETS (\n",
    "    \"continent\",\n",
    "    (\"continent\",\"os\"),\n",
    "    (\"continent\",\"browser\")\n",
    "    )\n",
    "'''\n",
    "\n",
    "display.sql(sql)"
   ]
  },
  {
   "cell_type": "markdown",
   "id": "b58ab083-0c15-4928-8559-1f23086dedd0",
   "metadata": {},
   "source": [
    "### Rolling up groups\n",
    "\n",
    "The SQL statement below incorporates the `GROUP BY ROLLUP` clause.\n",
    "\n",
    "Run the following cell to see the effect."
   ]
  },
  {
   "cell_type": "code",
   "execution_count": null,
   "id": "0c7d8efb-96f6-4277-9e5e-1570ad362267",
   "metadata": {},
   "outputs": [],
   "source": [
    "sql='''\n",
    "SELECT\n",
    "  \"continent\",\n",
    "  \"browser\",\n",
    "  \"os\",\n",
    "  max(session_length) AS \"max_session\",\n",
    "  count(*) AS \"count\"\n",
    "FROM \"example-koalas-groupby\"\n",
    "WHERE TIME_IN_INTERVAL(\"__time\", '2019-08-25T10:00:00/2019-08-25T18:00:00')\n",
    "AND \"os\" LIKE 'OS %'\n",
    "AND \"continent\" LIKE '%America'\n",
    "GROUP BY ROLLUP (\n",
    "    \"continent\",\n",
    "    \"browser\",\n",
    "    \"os\"\n",
    "    )\n",
    "'''\n",
    "\n",
    "display.sql(sql)"
   ]
  },
  {
   "cell_type": "markdown",
   "id": "90aa8d1b-8805-4c00-9c99-e630a54566b7",
   "metadata": {},
   "source": [
    "The results show four sets of grouping:\n",
    "\n",
    "1. Grouped by continent, broken down by browser, and then by operating system\n",
    "2. Grouped by continent and then by browser\n",
    "3. Grouped by continent\n",
    "4. Without any grouping"
   ]
  },
  {
   "cell_type": "markdown",
   "id": "6d305365-5453-4882-9f9e-0a1c7735283c",
   "metadata": {},
   "source": [
    "### Return all possible groupings\n",
    "\n",
    "The `CUBE` modifier to the `GROUP BY` clause prompts Druid to generate all possible permutations of `GROUP` for the columns that we specify.\n",
    "\n",
    "To keep this result set small enough for this notebook, a `HAVING` clause is applied, ensuring only rows in our results that have a `COUNT` of over 1000 are included. You may want to remove this clause yourself to see how the full result set looks."
   ]
  },
  {
   "cell_type": "code",
   "execution_count": null,
   "id": "1b126658-390c-453a-9dd3-a0f6620e4207",
   "metadata": {},
   "outputs": [],
   "source": [
    "sql='''\n",
    "SELECT\n",
    "  \"continent\",\n",
    "  \"browser\",\n",
    "  \"os\",\n",
    "  max(session_length) AS \"max_session\",\n",
    "  count(*) AS \"count\"\n",
    "FROM \"example-koalas-groupby\"\n",
    "WHERE TIME_IN_INTERVAL(\"__time\", '2019-08-25T10:00:00/2019-08-25T18:00:00')\n",
    "AND \"os\" LIKE 'OS %'\n",
    "AND \"continent\" LIKE '%America'\n",
    "GROUP BY CUBE (\n",
    "    \"continent\",\n",
    "    \"os\",\n",
    "    \"browser\"\n",
    "    )\n",
    "HAVING \"count\" > 500\n",
    "'''\n",
    "\n",
    "display.sql(sql)"
   ]
  },
  {
   "cell_type": "markdown",
   "id": "1b6c9b88-837d-4c80-a28d-36184ba63355",
   "metadata": {},
   "source": [
    "## Determine the `GROUP BY` execution plan\n",
    "\n",
    "There are several execution engines might being used for `GROUP BY` operations. `EXPLAIN PLAN` shows specifically which will be used for each type of query.\n",
    "\n",
    "In this section, see `EXPLAIN PLAN` results for some `GROUP BY` queries."
   ]
  },
  {
   "cell_type": "markdown",
   "id": "75560c6b-a979-4fdc-bfcb-0e68bc8c43f1",
   "metadata": {},
   "source": [
    "The following cell contains a `GROUP BY` query that matches the [requirements](https://druid.apache.org/docs/latest/querying/sql-translation#query-types) for the [`timeseries`](https://druid.apache.org/docs/27.0.0/querying/timeseriesquery) execution.\n",
    "\n",
    "Run the following cell to see the `EXPLAIN PLAN` for the query, noting that the `queryType` is `timeseries`."
   ]
  },
  {
   "cell_type": "code",
   "execution_count": null,
   "id": "d6784a75-6b9b-49a3-9465-31820a1af0e2",
   "metadata": {},
   "outputs": [],
   "source": [
    "sql='''\n",
    "SELECT\n",
    "  TIME_FLOOR(\"__time\", 'PT1H') AS \"time\",\n",
    "  count(*) AS \"count\",\n",
    "  sum(session_length) AS \"timetakenms\"\n",
    "FROM \"example-koalas-groupby\"\n",
    "WHERE TIME_IN_INTERVAL(\"__time\", '2019-08-25T00:00:00/2019-08-26T00:00:00')\n",
    "GROUP BY 1\n",
    "'''\n",
    "\n",
    "print(json.dumps(json.loads(sql_client.explain_sql(sql)['PLAN']), indent=2))"
   ]
  },
  {
   "cell_type": "markdown",
   "id": "4eaf8095-b136-4242-aa3f-906d129bba96",
   "metadata": {},
   "source": [
    "Review then run the SQL in the cell below.\n",
    "\n",
    "This `GROUP BY` query additionally groups rows by the operating system (`os`), leading Druid to use the `groupby` query type.\n",
    "\n",
    "Run the cell to retrieve an `EXPLAIN PLAN` for the query above. Notice that the `queryType` is `groupBy`. This indicates that Druid is using the [`groupby`](https://druid.apache.org/docs/latest/querying/groupbyquery) execution engine."
   ]
  },
  {
   "cell_type": "code",
   "execution_count": null,
   "id": "067fc1af-927b-48a8-98f3-485d3959dd99",
   "metadata": {},
   "outputs": [],
   "source": [
    "sql='''\n",
    "SELECT\n",
    "  TIME_FLOOR(\"__time\", 'PT1H') AS \"__time_by_hour\",\n",
    "  \"os\",\n",
    "  count(*) AS \"count\",\n",
    "  sum(session_length) AS \"timetakenms\"\n",
    "FROM \"example-koalas-groupby\"\n",
    "WHERE TIME_IN_INTERVAL(\"__time\", '2019-08-25T04:00:00/2019-08-25T06:00:00')\n",
    "GROUP BY 1,2\n",
    "'''\n",
    "\n",
    "print(json.dumps(json.loads(sql_client.explain_sql(sql)['PLAN']), indent=2))"
   ]
  },
  {
   "cell_type": "markdown",
   "id": "ee7e79d9-796c-432d-8211-8564a1a3e851",
   "metadata": {},
   "source": [
    "The `TopN` execution pattern applies approximation to `GROUP BY` results.\n",
    "\n",
    "Try the [TopN](02-approx-ranking.ipynb) notebook on using approximation with `GROUP BY` queries."
   ]
  },
  {
   "cell_type": "markdown",
   "id": "b4e751b2-7521-40a7-bccf-d54ffb82586b",
   "metadata": {},
   "source": [
    "## Cleanup\n",
    "\n",
    "Run the following cell to drop the table."
   ]
  },
  {
   "cell_type": "code",
   "execution_count": null,
   "id": "b97ca650-73dc-42c6-bb5f-5bc22ffbe424",
   "metadata": {},
   "outputs": [],
   "source": [
    "druid.datasources.drop(\"example-koalas-groupby\")"
   ]
  },
  {
   "cell_type": "markdown",
   "id": "54b8d5fe-ba85-4b5b-9669-0dd47dfbccd1",
   "metadata": {},
   "source": [
    "## Summary\n",
    "\n",
    "* `GROUP BY` can be used at query and ingestion time to combine rows and generate aggregates.\n",
    "* There are a wide range of aggregation functions available.\n",
    "* `GROUP BY` operations can be approximate or accurate.\n",
    "* Transformation and filtering can be incorporated into `GROUP BY` queries.\n",
    "* There are several modes for `GROUP BY` that can be used to generate multiple useful sets of data from one query.\n",
    "* Under the hood, Druid utilizes different native execution plans depending on the pattern of the SQL.\n",
    "\n",
    "## Learn more\n",
    "\n",
    "* Incorporate a `GROUP BY` into your SQL-based ingestion or, if using JSON-based ingestion, enable `rollup`, `queryGranularity`, and a `metricsSpec`\n",
    "* Dig deeper into the `EARLIEST` and `LATEST` aggregations\n",
    "* Try the [TopN](02-approx-ranking.ipynb) notebook on using approximation with `GROUP BY` queries.\n",
    "* Review the available [aggregation functions](https://druid.apache.org/docs/latest/querying/sql-aggregations)\n",
    "* Read more about the [groupby](https://druid.apache.org/docs/latest/querying/groupbyquery) execution engine.\n",
    "* Find out [when each type of query mode is used](https://druid.apache.org/docs/latest/querying/sql-translation#query-types) from the documentation.\n",
    "* Take a [look at](https://www.novixys.com/blog/java-string-format-examples/#31_Date_and_Time_Formatting) other `STRING_FORMAT` options\n",
    "* Review the list [`timezones`](https://www.joda.org/joda-time/timezones.html)."
   ]
  }
 ],
 "metadata": {
  "execution": {
   "allow_errors": true,
   "timeout": 300
  },
  "kernelspec": {
   "display_name": "Python 3 (ipykernel)",
   "language": "python",
   "name": "python3"
  },
  "language_info": {
   "codemirror_mode": {
    "name": "ipython",
    "version": 3
   },
   "file_extension": ".py",
   "mimetype": "text/x-python",
   "name": "python",
   "nbconvert_exporter": "python",
   "pygments_lexer": "ipython3",
   "version": "3.11.5"
  }
 },
 "nbformat": 4,
 "nbformat_minor": 5
}
