{
 "cells": [
  {
   "cell_type": "markdown",
   "id": "ad4e60b6",
   "metadata": {
    "tags": []
   },
   "source": [
    "# Learn the basics of the Druid Window functions\n",
    "\n",
    "<!--\n",
    "  ~ Licensed to the Apache Software Foundation (ASF) under one\n",
    "  ~ or more contributor license agreements.  See the NOTICE file\n",
    "  ~ distributed with this work for additional information\n",
    "  ~ regarding copyright ownership.  The ASF licenses this file\n",
    "  ~ to you under the Apache License, Version 2.0 (the\n",
    "  ~ \"License\"); you may not use this file except in compliance\n",
    "  ~ with the License.  You may obtain a copy of the License at\n",
    "  ~\n",
    "  ~   http://www.apache.org/licenses/LICENSE-2.0\n",
    "  ~\n",
    "  ~ Unless required by applicable law or agreed to in writing,\n",
    "  ~ software distributed under the License is distributed on an\n",
    "  ~ \"AS IS\" BASIS, WITHOUT WARRANTIES OR CONDITIONS OF ANY\n",
    "  ~ KIND, either express or implied.  See the License for the\n",
    "  ~ specific language governing permissions and limitations\n",
    "  ~ under the License.\n",
    "  -->\n",
    "  \n",
    "[Window functions](https://druid.apache.org/docs/latest/querying/sql-array-functions) in Apache Druid produce values based upon the relationship of one row within a window of rows to the other rows within the same window. A window is a group of related rows within a result set. For example, rows with the same value for a specific dimension.\n",
    "\n",
    "This tutorial uses Wikipedia data to demonstrate the basics of how to work with window functions in Druid."
   ]
  },
  {
   "cell_type": "markdown",
   "id": "8d6bbbcb",
   "metadata": {
    "tags": []
   },
   "source": [
    "## Prerequisites\n",
    "\n",
    "This tutorial works with Druid 28.0.0 or later."
   ]
  },
  {
   "cell_type": "code",
   "execution_count": 7,
   "id": "b7f08a52",
   "metadata": {},
   "outputs": [
    {
     "name": "stdout",
     "output_type": "stream",
     "text": [
      "Opening a connection to http://host.docker.internal:8888.\n"
     ]
    },
    {
     "data": {
      "text/plain": [
       "'29.0.0-SNAPSHOT'"
      ]
     },
     "execution_count": 7,
     "metadata": {},
     "output_type": "execute_result"
    }
   ],
   "source": [
    "import druidapi\n",
    "import os\n",
    "\n",
    "if 'DRUID_HOST' not in os.environ.keys():\n",
    "    druid_host=f\"http://localhost:8888\"\n",
    "else:\n",
    "    druid_host=f\"http://{os.environ['DRUID_HOST']}:8888\"\n",
    "    \n",
    "print(f\"Opening a connection to {druid_host}.\")\n",
    "druid = druidapi.jupyter_client(druid_host)\n",
    "\n",
    "display = druid.display\n",
    "sql_client = druid.sql\n",
    "status_client = druid.status\n",
    "\n",
    "status_client.version"
   ]
  },
  {
   "cell_type": "markdown",
   "id": "3b55af57-9c79-4e45-a22c-438c1b94112e",
   "metadata": {
    "tags": []
   },
   "source": [
    "## Load example data\n",
    "\n",
    "The example queries demonstrate a comparisan of the total delta value for a change event in Wikipedia per country. For that reason, we only need the timestamp, countryIsoCode, and delta columns for the source data."
   ]
  },
  {
   "cell_type": "code",
   "execution_count": 22,
   "id": "959e3c9b",
   "metadata": {},
   "outputs": [
    {
     "name": "stderr",
     "output_type": "stream",
     "text": [
      "Loading data, status:[SUCCESS]: 100%|██████████| 100.0/100.0 [00:31<00:00,  3.16it/s]\n"
     ]
    },
    {
     "data": {
      "text/html": [
       "<div class=\"druid\"><table>\n",
       "<tr><th>Position</th><th>Name</th><th>Type</th></tr>\n",
       "<tr><td>1</td><td>__time</td><td>TIMESTAMP</td></tr>\n",
       "<tr><td>2</td><td>countryIsoCode</td><td>VARCHAR</td></tr>\n",
       "<tr><td>3</td><td>delta</td><td>BIGINT</td></tr>\n",
       "</table></div>"
      ],
      "text/plain": [
       "<IPython.core.display.HTML object>"
      ]
     },
     "metadata": {},
     "output_type": "display_data"
    }
   ],
   "source": [
    "sql='''\n",
    "REPLACE INTO \"example_wikipedia_windows\" OVERWRITE ALL\n",
    "WITH \"ext\" AS (SELECT *\n",
    "FROM TABLE(\n",
    "  EXTERN(\n",
    "    '{\"type\":\"http\",\"uris\":[\"https://druid.apache.org/data/wikipedia.json.gz\"]}',\n",
    "    '{\"type\":\"json\"}'\n",
    "  )\n",
    ") EXTEND (\"timestamp\" VARCHAR, \"channel\" VARCHAR, \"delta\" BIGINT))\n",
    "SELECT\n",
    "  TIME_PARSE(\"timestamp\") AS \"__time\",\n",
    "  \"channel\",\n",
    "  \"delta\"\n",
    "FROM \"ext\"\n",
    "PARTITIONED BY DAY\n",
    "'''\n",
    "\n",
    "display.run_task(sql)\n",
    "sql_client.wait_until_ready('example-wikipedia-windows')\n",
    "display.table('example-wikipedia-windows')"
   ]
  },
  {
   "cell_type": "markdown",
   "id": "622f2158-75c9-4b12-bd8a-c92d30994c1f",
   "metadata": {
    "tags": []
   },
   "source": [
    "### Query your data\n",
    "\n",
    "Now, you can query the data. Because this tutorial is running in Jupyter, make sure to limit the size of your query results using `LIMIT`. For example, the following cell selects all columns but limits the results to 3 rows for display purposes.\n"
   ]
  },
  {
   "cell_type": "code",
   "execution_count": null,
   "id": "7b71f7ee-4a07-4843-b217-8b4dcd8557f5",
   "metadata": {},
   "outputs": [],
   "source": [
    "query = \"\"\"\n",
    "SELECT\n",
    "    FLOOR(__time TO MINUTE) as \"time\",\n",
    "    channel,\n",
    "    ABS(delta) AS changes,\n",
    "    sum(ABS(delta)) OVER (PARTITION BY channel ORDER BY FLOOR(__time TO MINUTE) ASC) AS cum_changes\n",
    "FROM example_wikipedia_windows\n",
    "WHERE channel IN ('#kk.wikipedia', '#lt.wikipedia')\n",
    "GROUP BY channel, __time, delta\n",
    "\"\"\"\n",
    "\n",
    "req = sql_client.sql_request(query)\n",
    "req.add_context(\"windowsAreForClosers\", \"true\")\n",
    "display.sql(req)\n"
   ]
  },
  {
   "cell_type": "code",
   "execution_count": 27,
   "id": "694900d0-891f-41bd-9b45-5ae957385244",
   "metadata": {},
   "outputs": [
    {
     "data": {
      "text/html": [
       "<div class=\"druid\"><table>\n",
       "<tr><th>event_time</th><th>channel</th><th>change</th><th>row_no</th><th>rank_no</th><th>dense_rank_no</th><th>pct_rank</th><th>cumulative_dist</th><th>ntile_val</th><th>lag_val</th><th>lead_val</th><th>first_val</th><th>last_val</th></tr>\n",
       "<tr><td>2016-06-27T00:00:00.000Z</td><td>#kk.wikipedia</td><td>1</td><td>1</td><td>1</td><td>1</td><td>0.0</td><td>0.125</td><td>1</td><td></td><td>7</td><td>1</td><td>6900</td></tr>\n",
       "<tr><td>2016-06-27T00:00:00.000Z</td><td>#kk.wikipedia</td><td>7</td><td>2</td><td>2</td><td>2</td><td>0.14285714285714285</td><td>0.25</td><td>1</td><td>1</td><td>56</td><td>1</td><td>6900</td></tr>\n",
       "<tr><td>2016-06-27T00:00:00.000Z</td><td>#kk.wikipedia</td><td>56</td><td>3</td><td>3</td><td>3</td><td>0.2857142857142857</td><td>0.375</td><td>2</td><td>7</td><td>63</td><td>1</td><td>6900</td></tr>\n",
       "<tr><td>2016-06-27T00:00:00.000Z</td><td>#kk.wikipedia</td><td>63</td><td>4</td><td>4</td><td>4</td><td>0.42857142857142855</td><td>0.5</td><td>2</td><td>56</td><td>91</td><td>1</td><td>6900</td></tr>\n",
       "<tr><td>2016-06-27T00:00:00.000Z</td><td>#kk.wikipedia</td><td>91</td><td>5</td><td>5</td><td>5</td><td>0.5714285714285714</td><td>0.625</td><td>3</td><td>63</td><td>2440</td><td>1</td><td>6900</td></tr>\n",
       "<tr><td>2016-06-27T00:00:00.000Z</td><td>#kk.wikipedia</td><td>2440</td><td>6</td><td>6</td><td>6</td><td>0.7142857142857143</td><td>0.75</td><td>3</td><td>91</td><td>2703</td><td>1</td><td>6900</td></tr>\n",
       "<tr><td>2016-06-27T00:00:00.000Z</td><td>#kk.wikipedia</td><td>2703</td><td>7</td><td>7</td><td>7</td><td>0.8571428571428571</td><td>0.875</td><td>4</td><td>2440</td><td>6900</td><td>1</td><td>6900</td></tr>\n",
       "<tr><td>2016-06-27T00:00:00.000Z</td><td>#kk.wikipedia</td><td>6900</td><td>8</td><td>8</td><td>8</td><td>1.0</td><td>1.0</td><td>4</td><td>2703</td><td></td><td>1</td><td>6900</td></tr>\n",
       "<tr><td>2016-06-27T00:00:00.000Z</td><td>#lt.wikipedia</td><td>1</td><td>1</td><td>1</td><td>1</td><td>0.0</td><td>0.1</td><td>1</td><td></td><td>2</td><td>1</td><td>4358</td></tr>\n",
       "<tr><td>2016-06-27T00:00:00.000Z</td><td>#lt.wikipedia</td><td>2</td><td>2</td><td>2</td><td>2</td><td>0.1111111111111111</td><td>0.2</td><td>1</td><td>1</td><td>13</td><td>1</td><td>4358</td></tr>\n",
       "<tr><td>2016-06-27T00:00:00.000Z</td><td>#lt.wikipedia</td><td>13</td><td>3</td><td>3</td><td>3</td><td>0.2222222222222222</td><td>0.3</td><td>1</td><td>2</td><td>28</td><td>1</td><td>4358</td></tr>\n",
       "<tr><td>2016-06-27T00:00:00.000Z</td><td>#lt.wikipedia</td><td>28</td><td>4</td><td>4</td><td>4</td><td>0.3333333333333333</td><td>0.4</td><td>2</td><td>13</td><td>53</td><td>1</td><td>4358</td></tr>\n",
       "<tr><td>2016-06-27T00:00:00.000Z</td><td>#lt.wikipedia</td><td>53</td><td>5</td><td>5</td><td>5</td><td>0.4444444444444444</td><td>0.5</td><td>2</td><td>28</td><td>56</td><td>1</td><td>4358</td></tr>\n",
       "<tr><td>2016-06-27T00:00:00.000Z</td><td>#lt.wikipedia</td><td>56</td><td>6</td><td>6</td><td>6</td><td>0.5555555555555556</td><td>0.6</td><td>2</td><td>53</td><td>59</td><td>1</td><td>4358</td></tr>\n",
       "<tr><td>2016-06-27T00:00:00.000Z</td><td>#lt.wikipedia</td><td>59</td><td>7</td><td>7</td><td>7</td><td>0.6666666666666666</td><td>0.7</td><td>3</td><td>56</td><td>391</td><td>1</td><td>4358</td></tr>\n",
       "<tr><td>2016-06-27T00:00:00.000Z</td><td>#lt.wikipedia</td><td>391</td><td>8</td><td>8</td><td>8</td><td>0.7777777777777778</td><td>0.8</td><td>3</td><td>59</td><td>894</td><td>1</td><td>4358</td></tr>\n",
       "<tr><td>2016-06-27T00:00:00.000Z</td><td>#lt.wikipedia</td><td>894</td><td>9</td><td>9</td><td>9</td><td>0.8888888888888888</td><td>0.9</td><td>4</td><td>391</td><td>4358</td><td>1</td><td>4358</td></tr>\n",
       "<tr><td>2016-06-27T00:00:00.000Z</td><td>#lt.wikipedia</td><td>4358</td><td>10</td><td>10</td><td>10</td><td>1.0</td><td>1.0</td><td>4</td><td>894</td><td></td><td>1</td><td>4358</td></tr>\n",
       "</table></div>"
      ],
      "text/plain": [
       "<IPython.core.display.HTML object>"
      ]
     },
     "metadata": {},
     "output_type": "display_data"
    }
   ],
   "source": [
    "query = \"\"\"\n",
    "SELECT FLOOR(__time TO DAY) AS event_time,\n",
    "    channel,\n",
    "    ABS(delta) AS change,\n",
    "    ROW_NUMBER() OVER w AS row_no,\n",
    "    RANK() OVER w AS rank_no,\n",
    "    DENSE_RANK() OVER w AS dense_rank_no,\n",
    "    PERCENT_RANK() OVER w AS pct_rank,\n",
    "    CUME_DIST() OVER w AS cumulative_dist,\n",
    "    NTILE(4) OVER w AS ntile_val,\n",
    "    LAG(ABS(delta), 1, 0) OVER w AS lag_val,\n",
    "    LEAD(ABS(delta), 1, 0) OVER w AS lead_val,\n",
    "    FIRST_VALUE(ABS(delta)) OVER w AS first_val,\n",
    "    LAST_VALUE(ABS(delta)) OVER w AS last_val\n",
    "FROM example_wikipedia_windows\n",
    "WHERE channel IN ('#kk.wikipedia', '#lt.wikipedia')\n",
    "GROUP BY channel, ABS(delta), FLOOR(__time TO DAY) \n",
    "WINDOW w AS (PARTITION BY channel ORDER BY ABS(delta) ASC)\n",
    "\"\"\"\n",
    "\n",
    "req = sql_client.sql_request(query)\n",
    "req.add_context(\"windowsAreForClosers\", \"true\")\n",
    "display.sql(req)"
   ]
  },
  {
   "cell_type": "markdown",
   "id": "950b2cc4-9935-497d-a3f5-e89afcc85965",
   "metadata": {
    "tags": []
   },
   "source": [
    "In addition to the query, there are a few additional things you can define within the payload. For a full list, see [Druid SQL API](https://druid.apache.org/docs/latest/querying/sql-api.html)\n",
    "\n",
    "This tutorial uses a context parameter and a dynamic parameter.\n",
    "\n",
    "Context parameters can control certain characteristics related to a query, such as configuring a custom timeout. For information, see [Context parameters](https://druid.apache.org/docs/latest/querying/query-context.html). In the example query that follows, the context block assigns a custom `sqlQueryID` to the query. Typically, the `sqlQueryId` is autogenerated. With a custom ID, you can use it to reference the query more easily like when you need to cancel a query.\n",
    "\n",
    "\n",
    "Druid supports dynamic parameters, so you can either define certain parameters within the query explicitly or insert a `?` as a placeholder and define it in a parameters block. In the following cell, the `?` gets bound to the timestmap value of `2016-06-27` at execution time. For more information, see [Dynamic parameters](https://druid.apache.org/docs/latest/querying/sql.html#dynamic-parameters).\n",
    "\n",
    "\n",
    "The following cell selects rows where the `__time` column contains a value greater than the value defined dynamically in `parameters` and sets a custom `sqlQueryId`."
   ]
  },
  {
   "cell_type": "code",
   "execution_count": null,
   "id": "c3860d64-fba6-43bc-80e2-404f5b3b9baa",
   "metadata": {},
   "outputs": [],
   "source": [
    "endpoint = \"/druid/v2/sql\"\n",
    "print(druid_host+endpoint)\n",
    "http_method = \"POST\"\n",
    "\n",
    "payload = json.dumps({\n",
    "  \"query\": \"SELECT * FROM wikipedia_api WHERE __time > ? LIMIT 1\",\n",
    "  \"context\": {\n",
    "    \"sqlQueryId\" : \"important-query\" \n",
    "    },\n",
    "  \"parameters\": [\n",
    "    { \"type\": \"TIMESTAMP\", \"value\": \"2016-06-27\"}\n",
    "  ]\n",
    "})\n",
    "headers = {'Content-Type': 'application/json'}\n",
    "\n",
    "response = requests.request(http_method, druid_host+endpoint, headers=headers, data=payload)\n",
    "print(json.dumps(json.loads(response.text), indent=4))"
   ]
  },
  {
   "cell_type": "markdown",
   "id": "8fbfa1fa-2cde-46d5-8107-60bd436fb64e",
   "metadata": {
    "tags": []
   },
   "source": [
    "## Next steps\n",
    "\n",
    "This tutorial covers the some of the basics related to the Druid API. To learn more about the kinds of things you can do, see the API documentation:\n",
    "\n",
    "- [Druid SQL API](https://druid.apache.org/docs/latest/querying/sql-api.html)\n",
    "- [API reference](https://druid.apache.org/docs/latest/operations/api-reference.html)\n",
    "\n",
    "You can also try out the [druid-client](https://github.com/paul-rogers/druid-client), a Python library for Druid created by a Druid contributor.\n",
    "\n",
    "\n",
    "\n"
   ]
  }
 ],
 "metadata": {
  "kernelspec": {
   "display_name": "Python 3 (ipykernel)",
   "language": "python",
   "name": "python3"
  },
  "language_info": {
   "codemirror_mode": {
    "name": "ipython",
    "version": 3
   },
   "file_extension": ".py",
   "mimetype": "text/x-python",
   "name": "python",
   "nbconvert_exporter": "python",
   "pygments_lexer": "ipython3",
   "version": "3.11.5"
  },
  "vscode": {
   "interpreter": {
    "hash": "b0fa6594d8f4cbf19f97940f81e996739fb7646882a419484c72d19e05852a7e"
   }
  }
 },
 "nbformat": 4,
 "nbformat_minor": 5
}
