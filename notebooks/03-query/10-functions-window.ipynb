{
 "cells": [
  {
   "cell_type": "markdown",
   "id": "ad4e60b6",
   "metadata": {
    "tags": []
   },
   "source": [
    "# Learn the basics of the Druid Window functions\n",
    "\n",
    "<!--\n",
    "  ~ Licensed to the Apache Software Foundation (ASF) under one\n",
    "  ~ or more contributor license agreements.  See the NOTICE file\n",
    "  ~ distributed with this work for additional information\n",
    "  ~ regarding copyright ownership.  The ASF licenses this file\n",
    "  ~ to you under the Apache License, Version 2.0 (the\n",
    "  ~ \"License\"); you may not use this file except in compliance\n",
    "  ~ with the License.  You may obtain a copy of the License at\n",
    "  ~\n",
    "  ~   http://www.apache.org/licenses/LICENSE-2.0\n",
    "  ~\n",
    "  ~ Unless required by applicable law or agreed to in writing,\n",
    "  ~ software distributed under the License is distributed on an\n",
    "  ~ \"AS IS\" BASIS, WITHOUT WARRANTIES OR CONDITIONS OF ANY\n",
    "  ~ KIND, either express or implied.  See the License for the\n",
    "  ~ specific language governing permissions and limitations\n",
    "  ~ under the License.\n",
    "  -->\n",
    "  \n",
    "[Window functions](https://druid.apache.org/docs/latest/querying/sql-array-functions) in Apache Druid produce values based upon the relationship of one row within a window of rows to the other rows within the same window. A window is a group of related rows within a result set. For example, rows with the same value for a specific dimension.\n",
    "\n",
    "This tutorial uses Wikipedia data to demonstrate the basics of how to work with window functions in Druid."
   ]
  },
  {
   "cell_type": "markdown",
   "id": "8d6bbbcb",
   "metadata": {
    "tags": []
   },
   "source": [
    "## Prerequisites\n",
    "\n",
    "This tutorial works with Druid 28.0.0 or later.\n",
    "\n",
    "> Note that window functions are an exerimental feature."
   ]
  },
  {
   "cell_type": "code",
   "execution_count": null,
   "id": "b7f08a52",
   "metadata": {},
   "outputs": [],
   "source": [
    "import druidapi\n",
    "import os\n",
    "\n",
    "if 'DRUID_HOST' not in os.environ.keys():\n",
    "    druid_host=f\"http://localhost:8888\"\n",
    "else:\n",
    "    druid_host=f\"http://{os.environ['DRUID_HOST']}:8888\"\n",
    "    \n",
    "print(f\"Opening a connection to {druid_host}.\")\n",
    "druid = druidapi.jupyter_client(druid_host)\n",
    "\n",
    "display = druid.display\n",
    "sql_client = druid.sql\n",
    "status_client = druid.status\n",
    "\n",
    "status_client.version"
   ]
  },
  {
   "cell_type": "markdown",
   "id": "3b55af57-9c79-4e45-a22c-438c1b94112e",
   "metadata": {
    "tags": []
   },
   "source": [
    "## Load example data\n",
    "\n",
    "The example queries demonstrate a comparisan of the total delta value for a change event in Wikipedia per country. For that reason, we only need the timestamp, countryIsoCode, and delta columns for the source data."
   ]
  },
  {
   "cell_type": "code",
   "execution_count": null,
   "id": "959e3c9b",
   "metadata": {},
   "outputs": [],
   "source": [
    "sql='''\n",
    "REPLACE INTO \"example_wikipedia_windows\" OVERWRITE ALL\n",
    "WITH \"ext\" AS (SELECT *\n",
    "FROM TABLE(\n",
    "  EXTERN(\n",
    "    '{\"type\":\"http\",\"uris\":[\"https://druid.apache.org/data/wikipedia.json.gz\"]}',\n",
    "    '{\"type\":\"json\"}'\n",
    "  )\n",
    ") EXTEND (\"timestamp\" VARCHAR, \"channel\" VARCHAR, \"delta\" BIGINT))\n",
    "SELECT\n",
    "  TIME_PARSE(\"timestamp\") AS \"__time\",\n",
    "  \"channel\",\n",
    "  \"delta\"\n",
    "FROM \"ext\"\n",
    "PARTITIONED BY DAY\n",
    "'''\n",
    "\n",
    "display.run_task(sql)\n",
    "sql_client.wait_until_ready('example-wikipedia-windows')\n",
    "display.table('example-wikipedia-windows')"
   ]
  },
  {
   "cell_type": "markdown",
   "id": "622f2158-75c9-4b12-bd8a-c92d30994c1f",
   "metadata": {
    "tags": []
   },
   "source": [
    "## Example window functions queries\n",
    "\n",
    "When your data becomes available, you can run window functions queries the data. The following query uses the window function with the SUM aggregation to evaluate the cumulative changes over time within a window.\n",
    "\n",
    "The OVER clause defines the window:\n",
    "- PARTITION BY spefies the dimension that\n",
    "- ORDER BY orders the rows in the window according to the `__time` column.\n",
    "\n",
    "For simplicity's sake, the query limits the query to two channels. You can experiment with adding more channels to the query. \n"
   ]
  },
  {
   "cell_type": "code",
   "execution_count": null,
   "id": "7b71f7ee-4a07-4843-b217-8b4dcd8557f5",
   "metadata": {},
   "outputs": [],
   "source": [
    "query = \"\"\"\n",
    "SELECT\n",
    "    FLOOR(__time TO MINUTE) as \"time\",\n",
    "    channel,\n",
    "    ABS(delta) AS changes,\n",
    "    sum(ABS(delta)) OVER (PARTITION BY channel ORDER BY FLOOR(__time TO MINUTE) ASC) AS cum_changes\n",
    "FROM example_wikipedia_windows\n",
    "WHERE channel IN ('#kk.wikipedia', '#lt.wikipedia')\n",
    "GROUP BY channel, __time, delta\n",
    "\"\"\"\n",
    "\n",
    "req = sql_client.sql_request(query)\n",
    "# Window functions are currently experimental. Set the enableWindiowing\n",
    "# context parameter to \"true\" to use them.\n",
    "req.add_context(\"enableWindowing\", \"true\")\n",
    "display.sql(req)\n"
   ]
  },
  {
   "cell_type": "markdown",
   "id": "c21a4b38-3e86-4209-bf47-393b72fc4c7e",
   "metadata": {},
   "source": [
    "The following query illustrates all of the built in window functions using the same data:\n",
    "\n",
    "* ROW_NUMBER which returns the numeric value for the row within the window\n",
    "* RANK which returns the numeric rank of the row within the window\n",
    "* DENSE_RANK which returns the rank of the row with no gaps. For example, if two rows tie for 1, the next row is ranked 2\n",
    "* PERCENT_RANK which returns the percentage rank of the row within the window according to the formula (rank - 1)/(total window rows - 1)\n",
    "* CUME_DIST which returns the cumulative distribution of the current row within the window calculated as number of window (rows at the same rank or higher than current row) / (total window rows)\n",
    "* NTILE which divides the number of results as evently as possible into a number of tiles as and returns the value of tile for the row\n",
    "* LAG which returns the value for the row that preceeds the current row by a given offset\n",
    "* LEAD which returns the value for the row that follows the current row by a given offset\n",
    "* FIRST_VALUE which returns the value for the expression for the first row within the window\n",
    "* LAST_VALUE which returns the value for the expression for the last row within the window\n",
    "\n",
    "See [Window functions](https://druid.apache.org/docs/latest/querying/sql-window-functions) for syntax and more detail.\n",
    "\n",
    "The query also demonstrates how you can alias a window within the SELECT clause and define it later with the WINDOW keyword."
   ]
  },
  {
   "cell_type": "code",
   "execution_count": null,
   "id": "694900d0-891f-41bd-9b45-5ae957385244",
   "metadata": {},
   "outputs": [],
   "source": [
    "query = \"\"\"\n",
    "SELECT FLOOR(__time TO DAY) AS event_time,\n",
    "    channel,\n",
    "    ABS(delta) AS change,\n",
    "    ROW_NUMBER() OVER w AS row_no,\n",
    "    RANK() OVER w AS rank_no,\n",
    "    DENSE_RANK() OVER w AS dense_rank_no,\n",
    "    PERCENT_RANK() OVER w AS pct_rank,\n",
    "    CUME_DIST() OVER w AS cumulative_dist,\n",
    "    NTILE(4) OVER w AS ntile_val,\n",
    "    LAG(ABS(delta), 1, 0) OVER w AS lag_val,\n",
    "    LEAD(ABS(delta), 1, 0) OVER w AS lead_val,\n",
    "    FIRST_VALUE(ABS(delta)) OVER w AS first_val,\n",
    "    LAST_VALUE(ABS(delta)) OVER w AS last_val\n",
    "FROM example_wikipedia_windows\n",
    "WHERE channel IN ('#kk.wikipedia', '#lt.wikipedia')\n",
    "GROUP BY channel, ABS(delta), FLOOR(__time TO DAY) \n",
    "WINDOW w AS (PARTITION BY channel ORDER BY ABS(delta) ASC)\n",
    "\"\"\"\n",
    "\n",
    "req = sql_client.sql_request(query)\n",
    "req.add_context(\"windowsAreForClosers\", \"true\")\n",
    "display.sql(req)"
   ]
  }
 ],
 "metadata": {
  "kernelspec": {
   "display_name": "Python 3 (ipykernel)",
   "language": "python",
   "name": "python3"
  },
  "language_info": {
   "codemirror_mode": {
    "name": "ipython",
    "version": 3
   },
   "file_extension": ".py",
   "mimetype": "text/x-python",
   "name": "python",
   "nbconvert_exporter": "python",
   "pygments_lexer": "ipython3",
   "version": "3.11.5"
  },
  "vscode": {
   "interpreter": {
    "hash": "b0fa6594d8f4cbf19f97940f81e996739fb7646882a419484c72d19e05852a7e"
   }
  }
 },
 "nbformat": 4,
 "nbformat_minor": 5
}
