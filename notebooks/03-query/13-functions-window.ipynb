{
 "cells": [
  {
   "cell_type": "markdown",
   "id": "ad4e60b6",
   "metadata": {
    "tags": []
   },
   "source": [
    "# Learn the basics of the Druid window functions\n",
    "\n",
    "<!--\n",
    "  ~ Licensed to the Apache Software Foundation (ASF) under one\n",
    "  ~ or more contributor license agreements.  See the NOTICE file\n",
    "  ~ distributed with this work for additional information\n",
    "  ~ regarding copyright ownership.  The ASF licenses this file\n",
    "  ~ to you under the Apache License, Version 2.0 (the\n",
    "  ~ \"License\"); you may not use this file except in compliance\n",
    "  ~ with the License.  You may obtain a copy of the License at\n",
    "  ~\n",
    "  ~   http://www.apache.org/licenses/LICENSE-2.0\n",
    "  ~\n",
    "  ~ Unless required by applicable law or agreed to in writing,\n",
    "  ~ software distributed under the License is distributed on an\n",
    "  ~ \"AS IS\" BASIS, WITHOUT WARRANTIES OR CONDITIONS OF ANY\n",
    "  ~ KIND, either express or implied.  See the License for the\n",
    "  ~ specific language governing permissions and limitations\n",
    "  ~ under the License.\n",
    "  -->\n",
    "\n",
    "This tutorial demonstrates how to work with [window functions](https://druid.apache.org/docs/latest/querying/sql-window-functions/#window-function-reference). In this tutorial you perform the following tasks:\n",
    "\n",
    "- Task 1\n",
    "- Task 2\n",
    "- Task 3\n",
    "- etc"
   ]
  },
  {
   "cell_type": "markdown",
   "id": "8d6bbbcb",
   "metadata": {
    "tags": []
   },
   "source": [
    "## Prerequisites\n",
    "\n",
    "This tutorial works with Druid 31 or later.\n",
    "\n",
    "Launch this tutorial and all prerequisites using the `druid-jupyter` profile of the Docker Compose file for Jupyter-based Druid tutorials. For more information, see the Learn Druid repository [readme](https://github.com/implydata/learn-druid)."
   ]
  },
  {
   "cell_type": "markdown",
   "id": "56e7e84e-37b5-4e0c-9135-70a062f0098c",
   "metadata": {},
   "source": [
    "## Initialization\n",
    "\n",
    "The following cells set up the notebook and learning environment ready for use."
   ]
  },
  {
   "cell_type": "markdown",
   "id": "d17919fd-0a44-4938-a2f9-5c447d4d4834",
   "metadata": {},
   "source": [
    "### Set up a connection to Apache Druid\n",
    "\n",
    "Run the next cell to set up the Druid Python client's connection to Apache Druid.\n",
    "\n",
    "If successful, the Druid version number will be shown in the output."
   ]
  },
  {
   "cell_type": "code",
   "execution_count": null,
   "id": "b7f08a52",
   "metadata": {},
   "outputs": [],
   "source": [
    "import druidapi\n",
    "import os\n",
    "\n",
    "druid_headers = {'Content-Type': 'application/json'}\n",
    "\n",
    "if 'DRUID_HOST' not in os.environ.keys():\n",
    "    druid_host=f\"http://localhost:8888\"\n",
    "else:\n",
    "    druid_host=f\"http://{os.environ['DRUID_HOST']}:8888\"\n",
    "\n",
    "print(f\"Opening a connection to {druid_host}.\")\n",
    "druid = druidapi.jupyter_client(druid_host)\n",
    "display = druid.display\n",
    "sql_client = druid.sql\n",
    "status_client = druid.status\n",
    "\n",
    "status_client.version"
   ]
  },
  {
   "cell_type": "markdown",
   "id": "3b55af57-9c79-4e45-a22c-438c1b94112e",
   "metadata": {
    "tags": []
   },
   "source": [
    "## Create a table using batch ingestion\n",
    "\n",
    "Run the following cell to create a table using batch ingestion. Only the channel, user, and delta columns are ingested.\n",
    "\n",
    "When completed, you'll see a description of the final table."
   ]
  },
  {
   "cell_type": "code",
   "execution_count": null,
   "id": "959e3c9b",
   "metadata": {},
   "outputs": [],
   "source": [
    "table_name = 'example-wikipedia-windows'\n",
    "\n",
    "sql='''\n",
    "REPLACE INTO \"''' + table_name + '''\" OVERWRITE ALL\n",
    "WITH \"ext\" AS (SELECT *\n",
    "FROM TABLE(\n",
    "  EXTERN(\n",
    "    '{\"type\":\"http\",\"uris\":[\"https://druid.apache.org/data/wikipedia.json.gz\"]}',\n",
    "    '{\"type\":\"json\"}'\n",
    "  )\n",
    ") EXTEND (\"timestamp\" VARCHAR, \"channel\" VARCHAR, \"user\" VARCHAR, \"delta\" BIGINT))\n",
    "SELECT\n",
    "  TIME_PARSE(\"timestamp\") AS \"__time\",\n",
    "  \"channel\",\n",
    "  \"user\",\n",
    "  \"delta\"\n",
    "FROM \"ext\"\n",
    "PARTITIONED BY DAY\n",
    "'''\n",
    "\n",
    "display.run_task(sql)\n",
    "sql_client.wait_until_ready(table_name)\n",
    "display.table(table_name)"
   ]
  },
  {
   "cell_type": "markdown",
   "id": "a1efa147-a438-40d9-ad37-602d2d928f93",
   "metadata": {},
   "source": [
    "## Using window functions with ordered windows\n",
    "\n",
    "Run the following cell to produce an hourly activity timeline by channel."
   ]
  },
  {
   "cell_type": "code",
   "execution_count": null,
   "id": "7b71f7ee-4a07-4843-b217-8b4dcd8557f5",
   "metadata": {},
   "outputs": [],
   "source": [
    "sql = f\"\"\"\n",
    "SELECT\n",
    "    TIME_FLOOR(__time, 'PT1H') as \"period\", \n",
    "    channel,\n",
    "    user,\n",
    "    SUM(delta) AS \"net_user_changes\"\n",
    "FROM \"{table_name}\"\n",
    "WHERE channel IN ('#kk.wikipedia', '#lt.wikipedia')\n",
    "  AND TIME_IN_INTERVAL(\"__time\",'2016-06-27/P1D')\n",
    "GROUP BY 1, 2, 3\n",
    "ORDER BY 1, 2\n",
    "\"\"\"\n",
    "\n",
    "display.sql(sql)"
   ]
  },
  {
   "cell_type": "markdown",
   "id": "f8f5347c-0874-4590-bf12-ff8fb7772d1c",
   "metadata": {},
   "source": [
    "In the following query, a window function is added. This gives a ranking for each row.\n",
    "\n",
    "* RANK is the [window function](https://druid.apache.org/docs/latest/querying/sql-window-functions/#window-function-reference) applied.\n",
    "* The ORDER BY clause specifies how to generate the rank itself.\n",
    "\n",
    "Run the cell to see the results."
   ]
  },
  {
   "cell_type": "code",
   "execution_count": null,
   "id": "d8e15cee-ef40-4123-a18d-2054115d2df5",
   "metadata": {},
   "outputs": [],
   "source": [
    "sql = f\"\"\"\n",
    "SELECT\n",
    "    TIME_FLOOR(__time, 'PT1H') as \"period\", \n",
    "    channel,\n",
    "    user,\n",
    "    SUM(delta) AS \"net_user_changes\",\n",
    "    RANK( ) OVER ( ORDER BY SUM(delta) DESC ) AS \"rank_edits\"\n",
    "FROM \"{table_name}\"\n",
    "WHERE channel IN ('#kk.wikipedia', '#lt.wikipedia')\n",
    "  AND TIME_IN_INTERVAL(\"__time\",'2016-06-27/P1D')\n",
    "GROUP BY 1, 2, 3\n",
    "ORDER BY 1, 2\n",
    "\"\"\"\n",
    "\n",
    "display.sql(sql)"
   ]
  },
  {
   "cell_type": "markdown",
   "id": "25a3489a-f446-4a26-bf21-5728681f3e5d",
   "metadata": {},
   "source": [
    "Window functions can be used together. In the next query, another RANK function is added, `rank_editors`, which adds a rank for each row according to the number of users in each group."
   ]
  },
  {
   "cell_type": "code",
   "execution_count": null,
   "id": "71c7de02-57ff-497e-914f-583f57125522",
   "metadata": {},
   "outputs": [],
   "source": [
    "sql = f\"\"\"\n",
    "SELECT\n",
    "    TIME_FLOOR(__time, 'PT1H') as \"period\", \n",
    "    RANK( ) OVER ( ORDER BY SUM(delta) DESC ) AS \"rank_edits\",\n",
    "    RANK( ) OVER ( ORDER BY COUNT(DISTINCT user) DESC ) AS \"rank_editors\"\n",
    "FROM \"{table_name}\"\n",
    "WHERE channel = '#en.wikipedia'\n",
    "AND TIME_IN_INTERVAL(\"__time\",'2016-06-27/P1D')\n",
    "GROUP BY 1\n",
    "ORDER BY 3\n",
    "\"\"\"\n",
    "\n",
    "display.sql(sql)"
   ]
  },
  {
   "cell_type": "markdown",
   "id": "8f494135-8fe2-4e8e-a963-ad7cf68adb03",
   "metadata": {},
   "source": [
    "Notice that because RANK was used, some rankings for `rank_editors` are duplicated.\n",
    "\n",
    "You may want to adjust the SQL above to use DENSE_RANK, which ensures all rankings are unique, and PERCENT_RANK, which divides the RANK over a count of the rows."
   ]
  },
  {
   "cell_type": "markdown",
   "id": "5b2e83ff-fb8a-453b-a7ff-8ef0e4b92af7",
   "metadata": {},
   "source": [
    "The following query shows two more useful functions:\n",
    "\n",
    "* ROW_NUMBER gives each row a monotonic result order by calculating the number of distinct users.\n",
    "* NTILE splits rows into buckets of (near to) equal size, and gives each row a bucket number - again based on the count of distinct users.\n",
    "\n",
    "Notice the GROUP BY clause causes each row to relate to a single channel. When the ORDER BY and LIMIT are applied, that means the top 10 channels by edits are returned, but the ROW_NUMBER and NTILE concern _all_ result rows."
   ]
  },
  {
   "cell_type": "code",
   "execution_count": null,
   "id": "694900d0-891f-41bd-9b45-5ae957385244",
   "metadata": {},
   "outputs": [],
   "source": [
    "sql = f\"\"\"\n",
    "SELECT \n",
    "    channel,\n",
    "    SUM(delta) AS \"edits\",\n",
    "    ROW_NUMBER()   OVER (  ORDER BY COUNT(DISTINCT user) DESC ) AS row_no,\n",
    "    NTILE(6)       OVER (  ORDER BY COUNT(DISTINCT user) DESC ) AS ntile_val\n",
    "FROM \"{table_name}\"\n",
    "WHERE TIME_IN_INTERVAL(\"__time\",'2016-06-27/P1D')\n",
    "GROUP BY 1\n",
    "ORDER BY 2 DESC\n",
    "LIMIT 10\n",
    "\"\"\"\n",
    "\n",
    "display.sql(sql)"
   ]
  },
  {
   "cell_type": "markdown",
   "id": "74368b02-8e0b-41d7-b46b-30da3a3076bd",
   "metadata": {},
   "source": [
    "## Using window functions with partitioned windows\n",
    "\n",
    "PARTITION BY in the OVER clause calculates a window function result using other rows that share the same value in the given dimension.\n",
    "\n",
    "In the query below:\n",
    "\n",
    "* `total_user_changes` adds the sum number of edits made by the same user to each row. \n",
    "* `total_channel_changes`  adds the sum number of edits made in the same channel to each row.\n",
    "\n",
    "Run the cell to see the results generated in over five minutes worth of data."
   ]
  },
  {
   "cell_type": "code",
   "execution_count": null,
   "id": "7283391f-7258-474c-9a25-bcb5a3e7b1fd",
   "metadata": {},
   "outputs": [],
   "source": [
    "sql = f\"\"\"\n",
    "SELECT\n",
    "    TIME_FLOOR(__time, 'PT1H') as time_hour, channel, user,\n",
    "    SUM(delta) edits,\n",
    "    SUM(SUM(delta)) OVER (PARTITION BY user ) AS total_user_edits,\n",
    "    SUM(SUM(delta)) OVER (PARTITION BY channel ) AS total_channel_edits\n",
    "FROM \"{table_name}\"\n",
    "WHERE TIME_IN_INTERVAL(\"__time\",'2016-06-27/PT5M')\n",
    "GROUP BY TIME_FLOOR(__time, 'PT1H'),2,3\n",
    "ORDER BY channel,TIME_FLOOR(__time, 'PT1H'), user\n",
    "\"\"\"\n",
    "\n",
    "display.sql(sql)"
   ]
  },
  {
   "cell_type": "markdown",
   "id": "83b4016b-03ec-4b0b-abcd-e096bb82402a",
   "metadata": {},
   "source": [
    "Notice that all rows for `#en.wikipedia` have the same `total_channel_edits`.\n",
    "\n",
    "The GROUP BY clause ensures that each result is for a single time period on a single channel. Unlike many of the other users, notice that `Lsjbot` has made multiple edits across multiple channels in the same period: one is `#ceb.wikipedia` - can you spot the others?"
   ]
  },
  {
   "cell_type": "markdown",
   "id": "3faa66a6-4e54-41f2-bd9a-bb0a5132b171",
   "metadata": {},
   "source": [
    "## Using aggregate functions with partitioned windows\n",
    "\n",
    "Many aggregate functions can also be used with partitioned windows.\n",
    "\n",
    "Run the following query, where a number of standard aggregations have been included.\n",
    "\n",
    "A specific time period, user string pattern, and HAVING are used to make the results more readible."
   ]
  },
  {
   "cell_type": "code",
   "execution_count": null,
   "id": "b6c56fed-b91b-40dd-90ad-ad675f4d68a1",
   "metadata": {},
   "outputs": [],
   "source": [
    "sql=f\"\"\"\n",
    "SELECT user,\n",
    "    channel,\n",
    "    SUM(delta) AS \"edits\",\n",
    "    AVG(SUM(delta)) OVER (PARTITION BY user) AS \"user_average_edits\",\n",
    "    MAX(SUM(delta)) OVER (PARTITION BY user) AS \"user_most_edits\",\n",
    "    COUNT(channel) OVER (PARTITION BY user) AS \"user_channel_count\"\n",
    "FROM \"{table_name}\"\n",
    "WHERE TIME_IN_INTERVAL(\"__time\",'2016-06-27/P1D')\n",
    "AND user LIKE 'L%'\n",
    "GROUP BY 1, 2\n",
    "HAVING SUM(delta) > 5000\n",
    "\"\"\"\n",
    "\n",
    "display.sql(sql)"
   ]
  },
  {
   "cell_type": "markdown",
   "id": "023ef0b8-2d9e-4364-8bb3-064afae0c42e",
   "metadata": {},
   "source": [
    "Notice that the `user...` aggregations contain the PARTITION clause. These aggregates are therefore specific to the `user` given in each row."
   ]
  },
  {
   "cell_type": "markdown",
   "id": "622f2158-75c9-4b12-bd8a-c92d30994c1f",
   "metadata": {
    "tags": []
   },
   "source": [
    "## Window functions with ordered partition windows\n",
    "\n",
    "You can combine the two window types within a the query to perform ordered calculations within each partition of data.\n",
    "\n",
    "The following query ranks user hourly activity within the channel:"
   ]
  },
  {
   "cell_type": "code",
   "execution_count": null,
   "id": "20f1317f-a24a-4dc1-aaa0-7a7538c880e9",
   "metadata": {},
   "outputs": [],
   "source": [
    "sql = f\"\"\"\n",
    "SELECT\n",
    "    channel, \n",
    "    TIME_FLOOR(__time, 'PT1H') as time_hour, \n",
    "    user,\n",
    "    SUM(delta) hourly_user_changes,\n",
    "    RANK() OVER (PARTITION BY channel ORDER BY SUM(delta) DESC) AS rank_within_channel_day\n",
    "FROM \"{table_name}\"\n",
    "WHERE channel IN ('#kk.wikipedia', '#lt.wikipedia')\n",
    "  AND __time BETWEEN '2016-06-27' AND '2016-06-28'\n",
    "GROUP BY 1, TIME_FLOOR(__time, 'PT1H'),3\n",
    "ORDER BY channel, 5\n",
    "\"\"\"\n",
    "\n",
    "display.sql(sql)\n"
   ]
  },
  {
   "cell_type": "markdown",
   "id": "69e8ed88-2386-48c2-bc70-b299dd8ac016",
   "metadata": {},
   "source": [
    "## Limiting windows\n",
    "\n",
    "Use ROWS BETWEEN to limit the set of result rows to be used.\n",
    "\n",
    "In the following query, \n",
    "\n",
    "`<range start>` and `<range end>` can take on values:\n",
    "UNBOUNDED PRECEDING   - from the beginning of the partition as order by the \\<order expression\\>\n",
    "N ROWS PRECEDING    - N rows before the current row as ordered by the \\<order expression\\>\n",
    "CURRENT ROW         - the current row\n",
    "N ROWS FOLLOWING    - N rows after the current row as ordered by the \\<order expression\\>\n",
    "UNBOUNDED FOLLOWING - to the end of the partition as ordered by the \\<order expression\\>\n",
    "\n",
    "The following query uses a few different window frames overall activity by channel: "
   ]
  },
  {
   "cell_type": "code",
   "execution_count": null,
   "id": "7dc8d45d-8b20-4c01-a7a8-7383e70116e8",
   "metadata": {},
   "outputs": [],
   "source": [
    "sql = f\"\"\"\n",
    "SELECT\n",
    "    channel, \n",
    "    TIME_FLOOR(__time, 'PT1H')      AS time_hour, \n",
    "    SUM(delta)                      AS hourly_channel_changes,\n",
    "    SUM(SUM(delta)) OVER (   \n",
    "                         PARTITION BY channel \n",
    "                         ORDER BY TIME_FLOOR(__time, 'PT1H') \n",
    "                         ROWS BETWEEN UNBOUNDED PRECEDING AND CURRENT ROW\n",
    "                     ) AS cumulative_activity_in_channel,\n",
    "    SUM(SUM(delta)) OVER ( \n",
    "                    PARTITION BY channel \n",
    "                    ORDER BY TIME_FLOOR(__time, 'PT1H') \n",
    "                    ROWS BETWEEN 4 PRECEDING AND CURRENT ROW\n",
    "                  )    AS csum5,\n",
    "    COUNT(1) OVER ( \n",
    "                    PARTITION BY channel \n",
    "                    ORDER BY TIME_FLOOR(__time, 'PT1H') \n",
    "                    ROWS BETWEEN 4 PRECEDING AND CURRENT ROW\n",
    "                  )           AS count5\n",
    "FROM \"{table_name}\"\n",
    "WHERE channel = '#en.wikipedia'\n",
    "  AND __time BETWEEN '2016-06-27' AND '2016-06-28'\n",
    "GROUP BY 1, TIME_FLOOR(__time, 'PT1H')\n",
    "\"\"\"\n",
    "\n",
    "display.sql(sql)"
   ]
  },
  {
   "cell_type": "markdown",
   "id": "eab62c41-f8bb-4c2e-8ab1-4d4f48c1767e",
   "metadata": {},
   "source": [
    "This example uses the WINDOW clause to define multiple window specifications for reuse with many window function calculations.\n",
    "The query uses two windows:\n",
    "- `cumulative` is partitioned by `channel` and includes all rows from the beginning of partition up to the current row as ordered by `__time` which enables cumulative aggregation\n",
    "- `moving5` is also partitioned by channel but only includes up to the last 4 rows and the current row as ordered by time\n",
    "\n",
    "Notice in the `count5` resulting column that the number of rows considered for the `moving5` window:\n",
    "- starts at 1 because there are no rows before the current one\n",
    "- and grows up to 5 as defined by `ROWS BETWEEN 4 PRECEDING AND CURRENT ROW`"
   ]
  },
  {
   "cell_type": "markdown",
   "id": "180edfb5-63f9-4768-b35f-418d049083e0",
   "metadata": {},
   "source": [
    "Notice the differences in ordinal ranking values in each column:\n",
    "- row_no  - `ROW_NUMBER()` is grows monotonically by one for each row, regardless of ties.\n",
    "- rank_no - `RANK()` assigned the same rank value of `5` to the tied rows but then skips to `9` for the next row because there are 8 rows before it.\n",
    "- dense_rank_no - `DENSE_RANK()` also assigned the same rank of `5` to the tied values but then continues with `6`.\n",
    "\n",
    "Distribution ranks:\n",
    "- pct_rank  - calculates `(rank() -1 ) / ( rows in partition - 1 )` providing a measure of what percentage of values fall before the current value in the distribution.\n",
    "- cumulative_dist - calculates the cumulative distribution, it can be read as, the value in this row is in the top X percent of the population\n",
    "- ntile_val  - calculates which population distribution bucket the row corresponds to, where N is the number of buckets, ntile(4) is calculating quartiles, ntile(100) calculates percentiles.\n",
    "   "
   ]
  },
  {
   "cell_type": "markdown",
   "id": "75b5a98c-1016-4642-a2ad-e793d9772ea2",
   "metadata": {},
   "source": [
    "## Value window functions\n",
    "You can use the following functions to include values from other rows within the window for the current row."
   ]
  },
  {
   "cell_type": "code",
   "execution_count": null,
   "id": "81b34b1d-c5ac-485a-83fc-f98373b7bfe6",
   "metadata": {},
   "outputs": [],
   "source": [
    "sql = f\"\"\"\n",
    "SELECT FLOOR(__time TO HOUR) AS event_time,\n",
    "    channel,\n",
    "    SUM(delta) total_activity,\n",
    "    LAG(SUM(delta), 1, NULL) OVER (PARTITION BY channel ORDER BY FLOOR(__time TO HOUR) ASC) AS lag_val,\n",
    "    LEAD(SUM(delta), 1, NULL) OVER (PARTITION BY channel ORDER BY FLOOR(__time TO HOUR) ASC) AS lead_val,\n",
    "    FIRST_VALUE(SUM(delta)) OVER (PARTITION BY channel ORDER BY FLOOR(__time TO HOUR) ASC) AS first_val,\n",
    "    LAST_VALUE(SUM(delta)) OVER (PARTITION BY channel ORDER BY FLOOR(__time TO HOUR) ASC) AS last_val\n",
    "FROM \"{table_name}\"\n",
    "WHERE channel IN ('#kk.wikipedia', '#lt.wikipedia')\n",
    "GROUP BY channel, FLOOR(__time TO HOUR) \n",
    "\"\"\"\n",
    "\n",
    "req = sql_client.sql_request(query)\n",
    "req.add_context(\"enableWindowing\", \"true\")\n",
    "display.sql(sql)"
   ]
  },
  {
   "cell_type": "markdown",
   "id": "05131565-f289-467d-8817-d7ffc13b0b25",
   "metadata": {},
   "source": [
    "The `total_activity` column shows the net change in bytes for the `channel` by hour `event_time`. The calculated window function result columns are:\n",
    "\n",
    "- `lag_val`  - shows a the value of `total_activity` from 1 row preceding the current row, notice that the second parameter of the `LAG` function specifies the specific preceding row. In this case for the first row in each partition, the prior value does not exist, so NULL is returned.\n",
    "- `lead_val` - shows a the value of `total_activity` from 1 row following the current row, again that the second parameter of the `LEAD` function specifies the specific following row to select from. In this case for the last row in each partition, the following value does not exist, so NULL is returned.\n",
    "- `first_val` - shows the first value in the `channel` partition ordered by time\n",
    "- `last_val` - shows the last value in the `channel` partition ordered by time"
   ]
  },
  {
   "cell_type": "markdown",
   "id": "fab5b831-69a8-4215-9b97-f7ce62610850",
   "metadata": {},
   "source": [
    "## Clean up\n",
    "\n",
    "Run the following cell to remove the XXX used in this notebook from the database."
   ]
  },
  {
   "cell_type": "code",
   "execution_count": null,
   "id": "8947babc-0798-465d-8eed-b9facca064d0",
   "metadata": {},
   "outputs": [],
   "source": [
    "print(f\"Drop table: [{druid.datasources.drop(table_name)}]\")"
   ]
  },
  {
   "cell_type": "markdown",
   "id": "fc5212e9-35ed-4243-bc98-7f65afcfaf22",
   "metadata": {},
   "source": [
    "## Summary\n",
    "\n",
    "* You learned this\n",
    "* Remember this\n",
    "\n",
    "## Learn more\n",
    "\n",
    "* Try this out on your own data\n",
    "* Solve for problem X that is't covered here\n",
    "* Read docs pages\n",
    "* Watch or read something cool from the community\n",
    "* Do some exploratory stuff on your own"
   ]
  },
  {
   "cell_type": "markdown",
   "id": "9094069e-25e6-45ff-8cc6-2cb16d299ac9",
   "metadata": {},
   "source": [
    "## Inspect the data\n",
    "\n",
    "The example queries demonstrate a comparison of the total delta value for a change event in Wikipedia by channel and by user. \n",
    "\n",
    "The dataset describes changes that each individual `user` has made to Wikipedia pages within a `channel` expressed as the number of bytes added or deleted in the `delta` column and where `__time` is when the change was submitted. \n",
    "\n",
    "Run this query to have a look at the data:"
   ]
  },
  {
   "cell_type": "code",
   "execution_count": null,
   "id": "9c690339-c2b0-4afa-bdbc-62449710b002",
   "metadata": {},
   "outputs": [],
   "source": [
    "sql = f\"\"\"\n",
    "SELECT\n",
    "    __time,\n",
    "    channel,\n",
    "    user,\n",
    "    delta\n",
    "FROM \"{table_name}\"\n",
    "WHERE channel IN ('#kk.wikipedia', '#lt.wikipedia')\n",
    "  AND __time BETWEEN '2016-06-27' AND '2016-06-28'\n",
    "ORDER BY __time\n",
    "\"\"\"\n",
    "display.sql(query)"
   ]
  }
 ],
 "metadata": {
  "kernelspec": {
   "display_name": "Python 3 (ipykernel)",
   "language": "python",
   "name": "python3"
  },
  "language_info": {
   "codemirror_mode": {
    "name": "ipython",
    "version": 3
   },
   "file_extension": ".py",
   "mimetype": "text/x-python",
   "name": "python",
   "nbconvert_exporter": "python",
   "pygments_lexer": "ipython3",
   "version": "3.11.6"
  },
  "vscode": {
   "interpreter": {
    "hash": "b0fa6594d8f4cbf19f97940f81e996739fb7646882a419484c72d19e05852a7e"
   }
  }
 },
 "nbformat": 4,
 "nbformat_minor": 5
}
