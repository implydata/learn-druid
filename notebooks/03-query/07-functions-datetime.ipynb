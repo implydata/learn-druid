{
 "cells": [
  {
   "cell_type": "markdown",
   "id": "0cb3b009-ebde-4d56-9d59-a028d66d8309",
   "metadata": {},
   "source": [
    "# Applying functions to dates and times\n",
    "<!--\n",
    "  ~ Licensed to the Apache Software Foundation (ASF) under one\n",
    "  ~ or more contributor license agreements.  See the NOTICE file\n",
    "  ~ distributed with this work for additional information\n",
    "  ~ regarding copyright ownership.  The ASF licenses this file\n",
    "  ~ to you under the Apache License, Version 2.0 (the\n",
    "  ~ \"License\"); you may not use this file except in compliance\n",
    "  ~ with the License.  You may obtain a copy of the License at\n",
    "  ~\n",
    "  ~   http://www.apache.org/licenses/LICENSE-2.0\n",
    "  ~\n",
    "  ~ Unless required by applicable law or agreed to in writing,\n",
    "  ~ software distributed under the License is distributed on an\n",
    "  ~ \"AS IS\" BASIS, WITHOUT WARRANTIES OR CONDITIONS OF ANY\n",
    "  ~ KIND, either express or implied.  See the License for the\n",
    "  ~ specific language governing permissions and limitations\n",
    "  ~ under the License.\n",
    "  -->\n",
    "\n",
    "This tutorial demonstrates how to work with [date and time scalar functions](https://druid.apache.org/docs/latest/querying/sql-scalar#date-and-time-functions). You will run SQL that show them being applied to transform, filter, and aggregate data."
   ]
  },
  {
   "cell_type": "markdown",
   "id": "bbdbf6ad-ca7b-40f5-8ca3-1070f4a3ee42",
   "metadata": {
    "jp-MarkdownHeadingCollapsed": true
   },
   "source": [
    "## Prerequisites\n",
    "\n",
    "This tutorial works with Druid 27.0.0 or later.\n",
    "\n",
    "Launch this tutorial and all prerequisites using the `druid-jupyter` profile of the Docker Compose file for Jupyter-based Druid tutorials. For more information, see the Learn Druid repository [readme](https://github.com/implydata/learn-druid)."
   ]
  },
  {
   "cell_type": "markdown",
   "id": "5007a243-b81a-4601-8f57-5b14940abbff",
   "metadata": {},
   "source": [
    "## Initialization\n",
    "\n",
    "Run the next cell to set up the Druid Python client's connection to Apache Druid.\n",
    "\n",
    "If successful, the Druid version number will be shown in the output."
   ]
  },
  {
   "cell_type": "code",
   "execution_count": null,
   "id": "c1ec783b-df3f-4168-9be2-cdc6ad3e33c2",
   "metadata": {},
   "outputs": [],
   "source": [
    "import druidapi\n",
    "import os\n",
    "\n",
    "if 'DRUID_HOST' not in os.environ.keys():\n",
    "    druid_host=f\"http://localhost:8888\"\n",
    "else:\n",
    "    druid_host=f\"http://{os.environ['DRUID_HOST']}:8888\"\n",
    "    \n",
    "print(f\"Opening a connection to {druid_host}.\")\n",
    "druid = druidapi.jupyter_client(druid_host)\n",
    "\n",
    "display = druid.display\n",
    "sql_client = druid.sql\n",
    "status_client = druid.status\n",
    "\n",
    "status_client.version"
   ]
  },
  {
   "cell_type": "markdown",
   "id": "472589e4-1026-4b3b-bb79-eedabb2b44c4",
   "metadata": {},
   "source": [
    "### Load example data\n",
    "\n",
    "Once your Druid environment is up and running, ingest the sample data for this tutorial.\n",
    "\n",
    "Run the following cell to create a table called `example-koalas-fndatetime`. The ingestion only includes fields from the source data that is required for this notebook.\n",
    "\n",
    "When completed, you'll see a description of the final table."
   ]
  },
  {
   "cell_type": "code",
   "execution_count": null,
   "id": "f52a94fb-d2e4-403f-ab10-84d3af7bf2c8",
   "metadata": {},
   "outputs": [],
   "source": [
    "sql='''\n",
    "REPLACE INTO \"example-koalas-fndatetime\" OVERWRITE ALL\n",
    "WITH \"ext\" AS (SELECT *\n",
    "FROM TABLE(\n",
    "  EXTERN(\n",
    "    '{\"type\":\"http\",\"uris\":[\"https://static.imply.io/example-data/kttm-v2/kttm-v2-2019-08-25.json.gz\"]}',\n",
    "    '{\"type\":\"json\"}'\n",
    "  )\n",
    ") EXTEND (\"timestamp\" VARCHAR, \"agent_category\" VARCHAR, \"agent_type\" VARCHAR, \"browser\" VARCHAR, \"browser_version\" VARCHAR, \"city\" VARCHAR, \"continent\" VARCHAR, \"country\" VARCHAR, \"version\" VARCHAR, \"event_type\" VARCHAR, \"event_subtype\" VARCHAR, \"loaded_image\" VARCHAR, \"adblock_list\" VARCHAR, \"forwarded_for\" VARCHAR, \"language\" VARCHAR, \"number\" VARCHAR, \"os\" VARCHAR, \"path\" VARCHAR, \"platform\" VARCHAR, \"referrer\" VARCHAR, \"referrer_host\" VARCHAR, \"region\" VARCHAR, \"remote_address\" VARCHAR, \"screen\" VARCHAR, \"session\" VARCHAR, \"session_length\" BIGINT, \"timezone\" VARCHAR, \"timezone_offset\" VARCHAR, \"window\" VARCHAR))\n",
    "SELECT\n",
    "  TIME_PARSE(\"timestamp\") AS \"__time\",\n",
    "  \"browser\",\n",
    "  \"browser_version\",\n",
    "  \"city\",\n",
    "  \"continent\",\n",
    "  \"country\",\n",
    "  \"version\",\n",
    "  \"event_type\",\n",
    "  \"event_subtype\",\n",
    "  \"loaded_image\",\n",
    "  \"session\",\n",
    "  \"session_length\"\n",
    "FROM \"ext\"\n",
    "PARTITIONED BY DAY\n",
    "'''\n",
    "\n",
    "display.run_task(sql)\n",
    "sql_client.wait_until_ready('example-koalas-fndatetime')\n",
    "display.table('example-koalas-fndatetime')"
   ]
  },
  {
   "cell_type": "markdown",
   "id": "9c3d6b39-6551-4b2a-bdfb-9606aa92c853",
   "metadata": {},
   "source": [
    "Finally, run the following cell to import additional Python modules that you will use to create visuals as part of the notebook."
   ]
  },
  {
   "cell_type": "code",
   "execution_count": null,
   "id": "dc4c2524-0eba-4bc6-84ed-da3a25aa5fbe",
   "metadata": {},
   "outputs": [],
   "source": [
    "import matplotlib\n",
    "import matplotlib.pyplot as plt\n",
    "import pandas as pd"
   ]
  },
  {
   "cell_type": "markdown",
   "id": "a6dc0c09-1328-4daa-9761-24dc383f7c18",
   "metadata": {},
   "source": [
    "## Filter data using time\n",
    "\n",
    "In this part of the notebook you'll see examples of:\n",
    "\n",
    "* Translating a string timestamp to a datetime using `TIMESTAMP`.\n",
    "* Filtering a query using `TIME_IN_INTERVAL`.\n",
    "* Using `CURRENT_TIMESTAMP` to produce the current datetime.\n",
    "* Calculating a new timestamp using `TIME_SHIFT`.\n",
    "\n",
    "The `TIMESTAMP` function translates a string into a timestamp that can then be used in operators."
   ]
  },
  {
   "cell_type": "code",
   "execution_count": null,
   "id": "690eb278-1835-43d2-a1bd-af8fba485305",
   "metadata": {},
   "outputs": [],
   "source": [
    "sql='''\n",
    "SELECT\n",
    "  MIN(__time) AS \"earliestSession\",\n",
    "  MAX(__time) AS \"latestSession\",\n",
    "  COUNT(*) AS \"sessions\"\n",
    "FROM \"example-koalas-fndatetime\"\n",
    "WHERE __time > TIMESTAMP '2019-08-25 23:00:00'\n",
    "'''\n",
    "\n",
    "display.sql(sql)"
   ]
  },
  {
   "cell_type": "markdown",
   "id": "7ef3ef1e-755f-4991-878b-bfdc5c8693ca",
   "metadata": {},
   "source": [
    "When you cannot guarantee that timestamps are in ISO format, or when timezones need to be accounted for, use `TIME_PARSE`. This is the function most commonly used in SQL ingestion to parse incoming timestamps.\n",
    "\n",
    "Run the cell below to see how various input timestamp formats are processed."
   ]
  },
  {
   "cell_type": "code",
   "execution_count": null,
   "id": "6f2e6767-f2b2-42bf-ae20-aa7a8208aa22",
   "metadata": {},
   "outputs": [],
   "source": [
    "sql='''\n",
    "SELECT\n",
    " TIME_PARSE('13-07-2019 08:32','dd-MM-yyyy HH:mm') AS \"parse_1\",\n",
    " TIME_PARSE('1998 245 16','YYYY DDD HH') AS \"parse_2\",\n",
    " TIME_PARSE('2023/11/03 01:43','yyyy/MM/dd HH:mm') AS \"parse_3\",\n",
    " TIME_PARSE('1984-05-13T12:56:14.451Z','yyyy-MM-dd''T''HH:mm:ss.SSSZ') AS \"parse_4\",\n",
    " TIMESTAMP '2019-04-03' AS \"parse_ISO\"\n",
    "'''\n",
    "\n",
    "display.sql(sql)"
   ]
  },
  {
   "cell_type": "markdown",
   "id": "a3c4ac07-46dd-4de6-89fe-15857f0b7b80",
   "metadata": {},
   "source": [
    "Instead of `BETWEEN` to capture an interval from the data, use the `TIME_IN_INTERVAL` function."
   ]
  },
  {
   "cell_type": "code",
   "execution_count": null,
   "id": "33547c09-2170-47bb-962a-6446ba8c3a4c",
   "metadata": {},
   "outputs": [],
   "source": [
    "sql='''\n",
    "SELECT\n",
    "  MIN(__time) AS \"earliestSession\",\n",
    "  MAX(__time) AS \"latestSession\",\n",
    "  COUNT(*) AS \"sessions\"\n",
    "FROM \"example-koalas-fndatetime\"\n",
    "WHERE TIME_IN_INTERVAL(__time,'2019-08-25T11/2019-08-25T13')\n",
    "'''\n",
    "\n",
    "display.sql(sql)"
   ]
  },
  {
   "cell_type": "markdown",
   "id": "a5f9c823-50bb-4f1d-b0a1-78a848641c93",
   "metadata": {},
   "source": [
    "The second parameter is an [ISO8601](https://en.wikipedia.org/wiki/ISO_8601#Time_intervals) interval representing the period between 11am and 1pm on the 25th August 2019.\n",
    "\n",
    "In the next cell, an ISO8601 period is given as the start of the interval to give the same results."
   ]
  },
  {
   "cell_type": "code",
   "execution_count": null,
   "id": "5a5ed8e2-c33f-447f-8bed-4f1dca034f0c",
   "metadata": {},
   "outputs": [],
   "source": [
    "sql='''\n",
    "SELECT\n",
    "  MIN(__time) AS \"earliestSession\",\n",
    "  MAX(__time) AS \"latestSession\",\n",
    "  COUNT(*) AS \"sessions\"\n",
    "FROM \"example-koalas-fndatetime\"\n",
    "WHERE TIME_IN_INTERVAL(__time,'PT2H/2019-08-25T13')\n",
    "'''\n",
    "\n",
    "display.sql(sql)"
   ]
  },
  {
   "cell_type": "markdown",
   "id": "e8765ecd-35ff-41bf-810b-913fbc8f408e",
   "metadata": {},
   "source": [
    "The `TIME_SHIFT` function applies multiples of ISO8601 periods to a timestamp.\n",
    "\n",
    "Run the next cell for a simple example:"
   ]
  },
  {
   "cell_type": "code",
   "execution_count": null,
   "id": "0df48f7f-5fcf-4ecd-80c9-3e0d9dca1b72",
   "metadata": {},
   "outputs": [],
   "source": [
    "sql='''\n",
    "SELECT\n",
    "  __time AS \"sessionStart\",\n",
    "  TIME_SHIFT(__time,'PT1H',3) AS \"sessionStart-plus3Hours\",\n",
    "  TIME_SHIFT(__time,'P1Y',-5) AS \"sessionStart-minus5Years\"\n",
    "FROM \"example-koalas-fndatetime\"\n",
    "WHERE TIME_IN_INTERVAL(__time,'2019-08-25T13/PT1S')\n",
    "'''\n",
    "\n",
    "display.sql(sql)"
   ]
  },
  {
   "cell_type": "markdown",
   "id": "714dca10-f080-4341-9eda-e20775c20db1",
   "metadata": {},
   "source": [
    "A period - along with a multiple - has been provided to the `TIME_SHIFT` function. This is then added to the timestamp. One calculation adds 3 hours, the next subtracts 5 years."
   ]
  },
  {
   "cell_type": "markdown",
   "id": "6b59657c-28e8-42c2-b387-65e0ed57c046",
   "metadata": {},
   "source": [
    "The results are all sessions that started in the minute before 1pm and ended (by calculation) in the minute after 1pm.\n",
    "\n",
    "Run the following cell to see `TIME_SHIFT` and `TIME_IN_INTERVAL` being used together."
   ]
  },
  {
   "cell_type": "code",
   "execution_count": null,
   "id": "87dd8e91-569d-4ad9-8a62-d839264d0484",
   "metadata": {},
   "outputs": [],
   "source": [
    "sql='''\n",
    "SELECT\n",
    "  __time AS \"start\",\n",
    "  \"session_length\" * 0.01 as \"session_seconds\",\n",
    "  TIME_SHIFT(__time, 'PT0.01S', \"session_length\") AS \"end\"\n",
    "FROM \"example-koalas-fndatetime\"\n",
    "WHERE TIME_IN_INTERVAL(TIME_SHIFT(__time, 'PT0.01S', \"session_length\"),'2019-08-25T13/PT1M')\n",
    "AND TIME_IN_INTERVAL(__time, 'PT1M/2019-08-25T13')\n",
    "LIMIT 10\n",
    "'''\n",
    "\n",
    "display.sql(sql)"
   ]
  },
  {
   "cell_type": "markdown",
   "id": "5df9f07f-c0c1-4fb1-a18e-ef0ff61701ce",
   "metadata": {},
   "source": [
    "The `CURRENT_TIMESTAMP` function returns the current time and date. You might use these in combination to return results covering a period of time before the current moment, for example:\n",
    "\n",
    "```sql\n",
    "    SELECT\n",
    "      MIN(__time) AS \"earliestSession\",\n",
    "      MAX(__time) AS \"latestSession\",\n",
    "      COUNT(*) AS \"sessions\"\n",
    "    FROM \"example-koalas-fndatetime\"\n",
    "    WHERE __time < TIME_SHIFT(CURRENT_TIMESTAMP,'PT1H',-6)\n",
    "```"
   ]
  },
  {
   "cell_type": "markdown",
   "id": "e03fbae6-dea5-4e43-b8c8-679fbba49923",
   "metadata": {},
   "source": [
    "## Use time functions at ingestion time\n",
    "\n",
    "In this part of the notebook are examples of:\n",
    "\n",
    "* Reading secondary dimensions from a table using `MILLIS_TO_TIMESTAMP`.\n",
    "* Filtering data using secondary dimensions.\n",
    "\n",
    "Run the cell below to create a new dimension - a secondary timestamp - that represents the end timestamp of each session."
   ]
  },
  {
   "cell_type": "code",
   "execution_count": null,
   "id": "868fcc18-977c-47e0-91cf-dd832ea18fc3",
   "metadata": {},
   "outputs": [],
   "source": [
    "sql='''\n",
    "REPLACE INTO \"example-koalas-fndatetime\" OVERWRITE ALL\n",
    "WITH \"ext\" AS (SELECT *\n",
    "FROM TABLE(\n",
    "  EXTERN(\n",
    "    '{\"type\":\"http\",\"uris\":[\"https://static.imply.io/example-data/kttm-v2/kttm-v2-2019-08-25.json.gz\"]}',\n",
    "    '{\"type\":\"json\"}'\n",
    "  )\n",
    ") EXTEND (\"timestamp\" VARCHAR, \"agent_category\" VARCHAR, \"agent_type\" VARCHAR, \"browser\" VARCHAR, \"browser_version\" VARCHAR, \"city\" VARCHAR, \"continent\" VARCHAR, \"country\" VARCHAR, \"version\" VARCHAR, \"event_type\" VARCHAR, \"event_subtype\" VARCHAR, \"loaded_image\" VARCHAR, \"adblock_list\" VARCHAR, \"forwarded_for\" VARCHAR, \"language\" VARCHAR, \"number\" VARCHAR, \"os\" VARCHAR, \"path\" VARCHAR, \"platform\" VARCHAR, \"referrer\" VARCHAR, \"referrer_host\" VARCHAR, \"region\" VARCHAR, \"remote_address\" VARCHAR, \"screen\" VARCHAR, \"session\" VARCHAR, \"session_length\" BIGINT, \"timezone\" VARCHAR, \"timezone_offset\" VARCHAR, \"window\" VARCHAR))\n",
    "SELECT\n",
    "  TIME_PARSE(\"timestamp\") AS \"__time\",\n",
    "  \"browser\",\n",
    "  \"browser_version\",\n",
    "  \"city\",\n",
    "  \"continent\",\n",
    "  \"country\",\n",
    "  \"version\",\n",
    "  \"event_type\",\n",
    "  \"event_subtype\",\n",
    "  \"loaded_image\",\n",
    "  \"session\",\n",
    "  \"session_length\",\n",
    "  TIME_SHIFT(TIME_PARSE(\"timestamp\"), 'PT0.01S', \"session_length\") AS \"ended_at\"\n",
    "FROM \"ext\"\n",
    "PARTITIONED BY DAY\n",
    "'''\n",
    "\n",
    "display.run_task(sql)\n",
    "sql_client.wait_until_ready('example-koalas-fndatetime')\n",
    "display.table('example-koalas-fndatetime')"
   ]
  },
  {
   "cell_type": "markdown",
   "id": "ba4eeec6-5e7e-4524-a203-4a25cc975d90",
   "metadata": {},
   "source": [
    "Address this new timestamp in the table, [stored as a `LONG`](https://druid.apache.org/docs/latest/querying/sql-data-types#standard-types), using `MILLIS_TO_TIMESTAMP`.\n",
    "\n",
    "Run the next cell, showing `MILLIS_TO_TIMESTAMP` being used alongside `TIME_IN_INTERVAL`. Notice these results are the same as are produced by the SQL statement above."
   ]
  },
  {
   "cell_type": "code",
   "execution_count": null,
   "id": "9630abff-f406-4cf6-b846-f03145d40a30",
   "metadata": {},
   "outputs": [],
   "source": [
    "sql='''\n",
    "SELECT\n",
    "  __time AS \"start\",\n",
    "  MILLIS_TO_TIMESTAMP(\"ended_at\") AS \"end\"\n",
    "FROM \"example-koalas-fndatetime\"\n",
    "WHERE TIME_IN_INTERVAL(MILLIS_TO_TIMESTAMP(\"ended_at\"),'2019-08-25T13/PT1M')\n",
    "AND TIME_IN_INTERVAL(__time, 'PT1M/2019-08-25T13')\n",
    "LIMIT 10\n",
    "'''\n",
    "\n",
    "display.sql(sql)"
   ]
  },
  {
   "cell_type": "markdown",
   "id": "510f208b-fdaa-45fe-9908-c6ebbe4c754c",
   "metadata": {},
   "source": [
    "## Use functions to format the date and time\n",
    "\n",
    "Below are examples of:\n",
    "\n",
    "* Using `TIME_FORMAT` to apply a string pattern to a timestamp.\n",
    "* Extracting elements of a timestamp using `TIME_EXTRACT` and `EXTRACT`.\n",
    "\n",
    "The `TIME_FORMAT` function applies a [JODA](https://www.joda.org/joda-time/apidocs/org/joda/time/format/DateTimeFormat.html) pattern to a datetime values.\n",
    "\n",
    "Run the cell below to see a number of examples."
   ]
  },
  {
   "cell_type": "code",
   "execution_count": null,
   "id": "ca3165ca-d5c1-4023-8ca1-9cb8bb203bee",
   "metadata": {},
   "outputs": [],
   "source": [
    "sql='''\n",
    "SELECT\n",
    "  TIME_FORMAT(__time, 'hh:mm:ss') AS \"sessionStart-HMS\",\n",
    "  TIME_FORMAT(CURRENT_TIMESTAMP, 'YYYY-MM') AS \"now-YM\",\n",
    "  TIME_FORMAT(TIME_SHIFT(MILLIS_TO_TIMESTAMP(\"ended_at\"),'PT1H',3), 'YYYY-MM-dd (DD)') AS \"ended_at-plus3Hours-YMD-DOY\",\n",
    "  TIME_FORMAT(TIME_SHIFT(__time,'P1Y',-5), 'EE dd MMM YY:hh a z') AS \"sessionStart-minus5Years-reallyPretty\"\n",
    "FROM \"example-koalas-fndatetime\"\n",
    "WHERE TIME_IN_INTERVAL(__time,'2019-08-25T13/PT1S')\n",
    "'''\n",
    "\n",
    "display.sql(sql)"
   ]
  },
  {
   "cell_type": "markdown",
   "id": "bd09239e-0a6d-407a-85ac-e100cd527924",
   "metadata": {},
   "source": [
    "Using `EXTRACT` and `TIME_EXTRACT`, particular portions of datetimes are returned."
   ]
  },
  {
   "cell_type": "code",
   "execution_count": null,
   "id": "adb771c1-c52e-42c3-b4c3-b47d9919554f",
   "metadata": {},
   "outputs": [],
   "source": [
    "sql='''\n",
    "SELECT\n",
    "  EXTRACT(HOUR FROM __time) AS \"start-hour\",\n",
    "  EXTRACT(HOUR FROM MILLIS_TO_TIMESTAMP(\"ended_at\")) AS \"end-hour\",\n",
    "  COUNT(*) AS \"sessions\"\n",
    "FROM \"example-koalas-fndatetime\"\n",
    "GROUP BY 1, 2\n",
    "'''\n",
    "\n",
    "df = pd.DataFrame(sql_client.sql(sql))\n",
    "df_group=df.groupby(['start-hour','end-hour']).sum().unstack()\n",
    "df_group.plot.bar(stacked=\"true\", legend=None)"
   ]
  },
  {
   "cell_type": "markdown",
   "id": "c1ca1ec0-009e-4251-a5c8-27e21d466595",
   "metadata": {},
   "source": [
    "Run the next cell to see how `TIME_EXTRACT` has been used instead of `EXTRACT` to allow a timezone to be specified in the calculation."
   ]
  },
  {
   "cell_type": "code",
   "execution_count": null,
   "id": "53cb65c0-b650-4fc2-bd3e-00ae9e25bee7",
   "metadata": {},
   "outputs": [],
   "source": [
    "sql='''\n",
    "SELECT\n",
    "  TIME_EXTRACT(__time, 'HOUR') AS \"start-hour\",\n",
    "  TIME_EXTRACT(__time, 'HOUR', 'America/Los_Angeles') AS \"start-hour-LA\",\n",
    "  TIME_EXTRACT(__time, 'HOUR', 'India/Kolkota') AS \"start-hour-Ko\",\n",
    "  COUNT(*) AS \"sessions\"\n",
    "FROM \"example-koalas-fndatetime\"\n",
    "WHERE TIME_IN_INTERVAL(__time, '2019-08-25T03/PT2H')\n",
    "GROUP BY 1,2,3\n",
    "'''\n",
    "\n",
    "display.sql(sql)"
   ]
  },
  {
   "cell_type": "markdown",
   "id": "f7f4a408-a994-4761-8954-d17dd26ca125",
   "metadata": {},
   "source": [
    "## Rounding timestamps\n",
    "\n",
    "This notebook includes examples of:\n",
    "\n",
    "* Rounding down: `TIME_FLOOR`, `FLOOR`, and `DATE_TRUNC` ([translated](https://druid.apache.org/docs/latest/querying/math-expr#time-functions) to the `timestamp_floor` native JSON function)\n",
    "* Rounding up: `TIME_CEIL` and `CEIL` (translated to the `timestamp_ceil` native JSON function).\n",
    "\n",
    "Run the cell below to see how these functions effect timestamps."
   ]
  },
  {
   "cell_type": "code",
   "execution_count": null,
   "id": "7945a107-d03d-4088-bd3a-07166f11473b",
   "metadata": {},
   "outputs": [],
   "source": [
    "sql='''\n",
    "SELECT DISTINCT  \n",
    "  TIME_FLOOR(__time, 'PT1H') AS \"session_down_hour_TF\",\n",
    "  FLOOR(__time TO HOUR) AS \"session_down_hour_F\",\n",
    "  DATE_TRUNC('HOUR', __time) AS \"session_down_hour_DT\",\n",
    "  TIME_CEIL(__time, 'PT1H') AS \"session_up_hour_TC\",\n",
    "  CEIL(__time TO HOUR) AS \"session_up_hour_C\"\n",
    "FROM \"example-koalas-fndatetime\"\n",
    "WHERE TIME_IN_INTERVAL(__time, '2019-08-25T03/PT2H')\n",
    "'''\n",
    "\n",
    "display.sql(sql)"
   ]
  },
  {
   "cell_type": "markdown",
   "id": "ed118731-3525-435a-8e6c-003150187a32",
   "metadata": {},
   "source": [
    "Using the more flexible `TIME_FLOOR` and `TIME_CEIL` functions, a parameter has been supplied in the SQL statement below to shift the calculation of the floor / ceiling operation."
   ]
  },
  {
   "cell_type": "code",
   "execution_count": null,
   "id": "0d6165f5-62ff-42c5-bfff-e3f4f3b9f790",
   "metadata": {},
   "outputs": [],
   "source": [
    "sql='''\n",
    "SELECT DISTINCT\n",
    "  TIME_FLOOR(__time, 'PT1H') AS \"session_down_hour_TF\",\n",
    "  TIME_FLOOR(__time, 'PT1H', TIMESTAMP '2018-01-01 00:45:00') AS \"session_down_hour_TFZ\",\n",
    "  TIME_CEIL(__time, 'PT1H') AS \"session_up_hour_TC\",\n",
    "  TIME_CEIL(__time, 'PT1H', TIMESTAMP '1970-01-01 00:35:10') AS \"session_up_hour_TCZ\"\n",
    "FROM \"example-koalas-fndatetime\"\n",
    "WHERE TIME_IN_INTERVAL(__time, '2019-08-25T03/PT2H')\n",
    "'''\n",
    "\n",
    "display.sql(sql)"
   ]
  },
  {
   "cell_type": "markdown",
   "id": "22a4d8ed-6e90-4830-8628-f9e54b4ac8cc",
   "metadata": {},
   "source": [
    "Notice how the result was calculated using the timestamp provided, rather than the standard base of the [Linux epoch](https://en.wikipedia.org/wiki/Unix_time)."
   ]
  },
  {
   "cell_type": "markdown",
   "id": "e77ecfb7-2858-40e6-9dd0-c745c44dd5da",
   "metadata": {},
   "source": [
    "## Generate time-based statistics\n",
    "\n",
    "Time-based analytics relies on using scalar functions to round or truncate timestamps to reduce the cardinality of the `__time` (and other timestamp) columns for input to `GROUP BY` operations.\n",
    "\n",
    "Run the following cell to see a `GROUP BY` function where the time has been floored and metrics produced."
   ]
  },
  {
   "cell_type": "code",
   "execution_count": null,
   "id": "c10656dc-73b1-4c8f-acd2-6adac7c6802f",
   "metadata": {},
   "outputs": [],
   "source": [
    "sql='''\n",
    "SELECT DISTINCT  \n",
    "  TIME_FLOOR(__time, 'PT15M') AS \"timeperiod\",\n",
    "  \"continent\",\n",
    "  COUNT(DISTINCT \"session\") AS \"sessions\",\n",
    "  COUNT(DISTINCT \"country\") AS \"countries\"\n",
    "FROM \"example-koalas-fndatetime\"\n",
    "WHERE TIME_IN_INTERVAL(__time, '2019-08-25T03/PT1H')\n",
    "GROUP BY 1, 2\n",
    "'''\n",
    "\n",
    "display.sql(sql)"
   ]
  },
  {
   "cell_type": "markdown",
   "id": "b4e1bba0-fd87-4b27-ad5f-69388f3d8067",
   "metadata": {},
   "source": [
    "Using the `WHERE` condition for filters, the next cell uses the `TIME_IN_INTERVAL` to generate a 15-minutely breakdown, per continent, of the number of sessions."
   ]
  },
  {
   "cell_type": "code",
   "execution_count": null,
   "id": "48b702cd-9d38-45fa-a67a-dc03d8fd1883",
   "metadata": {},
   "outputs": [],
   "source": [
    "sql='''\n",
    "SELECT DISTINCT  \n",
    "  \"continent\",\n",
    "  COUNT(DISTINCT \"session\") FILTER (WHERE TIME_IN_INTERVAL(__time, '2019-08-25T03:00:00/PT15M')) AS \"sessions_0\",\n",
    "  COUNT(DISTINCT \"session\") FILTER (WHERE TIME_IN_INTERVAL(__time, '2019-08-25T03:15:00/PT15M')) AS \"sessions_1\",\n",
    "  COUNT(DISTINCT \"session\") FILTER (WHERE TIME_IN_INTERVAL(__time, '2019-08-25T03:30:00/PT15M')) AS \"sessions_2\",\n",
    "  COUNT(DISTINCT \"session\") FILTER (WHERE TIME_IN_INTERVAL(__time, '2019-08-25T03:45:00/PT15M')) AS \"sessions_3\"\n",
    "FROM \"example-koalas-fndatetime\"\n",
    "WHERE TIME_IN_INTERVAL(__time, '2019-08-25T03/PT1H')\n",
    "GROUP BY 1\n",
    "'''\n",
    "\n",
    "display.sql(sql)"
   ]
  },
  {
   "cell_type": "markdown",
   "id": "6114423e-1090-4d9a-b973-bbb55f216a38",
   "metadata": {},
   "source": [
    "Run the following cell to see an example of a single query that compares data from two time periods using a `JOIN`."
   ]
  },
  {
   "cell_type": "code",
   "execution_count": null,
   "id": "4ea76b33-8a04-4fff-b0e5-ae4688b019f8",
   "metadata": {},
   "outputs": [],
   "source": [
    "sql='''\n",
    "WITH recent_sessions AS\n",
    "(\n",
    "    SELECT \"continent\", COUNT(DISTINCT \"session\") AS \"sessions\"\n",
    "    FROM \"example-koalas-fndatetime\"\n",
    "    WHERE TIME_IN_INTERVAL(__time, '2019-08-25T06/PT1H')\n",
    "    GROUP BY 1\n",
    "),\n",
    "older_sessions_15minutely AS\n",
    "(\n",
    "    SELECT TIME_FLOOR(__time,'PT15M'), \"continent\", COUNT(DISTINCT \"session\") AS \"sessions\"\n",
    "    FROM \"example-koalas-fndatetime\"\n",
    "    WHERE TIME_IN_INTERVAL(__time, '2019-08-25T00/PT12H')\n",
    "    GROUP BY 1, 2\n",
    "),\n",
    "older_sessions AS\n",
    "(\n",
    "    SELECT \"continent\", AVG(\"sessions\") AS \"sessions\"\n",
    "    FROM older_sessions_15minutely\n",
    "    GROUP BY 1\n",
    ")\n",
    "\n",
    "SELECT\n",
    "    recent_sessions.\"continent\",\n",
    "    recent_sessions.sessions AS \"recent\",\n",
    "    older_sessions.sessions AS \"historical_average\"\n",
    "FROM recent_sessions\n",
    "LEFT JOIN older_sessions ON recent_sessions.continent = older_sessions.continent\n",
    "'''\n",
    "\n",
    "display.sql(sql)"
   ]
  },
  {
   "cell_type": "markdown",
   "id": "625b2d58-42e0-4ae7-bfd9-6f1d8eccf2ad",
   "metadata": {},
   "source": [
    "The `GROUP BY` function can be used at ingestion time (also known as \"[rollup](https://druid.apache.org/docs/latest/ingestion/rollup)\") to pre-calculate commonly used aggregations.\n",
    "\n",
    "Run the next cell to create a pre-aggregated table."
   ]
  },
  {
   "cell_type": "code",
   "execution_count": null,
   "id": "bfed64b0-1f04-47d8-815d-7de6e2ce8b99",
   "metadata": {},
   "outputs": [],
   "source": [
    "sql='''\n",
    "REPLACE INTO \"example-koalas-fndatetime-rollup\" OVERWRITE ALL\n",
    "WITH \"ext\" AS (SELECT *\n",
    "FROM TABLE(\n",
    "  EXTERN(\n",
    "    '{\"type\":\"http\",\"uris\":[\"https://static.imply.io/example-data/kttm-v2/kttm-v2-2019-08-25.json.gz\"]}',\n",
    "    '{\"type\":\"json\"}'\n",
    "  )\n",
    ") EXTEND (\"timestamp\" VARCHAR, \"agent_category\" VARCHAR, \"agent_type\" VARCHAR, \"browser\" VARCHAR, \"browser_version\" VARCHAR, \"city\" VARCHAR, \"continent\" VARCHAR, \"country\" VARCHAR, \"version\" VARCHAR, \"event_type\" VARCHAR, \"event_subtype\" VARCHAR, \"loaded_image\" VARCHAR, \"adblock_list\" VARCHAR, \"forwarded_for\" VARCHAR, \"language\" VARCHAR, \"number\" VARCHAR, \"os\" VARCHAR, \"path\" VARCHAR, \"platform\" VARCHAR, \"referrer\" VARCHAR, \"referrer_host\" VARCHAR, \"region\" VARCHAR, \"remote_address\" VARCHAR, \"screen\" VARCHAR, \"session\" VARCHAR, \"session_length\" BIGINT, \"timezone\" VARCHAR, \"timezone_offset\" VARCHAR, \"window\" VARCHAR))\n",
    "SELECT\n",
    "  TIME_FLOOR(TIME_PARSE(\"timestamp\"),'PT1H') AS \"__time\",\n",
    "  TIME_FLOOR(CURRENT_TIMESTAMP,'PT1H') AS \"ingested_at\",\n",
    "  TIME_CEIL(TIME_SHIFT(TIME_PARSE(\"timestamp\"), 'PT0.01S', \"session_length\"),'PT1H') AS \"ended_at\",\n",
    "  \"city\",\n",
    "  \"continent\",\n",
    "  \"country\",\n",
    "  COUNT(DISTINCT \"browser\") AS \"browsers\",\n",
    "  COUNT(DISTINCT \"session\") AS \"sessions\",\n",
    "  MAX(\"session_length\") AS \"session_length_max\",\n",
    "  COUNT(*) AS \"event_count\"\n",
    "FROM \"ext\"\n",
    "GROUP BY 1, 2, 3, 4, 5, 6\n",
    "PARTITIONED BY DAY\n",
    "'''\n",
    "\n",
    "display.run_task(sql)\n",
    "sql_client.wait_until_ready('example-koalas-fndatetime-rollup')\n",
    "display.table('example-koalas-fndatetime-rollup')"
   ]
  },
  {
   "cell_type": "markdown",
   "id": "f2b09191-8b13-406c-99ed-a614344b448a",
   "metadata": {},
   "source": [
    "The SQL statement includes:\n",
    "\n",
    "* Functions to create a primary timestamp.\n",
    "   * `TIME_PARSE` to convert the incoming raw time into the primary time column\n",
    "   * `TIME_FLOOR` to round the timestamp down, reducing the granularity of the primary time column\n",
    "* Functions to create additional datetime columns.\n",
    "   * `CURRENT_TIMESTAMP` to generate a secondary timestamp, rounded down using `TIME_FLOOR`\n",
    "   * `TIME_SHIFT` and `TIME_PARSE` used in combination to calculate a session end timestamp that is then rounded up with `TIME_CEIL`\n",
    " \n",
    "A similar operation can be achieved in classic batch or streaming ingestion by using [native functions](https://druid.apache.org/docs/latest/querying/aggregations) to [emit metrics](https://druid.apache.org/docs/latest/ingestion/ingestion-spec#metricsspec), using `queryGranularity` to round down the primary timestamp, native [functions](https://druid.apache.org/docs/latest/querying/math-expr) for additional date time columns, and by enabling [rollup](https://druid.apache.org/docs/latest/ingestion/rollup) to carry out the `GROUP BY`."
   ]
  },
  {
   "cell_type": "markdown",
   "id": "c07258ff-ba43-4596-8a7b-aeb5811132a7",
   "metadata": {},
   "source": [
    "Run the cell below to look at a sample of the data from the new table."
   ]
  },
  {
   "cell_type": "code",
   "execution_count": null,
   "id": "99791c28-b840-470f-a4e4-fccb39bca17e",
   "metadata": {},
   "outputs": [],
   "source": [
    "sql='''\n",
    "SELECT\n",
    "  \"__time\",\n",
    "  \"city\",\n",
    "  \"continent\",\n",
    "  \"country\",\n",
    "  \"browsers\",\n",
    "  \"sessions\",\n",
    "  \"session_length_max\",\n",
    "  \"event_count\"\n",
    "FROM \"example-koalas-fndatetime-rollup\"\n",
    "WHERE TIME_IN_INTERVAL(__time, '2019-08-25T13/PT1H')\n",
    "LIMIT 5\n",
    "'''\n",
    "\n",
    "display.sql(sql)"
   ]
  },
  {
   "cell_type": "markdown",
   "id": "b70a5c7b-df02-441c-81b6-657adb99cde7",
   "metadata": {},
   "source": [
    "For each time period, for each city, continent, and then country, you see a pre-calculated number of browsers and sessions, the maximum session length, and the count of the number of events.\n",
    "\n",
    "Run the next cell to generate a plot, hour-by-hour, of the average session length.\n",
    "\n",
    "The SQL statement includes some fields that are not used in the plot itself so that you can unpick how the average has been calculated."
   ]
  },
  {
   "cell_type": "code",
   "execution_count": null,
   "id": "2bcebedf-2875-47f9-86cc-3696a6e60d68",
   "metadata": {},
   "outputs": [],
   "source": [
    "sql='''\n",
    "SELECT\n",
    "  \"__time\",\n",
    "  TIME_FORMAT(\"__time\", 'dd MMM hh a') AS \"time\",\n",
    "  SUM(\"event_count\") AS \"events\",\n",
    "  SUM(\"session_length_max\") AS \"session_length\",\n",
    "  SUM(\"session_length_max\") / SUM(\"event_count\") AS \"avg_session_length\"\n",
    "FROM \"example-koalas-fndatetime-rollup\"\n",
    "WHERE TIME_IN_INTERVAL(__time, '2019-08-25T0/PT12H')\n",
    "GROUP BY 1\n",
    "'''\n",
    "\n",
    "df = pd.DataFrame(sql_client.sql(sql))\n",
    "df.plot.bar(x='time', y='avg_session_length')\n",
    "plt.xticks(rotation=45, ha='right')\n",
    "plt.show()"
   ]
  },
  {
   "cell_type": "markdown",
   "id": "fe8f54cb-6bc3-430a-a9ce-fe3b676cee88",
   "metadata": {},
   "source": [
    "The SQL statement in the next cell uses `MILLIS_TO_TIMESTAMP` against the additional datetime columns, together with the `TIMESTAMPDIFF` function. The resulting plot shows the average lag between the session being recorded in the source data and it having been ingested into the table."
   ]
  },
  {
   "cell_type": "code",
   "execution_count": null,
   "id": "5637e648-1d7b-46fe-b363-c0202f1d2e2b",
   "metadata": {},
   "outputs": [],
   "source": [
    "sql='''\n",
    "SELECT\n",
    "    __time,\n",
    "    ingested_at,\n",
    "    TIME_FORMAT(\"__time\", 'dd MMM hh a') AS \"time\",\n",
    "    TIMESTAMPDIFF(MINUTE, \"__time\", MILLIS_TO_TIMESTAMP(\"ingested_at\")) / SUM(\"event_count\") AS \"avgdelay-minutes\"\n",
    "FROM \"example-koalas-fndatetime-rollup\"\n",
    "WHERE TIME_IN_INTERVAL(__time, '2019-08-25/P1D')\n",
    "GROUP BY 1, 2, 3\n",
    "'''\n",
    "\n",
    "df = pd.DataFrame(sql_client.sql(sql))\n",
    "df.plot.bar(x='time', y='avgdelay-minutes')\n",
    "plt.xticks(rotation=45, ha='right')\n",
    "plt.show()"
   ]
  },
  {
   "cell_type": "markdown",
   "id": "075bd150-6ade-48c4-b507-faa1ccb4cac4",
   "metadata": {},
   "source": [
    "## Clean up\n",
    "\n",
    "Run the following cell to remove the tables created for this notebook from the database."
   ]
  },
  {
   "cell_type": "code",
   "execution_count": null,
   "id": "30c6efc8-391b-42de-be5d-eca5cf6a6c1e",
   "metadata": {},
   "outputs": [],
   "source": [
    "druid.datasources.drop(\"example-koalas-fndatetime-rollup\")\n",
    "druid.datasources.drop(\"example-koalas-fndatetime\")"
   ]
  },
  {
   "cell_type": "markdown",
   "id": "dbd60ac9-7969-40ee-9ec6-6b44e8653f29",
   "metadata": {},
   "source": [
    "## Summary\n",
    "\n",
    "* All rows in Druid tables have an primary event timestamp\n",
    "* Effective filtering by time is an essential element of all queries on Druid tables\n",
    "* Additional datetime columns can be added to tables and used in queries\n",
    "* Various timestamp formats can be parsed to Druid timestamps\n",
    "* Calculations can be performed to add and remove periods of time\n",
    "* There are basic and advanced versions of SQL functions\n",
    "* Timestamps can be rounded up and down, particularly useful in `GROUP BY` statements\n",
    "* When combined with a timestamp function, a `GROUP BY` at ingestion time can create very lean tables\n",
    "\n",
    "## Learn more\n",
    "\n",
    "* Review the full list of [SQL](https://druid.apache.org/docs/latest/querying/sql-scalar#date-and-time-functions) and [native](https://druid.apache.org/docs/latest/querying/aggregations) functions\n",
    "* Look at the [list of timezones](https://www.joda.org/joda-time/timezones.html)\n",
    "* Bookmark the [JODA time format reference page](https://www.joda.org/joda-time/apidocs/org/joda/time/format/DateTimeFormat.html)\n",
    "* Read the list of [granularities](https://druid.apache.org/docs/latest/querying/granularities#simple-granularities)\n",
    "* Try using SQL `GROUP BY` / Native Rollup on your own sample data set to create a pre-aggregated table\n",
    "* See the [sketch ingestion](../02-ingestion/03-sketchIngestion.ipynb) notebook for another example of a pre-aggregated table"
   ]
  }
 ],
 "metadata": {
  "execution": {
   "allow_errors": true,
   "timeout": 300
  },
  "kernelspec": {
   "display_name": "Python 3 (ipykernel)",
   "language": "python",
   "name": "python3"
  },
  "language_info": {
   "codemirror_mode": {
    "name": "ipython",
    "version": 3
   },
   "file_extension": ".py",
   "mimetype": "text/x-python",
   "name": "python",
   "nbconvert_exporter": "python",
   "pygments_lexer": "ipython3",
   "version": "3.11.5"
  }
 },
 "nbformat": 4,
 "nbformat_minor": 5
}
