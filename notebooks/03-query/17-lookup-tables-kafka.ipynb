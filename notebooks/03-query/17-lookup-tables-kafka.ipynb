{
 "cells": [
  {
   "cell_type": "markdown",
   "id": "0cb3b009-ebde-4d56-9d59-a028d66d8309",
   "metadata": {},
   "source": [
    "# Enriching and updating data using Kafka lookup tables\n",
    "<!--\n",
    "  ~ Licensed to the Apache Software Foundation (ASF) under one\n",
    "  ~ or more contributor license agreements.  See the NOTICE file\n",
    "  ~ distributed with this work for additional information\n",
    "  ~ regarding copyright ownership.  The ASF licenses this file\n",
    "  ~ to you under the Apache License, Version 2.0 (the\n",
    "  ~ \"License\"); you may not use this file except in compliance\n",
    "  ~ with the License.  You may obtain a copy of the License at\n",
    "  ~\n",
    "  ~   http://www.apache.org/licenses/LICENSE-2.0\n",
    "  ~\n",
    "  ~ Unless required by applicable law or agreed to in writing,\n",
    "  ~ software distributed under the License is distributed on an\n",
    "  ~ \"AS IS\" BASIS, WITHOUT WARRANTIES OR CONDITIONS OF ANY\n",
    "  ~ KIND, either express or implied.  See the License for the\n",
    "  ~ specific language governing permissions and limitations\n",
    "  ~ under the License.\n",
    "  -->\n",
    "\n",
    "[Lookups](https://druid.apache.org/docs/latest/querying/lookups) are [key/value-pair tables](https://druid.apache.org/docs/latest/querying/datasource#lookup) broadcast to query processes that can be updated regularly either manually or automatically. In this notebook you will extend your knowledge of these tables to lookups populated from an [Apache Kafka topic](https://druid.apache.org/docs/latest/querying/kafka-extraction-namespace) and walk through some simple queries."
   ]
  },
  {
   "cell_type": "markdown",
   "id": "bbdbf6ad-ca7b-40f5-8ca3-1070f4a3ee42",
   "metadata": {},
   "source": [
    "## Prerequisites\n",
    "\n",
    "This tutorial works with Druid 30.0.0 or later.\n",
    "\n",
    "Before running through this notebook, you may want to familiarise yourself with key concepts by running through the [general lookups notebook](./06-lookup-tables.ipynb).\n",
    "\n",
    "The extension for Kafka lookup tables, [`druid-kafka-extraction-namespace`](https://druid.apache.org/docs/latest/querying/kafka-extraction-namespace), must be added to the extensions load list prior to being used. In the learning environment, this has been added for you.\n",
    "\n",
    "Launch this tutorial and all prerequisites using the `all-services` profile of the Docker Compose file for Jupyter-based Druid tutorials. For more information, see the Learn Druid repository [readme](https://github.com/implydata/learn-druid).\n",
    "   "
   ]
  },
  {
   "cell_type": "markdown",
   "id": "5007a243-b81a-4601-8f57-5b14940abbff",
   "metadata": {},
   "source": [
    "## Initialization\n",
    "\n",
    "The following cells set up the notebook and learning environment ready for use."
   ]
  },
  {
   "cell_type": "markdown",
   "id": "0b769122-c5a4-404e-9ef8-9c0ebd97695a",
   "metadata": {},
   "source": [
    "### Set up a connection to Apache Druid\n",
    "\n",
    "Run the next cell to set up the Druid Python client's connection to Apache Druid.\n",
    "\n",
    "If successful, the Druid version number will be shown in the output."
   ]
  },
  {
   "cell_type": "code",
   "execution_count": null,
   "id": "c1ec783b-df3f-4168-9be2-cdc6ad3e33c2",
   "metadata": {},
   "outputs": [],
   "source": [
    "import druidapi\n",
    "import os\n",
    "\n",
    "druid_headers = {'Content-Type': 'application/json'}\n",
    "\n",
    "if 'DRUID_HOST' not in os.environ.keys():\n",
    "    druid_host=f\"http://localhost:8888\"\n",
    "else:\n",
    "    druid_host=f\"http://{os.environ['DRUID_HOST']}:8888\"\n",
    "\n",
    "print(f\"Opening a connection to {druid_host}.\")\n",
    "druid = druidapi.jupyter_client(druid_host)\n",
    "display = druid.display\n",
    "sql_client = druid.sql\n",
    "status_client = druid.status\n",
    "\n",
    "status_client.version"
   ]
  },
  {
   "cell_type": "markdown",
   "id": "2efdbee0-62da-4fd3-84e1-f66b8c0150b3",
   "metadata": {},
   "source": [
    "### Set up a connection to Apache Kafka\n",
    "\n",
    "<!-- Include these cells if your notebook uses Kafka. -->\n",
    "\n",
    "Run the next cell to set up the connection to Apache Kafka."
   ]
  },
  {
   "cell_type": "code",
   "execution_count": null,
   "id": "c075de81-04c9-4b23-8253-20a15d46252e",
   "metadata": {},
   "outputs": [],
   "source": [
    "if 'KAFKA_HOST' not in os.environ.keys():\n",
    "   kafka_host=f\"http://localhost:9092\"\n",
    "else:\n",
    "    kafka_host=f\"{os.environ['KAFKA_HOST']}:9092\""
   ]
  },
  {
   "cell_type": "markdown",
   "id": "472589e4-1026-4b3b-bb79-eedabb2b44c4",
   "metadata": {},
   "source": [
    "## Create a table using batch ingestion\n",
    "\n",
    "Run the following cell to create a table using batch ingestion.\n",
    "\n",
    "The same principles in this notebook also apply to tables receiving events from stream sources.\n",
    "\n",
    "When completed, you'll see a description of the final table."
   ]
  },
  {
   "cell_type": "code",
   "execution_count": null,
   "id": "f52a94fb-d2e4-403f-ab10-84d3af7bf2c8",
   "metadata": {},
   "outputs": [],
   "source": [
    "table_name = 'example-flights-kafkalookup'\n",
    "\n",
    "sql='''\n",
    "REPLACE INTO \"''' + table_name + '''\" OVERWRITE ALL\n",
    "WITH \"ext\" AS (SELECT *\n",
    "FROM TABLE(\n",
    "  EXTERN(\n",
    "    '{\"type\":\"http\",\"uris\":[\"https://static.imply.io/example-data/flight_on_time/flights/On_Time_Reporting_Carrier_On_Time_Performance_(1987_present)_2005_11.csv.zip\"]}',\n",
    "    '{\"type\":\"csv\",\"findColumnsFromHeader\":true}'\n",
    "  )\n",
    ") EXTEND (\"depaturetime\" VARCHAR, \"arrivalime\" VARCHAR, \"Year\" BIGINT, \"Quarter\" BIGINT, \"Month\" BIGINT, \"DayofMonth\" BIGINT, \"DayOfWeek\" BIGINT, \"FlightDate\" VARCHAR, \"Reporting_Airline\" VARCHAR, \"DOT_ID_Reporting_Airline\" BIGINT, \"IATA_CODE_Reporting_Airline\" VARCHAR, \"Tail_Number\" VARCHAR, \"Flight_Number_Reporting_Airline\" BIGINT, \"OriginAirportID\" BIGINT, \"OriginAirportSeqID\" BIGINT, \"OriginCityMarketID\" BIGINT, \"Origin\" VARCHAR, \"OriginCityName\" VARCHAR, \"OriginState\" VARCHAR, \"OriginStateFips\" BIGINT, \"OriginStateName\" VARCHAR, \"OriginWac\" BIGINT, \"DestAirportID\" BIGINT, \"DestAirportSeqID\" BIGINT, \"DestCityMarketID\" BIGINT, \"Dest\" VARCHAR, \"DestCityName\" VARCHAR, \"DestState\" VARCHAR, \"DestStateFips\" BIGINT, \"DestStateName\" VARCHAR, \"DestWac\" BIGINT, \"CRSDepTime\" BIGINT, \"DepTime\" BIGINT, \"DepDelay\" BIGINT, \"DepDelayMinutes\" BIGINT, \"DepDel15\" BIGINT, \"DepartureDelayGroups\" BIGINT, \"DepTimeBlk\" VARCHAR, \"TaxiOut\" BIGINT, \"WheelsOff\" BIGINT, \"WheelsOn\" BIGINT, \"TaxiIn\" BIGINT, \"CRSArrTime\" BIGINT, \"ArrTime\" BIGINT, \"ArrDelay\" BIGINT, \"ArrDelayMinutes\" BIGINT, \"ArrDel15\" BIGINT, \"ArrivalDelayGroups\" BIGINT, \"ArrTimeBlk\" VARCHAR, \"Cancelled\" BIGINT, \"CancellationCode\" VARCHAR, \"Diverted\" BIGINT, \"CRSElapsedTime\" BIGINT, \"ActualElapsedTime\" BIGINT, \"AirTime\" BIGINT, \"Flights\" BIGINT, \"Distance\" BIGINT, \"DistanceGroup\" BIGINT, \"CarrierDelay\" BIGINT, \"WeatherDelay\" BIGINT, \"NASDelay\" BIGINT, \"SecurityDelay\" BIGINT, \"LateAircraftDelay\" BIGINT, \"FirstDepTime\" VARCHAR, \"TotalAddGTime\" VARCHAR, \"LongestAddGTime\" VARCHAR, \"DivAirportLandings\" VARCHAR, \"DivReachedDest\" VARCHAR, \"DivActualElapsedTime\" VARCHAR, \"DivArrDelay\" VARCHAR, \"DivDistance\" VARCHAR, \"Div1Airport\" VARCHAR, \"Div1AirportID\" VARCHAR, \"Div1AirportSeqID\" VARCHAR, \"Div1WheelsOn\" VARCHAR, \"Div1TotalGTime\" VARCHAR, \"Div1LongestGTime\" VARCHAR, \"Div1WheelsOff\" VARCHAR, \"Div1TailNum\" VARCHAR, \"Div2Airport\" VARCHAR, \"Div2AirportID\" VARCHAR, \"Div2AirportSeqID\" VARCHAR, \"Div2WheelsOn\" VARCHAR, \"Div2TotalGTime\" VARCHAR, \"Div2LongestGTime\" VARCHAR, \"Div2WheelsOff\" VARCHAR, \"Div2TailNum\" VARCHAR, \"Div3Airport\" VARCHAR, \"Div3AirportID\" VARCHAR, \"Div3AirportSeqID\" VARCHAR, \"Div3WheelsOn\" VARCHAR, \"Div3TotalGTime\" VARCHAR, \"Div3LongestGTime\" VARCHAR, \"Div3WheelsOff\" VARCHAR, \"Div3TailNum\" VARCHAR, \"Div4Airport\" VARCHAR, \"Div4AirportID\" VARCHAR, \"Div4AirportSeqID\" VARCHAR, \"Div4WheelsOn\" VARCHAR, \"Div4TotalGTime\" VARCHAR, \"Div4LongestGTime\" VARCHAR, \"Div4WheelsOff\" VARCHAR, \"Div4TailNum\" VARCHAR, \"Div5Airport\" VARCHAR, \"Div5AirportID\" VARCHAR, \"Div5AirportSeqID\" VARCHAR, \"Div5WheelsOn\" VARCHAR, \"Div5TotalGTime\" VARCHAR, \"Div5LongestGTime\" VARCHAR, \"Div5WheelsOff\" VARCHAR, \"Div5TailNum\" VARCHAR, \"Unnamed: 109\" VARCHAR))\n",
    "SELECT\n",
    "  TIME_PARSE(\"depaturetime\") AS \"__time\",\n",
    "  \"Reporting_Airline\",\n",
    "  \"Tail_Number\",\n",
    "  \"Distance\",\n",
    "  \"Origin\",\n",
    "  \"Dest\"\n",
    "FROM \"ext\"\n",
    "PARTITIONED BY DAY\n",
    "'''\n",
    "\n",
    "display.run_task(sql)\n",
    "sql_client.wait_until_ready(f'{table_name}')\n",
    "display.table(f'{table_name}')"
   ]
  },
  {
   "cell_type": "markdown",
   "id": "1b6c9b88-837d-4c80-a28d-36184ba63355",
   "metadata": {},
   "source": [
    "## Create a lookup table\n",
    "\n",
    "Run the following cell to create some helper functions for using the lookup API.\n",
    "\n",
    "* You will use the `postLookup` function to call the [lookup configuration API](https://druid.apache.org/docs/latest/api-reference/lookups-api) to create and update lookup tables.\n",
    "* The `waitForLookup` function will be used to give you feedback on Druid's progress in [distributing](https://druid.apache.org/docs/latest/querying/lookups#configuration-propagation-behavior) the lookup table around the query-serving processes in Druid."
   ]
  },
  {
   "cell_type": "code",
   "execution_count": null,
   "id": "4db15f0d-6305-43d1-bb2d-b927c62ae70d",
   "metadata": {},
   "outputs": [],
   "source": [
    "import requests\n",
    "import time\n",
    "\n",
    "def postLookup(definition):\n",
    "    x = requests.post(f\"{druid_host}/druid/coordinator/v1/lookups/config\", json=definition)\n",
    "\n",
    "    if \"error\" in x.text:\n",
    "        raise Exception('Not able to complete the request. \\n\\n'+x.text)\n",
    "    else:\n",
    "        print('Successfully submitted the lookup request.')\n",
    "\n",
    "def waitForLookup(tier, name, ticsMax):\n",
    "\n",
    "    # The default time period between checks of lookup definition changes (druid.manager.lookups.period)\n",
    "    # is two minutes. The notebook environment reduces this for learning purposes.\n",
    "    # \n",
    "    # https://druid.apache.org/docs/latest/configuration/#lookups-dynamic-configuration\n",
    "\n",
    "    tics = 0\n",
    "    ticsWait = 1    \n",
    "    ticsMax = min(ticsMax,360)\n",
    "    ticsSpinner = \"/-\\|\"\n",
    "    \n",
    "    apicall = f\"{druid_host}/druid/coordinator/v1/lookups/status/{tier}/{name}?detailed=true\"\n",
    "\n",
    "    x = requests.get(apicall)\n",
    "\n",
    "    while (x.text != '{\"loaded\":true,\"pendingNodes\":[]}' and tics < ticsMax):\n",
    "        print(f\"{x.text} {ticsSpinner[tics%len(ticsSpinner)]} [ {str(ticsMax-tics)} ]     \", end='\\r')\n",
    "        time.sleep(ticsWait)\n",
    "        tics += 1\n",
    "        x = requests.get(apicall) \n",
    "\n",
    "    if (tics == ticsMax):\n",
    "        raise Exception(f\"\\nTimeout waiting for Druid to load the {name} lookup to {tier} tier. Run the cell again.\")\n",
    "    else:\n",
    "        print(f\"\\nSuccess. {name} lookup in {tier} tier is fully available.\")"
   ]
  },
  {
   "cell_type": "markdown",
   "id": "2545ea68-9878-4c01-af81-c637e07e7031",
   "metadata": {},
   "source": [
    "### Initialize lookups\n",
    "\n",
    "Run the following cell, which posts an empty JSON object to the configuration API."
   ]
  },
  {
   "cell_type": "code",
   "execution_count": null,
   "id": "1d6d276c-0449-4590-aad3-09a203a8cdf4",
   "metadata": {},
   "outputs": [],
   "source": [
    "empty_post = {}\n",
    "postLookup(empty_post)"
   ]
  },
  {
   "cell_type": "markdown",
   "id": "bd5a380f-8a84-4346-95e6-9f9551a13ed7",
   "metadata": {},
   "source": [
    "### Generate some lookup values in a Kafka topic\n",
    "\n",
    "Create a number of events that can be consumed by Druid into a lookup map.\n",
    "\n",
    "Run the cell below to create a Kafka Producer, and to then send one event to a new topic, \"example-lookup-airportsize\". It will contain a binary key and value representing a key and value in the lookup map."
   ]
  },
  {
   "cell_type": "code",
   "execution_count": null,
   "id": "ae673c4f-6316-4389-a10d-970a384798c9",
   "metadata": {},
   "outputs": [],
   "source": [
    "from kafka import KafkaProducer\n",
    "\n",
    "kafka_producer = KafkaProducer(bootstrap_servers=kafka_host)\n",
    "kafka_topic = \"example-lookup-airportsize\"\n",
    "\n",
    "kafka_producer.send(kafka_topic, key=b\"CLE\", value=b\"Medium Airport\")\n",
    "kafka_producer.flush()"
   ]
  },
  {
   "cell_type": "markdown",
   "id": "3c886bc2-4b72-4a86-ada5-afd91ab03481",
   "metadata": {},
   "source": [
    "### Create a lookup table\n",
    "\n",
    "In this section, you will create a `lookup_post` object that can then be posted to the API as JSON. It will contain:\n",
    "\n",
    "* The [tier](https://druid.apache.org/docs/latest/querying/lookups#dynamic-configuration) to which the table belongs - this will be the standard '__default'.\n",
    "* A name for the table.\n",
    "* A definition of the lookup itself. In this case, a \"kafka\" type lookup."
   ]
  },
  {
   "cell_type": "code",
   "execution_count": null,
   "id": "26606ff3-d706-4057-af61-02c570373ec4",
   "metadata": {},
   "outputs": [],
   "source": [
    "from datetime import datetime\n",
    "\n",
    "lookup_post_version = datetime.now().strftime(\"%Y-%m-%dT%H:%M:%SZ\")\n",
    "lookup_tier = \"__default\"\n",
    "lookup_name = \"example-flights-airportsizes\"\n",
    "lookup_type = \"kafka\"\n",
    "\n",
    "lookup_post = {\n",
    "    lookup_tier: {\n",
    "        lookup_name: {\n",
    "            \"version\": lookup_post_version,  \n",
    "            \"lookupExtractorFactory\": {\n",
    "                \"type\": lookup_type,\n",
    "                \"kafkaTopic\":kafka_topic,\n",
    "                \"kafkaProperties\":{ \"bootstrap.servers\":kafka_host }\n",
    "            }\n",
    "        }\n",
    "    }\n",
    "}\n",
    "\n",
    "postLookup(lookup_post)\n",
    "waitForLookup(lookup_tier, lookup_name, 60)"
   ]
  },
  {
   "cell_type": "markdown",
   "id": "daa1ed5a-121a-4562-a5b8-a6e0b6803f22",
   "metadata": {},
   "source": [
    "### Query the lookup\n",
    "\n",
    "Run the following cell to see what data is in the lookup."
   ]
  },
  {
   "cell_type": "code",
   "execution_count": null,
   "id": "a97bbbc4-930a-4aa5-9c8a-ca8ef6fd4f39",
   "metadata": {},
   "outputs": [],
   "source": [
    "sql=f'''\n",
    "SELECT *\n",
    "FROM lookup.\"{lookup_name}\"\n",
    "'''\n",
    "\n",
    "display.sql(sql)"
   ]
  },
  {
   "cell_type": "markdown",
   "id": "4ac503df-53d4-4526-a334-e334e4ebf93b",
   "metadata": {},
   "source": [
    "## Add a new key to the lookup map\n",
    "\n",
    "With the lookup posted and defined in Druid, run the next cell to send some new keys to the Kafka topic."
   ]
  },
  {
   "cell_type": "code",
   "execution_count": null,
   "id": "3d867b2e-40c5-4afc-a310-155ecc4b5a4b",
   "metadata": {},
   "outputs": [],
   "source": [
    "kafka_producer.send(kafka_topic, key=b\"ABI\", value=b\"Medium Airport\")\n",
    "kafka_producer.send(kafka_topic, key=b\"ABQ\", value=b\"Large Airport\")\n",
    "\n",
    "kafka_producer.flush()"
   ]
  },
  {
   "cell_type": "markdown",
   "id": "7a2b4544-3893-427e-b634-e69fa4259295",
   "metadata": {},
   "source": [
    "Now run the query below to see the resulting map."
   ]
  },
  {
   "cell_type": "code",
   "execution_count": null,
   "id": "61c329fd-a918-4a99-ac02-e1fb8bcb8bed",
   "metadata": {},
   "outputs": [],
   "source": [
    "sql=f'''\n",
    "SELECT *\n",
    "FROM lookup.\"{lookup_name}\"\n",
    "'''\n",
    "\n",
    "display.sql(sql)"
   ]
  },
  {
   "cell_type": "markdown",
   "id": "4abde514-0b8f-4348-89f3-1df72f43da9a",
   "metadata": {},
   "source": [
    "As with other lookups, you can JOIN between standard and lookup tables at query time.\n",
    "\n",
    "The cell below contains an example that you can run to see statistics about flights in a specific time period, enriched with the values from the Kafka lookup."
   ]
  },
  {
   "cell_type": "code",
   "execution_count": null,
   "id": "f6dbe6de-a26f-4923-adea-73bb04059522",
   "metadata": {},
   "outputs": [],
   "source": [
    "sql=f'''\n",
    "SELECT\n",
    "    b.v AS \"airportSize\",\n",
    "    COUNT(DISTINCT a.Origin) AS \"airports\",\n",
    "    COUNT(*) AS \"flights\",\n",
    "    SUM(a.Distance) AS \"totalDistance\"\n",
    "FROM \"{table_name}\" a\n",
    "LEFT JOIN lookup.\"{lookup_name}\" b ON a.Origin = b.k\n",
    "WHERE TIME_IN_INTERVAL(__time,'2005-11-30T11:00:00/2015-11-30T08:00:00')\n",
    "GROUP BY 1\n",
    "'''\n",
    "\n",
    "display.sql(sql)"
   ]
  },
  {
   "cell_type": "markdown",
   "id": "65b214fe-ae29-4676-b6e5-6706dfa50dc9",
   "metadata": {},
   "source": [
    "## Send a new value to the lookup map\n",
    "\n",
    "To replace the value of a key, post a new value for the key to the Kafka topic.\n",
    "\n",
    "Run the cell below to change the value of \"ABI\" to \"Large Airport\" and to see the effect that this has on the data."
   ]
  },
  {
   "cell_type": "code",
   "execution_count": null,
   "id": "cd81cc0f-bf55-43e5-9bcb-9c85b91ab6c0",
   "metadata": {},
   "outputs": [],
   "source": [
    "kafka_producer.send(kafka_topic, key=b\"ABI\", value=b\"Large Airport\")\n",
    "kafka_producer.flush()\n",
    "\n",
    "sql=f'''\n",
    "SELECT\n",
    "    b.v AS \"airportSize\",\n",
    "    COUNT(DISTINCT a.Origin) AS \"airports\",\n",
    "    COUNT(*) AS \"flights\",\n",
    "    SUM(a.Distance) AS \"totalDistance\"\n",
    "FROM \"{table_name}\" a\n",
    "LEFT JOIN lookup.\"{lookup_name}\" b ON a.Origin = b.k\n",
    "WHERE TIME_IN_INTERVAL(__time,'2005-11-30T11:00:00/2015-11-30T08:00:00')\n",
    "GROUP BY 1\n",
    "'''\n",
    "\n",
    "display.sql(sql)"
   ]
  },
  {
   "cell_type": "markdown",
   "id": "2801a9e7-1410-4685-ae6e-a6be7f3c6077",
   "metadata": {},
   "source": [
    "## Remove a key from the lookup map\n",
    "\n",
    "Run the cell below to add a new lookup value to the map."
   ]
  },
  {
   "cell_type": "code",
   "execution_count": null,
   "id": "3f7b0188-bbc8-4fda-87a9-f5ccabb2c9fc",
   "metadata": {},
   "outputs": [],
   "source": [
    "kafka_producer.send(kafka_topic, key=b\"PIE\", value=b\"The best food ever!\")\n",
    "kafka_producer.flush()\n",
    "\n",
    "sql=f'''\n",
    "SELECT *\n",
    "FROM lookup.\"{lookup_name}\"\n",
    "'''\n",
    "\n",
    "display.sql(sql)"
   ]
  },
  {
   "cell_type": "markdown",
   "id": "c3931438-b5ca-4e6c-9867-7f79c4627716",
   "metadata": {},
   "source": [
    "Oops! You have added a review of a foodstuff to the lookup of airport sizes!\n",
    "\n",
    "Remove an entry from Druid's lookup map by sending a blank value."
   ]
  },
  {
   "cell_type": "code",
   "execution_count": null,
   "id": "ac38b949-087d-4e29-8934-3a91d7de918a",
   "metadata": {},
   "outputs": [],
   "source": [
    "kafka_producer.send(kafka_topic, key=b\"PIE\", value=None)\n",
    "kafka_producer.flush()\n",
    "\n",
    "sql=f'''\n",
    "SELECT *\n",
    "FROM lookup.\"{lookup_name}\"\n",
    "'''\n",
    "\n",
    "display.sql(sql)"
   ]
  },
  {
   "cell_type": "markdown",
   "id": "44738d6d-cec2-40ad-aaba-998c758c63f4",
   "metadata": {},
   "source": [
    "## Clean up\n",
    "\n",
    "Run the following cell to remove the table and lookups used in this notebook from the database."
   ]
  },
  {
   "cell_type": "code",
   "execution_count": null,
   "id": "8082b545-ba7f-4ede-bb6e-2a6dd62ba0d8",
   "metadata": {},
   "outputs": [],
   "source": [
    "print(f\"Drop datasource: [{druid.datasources.drop(table_name)}]\")\n",
    "\n",
    "x = requests.delete(f\"{druid_host}/druid/coordinator/v1/lookups/config/{lookup_tier}/{lookup_name}\")\n",
    "print (f\"Drop lookup: {x}\")"
   ]
  },
  {
   "cell_type": "markdown",
   "id": "54b8d5fe-ba85-4b5b-9669-0dd47dfbccd1",
   "metadata": {},
   "source": [
    "## Summary\n",
    "\n",
    "* This feature requires that the `druid-kafka-extraction-namespace` extension be loaded.\n",
    "* Lookup maps can be automatically populated based on Kafka topics.\n",
    "* Keys can be added by sending messages to the Kafka topic.\n",
    "* Values can be updated by sending new versions of the key and value pair as events to the topic.\n",
    "* Keys can be removed from the cached map by sending a tombstone to the topic.\n",
    "* The values in the lookup table can be used in queries via a JOIN.\n",
    "\n",
    "## Learn more\n",
    "\n",
    "* Find out about other lookup features in the [general lookups notebook](./06-lookup-tables.ipynb)."
   ]
  }
 ],
 "metadata": {
  "execution": {
   "allow_errors": true,
   "timeout": 300
  },
  "kernelspec": {
   "display_name": "Python 3 (ipykernel)",
   "language": "python",
   "name": "python3"
  },
  "language_info": {
   "codemirror_mode": {
    "name": "ipython",
    "version": 3
   },
   "file_extension": ".py",
   "mimetype": "text/x-python",
   "name": "python",
   "nbconvert_exporter": "python",
   "pygments_lexer": "ipython3",
   "version": "3.11.6"
  }
 },
 "nbformat": 4,
 "nbformat_minor": 5
}
