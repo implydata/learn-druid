{
 "cells": [
  {
   "cell_type": "markdown",
   "id": "0cb3b009-ebde-4d56-9d59-a028d66d8309",
   "metadata": {},
   "source": [
    "# Returning values using CASE (if-then-else) functions\n",
    "<!--\n",
    "  ~ Licensed to the Apache Software Foundation (ASF) under one\n",
    "  ~ or more contributor license agreements.  See the NOTICE file\n",
    "  ~ distributed with this work for additional information\n",
    "  ~ regarding copyright ownership.  The ASF licenses this file\n",
    "  ~ to you under the Apache License, Version 2.0 (the\n",
    "  ~ \"License\"); you may not use this file except in compliance\n",
    "  ~ with the License.  You may obtain a copy of the License at\n",
    "  ~\n",
    "  ~   http://www.apache.org/licenses/LICENSE-2.0\n",
    "  ~\n",
    "  ~ Unless required by applicable law or agreed to in writing,\n",
    "  ~ software distributed under the License is distributed on an\n",
    "  ~ \"AS IS\" BASIS, WITHOUT WARRANTIES OR CONDITIONS OF ANY\n",
    "  ~ KIND, either express or implied.  See the License for the\n",
    "  ~ specific language governing permissions and limitations\n",
    "  ~ under the License.\n",
    "  -->\n",
    "\n",
    "The CASE function is used to determine what values to return based on values in the data.\n",
    "\n",
    "This tutorial demonstrates how to work with the two forms of this [scalar function](https://druid.apache.org/docs/latest/querying/sql-scalar#other-scalar-functions) both at query and ingestion time."
   ]
  },
  {
   "cell_type": "markdown",
   "id": "bbdbf6ad-ca7b-40f5-8ca3-1070f4a3ee42",
   "metadata": {},
   "source": [
    "## Prerequisites\n",
    "\n",
    "This tutorial works with Druid 27.0.0 or later.\n",
    "\n",
    "#### Run with Docker\n",
    "\n",
    "Launch this tutorial and all prerequisites using the `druid-jupyter` profile of the Docker Compose file for Jupyter-based Druid tutorials. For more information, see the Learn Druid repository [readme](https://github.com/implydata/learn-druid).\n",
    "   "
   ]
  },
  {
   "cell_type": "markdown",
   "id": "5007a243-b81a-4601-8f57-5b14940abbff",
   "metadata": {},
   "source": [
    "## Initialization\n",
    "\n",
    "The following cells set up the notebook and learning environment ready for use.\n",
    "\n",
    "### Set up and connect to the learning environment\n",
    "\n",
    "Run the next cell to set up the Druid Python client's connection to Apache Druid.\n",
    "\n",
    "If successful, the Druid version number will be shown in the output."
   ]
  },
  {
   "cell_type": "code",
   "execution_count": null,
   "id": "c1ec783b-df3f-4168-9be2-cdc6ad3e33c2",
   "metadata": {},
   "outputs": [],
   "source": [
    "import druidapi\n",
    "import os\n",
    "\n",
    "if 'DRUID_HOST' not in os.environ.keys():\n",
    "    druid_host=f\"http://localhost:8888\"\n",
    "else:\n",
    "    druid_host=f\"http://{os.environ['DRUID_HOST']}:8888\"\n",
    "    \n",
    "print(f\"Opening a connection to {druid_host}.\")\n",
    "druid = druidapi.jupyter_client(druid_host)\n",
    "\n",
    "display = druid.display\n",
    "sql_client = druid.sql\n",
    "status_client = druid.status\n",
    "\n",
    "status_client.version"
   ]
  },
  {
   "cell_type": "markdown",
   "id": "472589e4-1026-4b3b-bb79-eedabb2b44c4",
   "metadata": {},
   "source": [
    "### Load example data\n",
    "\n",
    "Run the following cell to create a table called `example-koalas-conditions` and load data from the Koalas to the Max dataset. Notice only required columns are ingested.\n",
    "\n",
    "When completed, you'll see a description of the final table."
   ]
  },
  {
   "cell_type": "code",
   "execution_count": null,
   "id": "f52a94fb-d2e4-403f-ab10-84d3af7bf2c8",
   "metadata": {},
   "outputs": [],
   "source": [
    "sql='''\n",
    "REPLACE INTO \"example-koalas-conditions\" OVERWRITE ALL\n",
    "WITH \"ext\" AS (SELECT *\n",
    "FROM TABLE(\n",
    "  EXTERN(\n",
    "    '{\"type\":\"http\",\"uris\":[\"https://static.imply.io/example-data/kttm-v2/kttm-v2-2019-08-25.json.gz\"]}',\n",
    "    '{\"type\":\"json\"}'\n",
    "  )\n",
    ") EXTEND (\"timestamp\" VARCHAR, \"agent_category\" VARCHAR, \"agent_type\" VARCHAR, \"browser\" VARCHAR, \"browser_version\" VARCHAR, \"city\" VARCHAR, \"continent\" VARCHAR, \"country\" VARCHAR, \"version\" VARCHAR, \"event_type\" VARCHAR, \"event_subtype\" VARCHAR, \"loaded_image\" VARCHAR, \"adblock_list\" VARCHAR, \"forwarded_for\" VARCHAR, \"language\" VARCHAR, \"number\" VARCHAR, \"os\" VARCHAR, \"path\" VARCHAR, \"platform\" VARCHAR, \"referrer\" VARCHAR, \"referrer_host\" VARCHAR, \"region\" VARCHAR, \"remote_address\" VARCHAR, \"screen\" VARCHAR, \"session\" VARCHAR, \"session_length\" BIGINT, \"timezone\" VARCHAR, \"timezone_offset\" VARCHAR, \"window\" VARCHAR))\n",
    "SELECT\n",
    "  TIME_PARSE(\"timestamp\") AS \"__time\",\n",
    "  \"browser\",\n",
    "  \"event_type\",\n",
    "  \"event_subtype\",\n",
    "  \"loaded_image\",\n",
    "  \"session_length\",\n",
    "  \"session\"\n",
    "FROM \"ext\"\n",
    "PARTITIONED BY DAY\n",
    "'''\n",
    "\n",
    "display.run_task(sql)\n",
    "sql_client.wait_until_ready('example-koalas-conditions')\n",
    "display.table('example-koalas-conditions')"
   ]
  },
  {
   "cell_type": "markdown",
   "id": "1b6c9b88-837d-4c80-a28d-36184ba63355",
   "metadata": {},
   "source": [
    "## Understanding the dataset\n",
    "\n",
    "The Koalas to the Max dataset records events from [Koalas to the Max](https://www.koalastothemax.com). Before you start, visit the site to see how it operates.\n",
    "\n",
    "For a given user session, there are three types of events recorded in `event_type`: \"GoodLoad\", \"PercentClear\", and \"LayerClear\".\n",
    "Each event may have an `event_subtype`, which may be a string, numeric, or null value that further describes the event.\n",
    "- When a user first opens an image, the application posts a \"GoodLoad\" type event.\n",
    "- As you uncover more of the image, \"PercentClear\" type events are posted. The amount of the image that has been cleared is recorded as a value in `event_subtype`.\n",
    "- An image is comprised of layers. When you clear a layer of the image, the application issues a \"LayerClear\" event and identifies the cleared layer in the `event_subtype`.\n",
    "- When a user clears the entire image, the application records a \"LayerClear\" event without a value in `event_subtype`.\n",
    "\n",
    "Run the following cell to see how this journey shows up in the data."
   ]
  },
  {
   "cell_type": "code",
   "execution_count": null,
   "id": "7e2eac10-bd0b-4fd3-84f3-b49a846a85d3",
   "metadata": {},
   "outputs": [],
   "source": [
    "sql='''\n",
    "SELECT \"__time\",\n",
    "  \"event_type\",\n",
    "  \"event_subtype\",\n",
    "  \"loaded_image\"\n",
    "FROM \"example-koalas-conditions\"\n",
    "WHERE session = 'S89403399'\n",
    "'''\n",
    "\n",
    "display.sql(sql)"
   ]
  },
  {
   "cell_type": "markdown",
   "id": "ba25bdec-c11a-4423-bb5c-b38f2d09944b",
   "metadata": {},
   "source": [
    "## CASE functions at query time\n",
    "\n",
    "The CASE function provides if-then-else behaviour in two forms.\n",
    "\n",
    "- The simplest form switches between different outputs based on the value of a dimension.\n",
    "- The searched form allows for more complex comparison operations.\n",
    "\n",
    "This notebook uses the SQL versions of CASE. Native (JSON-based) versions [are also available](https://druid.apache.org/docs/latest/querying/math-expr#general-functions), allowing them to be used in streaming ingestion, for example.\n",
    "\n",
    "### Simple CASE\n",
    "\n",
    "The first parameter for the CASE is the dimension to evaluate. Subsequent parameters describe the condition and the result when the condition is met. You can include a terminal ELSE clause that describes the expression to evaluate if no conditions are met. The CASE statement is then closed with an END.\n",
    "The following SQL shows a simple CASE statement being used to tweak the results of a query based on the browser that someone was using on the site. The output of the CASE statement is stored in a new column called `average_session_length_maybe`.\n",
    "\n",
    "* The CASE clause specifies the comparison is against \"browser\".\n",
    "* A WHEN clause lists a specific value to compare against - \"IE\" and \"Chrome\".\n",
    "* A THEN clause for each describes the expression to evaluate - here, two simple calculations."
   ]
  },
  {
   "cell_type": "code",
   "execution_count": null,
   "id": "984358e6-4895-49a9-8f32-1baa14c7123d",
   "metadata": {},
   "outputs": [],
   "source": [
    "sql='''\n",
    "SELECT\n",
    "  browser,\n",
    "  AVG(\"session_length\") AS \"average_session_length\",\n",
    "  AVG(\n",
    "      CASE \"browser\"\n",
    "          WHEN 'IE' THEN session_length * 2\n",
    "          WHEN 'Chrome' THEN session_length / 2\n",
    "          ELSE session_length\n",
    "          END\n",
    "          ) AS \"average_session_length_maybe\"\n",
    "FROM \"example-koalas-conditions\"\n",
    "WHERE TIME_IN_INTERVAL(__time,'2019-08-25T0/PT1H')\n",
    "GROUP BY 1\n",
    "'''\n",
    "\n",
    "display.sql(sql)"
   ]
  },
  {
   "cell_type": "markdown",
   "id": "29bb64c9-9c4c-476b-9718-51c1c35a3d05",
   "metadata": {},
   "source": [
    "### Searched CASE\n",
    "\n",
    "The second form of CASE is not pinned to a specific dimension or expression, allowing for more complex conditions.\n",
    "\n",
    "A common use of CASE is to tag particular events as significant.\n",
    "\n",
    "With some artistic license, we can apply this to the example dataset. The SQL statement below flags some events as impressions (when someone first saw an image) and others as conversions (when someone completed the task and finished clearing the image)."
   ]
  },
  {
   "cell_type": "code",
   "execution_count": null,
   "id": "e8f68a70-e629-4ba7-a28d-5ba282d8469b",
   "metadata": {},
   "outputs": [],
   "source": [
    "sql='''\n",
    "SELECT\n",
    "  CASE WHEN (\"event_type\" = 'GoodLoad') THEN 'yes' ELSE 'no' END AS \"isImpression\",\n",
    "  CASE WHEN (\"event_type\" = 'LayerClear' AND \"event_subtype\" IS NULL) THEN 'yes' ELSE 'no' END AS \"isConversion\",\n",
    "  COUNT(*) AS \"Count\"\n",
    "FROM \"example-koalas-conditions\"\n",
    "WHERE TIME_IN_INTERVAL(__time,'2019-08-25T0/PT4H')\n",
    "GROUP BY 1, 2\n",
    "'''\n",
    "\n",
    "display.sql(sql)"
   ]
  },
  {
   "cell_type": "markdown",
   "id": "b266e5bb-a4b8-4976-94b4-e94d8d257b44",
   "metadata": {},
   "source": [
    "Combining CASE with SUM leads to an interesting pattern: the SQL below shows an approach to finding the number of conversions per image shown.\n",
    "\n",
    "Notice that the SQL includes a [REGEXP_EXTRACT](https://druid.apache.org/docs/latest/querying/sql-scalar#string-functions) function, taking the \"loaded_image\" and splitting into parts to return just the \"filename\"."
   ]
  },
  {
   "cell_type": "code",
   "execution_count": null,
   "id": "f1f45089-ae33-4181-a91f-7006defa7247",
   "metadata": {},
   "outputs": [],
   "source": [
    "sql='''\n",
    "SELECT\n",
    "  REGEXP_EXTRACT(\"loaded_image\",'[^/\\\\&\\?]+\\.\\w{3,4}(?=([\\?&].*$|$))') AS \"filename\",\n",
    "  SUM(CASE WHEN (\"event_type\" = 'GoodLoad') THEN 1 ELSE 0 END) AS \"impressions\",\n",
    "  SUM(CASE WHEN (\"event_type\" = 'LayerClear' AND \"event_subtype\" IS NULL) THEN 1 ELSE 0 END) AS \"conversions\"\n",
    "FROM \"example-koalas-conditions\"\n",
    "WHERE TIME_IN_INTERVAL(__time,'2019-08-25T0/PT4H')\n",
    "GROUP BY 1\n",
    "'''\n",
    "display.sql(sql)"
   ]
  },
  {
   "cell_type": "markdown",
   "id": "9a995573-8991-4f89-a36b-deabcf70cd86",
   "metadata": {},
   "source": [
    "Run the following cell to return a new dimension, `funnelStage`. This dimension indicates how far along their journey into the page a visitor went. Stage 1 indicates that they saw the image and started playing with the site, stage 2 shows more interest, stage 3 would indicate that they are really trying to do something, and stage 4 shows true determination!\n",
    "\n",
    "The stage is determined by applying a search-type CASE function, with conditions based on the percentage of the image that is cleared as recorded in the `event_subtype` field.\n",
    "\n",
    "Notice that the WHERE clause for this statement ensures that the result set is built only from the correct event type."
   ]
  },
  {
   "cell_type": "code",
   "execution_count": null,
   "id": "38778ef0-93dd-4635-b5e4-f770ec16b38e",
   "metadata": {},
   "outputs": [],
   "source": [
    "sql='''\n",
    "SELECT\n",
    "  CASE\n",
    "    WHEN \"event_subtype\" <= 24 THEN 1\n",
    "    WHEN \"event_subtype\" BETWEEN 25 AND 49 THEN 2\n",
    "    WHEN \"event_subtype\" BETWEEN 50 AND 74 THEN 3\n",
    "    WHEN \"event_subtype\" BETWEEN 75 AND 99 THEN 4\n",
    "    END\n",
    "    AS \"funnelStage\",\n",
    "  COUNT(*) AS \"Count\"\n",
    "FROM \"example-koalas-conditions\"\n",
    "WHERE \"event_type\" = 'PercentClear'\n",
    "AND TIME_IN_INTERVAL(__time,'2019-08-25T0/PT4H')\n",
    "GROUP BY 1\n",
    "'''\n",
    "\n",
    "display.sql(sql)"
   ]
  },
  {
   "cell_type": "markdown",
   "id": "917dd59a-0f1f-41b0-90ed-6b990ea696d0",
   "metadata": {},
   "source": [
    "Incorporating the CASE within a MAX allows us to use the raw activity data in the table to determine how far along the journey (funnel) visitors travelled for each image within a specific time window."
   ]
  },
  {
   "cell_type": "code",
   "execution_count": null,
   "id": "ac699351-b8c3-4d93-8be3-64e227c5f496",
   "metadata": {},
   "outputs": [],
   "source": [
    "sql='''\n",
    "SELECT\n",
    "  session,\n",
    "  REGEXP_EXTRACT(\"loaded_image\",'[^/\\\\&\\?]+\\.\\w{3,4}(?=([\\?&].*$|$))') AS \"filename\",\n",
    "  MAX(\n",
    "    CASE\n",
    "      WHEN \"event_subtype\" <= 24 THEN 1\n",
    "      WHEN \"event_subtype\" BETWEEN 25 AND 49 THEN 2\n",
    "      WHEN \"event_subtype\" BETWEEN 50 AND 74 THEN 3\n",
    "      WHEN \"event_subtype\" BETWEEN 75 AND 99 THEN 4\n",
    "      END)\n",
    "    AS \"funnelStage\"\n",
    "FROM \"example-koalas-conditions\"\n",
    "WHERE \"event_type\" = 'PercentClear'\n",
    "AND TIME_IN_INTERVAL(__time,'2019-08-25T0/PT4H')\n",
    "GROUP BY 1, 2\n",
    "LIMIT 10\n",
    "'''\n",
    "\n",
    "display.sql(sql)"
   ]
  },
  {
   "cell_type": "markdown",
   "id": "3fee335b-2bbb-467f-bebc-f8626397b258",
   "metadata": {},
   "source": [
    "## Using CASE at ingestion time\n",
    "\n",
    "Use functions at ingestion time to front-load work that would otherwise need to be done at query time.\n",
    "\n",
    "The following SQL statement creates a table called `example-koalas-conditions-rollup` where CASE functions are used. It incorporates the functions we met previously, determining whether an event should be counted as an impression or as a conversion, and a calculated funnel stage."
   ]
  },
  {
   "cell_type": "code",
   "execution_count": null,
   "id": "506f5f1e-03a1-4355-b1e3-091be96461dc",
   "metadata": {},
   "outputs": [],
   "source": [
    "sql='''\n",
    "REPLACE INTO \"example-koalas-conditions-rollup\" OVERWRITE ALL\n",
    "WITH \"ext\" AS (SELECT *\n",
    "FROM TABLE(\n",
    "  EXTERN(\n",
    "    '{\"type\":\"http\",\"uris\":[\"https://static.imply.io/example-data/kttm-v2/kttm-v2-2019-08-25.json.gz\"]}',\n",
    "    '{\"type\":\"json\"}'\n",
    "  )\n",
    ") EXTEND (\"timestamp\" VARCHAR, \"agent_category\" VARCHAR, \"agent_type\" VARCHAR, \"browser\" VARCHAR, \"browser_version\" VARCHAR, \"city\" VARCHAR, \"continent\" VARCHAR, \"country\" VARCHAR, \"version\" VARCHAR, \"event_type\" VARCHAR, \"event_subtype\" VARCHAR, \"loaded_image\" VARCHAR, \"adblock_list\" VARCHAR, \"forwarded_for\" VARCHAR, \"language\" VARCHAR, \"number\" VARCHAR, \"os\" VARCHAR, \"path\" VARCHAR, \"platform\" VARCHAR, \"referrer\" VARCHAR, \"referrer_host\" VARCHAR, \"region\" VARCHAR, \"remote_address\" VARCHAR, \"screen\" VARCHAR, \"session\" VARCHAR, \"session_length\" BIGINT, \"timezone\" VARCHAR, \"timezone_offset\" VARCHAR, \"window\" VARCHAR))\n",
    "SELECT\n",
    "  TIME_FLOOR(TIME_PARSE(\"timestamp\"),'PT15M') AS \"__time\",\n",
    "  \"session\",\n",
    "  \"browser\",\n",
    "  REGEXP_EXTRACT(\"loaded_image\",'[^/\\\\&\\?]+\\.\\w{3,4}(?=([\\?&].*$|$))') AS \"filename\",\n",
    "  \"event_type\",\n",
    "  \"event_subtype\",\n",
    "  CASE \"event_type\" WHEN 'PercentClear' THEN\n",
    "    CASE\n",
    "      WHEN \"event_subtype\" <= 24 THEN 1\n",
    "      WHEN \"event_subtype\" BETWEEN 25 AND 49 THEN 2\n",
    "      WHEN \"event_subtype\" BETWEEN 50 AND 74 THEN 3\n",
    "      WHEN \"event_subtype\" BETWEEN 75 AND 99 THEN 4\n",
    "      ELSE NULL\n",
    "      END\n",
    "    END\n",
    "    AS \"funnelStage\",\n",
    "  CASE WHEN (\"event_type\" = 'GoodLoad') THEN 1 ELSE 0 END AS \"isImpression\",\n",
    "  CASE WHEN (\"event_type\" = 'LayerClear' AND \"event_subtype\" IS NULL) THEN 1 ELSE 0 END AS \"isConversion\",\n",
    "  COUNT(*) AS \"events\"\n",
    "FROM \"ext\"\n",
    "GROUP BY 1, 2, 3, 4, 5, 6, 7, 8, 9\n",
    "PARTITIONED BY DAY\n",
    "'''\n",
    "\n",
    "display.run_task(sql)\n",
    "sql_client.wait_until_ready('example-koalas-conditions-rollup')\n",
    "display.table('example-koalas-conditions-rollup')"
   ]
  },
  {
   "cell_type": "markdown",
   "id": "c22100c0-b453-44bc-ad0d-76b2e6a3f261",
   "metadata": {},
   "source": [
    "Notice that, for the calculated funnel stage, two levels of CASE need to be applied to ensure that the data is correct.\n",
    "\n",
    "1. A simple CASE tests if the event is telling us how much of the image was cleared (\"PercentClear\") - and if it is...\n",
    "2. A search-type CASE determines what the funnel stage is based on the percentage of the image that was cleared.\n",
    "\n",
    "Run the following cell to see how the data in the new dimensions might be used."
   ]
  },
  {
   "cell_type": "code",
   "execution_count": null,
   "id": "dc788b8a-f6c4-4f7e-a4cf-1444ace4303e",
   "metadata": {},
   "outputs": [],
   "source": [
    "sql='''\n",
    "SELECT\n",
    "  TIME_FLOOR(__time, 'PT4H') AS \"timebucket\",\n",
    "  SUM(\"isImpression\") AS \"totalImpressions\",\n",
    "  COUNT(DISTINCT \"session\") FILTER (WHERE \"funnelStage\" = 1) AS \"reached_stage1\",\n",
    "  COUNT(DISTINCT \"session\") FILTER (WHERE \"funnelStage\" = 2) AS \"reached_stage2\",\n",
    "  COUNT(DISTINCT \"session\") FILTER (WHERE \"funnelStage\" = 3) AS \"reached_stage3\",\n",
    "  COUNT(DISTINCT \"session\") FILTER (WHERE \"funnelStage\" = 4) AS \"reached_stage4\",\n",
    "  SUM(\"isConversion\") AS \"totalConversions\"\n",
    "FROM \"example-koalas-conditions-rollup\"\n",
    "WHERE TIME_IN_INTERVAL(__time,'2019-08-25T0/P1D')\n",
    "GROUP BY 1\n",
    "ORDER BY 1 ASC\n",
    "'''\n",
    "\n",
    "display.sql(sql)"
   ]
  },
  {
   "cell_type": "markdown",
   "id": "44738d6d-cec2-40ad-aaba-998c758c63f4",
   "metadata": {},
   "source": [
    "## Clean up\n",
    "\n",
    "Run the following cell to remove the tables used in this notebook from the database."
   ]
  },
  {
   "cell_type": "code",
   "execution_count": null,
   "id": "8082b545-ba7f-4ede-bb6e-2a6dd62ba0d8",
   "metadata": {},
   "outputs": [],
   "source": [
    "druid.datasources.drop(\"example-koalas-conditions\")\n",
    "druid.datasources.drop(\"example-koalas-conditions-rollup\")"
   ]
  },
  {
   "cell_type": "markdown",
   "id": "54b8d5fe-ba85-4b5b-9669-0dd47dfbccd1",
   "metadata": {},
   "source": [
    "## Summary\n",
    "\n",
    "* There are two forms of CASE, simple and search.\n",
    "* CASE statements can be used at query time to add new fields to result sets.\n",
    "* CASE statements at ingestion-time can enrich tables ahead of time.\n",
    "* There are both SQL and native versions of the CASE function.\n",
    "\n",
    "## Learn more\n",
    "\n",
    "* Check the documentation for the [SQL](https://druid.apache.org/docs/latest/querying/sql-scalar#other-scalar-functions) and [native](https://druid.apache.org/docs/latest/querying/math-expr#general-functions) versions of CASE"
   ]
  }
 ],
 "metadata": {
  "execution": {
   "allow_errors": true,
   "timeout": 300
  },
  "kernelspec": {
   "display_name": "Python 3 (ipykernel)",
   "language": "python",
   "name": "python3"
  },
  "language_info": {
   "codemirror_mode": {
    "name": "ipython",
    "version": 3
   },
   "file_extension": ".py",
   "mimetype": "text/x-python",
   "name": "python",
   "nbconvert_exporter": "python",
   "pygments_lexer": "ipython3",
   "version": "3.11.5"
  }
 },
 "nbformat": 4,
 "nbformat_minor": 5
}
