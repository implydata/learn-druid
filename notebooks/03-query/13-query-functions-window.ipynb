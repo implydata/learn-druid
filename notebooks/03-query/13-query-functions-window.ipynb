{
 "cells": [
  {
   "cell_type": "markdown",
   "id": "ad4e60b6",
   "metadata": {
    "tags": []
   },
   "source": [
    "# Learn the basics of the Druid window functions\n",
    "\n",
    "<!--\n",
    "  ~ Licensed to the Apache Software Foundation (ASF) under one\n",
    "  ~ or more contributor license agreements.  See the NOTICE file\n",
    "  ~ distributed with this work for additional information\n",
    "  ~ regarding copyright ownership.  The ASF licenses this file\n",
    "  ~ to you under the Apache License, Version 2.0 (the\n",
    "  ~ \"License\"); you may not use this file except in compliance\n",
    "  ~ with the License.  You may obtain a copy of the License at\n",
    "  ~\n",
    "  ~   http://www.apache.org/licenses/LICENSE-2.0\n",
    "  ~\n",
    "  ~ Unless required by applicable law or agreed to in writing,\n",
    "  ~ software distributed under the License is distributed on an\n",
    "  ~ \"AS IS\" BASIS, WITHOUT WARRANTIES OR CONDITIONS OF ANY\n",
    "  ~ KIND, either express or implied.  See the License for the\n",
    "  ~ specific language governing permissions and limitations\n",
    "  ~ under the License.\n",
    "  -->\n",
    "  \n",
    "[Window functions](https://druid.apache.org/docs/latest/querying/sql-array-functions) in Apache Druid produce values based upon the relationship of one row within a window of rows to the other rows within the same window. A window is a group of related rows within a result set. For example, rows with the same value for a specific dimension.\n",
    "\n",
    "This tutorial uses Wikipedia data to demonstrate the how window functions work in Druid."
   ]
  },
  {
   "cell_type": "markdown",
   "id": "8d6bbbcb",
   "metadata": {
    "tags": []
   },
   "source": [
    "## Prerequisites\n",
    "\n",
    "This tutorial works with Druid 28.0.0 or later.\n",
    "\n",
    "> Note that window functions are an exerimental feature."
   ]
  },
  {
   "cell_type": "code",
   "execution_count": null,
   "id": "b7f08a52",
   "metadata": {},
   "outputs": [],
   "source": [
    "import druidapi\n",
    "import os\n",
    "\n",
    "if 'DRUID_HOST' not in os.environ.keys():\n",
    "    druid_host=f\"http://localhost:8888\"\n",
    "else:\n",
    "    druid_host=f\"http://{os.environ['DRUID_HOST']}:8888\"\n",
    "    \n",
    "print(f\"Opening a connection to {druid_host}.\")\n",
    "druid = druidapi.jupyter_client(druid_host)\n",
    "\n",
    "display = druid.display\n",
    "sql_client = druid.sql\n",
    "status_client = druid.status\n",
    "\n",
    "status_client.version"
   ]
  },
  {
   "cell_type": "markdown",
   "id": "3b55af57-9c79-4e45-a22c-438c1b94112e",
   "metadata": {
    "tags": []
   },
   "source": [
    "## Load example data\n",
    "\n",
    "The example queries demonstrate a comparison of the total delta value for a change event in Wikipedia by channel and by user. For that reason, we only need the timestamp, channel, user, and delta columns for the source data."
   ]
  },
  {
   "cell_type": "code",
   "execution_count": null,
   "id": "959e3c9b",
   "metadata": {},
   "outputs": [],
   "source": [
    "sql='''\n",
    "REPLACE INTO \"example-wikipedia-windows\" OVERWRITE ALL\n",
    "WITH \"ext\" AS (SELECT *\n",
    "FROM TABLE(\n",
    "  EXTERN(\n",
    "    '{\"type\":\"http\",\"uris\":[\"https://druid.apache.org/data/wikipedia.json.gz\"]}',\n",
    "    '{\"type\":\"json\"}'\n",
    "  )\n",
    ") EXTEND (\"timestamp\" VARCHAR, \"channel\" VARCHAR, \"user\" VARCHAR, \"delta\" BIGINT))\n",
    "SELECT\n",
    "  TIME_PARSE(\"timestamp\") AS \"__time\",\n",
    "  \"channel\",\n",
    "  \"user\",\n",
    "  \"delta\"\n",
    "FROM \"ext\"\n",
    "PARTITIONED BY DAY\n",
    "'''\n",
    "\n",
    "display.run_task(sql)\n",
    "sql_client.wait_until_ready('example-wikipedia-windows')\n",
    "display.table('example-wikipedia-windows')"
   ]
  },
  {
   "cell_type": "markdown",
   "id": "9094069e-25e6-45ff-8cc6-2cb16d299ac9",
   "metadata": {},
   "source": [
    "The dataset describes changes that each individual `user` has made to Wikipedia pages within a `channel` expressed as the number of bytes added or deleted in the `delta` column and where `__time` is when the change was submitted. \n",
    "\n",
    "Run this query to have a look at the data:"
   ]
  },
  {
   "cell_type": "code",
   "execution_count": null,
   "id": "9c690339-c2b0-4afa-bdbc-62449710b002",
   "metadata": {},
   "outputs": [],
   "source": [
    "query = \"\"\"\n",
    "SELECT\n",
    "    __time,\n",
    "    channel,\n",
    "    user,\n",
    "    delta\n",
    "FROM \"example-wikipedia-windows\"\n",
    "WHERE channel IN ('#kk.wikipedia', '#lt.wikipedia')\n",
    "  AND __time BETWEEN '2016-06-27' AND '2016-06-28'\n",
    "ORDER BY __time\n",
    "\"\"\"\n",
    "display.sql(query)"
   ]
  },
  {
   "cell_type": "markdown",
   "id": "a1efa147-a438-40d9-ad37-602d2d928f93",
   "metadata": {},
   "source": [
    "## Window functions in Druid\n",
    "\n",
    "Druid implements Window Functions over aggregate queries. The general syntax is:\n",
    "```\n",
    "SELECT\n",
    "    <dimensions>,\n",
    "    <aggregation function(s)>\n",
    "    window_function()\n",
    "      OVER ( PARTITION BY <partitioning expression>\n",
    "             ORDER BY <order expression>\n",
    "             <window frame>\n",
    "            )\n",
    "    FROM <table>\n",
    "    GROUP BY <dimensions>\n",
    "```\n",
    "\n",
    "The `GROUP BY <dimensions>` is applied first, calculating all non-window `<aggregation functions>` and then applying the window function over the aggregate results.\n",
    "\n",
    "Start by defining the aggregation to use as the base query. \n",
    "In this example the query standardizes the wikipedia activity metrics by summarizing it by HOUR by `channel` by `user` as in:"
   ]
  },
  {
   "cell_type": "code",
   "execution_count": null,
   "id": "7b71f7ee-4a07-4843-b217-8b4dcd8557f5",
   "metadata": {},
   "outputs": [],
   "source": [
    "query = \"\"\"\n",
    "SELECT\n",
    "    channel, \n",
    "    TIME_FLOOR(__time, 'PT1H') as time_hour, \n",
    "    user,\n",
    "    SUM(delta) net_user_changes\n",
    "FROM \"example-wikipedia-windows\"\n",
    "WHERE channel IN ('#kk.wikipedia', '#lt.wikipedia')\n",
    "  AND __time BETWEEN '2016-06-27' AND '2016-06-28'\n",
    "GROUP BY TIME_FLOOR(__time, 'PT1H'), channel, user\n",
    "ORDER BY channel, TIME_FLOOR(__time, 'PT1H'), user\n",
    "\n",
    "\"\"\"\n",
    "\n",
    "req = sql_client.sql_request(query)\n",
    "# Window functions are currently experimental. Set the enableWindiowing\n",
    "# context parameter to \"true\" to use them.\n",
    "req.add_context(\"enableWindowing\", \"true\")\n",
    "display.sql(req)\n"
   ]
  },
  {
   "cell_type": "markdown",
   "id": "f8f5347c-0874-4590-bf12-ff8fb7772d1c",
   "metadata": {},
   "source": [
    "## ORDER BY windows\n",
    "\n",
    "When the window definition only specifies ORDER BY <order expression>, it sorts the aggregate data set and applies the function in that order.\n",
    "\n",
    "The following query uses `ORDER BY SUM(delta) DESC` to rank user hourly activity from the most changed the least changed within an hour:"
   ]
  },
  {
   "cell_type": "code",
   "execution_count": null,
   "id": "d8e15cee-ef40-4123-a18d-2054115d2df5",
   "metadata": {},
   "outputs": [],
   "source": [
    "query = \"\"\"\n",
    "SELECT\n",
    "    TIME_FLOOR(__time, 'PT1H') as time_hour, \n",
    "    channel, \n",
    "    user,\n",
    "    SUM(delta) net_user_changes,\n",
    "    RANK( ) OVER ( ORDER BY SUM(delta) DESC ) editing_rank\n",
    "FROM \"example-wikipedia-windows\"\n",
    "WHERE channel IN ('#kk.wikipedia', '#lt.wikipedia')\n",
    "  AND __time BETWEEN '2016-06-27' AND '2016-06-28'\n",
    "GROUP BY TIME_FLOOR(__time, 'PT1H'), channel, user\n",
    "ORDER BY 5 \n",
    "\n",
    "\"\"\"\n",
    "\n",
    "req = sql_client.sql_request(query)\n",
    "# Window functions are currently experimental. Set the enableWindiowing\n",
    "# context parameter to \"true\" to use them.\n",
    "req.add_context(\"enableWindowing\", \"true\")\n",
    "display.sql(req)"
   ]
  },
  {
   "cell_type": "markdown",
   "id": "74368b02-8e0b-41d7-b46b-30da3a3076bd",
   "metadata": {},
   "source": [
    "## PARTITION BY windows\n",
    "\n",
    "When a window only specifies `PARTITION BY <partition expression>` it calculates the aggregate window function over all the rows that share a <partitioning expression> values within the selected dataset.\n",
    "\n",
    "In this example, the query uses two different windows `PARTITION BY channel` and `PARTITION BY user` to calculate the total activity in the channel and total activity by the user so that they can be compared to individual hourly activity.\n"
   ]
  },
  {
   "cell_type": "code",
   "execution_count": null,
   "id": "7283391f-7258-474c-9a25-bcb5a3e7b1fd",
   "metadata": {},
   "outputs": [],
   "source": [
    "query = \"\"\"\n",
    "SELECT\n",
    "    TIME_FLOOR(__time, 'PT1H') as time_hour, channel, user,\n",
    "    SUM(delta) hourly_user_changes,\n",
    "    SUM(SUM(delta)) OVER (PARTITION BY user ) AS total_user_changes,\n",
    "    SUM(SUM(delta)) OVER (PARTITION BY channel ) AS total_channel_changes\n",
    "FROM \"example-wikipedia-windows\"\n",
    "WHERE channel IN ('#kk.wikipedia', '#lt.wikipedia')\n",
    "  AND __time BETWEEN '2016-06-27' AND '2016-06-28'\n",
    "GROUP BY TIME_FLOOR(__time, 'PT1H'),2,3\n",
    "ORDER BY channel,TIME_FLOOR(__time, 'PT1H'), user\n",
    "\n",
    "\"\"\"\n",
    "\n",
    "req = sql_client.sql_request(query)\n",
    "# Window functions are currently experimental. Set the enableWindiowing\n",
    "# context parameter to \"true\" to use them.\n",
    "req.add_context(\"enableWindowing\", \"true\")\n",
    "display.sql(req)\n"
   ]
  },
  {
   "cell_type": "markdown",
   "id": "023ef0b8-2d9e-4364-8bb3-064afae0c42e",
   "metadata": {},
   "source": [
    "Since the window definition only uses the PARTITION BY clause, Druid performs the calculation over the whole dataset for each value of the `<partition expression>`. Since the dataset is filtered for a single day, the window function results represent the total activity for the day, for the `user` and for the `channel` respectively.\n",
    "\n",
    "Such a result shows the impact that individual user's hourly activity :\n",
    "- the impact to the channel by comparing hourly_user_changes to total_channel_changes\n",
    "- the impact of each user over the channel by total_user_changes to total_channel_changes\n",
    "- the progress of each user's inidividal activity by comparing hourly_user_changes to total_user_changes"
   ]
  },
  {
   "cell_type": "markdown",
   "id": "622f2158-75c9-4b12-bd8a-c92d30994c1f",
   "metadata": {
    "tags": []
   },
   "source": [
    "## PARTITION BY + ORDER BY windows\n",
    "\n",
    "You can combine the two window types within a the query to perform ordered calculations within each partition of data.\n",
    "\n",
    "The following query ranks user hourly activity within the channel:"
   ]
  },
  {
   "cell_type": "code",
   "execution_count": null,
   "id": "20f1317f-a24a-4dc1-aaa0-7a7538c880e9",
   "metadata": {},
   "outputs": [],
   "source": [
    "query = \"\"\"\n",
    "SELECT\n",
    "    channel, \n",
    "    TIME_FLOOR(__time, 'PT1H') as time_hour, \n",
    "    user,\n",
    "    SUM(delta) hourly_user_changes,\n",
    "    RANK() OVER (PARTITION BY channel ORDER BY SUM(delta) DESC) AS rank_within_channel_day\n",
    "FROM \"example-wikipedia-windows\"\n",
    "WHERE channel IN ('#kk.wikipedia', '#lt.wikipedia')\n",
    "  AND __time BETWEEN '2016-06-27' AND '2016-06-28'\n",
    "GROUP BY 1, TIME_FLOOR(__time, 'PT1H'),3\n",
    "ORDER BY channel, 5\n",
    "\n",
    "\"\"\"\n",
    "\n",
    "req = sql_client.sql_request(query)\n",
    "# Window functions are currently experimental. Set the enableWindiowing\n",
    "# context parameter to \"true\" to use them.\n",
    "req.add_context(\"enableWindowing\", \"true\")\n",
    "display.sql(req)\n"
   ]
  },
  {
   "cell_type": "markdown",
   "id": "69e8ed88-2386-48c2-bc70-b299dd8ac016",
   "metadata": {},
   "source": [
    "## Window frames\n",
    "\n",
    "Window frames limit the set of rows used for the windowed aggregation.\n",
    "The general form is:\n",
    "```\n",
    "<window funtion>\n",
    "OVER (\n",
    "        [ PARTITION BY <partition expression>] ORDER BY <order expression>\n",
    "        ROWS BETWEEN <range start> AND <range end>\n",
    "     )\n",
    "```\n",
    "`<range start>` and `<range end>` can take on values:\n",
    "UNBOUNDED PRECEDING   - from the beggining of the partition as order by the \\<order expression\\>\n",
    "N ROWS PRECEDING    - N rows before the current row as ordered by the \\<order expression\\>\n",
    "CURRENT ROW         - the current row\n",
    "N ROWS FOLLOWING    - N rows after the current row as ordered by the \\<order expression\\>\n",
    "UNBOUNDED FOLLOWING - to the end of the partition as ordered by the \\<order expression\\>\n",
    "\n",
    "The following query uses a few differnt window frames overall activity by channel: "
   ]
  },
  {
   "cell_type": "code",
   "execution_count": null,
   "id": "7dc8d45d-8b20-4c01-a7a8-7383e70116e8",
   "metadata": {},
   "outputs": [],
   "source": [
    "query = \"\"\"\n",
    "SELECT\n",
    "    channel, \n",
    "    TIME_FLOOR(__time, 'PT1H')      AS time_hour, \n",
    "    SUM(delta)                      AS hourly_channel_changes,\n",
    "    SUM(SUM(delta)) OVER cumulative AS cumulative_activity_in_channel,\n",
    "    SUM(SUM(delta)) OVER moving5    AS csum5,\n",
    "    COUNT(1) OVER moving5           AS count5\n",
    "FROM \"example-wikipedia-windows\"\n",
    "WHERE channel = '#en.wikipedia'\n",
    "  AND __time BETWEEN '2016-06-27' AND '2016-06-28'\n",
    "GROUP BY 1, TIME_FLOOR(__time, 'PT1H')\n",
    "WINDOW cumulative AS (   \n",
    "                         PARTITION BY channel \n",
    "                         ORDER BY TIME_FLOOR(__time, 'PT1H') \n",
    "                         ROWS BETWEEN UNBOUNDED PRECEDING AND CURRENT ROW\n",
    "                     )\n",
    "                     ,\n",
    "        moving5 AS ( \n",
    "                    PARTITION BY channel \n",
    "                    ORDER BY TIME_FLOOR(__time, 'PT1H') \n",
    "                    ROWS BETWEEN 4 PRECEDING AND CURRENT ROW\n",
    "                  )\n",
    "\"\"\"\n",
    "\n",
    "req = sql_client.sql_request(query)\n",
    "# Window functions are currently experimental. Set the enableWindiowing\n",
    "# context parameter to \"true\" to use them.\n",
    "req.add_context(\"enableWindowing\", \"true\")\n",
    "display.sql(req)\n"
   ]
  },
  {
   "cell_type": "markdown",
   "id": "eab62c41-f8bb-4c2e-8ab1-4d4f48c1767e",
   "metadata": {},
   "source": [
    "This example uses the WINDOW clause to define multiple window specifications for reuse with many window function calculations.\n",
    "The query uses two windows:\n",
    "- `cumulative` is partitioned by `channel` and includes all rows from the beginning of partition up to the current row as ordered by `__time` which enables cumulative aggregation\n",
    "- `moving5` is also partitioned by channel but only includes up to the last 4 rows and the current row as ordered by time\n",
    "\n",
    "Notice in the `count5` resulting column that the number of rows considered for the `moving5` window:\n",
    "- starts at 1 because there are no rows before the current one\n",
    "- and grows up to 5 as defined by `ROWS BETWEEN 4 PRECEDING AND CURRENT ROW`"
   ]
  },
  {
   "cell_type": "markdown",
   "id": "5b2e83ff-fb8a-453b-a7ff-8ef0e4b92af7",
   "metadata": {},
   "source": [
    "## Ranking functions\n",
    "Ranking window functions calculate results based on the ORDER BY clause in the window definition.\n",
    "The following example queries the activity of a single channel `#lt.wikipedia`  during a single hour `__time BETWEEN '2016-06-27 00:00:00' AND '2016-06-27 01:00:00'` and uses all ranking functions ordered by the total activity by user rounded to the nearest hundred. The rounding causes some ties in the values which illustrates the difference among rank functions:"
   ]
  },
  {
   "cell_type": "code",
   "execution_count": null,
   "id": "694900d0-891f-41bd-9b45-5ae957385244",
   "metadata": {},
   "outputs": [],
   "source": [
    "query = \"\"\"\n",
    "SELECT \n",
    "    channel,\n",
    "    user,\n",
    "    ROUND(SUM(delta),-2) AS hourly_change_rounded\n",
    "    ,ROW_NUMBER()   OVER (  ORDER BY ROUND(SUM(delta),-2) DESC ) AS row_no\n",
    "    ,RANK()         OVER (  ORDER BY ROUND(SUM(delta),-2) DESC ) AS rank_no\n",
    "    ,DENSE_RANK()   OVER (  ORDER BY ROUND(SUM(delta),-2) DESC ) AS dense_rank_no\n",
    "    ,PERCENT_RANK() OVER (  ORDER BY ROUND(SUM(delta),-2) DESC ) AS pct_rank\n",
    "    ,CUME_DIST()    OVER (  ORDER BY ROUND(SUM(delta),-2) DESC ) AS cumulative_dist\n",
    "    ,NTILE(4)       OVER (  ORDER BY ROUND(SUM(delta),-2) DESC ) AS ntile_val\n",
    "FROM \"example-wikipedia-windows\"\n",
    "WHERE channel = '#en.wikipedia'\n",
    "  AND __time BETWEEN '2016-06-27 00:00:00' AND '2016-06-27 01:00:00'\n",
    "GROUP BY TIME_FLOOR(__time, 'PT1H'), channel, user\n",
    "\"\"\"\n",
    "\n",
    "req = sql_client.sql_request(query)\n",
    "req.add_context(\"enableWindowing\", \"true\")\n",
    "display.sql(req)"
   ]
  },
  {
   "cell_type": "markdown",
   "id": "180edfb5-63f9-4768-b35f-418d049083e0",
   "metadata": {},
   "source": [
    "Notice the differences in ordinal ranking values in each column:\n",
    "- row_no  - `ROW_NUMBER()` is grows monotonically by one for each row, regardless of ties.\n",
    "- rank_no - `RANK()` assigned the same rank value of `5` to the tied rows but then skips to `9` for the next row because there are 8 rows before it.\n",
    "- dense_rank_no - `DENSE_RANK()` also assigned the same rank of `5` to the tied values but then continues with `6`.\n",
    "\n",
    "Distribution ranks:\n",
    "- pct_rank  - calculates `(rank() -1 ) / ( rows in partition - 1 )` providing a measure of what percentage of values fall before the current value in the distribution.\n",
    "- cumulative_dist - calculates the cumulative distribution, it can be read as, the value in this row is in the top X percent of the population\n",
    "- ntile_val  - calculates which population distribution bucket the row corresponds to, where N is the number of buckets, ntile(4) is calculating quartiles, ntile(100) calculates percentiles.\n",
    "   "
   ]
  },
  {
   "cell_type": "markdown",
   "id": "75b5a98c-1016-4642-a2ad-e793d9772ea2",
   "metadata": {},
   "source": [
    "## Value window functions\n",
    "You can use the following functions to include values from other rows within the window for the current row."
   ]
  },
  {
   "cell_type": "code",
   "execution_count": null,
   "id": "81b34b1d-c5ac-485a-83fc-f98373b7bfe6",
   "metadata": {},
   "outputs": [],
   "source": [
    "query = \"\"\"\n",
    "SELECT FLOOR(__time TO HOUR) AS event_time,\n",
    "    channel,\n",
    "    SUM(delta) total_activity,\n",
    "    LAG(SUM(delta), 1, NULL) OVER (PARTITION BY channel ORDER BY FLOOR(__time TO HOUR) ASC) AS lag_val,\n",
    "    LEAD(SUM(delta), 1, NULL) OVER (PARTITION BY channel ORDER BY FLOOR(__time TO HOUR) ASC) AS lead_val,\n",
    "    FIRST_VALUE(SUM(delta)) OVER (PARTITION BY channel ORDER BY FLOOR(__time TO HOUR) ASC) AS first_val,\n",
    "    LAST_VALUE(SUM(delta)) OVER (PARTITION BY channel ORDER BY FLOOR(__time TO HOUR) ASC) AS last_val\n",
    "FROM \"example-wikipedia-windows\"\n",
    "WHERE channel IN ('#kk.wikipedia', '#lt.wikipedia')\n",
    "GROUP BY channel, FLOOR(__time TO HOUR) \n",
    "\"\"\"\n",
    "\n",
    "req = sql_client.sql_request(query)\n",
    "req.add_context(\"enableWindowing\", \"true\")\n",
    "display.sql(req)"
   ]
  },
  {
   "cell_type": "markdown",
   "id": "05131565-f289-467d-8817-d7ffc13b0b25",
   "metadata": {},
   "source": [
    "The `total_activity` column shows the net change in bytes for the `channel` by hour `event_time`. The calculated window function result columns are:\n",
    "\n",
    "- `lag_val`  - shows a the value of `total_activity` from 1 row preceding the current row, notice that the second parameter of the `LAG` function specifies the specific preceding row. In this case for the first row in each partition, the prior value does not exist, so NULL is returned.\n",
    "- `lead_val` - shows a the value of `total_activity` from 1 row following the current row, again that the second parameter of the `LEAD` function specifies the specific following row to select from. In this case for the last row in each partition, the following value does not exist, so NULL is returned.\n",
    "- `first_val` - shows the first value in the `channel` partition ordered by time\n",
    "- `last_val` - shows the last value in the `channel` partition ordered by time"
   ]
  },
  {
   "cell_type": "markdown",
   "id": "3faa66a6-4e54-41f2-bd9a-bb0a5132b171",
   "metadata": {},
   "source": [
    "## Aggregate window functions\n",
    "Many of the normal aggregate functions can also be used in the context of a window specification.\n",
    "The following query shows an example of the most common ones:"
   ]
  },
  {
   "cell_type": "code",
   "execution_count": null,
   "id": "b6c56fed-b91b-40dd-90ad-ad675f4d68a1",
   "metadata": {},
   "outputs": [],
   "source": [
    "query=\"\"\"\n",
    "SELECT FLOOR(__time TO DAY) AS event_time,\n",
    "    channel,\n",
    "    user,\n",
    "    SUM(delta) total_activity,\n",
    "    AVG(SUM(delta)) OVER (PARTITION BY channel ) AS avg_user_daily_change,\n",
    "    MIN(SUM(delta)) OVER (PARTITION BY channel ) AS min_user_daily_change,\n",
    "    MAX(SUM(delta)) OVER (PARTITION BY channel ) AS max_user_daily_change,\n",
    "    SUM(SUM(delta)) OVER (PARTITION BY channel ) AS total_daily_change\n",
    "FROM \"example-wikipedia-windows\"\n",
    "WHERE channel IN ('#kk.wikipedia', '#lt.wikipedia')\n",
    "GROUP BY channel, FLOOR(__time TO DAY), user \n",
    "\"\"\"\n",
    "req = sql_client.sql_request(query)\n",
    "req.add_context(\"enableWindowing\", \"true\")\n",
    "display.sql(req)"
   ]
  },
  {
   "cell_type": "markdown",
   "id": "fab5b831-69a8-4215-9b97-f7ce62610850",
   "metadata": {},
   "source": [
    "## Cleanup\n",
    "Run the following cell to remove the objects created within this notebook."
   ]
  },
  {
   "cell_type": "code",
   "execution_count": null,
   "id": "8947babc-0798-465d-8eed-b9facca064d0",
   "metadata": {},
   "outputs": [],
   "source": [
    "print(f\"Drop datasource: [{druid.datasources.drop('example-wikipedia-windows')}]\")"
   ]
  },
  {
   "cell_type": "markdown",
   "id": "fc5212e9-35ed-4243-bc98-7f65afcfaf22",
   "metadata": {},
   "source": [
    "## Conclusion\n",
    "Window functions can be extremely useful for analytics. \n",
    "They are available as an experimental feature for Apache Druid 28.0\n",
    "\n"
   ]
  }
 ],
 "metadata": {
  "kernelspec": {
   "display_name": "Python 3 (ipykernel)",
   "language": "python",
   "name": "python3"
  },
  "language_info": {
   "codemirror_mode": {
    "name": "ipython",
    "version": 3
   },
   "file_extension": ".py",
   "mimetype": "text/x-python",
   "name": "python",
   "nbconvert_exporter": "python",
   "pygments_lexer": "ipython3",
   "version": "3.11.6"
  },
  "vscode": {
   "interpreter": {
    "hash": "b0fa6594d8f4cbf19f97940f81e996739fb7646882a419484c72d19e05852a7e"
   }
  }
 },
 "nbformat": 4,
 "nbformat_minor": 5
}
