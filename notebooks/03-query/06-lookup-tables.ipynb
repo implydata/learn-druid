{
 "cells": [
  {
   "cell_type": "markdown",
   "id": "0cb3b009-ebde-4d56-9d59-a028d66d8309",
   "metadata": {},
   "source": [
    "# Enriching and updating data using lookup tables\n",
    "<!--\n",
    "  ~ Licensed to the Apache Software Foundation (ASF) under one\n",
    "  ~ or more contributor license agreements.  See the NOTICE file\n",
    "  ~ distributed with this work for additional information\n",
    "  ~ regarding copyright ownership.  The ASF licenses this file\n",
    "  ~ to you under the Apache License, Version 2.0 (the\n",
    "  ~ \"License\"); you may not use this file except in compliance\n",
    "  ~ with the License.  You may obtain a copy of the License at\n",
    "  ~\n",
    "  ~   http://www.apache.org/licenses/LICENSE-2.0\n",
    "  ~\n",
    "  ~ Unless required by applicable law or agreed to in writing,\n",
    "  ~ software distributed under the License is distributed on an\n",
    "  ~ \"AS IS\" BASIS, WITHOUT WARRANTIES OR CONDITIONS OF ANY\n",
    "  ~ KIND, either express or implied.  See the License for the\n",
    "  ~ specific language governing permissions and limitations\n",
    "  ~ under the License.\n",
    "  -->\n",
    "\n",
    "[Lookups](https://druid.apache.org/docs/latest/querying/lookups) are [key/value-pair tables](https://druid.apache.org/docs/latest/querying/datasource#lookup) broadcast to query processes that can be updated regularly either manually or automatically. In this notebook you will find examples of how they can be referenced at ingestion and query time using [functions](https://druid.apache.org/docs/latest/querying/sql-scalar#string-functions) and [JOIN](https://druid.apache.org/docs/latest/querying/joins) operations."
   ]
  },
  {
   "cell_type": "markdown",
   "id": "bbdbf6ad-ca7b-40f5-8ca3-1070f4a3ee42",
   "metadata": {},
   "source": [
    "## Prerequisites\n",
    "\n",
    "This tutorial has been designed for Apache Druid 28.0.0. Earlier versions of Druid may not support all the features used in the examples.\n",
    "\n",
    "Launch this tutorial and all prerequisites using the `druid-jupyter` profile of the Docker Compose file for Jupyter-based Druid tutorials. For more information, see the Learn Druid repository [readme](https://github.com/implydata/learn-druid)."
   ]
  },
  {
   "cell_type": "markdown",
   "id": "5007a243-b81a-4601-8f57-5b14940abbff",
   "metadata": {},
   "source": [
    "## Initialization\n",
    "\n",
    "The following cells set up the notebook and learning environment ready for use.\n",
    "\n",
    "### Set up and connect to the learning environment\n",
    "\n",
    "Run the next cell to set up the Druid Python client's connection to Apache Druid.\n",
    "\n",
    "If successful, the Druid version number will be shown in the output."
   ]
  },
  {
   "cell_type": "code",
   "execution_count": null,
   "id": "c1ec783b-df3f-4168-9be2-cdc6ad3e33c2",
   "metadata": {},
   "outputs": [],
   "source": [
    "import druidapi\n",
    "import os\n",
    "\n",
    "if 'DRUID_HOST' not in os.environ.keys():\n",
    "    druid_host=f\"http://localhost:8888\"\n",
    "else:\n",
    "    druid_host=f\"http://{os.environ['DRUID_HOST']}:8888\"\n",
    "    \n",
    "print(f\"Opening a connection to {druid_host}.\")\n",
    "druid = druidapi.jupyter_client(druid_host)\n",
    "\n",
    "display = druid.display\n",
    "sql_client = druid.sql\n",
    "status_client = druid.status\n",
    "\n",
    "status_client.version"
   ]
  },
  {
   "cell_type": "markdown",
   "id": "472589e4-1026-4b3b-bb79-eedabb2b44c4",
   "metadata": {},
   "source": [
    "### Load example data\n",
    "\n",
    "Run the following cell to ingest the sample data for this tutorial into a table called `example-flights-lookup`. Only specific source data columns are ingested.\n",
    "\n",
    "When completed, you'll see a description of the final table."
   ]
  },
  {
   "cell_type": "code",
   "execution_count": null,
   "id": "f52a94fb-d2e4-403f-ab10-84d3af7bf2c8",
   "metadata": {},
   "outputs": [],
   "source": [
    "sql='''\n",
    "REPLACE INTO \"example-flights-lookup\" OVERWRITE ALL\n",
    "WITH \"ext\" AS (SELECT *\n",
    "FROM TABLE(\n",
    "  EXTERN(\n",
    "    '{\"type\":\"http\",\"uris\":[\"https://static.imply.io/example-data/flight_on_time/flights/On_Time_Reporting_Carrier_On_Time_Performance_(1987_present)_2005_11.csv.zip\"]}',\n",
    "    '{\"type\":\"csv\",\"findColumnsFromHeader\":true}'\n",
    "  )\n",
    ") EXTEND (\"depaturetime\" VARCHAR, \"arrivalime\" VARCHAR, \"Year\" BIGINT, \"Quarter\" BIGINT, \"Month\" BIGINT, \"DayofMonth\" BIGINT, \"DayOfWeek\" BIGINT, \"FlightDate\" VARCHAR, \"Reporting_Airline\" VARCHAR, \"DOT_ID_Reporting_Airline\" BIGINT, \"IATA_CODE_Reporting_Airline\" VARCHAR, \"Tail_Number\" VARCHAR, \"Flight_Number_Reporting_Airline\" BIGINT, \"OriginAirportID\" BIGINT, \"OriginAirportSeqID\" BIGINT, \"OriginCityMarketID\" BIGINT, \"Origin\" VARCHAR, \"OriginCityName\" VARCHAR, \"OriginState\" VARCHAR, \"OriginStateFips\" BIGINT, \"OriginStateName\" VARCHAR, \"OriginWac\" BIGINT, \"DestAirportID\" BIGINT, \"DestAirportSeqID\" BIGINT, \"DestCityMarketID\" BIGINT, \"Dest\" VARCHAR, \"DestCityName\" VARCHAR, \"DestState\" VARCHAR, \"DestStateFips\" BIGINT, \"DestStateName\" VARCHAR, \"DestWac\" BIGINT, \"CRSDepTime\" BIGINT, \"DepTime\" BIGINT, \"DepDelay\" BIGINT, \"DepDelayMinutes\" BIGINT, \"DepDel15\" BIGINT, \"DepartureDelayGroups\" BIGINT, \"DepTimeBlk\" VARCHAR, \"TaxiOut\" BIGINT, \"WheelsOff\" BIGINT, \"WheelsOn\" BIGINT, \"TaxiIn\" BIGINT, \"CRSArrTime\" BIGINT, \"ArrTime\" BIGINT, \"ArrDelay\" BIGINT, \"ArrDelayMinutes\" BIGINT, \"ArrDel15\" BIGINT, \"ArrivalDelayGroups\" BIGINT, \"ArrTimeBlk\" VARCHAR, \"Cancelled\" BIGINT, \"CancellationCode\" VARCHAR, \"Diverted\" BIGINT, \"CRSElapsedTime\" BIGINT, \"ActualElapsedTime\" BIGINT, \"AirTime\" BIGINT, \"Flights\" BIGINT, \"Distance\" BIGINT, \"DistanceGroup\" BIGINT, \"CarrierDelay\" BIGINT, \"WeatherDelay\" BIGINT, \"NASDelay\" BIGINT, \"SecurityDelay\" BIGINT, \"LateAircraftDelay\" BIGINT, \"FirstDepTime\" VARCHAR, \"TotalAddGTime\" VARCHAR, \"LongestAddGTime\" VARCHAR, \"DivAirportLandings\" VARCHAR, \"DivReachedDest\" VARCHAR, \"DivActualElapsedTime\" VARCHAR, \"DivArrDelay\" VARCHAR, \"DivDistance\" VARCHAR, \"Div1Airport\" VARCHAR, \"Div1AirportID\" VARCHAR, \"Div1AirportSeqID\" VARCHAR, \"Div1WheelsOn\" VARCHAR, \"Div1TotalGTime\" VARCHAR, \"Div1LongestGTime\" VARCHAR, \"Div1WheelsOff\" VARCHAR, \"Div1TailNum\" VARCHAR, \"Div2Airport\" VARCHAR, \"Div2AirportID\" VARCHAR, \"Div2AirportSeqID\" VARCHAR, \"Div2WheelsOn\" VARCHAR, \"Div2TotalGTime\" VARCHAR, \"Div2LongestGTime\" VARCHAR, \"Div2WheelsOff\" VARCHAR, \"Div2TailNum\" VARCHAR, \"Div3Airport\" VARCHAR, \"Div3AirportID\" VARCHAR, \"Div3AirportSeqID\" VARCHAR, \"Div3WheelsOn\" VARCHAR, \"Div3TotalGTime\" VARCHAR, \"Div3LongestGTime\" VARCHAR, \"Div3WheelsOff\" VARCHAR, \"Div3TailNum\" VARCHAR, \"Div4Airport\" VARCHAR, \"Div4AirportID\" VARCHAR, \"Div4AirportSeqID\" VARCHAR, \"Div4WheelsOn\" VARCHAR, \"Div4TotalGTime\" VARCHAR, \"Div4LongestGTime\" VARCHAR, \"Div4WheelsOff\" VARCHAR, \"Div4TailNum\" VARCHAR, \"Div5Airport\" VARCHAR, \"Div5AirportID\" VARCHAR, \"Div5AirportSeqID\" VARCHAR, \"Div5WheelsOn\" VARCHAR, \"Div5TotalGTime\" VARCHAR, \"Div5LongestGTime\" VARCHAR, \"Div5WheelsOff\" VARCHAR, \"Div5TailNum\" VARCHAR, \"Unnamed: 109\" VARCHAR))\n",
    "SELECT\n",
    "  TIME_PARSE(\"depaturetime\") AS \"__time\",\n",
    "  \"Reporting_Airline\",\n",
    "  \"Tail_Number\",\n",
    "  \"Distance\",\n",
    "  \"Origin\",\n",
    "  \"Dest\"\n",
    "FROM \"ext\"\n",
    "PARTITIONED BY DAY\n",
    "'''\n",
    "\n",
    "display.run_task(sql)\n",
    "sql_client.wait_until_ready('example-flights-lookup')\n",
    "display.table('example-flights-lookup')"
   ]
  },
  {
   "cell_type": "markdown",
   "id": "9c3d6b39-6551-4b2a-bdfb-9606aa92c853",
   "metadata": {},
   "source": [
    "### Import additional modules\n",
    "\n",
    "Run the following cell to import additional modules for this notebook.\n",
    "\n",
    "The cell also contains two functions - `postLookup` and `waitForLookup`, wrapping API posts to Druid when working with lookups.\n",
    "\n",
    "* You will use the `postLookup` function to call the [lookup configuration API](https://druid.apache.org/docs/latest/api-reference/lookups-api) to create and update lookup tables.\n",
    "* The `waitForLookup` function will be used to give you feedback on Druid's progress in [distributing](https://druid.apache.org/docs/latest/querying/lookups#configuration-propagation-behavior) the lookup table around the query-serving processes in Druid."
   ]
  },
  {
   "cell_type": "code",
   "execution_count": null,
   "id": "dc4c2524-0eba-4bc6-84ed-da3a25aa5fbe",
   "metadata": {},
   "outputs": [],
   "source": [
    "import datetime\n",
    "import requests\n",
    "import time\n",
    "\n",
    "def postLookup(definition):\n",
    "    x = requests.post(f\"{druid_host}/druid/coordinator/v1/lookups/config\", json=definition)\n",
    "\n",
    "    if \"error\" in x.text:\n",
    "        raise Exception('Not able to complete the request. \\n\\n'+x.text)\n",
    "    else:\n",
    "        print('Successfully submitted the lookup request.')\n",
    "\n",
    "def waitForLookup(tier, name, ticsMax):\n",
    "\n",
    "    # The default time period between checks of lookup definition changes (druid.manager.lookups.period)\n",
    "    # is two minutes. The notebook environment reduces this for learning purposes.\n",
    "    # \n",
    "    # https://druid.apache.org/docs/latest/configuration/#lookups-dynamic-configuration\n",
    "\n",
    "    tics = 0\n",
    "    ticsWait = 1    \n",
    "    ticsMax = min(ticsMax,360)\n",
    "    ticsSpinner = \"/-\\|\"\n",
    "    \n",
    "    apicall = f\"{druid_host}/druid/coordinator/v1/lookups/status/{tier}/{name}?detailed=true\"\n",
    "\n",
    "    x = requests.get(apicall)\n",
    "\n",
    "    while (x.text != '{\"loaded\":true,\"pendingNodes\":[]}' and tics < ticsMax):\n",
    "        print(f\"{x.text} {ticsSpinner[tics%len(ticsSpinner)]} [ {str(ticsMax-tics)} ]     \", end='\\r')\n",
    "        time.sleep(ticsWait)\n",
    "        tics += 1\n",
    "        x = requests.get(apicall) \n",
    "\n",
    "    if (tics == ticsMax):\n",
    "        raise Exception(f\"\\nTimeout waiting for Druid to load the {name} lookup to {tier} tier. Run the cell again.\")\n",
    "    else:\n",
    "        print(f\"\\nSuccess. {name} lookup in {tier} tier is fully available.\")"
   ]
  },
  {
   "cell_type": "markdown",
   "id": "71dca490-ac78-40b3-b043-16920e379d87",
   "metadata": {},
   "source": [
    "### Initialize the lookups feature\n",
    "\n",
    "You must initialize the lookups feature before creating a table in the lookup schema.\n",
    "\n",
    "Run the following cell, which posts an empty JSON object to the configuration API."
   ]
  },
  {
   "cell_type": "code",
   "execution_count": null,
   "id": "3e13e81d-06d9-462f-9e2f-501711c37004",
   "metadata": {},
   "outputs": [],
   "source": [
    "empty_post = {}\n",
    "postLookup(empty_post)"
   ]
  },
  {
   "cell_type": "markdown",
   "id": "7ac903a5-9d9a-4c55-80d4-f37be14c12df",
   "metadata": {},
   "source": [
    "## Create a lookup table\n",
    "\n",
    "Individual lookup tables are defined by posting a JSON object to the [lookups API](https://druid.apache.org/docs/latest/api-reference/lookups-api).\n",
    "\n",
    "In this section, you will create a `lookup_post` object that can then be posted to the API as JSON. It will contain:\n",
    "\n",
    "* The [tier](https://druid.apache.org/docs/latest/querying/lookups#dynamic-configuration) to which the table belongs - this will be the standard '__default'.\n",
    "* A name for the table\n",
    "* A definition of the lookup itself\n",
    "\n",
    "The next cell constructs a `lookup_post` object that can then be passed as JSON to the lookups API.\n",
    "\n",
    "* The tier name appears at the highest level of the JSON - in the documentation you may see this as `<tierName>`, and it appears as \"__default\".\n",
    "Inside this the lookup name is given.\n",
    "* The lookup table name, seen as `<lookupName>` in documentation, appears inside. Here, the name is given as \"example-flights-airportsizes\".\n",
    "* Inside this appears the actual lookup definition, including a version number.\n",
    "\n",
    "The specific details of the definition depend on the type of lookup being created. In this notebook we will set up `example-flights-airportsizes` using a `map`-type lookup, where the data for the lookup table to be put inline in the `POST` request. You will see a number of key / value pairs that map an airport code to its size.\n",
    "\n",
    "To begin, run the next cell to create the `lookup_post_version` variable, which uses the current time and date to construct a version string."
   ]
  },
  {
   "cell_type": "code",
   "execution_count": null,
   "id": "4c03a78c-aaa5-4c20-aa8c-90f4fa3f2d38",
   "metadata": {},
   "outputs": [],
   "source": [
    "lookup_post_version = datetime.datetime.now().strftime(\"%Y-%m-%dT%H:%M:%SZ\")"
   ]
  },
  {
   "cell_type": "markdown",
   "id": "022662f0-aa5e-498c-9f52-ffac853741c6",
   "metadata": {},
   "source": [
    "Now run the cell below to create the `lookup_post` object."
   ]
  },
  {
   "cell_type": "code",
   "execution_count": null,
   "id": "ab050d38-2e24-40f6-8ade-974a519afd24",
   "metadata": {},
   "outputs": [],
   "source": [
    "lookup_post = {\n",
    "  \"__default\": {\n",
    "    \"example-flights-airportsizes\": {\n",
    "      \"version\": lookup_post_version,  \n",
    "      \"lookupExtractorFactory\": {\n",
    "      \"type\": \"map\",\n",
    "      \"map\": {\"ABE\":\"medium_airport\",\"ABI\":\"medium_airport\",\"ABQ\":\"large_airport\",\"ABY\":\"medium_airport\",\"ACT\":\"medium_airport\",\n",
    "              \"ACV\":\"medium_airport\",\"ACY\":\"medium_airport\",\"ADK\":\"medium_airport\",\"ADQ\":\"medium_airport\",\"AEX\":\"medium_airport\",\n",
    "              \"AGS\":\"large_airport\",\"AKN\":\"medium_airport\",\"ALB\":\"medium_airport\",\"AMA\":\"large_airport\",\"ANC\":\"large_airport\",\n",
    "              \"APF\":\"medium_airport\",\"ATL\":\"large_airport\",\"ATW\":\"small_airport\",\"AUS\":\"large_airport\",\"AVL\":\"large_airport\",\n",
    "              \"AVP\":\"medium_airport\",\"AZO\":\"medium_airport\",\"BDL\":\"large_airport\",\"BET\":\"medium_airport\",\"BFL\":\"medium_airport\",\n",
    "              \"BGM\":\"medium_airport\",\"BGR\":\"large_airport\",\"BHM\":\"large_airport\",\"BIL\":\"large_airport\",\"BIS\":\"medium_airport\",\n",
    "              \"BMI\":\"large_airport\",\"BNA\":\"large_airport\",\"BOI\":\"large_airport\",\"BOS\":\"large_airport\",\"BQK\":\"medium_airport\",\n",
    "              \"BQN\":\"medium_airport\",\"BRO\":\"medium_airport\",\"BRW\":\"medium_airport\",\"BTM\":\"medium_airport\",\"BTR\":\"medium_airport\",\n",
    "              \"BTV\":\"medium_airport\",\"BUF\":\"large_airport\",\"BUR\":\"medium_airport\",\"BWI\":\"large_airport\",\"BZN\":\"medium_airport\",\n",
    "              \"CAE\":\"large_airport\",\"CAK\":\"medium_airport\",\"CDC\":\"medium_airport\",\"CDV\":\"medium_airport\",\"CEC\":\"medium_airport\",\n",
    "              \"CHA\":\"large_airport\",\"CHO\":\"medium_airport\",\"CHS\":\"large_airport\",\"CIC\":\"small_airport\",\"CID\":\"large_airport\",\n",
    "              \"CRQ\":\"medium_airport\",\"CLE\":\"large_airport\",\"CLL\":\"medium_airport\",\"CLT\":\"large_airport\",\"CMH\":\"large_airport\",\n",
    "              \"CMI\":\"medium_airport\",\"COD\":\"medium_airport\",\"COS\":\"large_airport\",\"CPR\":\"medium_airport\",\"CRP\":\"large_airport\",\n",
    "              \"CRW\":\"large_airport\",\"CSG\":\"medium_airport\",\"CVG\":\"large_airport\",\"CWA\":\"medium_airport\",\"DAB\":\"large_airport\",\n",
    "              \"DAL\":\"large_airport\",\"DAY\":\"large_airport\",\"DBQ\":\"large_airport\",\"DCA\":\"large_airport\",\"DEN\":\"large_airport\",\n",
    "              \"DFW\":\"large_airport\",\"DHN\":\"medium_airport\",\"DLG\":\"medium_airport\",\"DLH\":\"large_airport\",\"DSM\":\"large_airport\",\n",
    "              \"DTW\":\"large_airport\",\"EGE\":\"medium_airport\",\"EKO\":\"medium_airport\",\"ELP\":\"medium_airport\",\"ERI\":\"large_airport\",\n",
    "              \"EUG\":\"medium_airport\",\"EVV\":\"medium_airport\",\"EWR\":\"large_airport\",\"EYW\":\"medium_airport\",\"FAI\":\"large_airport\",\n",
    "              \"FAR\":\"medium_airport\",\"FAT\":\"medium_airport\",\"FAY\":\"medium_airport\",\"GPI\":\"medium_airport\",\"FLL\":\"large_airport\",\n",
    "              \"FLO\":\"medium_airport\",\"FNT\":\"medium_airport\",\"FSD\":\"medium_airport\",\"FSM\":\"large_airport\",\"FWA\":\"large_airport\",\n",
    "              \"GEG\":\"large_airport\",\"GFK\":\"medium_airport\",\"GGG\":\"medium_airport\",\"GJT\":\"medium_airport\",\"GNV\":\"medium_airport\",\n",
    "              \"GPT\":\"large_airport\",\"GRB\":\"large_airport\",\"GRK\":\"medium_airport\",\"GRR\":\"medium_airport\",\"GSO\":\"large_airport\",\n",
    "              \"GSP\":\"large_airport\",\"GTF\":\"medium_airport\",\"GTR\":\"medium_airport\",\"HDN\":\"small_airport\",\"HKY\":\"medium_airport\",\n",
    "              \"HLN\":\"medium_airport\",\"HNL\":\"large_airport\",\"HOU\":\"large_airport\",\"HPN\":\"medium_airport\",\"HRL\":\"medium_airport\",\n",
    "              \"HSV\":\"large_airport\",\"HTS\":\"large_airport\",\"HVN\":\"medium_airport\",\"IAD\":\"large_airport\",\"IAH\":\"large_airport\",\n",
    "              \"ICT\":\"large_airport\",\"IDA\":\"medium_airport\",\"ILM\":\"medium_airport\",\"IND\":\"large_airport\",\"IPL\":\"medium_airport\",\n",
    "              \"ISO\":\"medium_airport\",\"ISP\":\"medium_airport\",\"ITO\":\"medium_airport\",\"IYK\":\"small_airport\",\"JAC\":\"medium_airport\",\n",
    "              \"JAN\":\"large_airport\",\"JAX\":\"large_airport\",\"JFK\":\"large_airport\",\"JNU\":\"medium_airport\",\"KOA\":\"medium_airport\",\n",
    "              \"KTN\":\"medium_airport\",\"LAN\":\"medium_airport\",\"LAS\":\"large_airport\",\"LAW\":\"medium_airport\",\"LAX\":\"large_airport\",\n",
    "              \"LBB\":\"large_airport\",\"LCH\":\"medium_airport\",\"LEX\":\"large_airport\",\"LFT\":\"large_airport\",\"LGA\":\"large_airport\",\n",
    "              \"LGB\":\"medium_airport\",\"LIH\":\"medium_airport\",\"LIT\":\"large_airport\",\"LNK\":\"medium_airport\",\"LRD\":\"medium_airport\",\n",
    "              \"LSE\":\"medium_airport\",\"LWS\":\"medium_airport\",\"LYH\":\"medium_airport\",\"MAF\":\"medium_airport\",\"MBS\":\"large_airport\",\n",
    "              \"MCI\":\"large_airport\",\"MCN\":\"medium_airport\",\"MCO\":\"large_airport\",\"MDT\":\"medium_airport\",\"MDW\":\"large_airport\",\n",
    "              \"MEI\":\"medium_airport\",\"MEM\":\"large_airport\",\"MFE\":\"medium_airport\",\"MFR\":\"medium_airport\",\"MGM\":\"large_airport\",\n",
    "              \"MHT\":\"large_airport\",\"MIA\":\"large_airport\",\"MKE\":\"large_airport\",\"MLB\":\"medium_airport\",\"MLI\":\"large_airport\",\n",
    "              \"MLU\":\"large_airport\",\"MOB\":\"large_airport\",\"MOD\":\"medium_airport\",\"MOT\":\"medium_airport\",\"SAW\":\"medium_airport\",\n",
    "              \"MRY\":\"medium_airport\",\"MSN\":\"large_airport\",\"MSO\":\"medium_airport\",\"MSP\":\"large_airport\",\"MSY\":\"large_airport\",\n",
    "              \"MTJ\":\"medium_airport\",\"MYR\":\"medium_airport\",\"OAK\":\"large_airport\",\"OGG\":\"medium_airport\",\"OKC\":\"large_airport\",\n",
    "              \"OMA\":\"large_airport\",\"OME\":\"medium_airport\",\"ONT\":\"large_airport\",\"ORD\":\"large_airport\",\"ORF\":\"large_airport\",\n",
    "              \"OTZ\":\"medium_airport\",\"OXR\":\"medium_airport\",\"PBI\":\"large_airport\",\"PDX\":\"large_airport\",\"PHF\":\"large_airport\",\n",
    "              \"PHL\":\"large_airport\",\"PHX\":\"large_airport\",\"PIA\":\"large_airport\",\"PIH\":\"medium_airport\",\"PIT\":\"large_airport\",\n",
    "              \"PNS\":\"medium_airport\",\"PSC\":\"medium_airport\",\"PSE\":\"medium_airport\",\"PSG\":\"medium_airport\",\"PSP\":\"medium_airport\",\n",
    "              \"PVD\":\"large_airport\",\"PWM\":\"large_airport\",\"RAP\":\"medium_airport\",\"RDD\":\"medium_airport\",\"RDM\":\"medium_airport\",\n",
    "              \"RDU\":\"large_airport\",\"RIC\":\"large_airport\",\"RNO\":\"large_airport\",\"ROA\":\"large_airport\",\"ROC\":\"large_airport\",\n",
    "              \"RST\":\"large_airport\",\"RSW\":\"large_airport\",\"SAN\":\"large_airport\",\"SAT\":\"large_airport\",\"SAV\":\"large_airport\",\n",
    "              \"SBA\":\"medium_airport\",\"SBN\":\"large_airport\",\"SBP\":\"medium_airport\",\"SCC\":\"medium_airport\",\"UNV\":\"medium_airport\",\n",
    "              \"SDF\":\"large_airport\",\"SEA\":\"large_airport\",\"SFO\":\"large_airport\",\"SGF\":\"large_airport\",\"SGU\":\"medium_airport\",\n",
    "              \"SHV\":\"medium_airport\",\"SIT\":\"medium_airport\",\"SJC\":\"large_airport\",\"SJT\":\"medium_airport\",\"SJU\":\"large_airport\",\n",
    "              \"SLC\":\"large_airport\",\"SMF\":\"large_airport\",\"SMX\":\"medium_airport\",\"SNA\":\"large_airport\",\"SPI\":\"large_airport\",\n",
    "              \"SPS\":\"large_airport\",\"SRQ\":\"large_airport\",\"STL\":\"large_airport\",\"STT\":\"medium_airport\",\"STX\":\"medium_airport\",\n",
    "              \"SUN\":\"medium_airport\",\"SWF\":\"medium_airport\",\"SYR\":\"large_airport\",\"TLH\":\"large_airport\",\"TOL\":\"large_airport\",\n",
    "              \"TPA\":\"large_airport\",\"TRI\":\"large_airport\",\"TUL\":\"large_airport\",\"TUP\":\"medium_airport\",\"TUS\":\"large_airport\",\n",
    "              \"TVC\":\"medium_airport\",\"TWF\":\"medium_airport\",\"TXK\":\"medium_airport\",\"TYR\":\"medium_airport\",\"TYS\":\"large_airport\",\n",
    "              \"VLD\":\"medium_airport\",\"VPS\":\"large_airport\",\"WRG\":\"medium_airport\",\"XNA\":\"medium_airport\",\"YAK\":\"medium_airport\",\n",
    "              \"NYL\":\"medium_airport\"\n",
    "        }\n",
    "      }\n",
    "    }\n",
    "  }\n",
    "}"
   ]
  },
  {
   "cell_type": "markdown",
   "id": "1c66c90f-4086-4586-8466-03bbed5d8bcb",
   "metadata": {},
   "source": [
    "Now run the following cell to send the object to the endpoint."
   ]
  },
  {
   "cell_type": "code",
   "execution_count": null,
   "id": "61105a0b-1f97-4b87-8621-1122fcab188a",
   "metadata": {},
   "outputs": [],
   "source": [
    "postLookup(lookup_post)"
   ]
  },
  {
   "cell_type": "markdown",
   "id": "aacfe43d-99aa-4a58-a6ce-ab7481ec21d9",
   "metadata": {},
   "source": [
    "To monitor the distribution of the lookup around the databasem run the following cell. You will see a list of the processes waiting to load the lookup data together with a running countdown until the timeout is reached.\n",
    "\n",
    "Only continue through the notebook when you see a \"Success\" message."
   ]
  },
  {
   "cell_type": "code",
   "execution_count": null,
   "id": "f38eca3c-73cb-482a-918f-ca37fcbe4590",
   "metadata": {},
   "outputs": [],
   "source": [
    "waitForLookup(\"__default\", \"example-flights-airportsizes\", 30)"
   ]
  },
  {
   "cell_type": "markdown",
   "id": "96024a72-aea2-45f3-8321-7f466f6e9027",
   "metadata": {},
   "source": [
    "## Query a lookup table\n",
    "\n",
    "Run the following cell, which counts the number of airports according to their size.\n",
    "\n",
    "Notice that the lookup table name is prefixed with the `lookup` schema."
   ]
  },
  {
   "cell_type": "code",
   "execution_count": null,
   "id": "abc104f4-760a-4c82-bda5-09e587c579b9",
   "metadata": {},
   "outputs": [],
   "source": [
    "sql='''\n",
    "SELECT\n",
    "    v AS \"value\",\n",
    "    COUNT(*) AS \"key_count\"\n",
    "FROM lookup.\"example-flights-airportsizes\"\n",
    "GROUP BY 1\n",
    "'''\n",
    "\n",
    "display.sql(sql)"
   ]
  },
  {
   "cell_type": "markdown",
   "id": "075619ae-7691-44a2-8ed3-7216142c3091",
   "metadata": {},
   "source": [
    "### Return lookup values using a JOIN\n",
    "\n",
    "You can use a JOIN to query data from both lookup and standard tables.\n",
    "\n",
    "Run the following cell to see the results of a JOIN between the lookup table you created and the `example-flights-lookup` table you ingested earlier."
   ]
  },
  {
   "cell_type": "code",
   "execution_count": null,
   "id": "c21db4c7-1052-4cfb-80d0-3d2557cdf9ca",
   "metadata": {},
   "outputs": [],
   "source": [
    "sql='''\n",
    "SELECT\n",
    "    b.v AS \"airportSize\",\n",
    "    COUNT(DISTINCT a.Origin) AS \"airports\",\n",
    "    COUNT(*) AS \"flights\",\n",
    "    SUM(a.Distance) AS \"totalDistance\"\n",
    "FROM \"example-flights-lookup\" a\n",
    "LEFT JOIN lookup.\"example-flights-airportsizes\" b ON a.Origin = b.k\n",
    "WHERE TIME_IN_INTERVAL(__time,'2005-11-30T11:00:00/2015-11-30T08:00:00')\n",
    "GROUP BY 1\n",
    "'''\n",
    "\n",
    "display.sql(sql)"
   ]
  },
  {
   "cell_type": "markdown",
   "id": "3b35b59e-503d-4a00-bf49-97781f9756d7",
   "metadata": {},
   "source": [
    "### Return lookup values using a function\n",
    "\n",
    "Use the LOOKUP [string function](https://druid.apache.org/docs/latest/querying/sql-scalar#string-functions) to dereference keys to values in an SQL query directly. This function is available as both a [SQL](https://druid.apache.org/docs/latest/querying/sql-functions#lookup) and [native](https://druid.apache.org/docs/latest/querying/math-expr#string-functions) expression.\n",
    "\n",
    "In the following cell, the `Origin` key from the `example-flights-lookup` table is used to match against the `\"example-flights-airportsizes\"` lookup, returning the value."
   ]
  },
  {
   "cell_type": "code",
   "execution_count": null,
   "id": "e58653fa-54a9-439a-8461-b95e49ce9daa",
   "metadata": {},
   "outputs": [],
   "source": [
    "sql='''\n",
    "SELECT\n",
    "    LOOKUP(\"Origin\", 'example-flights-airportsizes') AS \"airportSize\",\n",
    "    COUNT(DISTINCT Origin) AS \"airports\",\n",
    "    COUNT(*) AS \"flights\",\n",
    "    SUM(Distance) AS \"totalDistance\"\n",
    "FROM \"example-flights-lookup\"\n",
    "WHERE TIME_IN_INTERVAL(__time,'2005-11-30T11:00:00/2015-11-30T08:00:00')\n",
    "GROUP BY 1\n",
    "'''\n",
    "\n",
    "display.sql(sql)"
   ]
  },
  {
   "cell_type": "markdown",
   "id": "8bbb8830-c0e9-45d7-9533-4f0c65144367",
   "metadata": {},
   "source": [
    "Use the overloaded form of the LOOKUP function to return a value even when there is no matching key."
   ]
  },
  {
   "cell_type": "code",
   "execution_count": null,
   "id": "1189853e-9a7c-4bea-8997-bcb5578fd01a",
   "metadata": {},
   "outputs": [],
   "source": [
    "sql='''\n",
    "SELECT\n",
    "    LOOKUP(\"Origin\", 'example-flights-airportsizes', 'Not found') AS \"airportSize\",\n",
    "    COUNT(DISTINCT Origin) AS \"airports\",\n",
    "    COUNT(*) AS \"flights\",\n",
    "    SUM(Distance) AS \"totalDistance\"\n",
    "FROM \"example-flights-lookup\"\n",
    "WHERE TIME_IN_INTERVAL(__time,'2005-11-30T11:00:00/2015-11-30T08:00:00')\n",
    "GROUP BY 1\n",
    "'''\n",
    "\n",
    "display.sql(sql)"
   ]
  },
  {
   "cell_type": "markdown",
   "id": "d9966aab-4965-4b75-bc42-209d846050df",
   "metadata": {},
   "source": [
    "## Query multiple lookups\n",
    "\n",
    "Run the following cell to create a new lookup table using a `map` to correlate the data direct to the API.\n",
    "\n",
    "The cell generates a version number for the lookup. It adds the version number to the lookup definition along with the map of key/value pairs."
   ]
  },
  {
   "cell_type": "code",
   "execution_count": null,
   "id": "31533147-2204-4ef3-9f26-db69fd11675a",
   "metadata": {},
   "outputs": [],
   "source": [
    "lookup_post_version = datetime.datetime.now().strftime(\"%Y-%m-%dT%H:%M:%SZ\")\n",
    "\n",
    "lookup_post= {\n",
    "  \"__default\": {\n",
    "    \"example-flights-airportnames\": {\n",
    "      \"version\": lookup_post_version,  \n",
    "      \"lookupExtractorFactory\": {\n",
    "      \"type\": \"map\",\n",
    "      \"map\": {\"ABE\":\"Lehigh Valley International Airport\",\"ABI\":\"Abilene Regional Airport\",\"ABQ\":\"Albuquerque International Sunport\",\n",
    "              \"ABY\":\"Southwest Georgia Regional Airport\",\"ACT\":\"Waco Regional Airport\",\"ACV\":\"California Redwood Coast-Humboldt County Airport\",\n",
    "              \"ACY\":\"Atlantic City International Airport\",\"ADK\":\"Adak Airport\",\"ADQ\":\"Kodiak Airport\",\"AEX\":\"Alexandria International Airport\",\n",
    "              \"AGS\":\"Augusta Regional At Bush Field\",\"AKN\":\"King Salmon Airport\",\"ALB\":\"Albany International Airport\",\n",
    "              \"AMA\":\"Rick Husband Amarillo International Airport\",\"ANC\":\"Ted Stevens Anchorage International Airport\",\n",
    "              \"APF\":\"Naples Municipal Airport\",\"ATL\":\"Hartsfield Jackson Atlanta International Airport\",\"ATW\":\"Appleton International Airport\",\n",
    "              \"AUS\":\"Austin Bergstrom International Airport\",\"AVL\":\"Asheville Regional Airport\",\"AVP\":\"Wilkes Barre Scranton International Airport\",\n",
    "              \"AZO\":\"Kalamazoo Battle Creek International Airport\",\"BDL\":\"Bradley International Airport\",\"BET\":\"Bethel Airport\",\"BFL\":\"Meadows Field\",\n",
    "              \"BGM\":\"Greater Binghamton/Edwin A Link field\",\"BGR\":\"Bangor International Airport\",\"BHM\":\"Birmingham-Shuttlesworth International Airport\",\n",
    "              \"BIL\":\"Billings Logan International Airport\",\"BIS\":\"Bismarck Municipal Airport\",\n",
    "              \"BMI\":\"Central Illinois Regional Airport at Bloomington-Normal\",\"BNA\":\"Nashville International Airport\",\n",
    "              \"BOI\":\"Boise Air Terminal/Gowen Field\",\"BOS\":\"General Edward Lawrence Logan International Airport\",\n",
    "              \"BQK\":\"Brunswick Golden Isles Airport\",\"BQN\":\"Rafael Hernandez Airport\",\"BRO\":\"Brownsville South Padre Island International Airport\",\n",
    "              \"BRW\":\"Wiley Post Will Rogers Memorial Airport\",\"BTM\":\"Bert Mooney Airport\",\"BTR\":\"Baton Rouge Metropolitan Airport\",\n",
    "              \"BTV\":\"Burlington International Airport\",\"BUF\":\"Buffalo Niagara International Airport\",\"BUR\":\"Bob Hope Airport\",\n",
    "              \"BWI\":\"Baltimore/Washington International Thurgood Marshall Airport\",\"BZN\":\"Gallatin Field\",\"CAE\":\"Columbia Metropolitan Airport\",\n",
    "              \"CAK\":\"Akron Canton Regional Airport\",\"CDC\":\"Cedar City Regional Airport\",\"CDV\":\"Merle K (Mudhole) Smith Airport\",\n",
    "              \"CEC\":\"Jack Mc Namara Field Airport\",\"CHA\":\"Lovell Field\",\"CHO\":\"Charlottesville Albemarle Airport\",\n",
    "              \"CHS\":\"Charleston Air Force Base-International Airport\",\"CIC\":\"Chico Municipal Airport\",\"CID\":\"The Eastern Iowa Airport\",\n",
    "              \"CLD\":\"Mc Clellan-Palomar Airport\",\"CLE\":\"Cleveland Hopkins International Airport\",\"CLL\":\"Easterwood Field\",\n",
    "              \"CLT\":\"Charlotte Douglas International Airport\",\"CMH\":\"John Glenn Columbus International Airport\",\n",
    "              \"CMI\":\"University of Illinois Willard Airport\",\"COD\":\"Yellowstone Regional Airport\",\"COS\":\"City of Colorado Springs Municipal Airport\",\n",
    "              \"CPR\":\"Casper-Natrona County International Airport\",\"CRP\":\"Corpus Christi International Airport\",\"CRW\":\"Yeager Airport\",\n",
    "              \"CSG\":\"Columbus Metropolitan Airport\",\"CVG\":\"Cincinnati Northern Kentucky International Airport\",\"CWA\":\"Central Wisconsin Airport\",\n",
    "              \"DAB\":\"Daytona Beach International Airport\",\"DAL\":\"Dallas Love Field\",\"DAY\":\"James M Cox Dayton International Airport\",\n",
    "              \"DBQ\":\"Dubuque Regional Airport\",\"DCA\":\"Ronald Reagan Washington National Airport\",\"DEN\":\"Denver International Airport\",\n",
    "              \"DFW\":\"Dallas Fort Worth International Airport\",\"DHN\":\"Dothan Regional Airport\",\"DLG\":\"Dillingham Airport\",\n",
    "              \"DLH\":\"Duluth International Airport\",\"DSM\":\"Des Moines International Airport\",\"DTW\":\"Detroit Metropolitan Wayne County Airport\",\n",
    "              \"EGE\":\"Eagle County Regional Airport\",\"EKO\":\"Elko Regional Airport\",\"ELP\":\"El Paso International Airport\",\n",
    "              \"ERI\":\"Erie International Tom Ridge Field\",\"EUG\":\"Mahlon Sweet Field\",\"EVV\":\"Evansville Regional Airport\",\n",
    "              \"EWR\":\"Newark Liberty International Airport\",\"EYW\":\"Key West International Airport\",\"FAI\":\"Fairbanks International Airport\",\n",
    "              \"FAR\":\"Hector International Airport\",\"FAT\":\"Fresno Yosemite International Airport\",\"FAY\":\"Fayetteville Regional Grannis Field\",\n",
    "              \"FCA\":\"Glacier Park International Airport\",\"FLL\":\"Fort Lauderdale Hollywood International Airport\",\"FLO\":\"Florence Regional Airport\",\n",
    "              \"FNT\":\"Bishop International Airport\",\"FSD\":\"Joe Foss Field Airport\",\"FSM\":\"Fort Smith Regional Airport\",\n",
    "              \"FWA\":\"Fort Wayne International Airport\",\"GEG\":\"Spokane International Airport\",\"GFK\":\"Grand Forks International Airport\",\n",
    "              \"GGG\":\"East Texas Regional Airport\",\"GJT\":\"Grand Junction Regional Airport\",\"GNV\":\"Gainesville Regional Airport\",\n",
    "              \"GPT\":\"Gulfport Biloxi International Airport\",\"GRB\":\"Austin Straubel International Airport\",\"GRK\":\"Robert Gray Army Air Field Airport\",\n",
    "              \"GRR\":\"Gerald R. Ford International Airport\",\"GSO\":\"Piedmont Triad International Airport\",\n",
    "              \"GSP\":\"Greenville Spartanburg International Airport\",\"GTF\":\"Great Falls International Airport\",\n",
    "              \"GTR\":\"Golden Triangle Regional Airport\",\"HDN\":\"Yampa Valley Airport\",\"HKY\":\"Hickory Regional Airport\",\n",
    "              \"HLN\":\"Helena Regional Airport\",\"HNL\":\"Daniel K Inouye International Airport\",\"HOU\":\"William P Hobby Airport\",\n",
    "              \"HPN\":\"Westchester County Airport\",\"HRL\":\"Valley International Airport\",\"HSV\":\"Huntsville International Carl T Jones Field\",\n",
    "              \"HTS\":\"Tri-State/Milton J. Ferguson Field\",\"HVN\":\"Tweed New Haven Airport\",\"IAD\":\"Washington Dulles International Airport\",\n",
    "              \"IAH\":\"George Bush Intercontinental Houston Airport\",\"ICT\":\"Wichita Eisenhower National Airport\",\n",
    "              \"IDA\":\"Idaho Falls Regional Airport\",\"ILM\":\"Wilmington International Airport\",\"IND\":\"Indianapolis International Airport\",\n",
    "              \"IPL\":\"Imperial County Airport\",\"ISO\":\"Kinston Regional Jetport At Stallings Field\",\"ISP\":\"Long Island Mac Arthur Airport\",\n",
    "              \"ITO\":\"Hilo International Airport\",\"IYK\":\"Inyokern Airport\",\"JAC\":\"Jackson Hole Airport\",\n",
    "              \"JAN\":\"Jackson-Medgar Wiley Evers International Airport\",\"JAX\":\"Jacksonville International Airport\",\n",
    "              \"JFK\":\"John F Kennedy International Airport\",\"JNU\":\"Juneau International Airport\",\n",
    "              \"KOA\":\"Ellison Onizuka Kona International At Keahole Airport\",\"KTN\":\"Ketchikan International Airport\",\n",
    "              \"LAN\":\"Capital City Airport\",\"LAS\":\"McCarran International Airport\",\"LAW\":\"Lawton Fort Sill Regional Airport\",\n",
    "              \"LAX\":\"Los Angeles International Airport\",\"LBB\":\"Lubbock Preston Smith International Airport\",\"LCH\":\"Lake Charles Regional Airport\",\n",
    "              \"LEX\":\"Blue Grass Airport\",\"LFT\":\"Lafayette Regional Airport\",\"LGA\":\"La Guardia Airport\",\n",
    "              \"LGB\":\"Long Beach /Daugherty Field/ Airport\",\"LIH\":\"Lihue Airport\",\"LIT\":\"Bill & Hillary Clinton National Airport/Adams Field\",\n",
    "              \"LNK\":\"Lincoln Airport\",\"LRD\":\"Laredo International Airport\",\"LSE\":\"La Crosse Municipal Airport\",\n",
    "              \"LWS\":\"Lewiston Nez Perce County Airport\",\"LYH\":\"Lynchburg Regional Preston Glenn Field\",\"MAF\":\"Midland International Airport\",\n",
    "              \"MBS\":\"MBS International Airport\",\"MCI\":\"Kansas City International Airport\",\"MCN\":\"Middle Georgia Regional Airport\",\n",
    "              \"MCO\":\"Orlando International Airport\",\"MDT\":\"Harrisburg International Airport\",\"MDW\":\"Chicago Midway International Airport\",\n",
    "              \"MEI\":\"Key Field\",\"MEM\":\"Memphis International Airport\",\"MFE\":\"Mc Allen Miller International Airport\",\n",
    "              \"MFR\":\"Rogue Valley International Medford Airport\",\"MGM\":\"Montgomery Regional (Dannelly Field) Airport\",\n",
    "              \"MHT\":\"Manchester-Boston Regional Airport\",\"MIA\":\"Miami International Airport\",\"MKE\":\"General Mitchell International Airport\",\n",
    "              \"MLB\":\"Melbourne International Airport\",\"MLI\":\"Quad City International Airport\",\"MLU\":\"Monroe Regional Airport\",\n",
    "              \"MOB\":\"Mobile Regional Airport\",\"MOD\":\"Modesto City Co-Harry Sham Field\",\"MOT\":\"Minot International Airport\",\n",
    "              \"MQT\":\"Sawyer International Airport\",\"MRY\":\"Monterey Peninsula Airport\",\"MSN\":\"Dane County Regional Truax Field\",\n",
    "              \"MSO\":\"Missoula International Airport\",\"MSP\":\"Minneapolis-St Paul International/Wold-Chamberlain Airport\",\n",
    "              \"MSY\":\"Louis Armstrong New Orleans International Airport\",\"MTJ\":\"Montrose Regional Airport\",\"MYR\":\"Myrtle Beach International Airport\",\n",
    "              \"OAK\":\"Metropolitan Oakland International Airport\",\"OGG\":\"Kahului Airport\",\"OKC\":\"Will Rogers World Airport\",\"OMA\":\"Eppley Airfield\",\n",
    "              \"OME\":\"Nome Airport\",\"ONT\":\"Ontario International Airport\",\"ORD\":\"Chicago O'Hare International Airport\",\n",
    "              \"ORF\":\"Norfolk International Airport\",\"OTZ\":\"Ralph Wien Memorial Airport\",\"OXR\":\"Oxnard Airport\",\"PBI\":\"Palm Beach International Airport\",\n",
    "              \"PDX\":\"Portland International Airport\",\"PHF\":\"Newport News Williamsburg International Airport\",\"PHL\":\"Philadelphia International Airport\",\n",
    "              \"PHX\":\"Phoenix Sky Harbor International Airport\",\"PIA\":\"General Wayne A. Downing Peoria International Airport\",\n",
    "              \"PIH\":\"Pocatello Regional Airport\",\"PIT\":\"Pittsburgh International Airport\",\"PNS\":\"Pensacola International Airport\",\n",
    "              \"PSC\":\"Tri Cities Airport\",\"PSE\":\"Mercedita Airport\",\"PSG\":\"Petersburg James A Johnson Airport\",\n",
    "              \"PSP\":\"Palm Springs International Airport\",\"PVD\":\"Theodore Francis Green State Airport\",\"PWM\":\"Portland International Jetport\",\n",
    "              \"RAP\":\"Rapid City Regional Airport\",\"RDD\":\"Redding Municipal Airport\",\"RDM\":\"Roberts Field\",\"RDU\":\"Raleigh Durham International Airport\",\n",
    "              \"RIC\":\"Richmond International Airport\",\"RNO\":\"Reno Tahoe International Airport\",\"ROA\":\"RoanokeâBlacksburg Regional Airport\",\n",
    "              \"ROC\":\"Greater Rochester International Airport\",\"RST\":\"Rochester International Airport\",\n",
    "              \"RSW\":\"Southwest Florida International Airport\",\"SAN\":\"San Diego International Airport\",\"SAT\":\"San Antonio International Airport\",\n",
    "              \"SAV\":\"Savannah Hilton Head International Airport\",\"SBA\":\"Santa Barbara Municipal Airport\",\n",
    "              \"SBN\":\"South Bend Regional Airport\",\"SBP\":\"San Luis County Regional Airport\",\"SCC\":\"Deadhorse Airport\",\n",
    "              \"SCE\":\"University Park Airport\",\"SDF\":\"Louisville Muhammad Ali International Airport\",\"SEA\":\"Seattle Tacoma International Airport\",\n",
    "              \"SFO\":\"San Francisco International Airport\",\"SGF\":\"Springfield Branson National Airport\",\"SGU\":\"St George Municipal Airport\",\n",
    "              \"SHV\":\"Shreveport Regional Airport\",\"SIT\":\"Sitka Rocky Gutierrez Airport\",\"SJC\":\"Norman Y. Mineta San Jose International Airport\",\n",
    "              \"SJT\":\"San Angelo Regional Mathis Field\",\"SJU\":\"Luis Munoz Marin International Airport\",\"SLC\":\"Salt Lake City International Airport\",\n",
    "              \"SMF\":\"Sacramento International Airport\",\"SMX\":\"Santa Maria Pub/Capt G Allan Hancock Field\",\n",
    "              \"SNA\":\"John Wayne Airport-Orange County Airport\",\"SPI\":\"Abraham Lincoln Capital Airport\",\n",
    "              \"SPS\":\"Sheppard Air Force Base-Wichita Falls Municipal Airport\",\"SRQ\":\"Sarasota Bradenton International Airport\",\n",
    "              \"STL\":\"St Louis Lambert International Airport\",\"STT\":\"Cyril E. King Airport\",\"STX\":\"Henry E Rohlsen Airport\",\n",
    "              \"SUN\":\"Friedman Memorial Airport\",\"SWF\":\"New York Stewart International Airport\",\"SYR\":\"Syracuse Hancock International Airport\",\n",
    "              \"TLH\":\"Tallahassee Regional Airport\",\"TOL\":\"Toledo Express Airport\",\"TPA\":\"Tampa International Airport\",\n",
    "              \"TRI\":\"Tri-Cities Regional TN/VA Airport\",\"TUL\":\"Tulsa International Airport\",\"TUP\":\"Tupelo Regional Airport\",\n",
    "              \"TUS\":\"Tucson International Airport / Morris Air National Guard Base\",\"TVC\":\"Cherry Capital Airport\",\n",
    "              \"TWF\":\"Joslin Field Magic Valley Regional Airport\",\"TXK\":\"Texarkana Regional Webb Field\",\"TYR\":\"Tyler Pounds Regional Airport\",\n",
    "              \"TYS\":\"McGhee Tyson Airport\",\"VLD\":\"Valdosta Regional Airport\",\"VPS\":\"Destin-Ft Walton Beach Airport\",\n",
    "              \"WRG\":\"Wrangell Airport\",\"XNA\":\"Northwest Arkansas Regional Airport\",\"YAK\":\"Yakutat Airport\",\"YUM\":\"Yuma MCAS/Yuma International Airport\"}\n",
    "            }\n",
    "        }\n",
    "    }\n",
    "}\n",
    "\n",
    "postLookup(lookup_post)"
   ]
  },
  {
   "cell_type": "markdown",
   "id": "e115e479-edc9-4353-8a09-6b6c26a5e668",
   "metadata": {},
   "source": [
    "As before, run the next cell to wait for the table to be broadcast around the cluster."
   ]
  },
  {
   "cell_type": "code",
   "execution_count": null,
   "id": "2a011705-4c06-4a3b-ad74-659e75647d7a",
   "metadata": {},
   "outputs": [],
   "source": [
    "waitForLookup(\"__default\", \"example-flights-airportnames\", 30)"
   ]
  },
  {
   "cell_type": "markdown",
   "id": "5cfb7876-edd6-4132-9f13-a680cc6e6c08",
   "metadata": {},
   "source": [
    "Run a query on the `INFORMATION_SCHEMA` to see the two tables in the lookup schema.\n",
    "\n",
    "Notice that the lookups are in the \"lookup\" schema, while standard table datasources are in the \"druid\" schema."
   ]
  },
  {
   "cell_type": "code",
   "execution_count": null,
   "id": "ea96371b-d628-40c5-9ba8-14c094e16c20",
   "metadata": {},
   "outputs": [],
   "source": [
    "sql='''\n",
    "SELECT\n",
    "  \"TABLE_SCHEMA\",\n",
    "  \"TABLE_NAME\"\n",
    "FROM \"INFORMATION_SCHEMA\".\"TABLES\"\n",
    "'''\n",
    "\n",
    "display.sql(sql)"
   ]
  },
  {
   "cell_type": "markdown",
   "id": "790f5278-c8a7-4e14-ac8c-a16975ccc291",
   "metadata": {},
   "source": [
    "Run the following cell to see the results of a SQL query using both lookups by using JOIN operations."
   ]
  },
  {
   "cell_type": "code",
   "execution_count": null,
   "id": "e4588407-161f-4b29-b36d-8d78f4c00796",
   "metadata": {},
   "outputs": [],
   "source": [
    "sql='''\n",
    "SELECT\n",
    "    b.v AS \"airportSize\",\n",
    "    c.v AS \"airportName\",\n",
    "    COUNT(*) AS \"flights\",\n",
    "    SUM(a.Distance) AS \"totalDistance\"\n",
    "FROM \"example-flights-lookup\" a\n",
    "JOIN lookup.\"'''+\"example-flights-airportsizes\"+'''\" b ON a.Origin = b.k\n",
    "JOIN lookup.\"'''+\"example-flights-airportnames\"+'''\" c ON a.Origin = c.k\n",
    "WHERE TIME_IN_INTERVAL(__time,'2005-11-30T11:00:00/2015-11-30T08:00:00')\n",
    "AND b.v = 'small_airport'\n",
    "GROUP BY 1,2\n",
    "'''\n",
    "\n",
    "display.sql(sql)"
   ]
  },
  {
   "cell_type": "markdown",
   "id": "7518d6e2-4c24-4ced-bcbf-7982877d3b83",
   "metadata": {},
   "source": [
    "In the following example, the LOOKUP function is used several times to address each lookup table."
   ]
  },
  {
   "cell_type": "code",
   "execution_count": null,
   "id": "a21f16d7-c37c-4b74-b839-0b96721ce5b7",
   "metadata": {},
   "outputs": [],
   "source": [
    "sql='''\n",
    "SELECT\n",
    "    LOOKUP(\"Origin\", \\'''' + \"example-flights-airportsizes\" + '''\\') AS \"originAirportSize\",\n",
    "    LOOKUP(\"Dest\", \\'''' + \"example-flights-airportsizes\" + '''\\') AS \"destinationAirportSize\",\n",
    "    LOOKUP(\"Origin\", \\'''' + \"example-flights-airportnames\" + '''\\') AS \"originAirportName\",\n",
    "    LOOKUP(\"Dest\", \\'''' + \"example-flights-airportnames\" + '''\\') AS \"destinationAirportName\"\n",
    "FROM \"example-flights-lookup\"\n",
    "WHERE TIME_IN_INTERVAL(__time,'2005-11-30T12:15/PT1S')\n",
    "'''\n",
    "\n",
    "display.sql(sql)"
   ]
  },
  {
   "cell_type": "markdown",
   "id": "3ee6184a-b96d-40d2-bfec-f779bc46b5b4",
   "metadata": {},
   "source": [
    "## Update a lookup table definition\n",
    "\n",
    "The `pollPeriod` of a [globally cached lookup](https://druid.apache.org/docs/latest/development/extensions-core/lookups-cached-global/) definition automatically replaces lookup table data on an interval.\n",
    "\n",
    "As the lookup in this notebook is a `map`, we must manually submit a new definition, overwriting the map. To ensure the new definition takes effect, higher version number is required.\n",
    "\n",
    "Run the cell below to construct a new definition to send to the API.\n",
    "\n",
    "Notice:\n",
    "\n",
    "* The version is updated with the current date and time by using `now()`.\n",
    "* The tier and name reuse the values from before.\n",
    "* All airports that were \"large\" are now \"massive\"."
   ]
  },
  {
   "cell_type": "code",
   "execution_count": null,
   "id": "7c20e621-60bd-4367-94e8-8c6941a593ee",
   "metadata": {},
   "outputs": [],
   "source": [
    "lookup_post_version = datetime.datetime.now().strftime(\"%Y-%m-%dT%H:%M:%SZ\")\n",
    "\n",
    "lookup_post = {\n",
    "  \"__default\": {\n",
    "    \"example-flights-airportsizes\": {\n",
    "      \"version\": lookup_post_version,  \n",
    "      \"lookupExtractorFactory\": {\n",
    "      \"type\": \"map\",\n",
    "      \"map\": {\"ABE\":\"medium_airport\",\"ABI\":\"medium_airport\",\"ABQ\":\"massive_airport\",\"ABY\":\"medium_airport\",\"ACT\":\"medium_airport\",\n",
    "              \"ACV\":\"medium_airport\",\"ACY\":\"medium_airport\",\"ADK\":\"medium_airport\",\"ADQ\":\"medium_airport\",\"AEX\":\"medium_airport\",\n",
    "              \"AGS\":\"massive_airport\",\"AKN\":\"medium_airport\",\"ALB\":\"medium_airport\",\"AMA\":\"massive_airport\",\"ANC\":\"massive_airport\",\n",
    "              \"APF\":\"medium_airport\",\"ATL\":\"massive_airport\",\"ATW\":\"small_airport\",\"AUS\":\"massive_airport\",\"AVL\":\"massive_airport\",\n",
    "              \"AVP\":\"medium_airport\",\"AZO\":\"medium_airport\",\"BDL\":\"massive_airport\",\"BET\":\"medium_airport\",\"BFL\":\"medium_airport\",\n",
    "              \"BGM\":\"medium_airport\",\"BGR\":\"massive_airport\",\"BHM\":\"massive_airport\",\"BIL\":\"massive_airport\",\"BIS\":\"medium_airport\",\n",
    "              \"BMI\":\"massive_airport\",\"BNA\":\"massive_airport\",\"BOI\":\"massive_airport\",\"BOS\":\"massive_airport\",\"BQK\":\"medium_airport\",\n",
    "              \"BQN\":\"medium_airport\",\"BRO\":\"medium_airport\",\"BRW\":\"medium_airport\",\"BTM\":\"medium_airport\",\"BTR\":\"medium_airport\",\n",
    "              \"BTV\":\"medium_airport\",\"BUF\":\"massive_airport\",\"BUR\":\"medium_airport\",\"BWI\":\"massive_airport\",\"BZN\":\"medium_airport\",\n",
    "              \"CAE\":\"massive_airport\",\"CAK\":\"medium_airport\",\"CDC\":\"medium_airport\",\"CDV\":\"medium_airport\",\"CEC\":\"medium_airport\",\n",
    "              \"CHA\":\"massive_airport\",\"CHO\":\"medium_airport\",\"CHS\":\"massive_airport\",\"CIC\":\"small_airport\",\"CID\":\"massive_airport\",\n",
    "              \"CRQ\":\"medium_airport\",\"CLE\":\"massive_airport\",\"CLL\":\"medium_airport\",\"CLT\":\"massive_airport\",\"CMH\":\"massive_airport\",\n",
    "              \"CMI\":\"medium_airport\",\"COD\":\"medium_airport\",\"COS\":\"massive_airport\",\"CPR\":\"medium_airport\",\"CRP\":\"massive_airport\",\n",
    "              \"CRW\":\"massive_airport\",\"CSG\":\"medium_airport\",\"CVG\":\"massive_airport\",\"CWA\":\"medium_airport\",\"DAB\":\"massive_airport\",\n",
    "              \"DAL\":\"massive_airport\",\"DAY\":\"massive_airport\",\"DBQ\":\"massive_airport\",\"DCA\":\"massive_airport\",\"DEN\":\"massive_airport\",\n",
    "              \"DFW\":\"massive_airport\",\"DHN\":\"medium_airport\",\"DLG\":\"medium_airport\",\"DLH\":\"massive_airport\",\"DSM\":\"massive_airport\",\n",
    "              \"DTW\":\"massive_airport\",\"EGE\":\"medium_airport\",\"EKO\":\"medium_airport\",\"ELP\":\"medium_airport\",\"ERI\":\"massive_airport\",\n",
    "              \"EUG\":\"medium_airport\",\"EVV\":\"medium_airport\",\"EWR\":\"massive_airport\",\"EYW\":\"medium_airport\",\"FAI\":\"massive_airport\",\n",
    "              \"FAR\":\"medium_airport\",\"FAT\":\"medium_airport\",\"FAY\":\"medium_airport\",\"GPI\":\"medium_airport\",\"FLL\":\"massive_airport\",\n",
    "              \"FLO\":\"medium_airport\",\"FNT\":\"medium_airport\",\"FSD\":\"medium_airport\",\"FSM\":\"massive_airport\",\"FWA\":\"massive_airport\",\n",
    "              \"GEG\":\"massive_airport\",\"GFK\":\"medium_airport\",\"GGG\":\"medium_airport\",\"GJT\":\"medium_airport\",\"GNV\":\"medium_airport\",\n",
    "              \"GPT\":\"massive_airport\",\"GRB\":\"massive_airport\",\"GRK\":\"medium_airport\",\"GRR\":\"medium_airport\",\"GSO\":\"massive_airport\",\n",
    "              \"GSP\":\"massive_airport\",\"GTF\":\"medium_airport\",\"GTR\":\"medium_airport\",\"HDN\":\"small_airport\",\"HKY\":\"medium_airport\",\n",
    "              \"HLN\":\"medium_airport\",\"HNL\":\"massive_airport\",\"HOU\":\"massive_airport\",\"HPN\":\"medium_airport\",\"HRL\":\"medium_airport\",\n",
    "              \"HSV\":\"massive_airport\",\"HTS\":\"massive_airport\",\"HVN\":\"medium_airport\",\"IAD\":\"massive_airport\",\"IAH\":\"massive_airport\",\n",
    "              \"ICT\":\"massive_airport\",\"IDA\":\"medium_airport\",\"ILM\":\"medium_airport\",\"IND\":\"massive_airport\",\"IPL\":\"medium_airport\",\n",
    "              \"ISO\":\"medium_airport\",\"ISP\":\"medium_airport\",\"ITO\":\"medium_airport\",\"IYK\":\"small_airport\",\"JAC\":\"medium_airport\",\n",
    "              \"JAN\":\"massive_airport\",\"JAX\":\"massive_airport\",\"JFK\":\"massive_airport\",\"JNU\":\"medium_airport\",\"KOA\":\"medium_airport\",\n",
    "              \"KTN\":\"medium_airport\",\"LAN\":\"medium_airport\",\"LAS\":\"massive_airport\",\"LAW\":\"medium_airport\",\"LAX\":\"massive_airport\",\n",
    "              \"LBB\":\"massive_airport\",\"LCH\":\"medium_airport\",\"LEX\":\"massive_airport\",\"LFT\":\"massive_airport\",\"LGA\":\"massive_airport\",\n",
    "              \"LGB\":\"medium_airport\",\"LIH\":\"medium_airport\",\"LIT\":\"massive_airport\",\"LNK\":\"medium_airport\",\"LRD\":\"medium_airport\",\n",
    "              \"LSE\":\"medium_airport\",\"LWS\":\"medium_airport\",\"LYH\":\"medium_airport\",\"MAF\":\"medium_airport\",\"MBS\":\"massive_airport\",\n",
    "              \"MCI\":\"massive_airport\",\"MCN\":\"medium_airport\",\"MCO\":\"massive_airport\",\"MDT\":\"medium_airport\",\"MDW\":\"massive_airport\",\n",
    "              \"MEI\":\"medium_airport\",\"MEM\":\"massive_airport\",\"MFE\":\"medium_airport\",\"MFR\":\"medium_airport\",\"MGM\":\"massive_airport\",\n",
    "              \"MHT\":\"massive_airport\",\"MIA\":\"massive_airport\",\"MKE\":\"massive_airport\",\"MLB\":\"medium_airport\",\"MLI\":\"massive_airport\",\n",
    "              \"MLU\":\"massive_airport\",\"MOB\":\"massive_airport\",\"MOD\":\"medium_airport\",\"MOT\":\"medium_airport\",\"SAW\":\"medium_airport\",\n",
    "              \"MRY\":\"medium_airport\",\"MSN\":\"massive_airport\",\"MSO\":\"medium_airport\",\"MSP\":\"massive_airport\",\"MSY\":\"massive_airport\",\n",
    "              \"MTJ\":\"medium_airport\",\"MYR\":\"medium_airport\",\"OAK\":\"massive_airport\",\"OGG\":\"medium_airport\",\"OKC\":\"massive_airport\",\n",
    "              \"OMA\":\"massive_airport\",\"OME\":\"medium_airport\",\"ONT\":\"massive_airport\",\"ORD\":\"massive_airport\",\"ORF\":\"massive_airport\",\n",
    "              \"OTZ\":\"medium_airport\",\"OXR\":\"medium_airport\",\"PBI\":\"massive_airport\",\"PDX\":\"massive_airport\",\"PHF\":\"massive_airport\",\n",
    "              \"PHL\":\"massive_airport\",\"PHX\":\"massive_airport\",\"PIA\":\"massive_airport\",\"PIH\":\"medium_airport\",\"PIT\":\"massive_airport\",\n",
    "              \"PNS\":\"medium_airport\",\"PSC\":\"medium_airport\",\"PSE\":\"medium_airport\",\"PSG\":\"medium_airport\",\"PSP\":\"medium_airport\",\n",
    "              \"PVD\":\"massive_airport\",\"PWM\":\"massive_airport\",\"RAP\":\"medium_airport\",\"RDD\":\"medium_airport\",\"RDM\":\"medium_airport\",\n",
    "              \"RDU\":\"massive_airport\",\"RIC\":\"massive_airport\",\"RNO\":\"massive_airport\",\"ROA\":\"massive_airport\",\"ROC\":\"massive_airport\",\n",
    "              \"RST\":\"massive_airport\",\"RSW\":\"massive_airport\",\"SAN\":\"massive_airport\",\"SAT\":\"massive_airport\",\"SAV\":\"massive_airport\",\n",
    "              \"SBA\":\"medium_airport\",\"SBN\":\"massive_airport\",\"SBP\":\"medium_airport\",\"SCC\":\"medium_airport\",\"UNV\":\"medium_airport\",\n",
    "              \"SDF\":\"massive_airport\",\"SEA\":\"massive_airport\",\"SFO\":\"massive_airport\",\"SGF\":\"massive_airport\",\"SGU\":\"medium_airport\",\n",
    "              \"SHV\":\"medium_airport\",\"SIT\":\"medium_airport\",\"SJC\":\"massive_airport\",\"SJT\":\"medium_airport\",\"SJU\":\"massive_airport\",\n",
    "              \"SLC\":\"massive_airport\",\"SMF\":\"massive_airport\",\"SMX\":\"medium_airport\",\"SNA\":\"massive_airport\",\"SPI\":\"massive_airport\",\n",
    "              \"SPS\":\"massive_airport\",\"SRQ\":\"massive_airport\",\"STL\":\"massive_airport\",\"STT\":\"medium_airport\",\"STX\":\"medium_airport\",\n",
    "              \"SUN\":\"medium_airport\",\"SWF\":\"medium_airport\",\"SYR\":\"massive_airport\",\"TLH\":\"massive_airport\",\"TOL\":\"massive_airport\",\n",
    "              \"TPA\":\"massive_airport\",\"TRI\":\"massive_airport\",\"TUL\":\"massive_airport\",\"TUP\":\"medium_airport\",\"TUS\":\"massive_airport\",\n",
    "              \"TVC\":\"medium_airport\",\"TWF\":\"medium_airport\",\"TXK\":\"medium_airport\",\"TYR\":\"medium_airport\",\"TYS\":\"massive_airport\",\n",
    "              \"VLD\":\"medium_airport\",\"VPS\":\"massive_airport\",\"WRG\":\"medium_airport\",\"XNA\":\"medium_airport\",\"YAK\":\"medium_airport\",\n",
    "              \"NYL\":\"medium_airport\"\n",
    "        }\n",
    "      }\n",
    "    }\n",
    "  }\n",
    "}"
   ]
  },
  {
   "cell_type": "markdown",
   "id": "4eb55f18-c356-4f89-b938-c4b6a72391e6",
   "metadata": {},
   "source": [
    "Use the next cell to post this new definition to the API."
   ]
  },
  {
   "cell_type": "code",
   "execution_count": null,
   "id": "ae669896-2dd3-4129-9fc1-5b848fce94f7",
   "metadata": {},
   "outputs": [],
   "source": [
    "postLookup(lookup_post)"
   ]
  },
  {
   "cell_type": "markdown",
   "id": "c736d0e9-d90c-47ae-90f4-7f2c78ee06b2",
   "metadata": {},
   "source": [
    "Now run the next cell to keep an eye on the distribution process."
   ]
  },
  {
   "cell_type": "code",
   "execution_count": null,
   "id": "3d73e31a-0d1b-4750-8e9c-258d67572698",
   "metadata": {},
   "outputs": [],
   "source": [
    "waitForLookup(\"__default\", \"example-flights-airportsizes\", 30)"
   ]
  },
  {
   "cell_type": "markdown",
   "id": "b7472565-32a3-47a4-b672-a57731481c0f",
   "metadata": {},
   "source": [
    "With the table data updated, run the next cell to see the updated data.\n",
    "\n",
    "Here, the NVL function has been introduced to return \"Not found\" when there is no match between the `Origin` and the key in the lookup."
   ]
  },
  {
   "cell_type": "code",
   "execution_count": null,
   "id": "3a086688-a281-4e13-893a-26751f846a9f",
   "metadata": {},
   "outputs": [],
   "source": [
    "sql='''\n",
    "SELECT\n",
    "    NVL(b.v,'Not found') AS \"airportSize\",\n",
    "    COUNT(DISTINCT a.Origin) AS \"airports\",\n",
    "    COUNT(*) AS \"flights\",\n",
    "    SUM(a.Distance) AS \"totalDistance\"\n",
    "FROM \"example-flights-lookup\" a\n",
    "LEFT JOIN lookup.\"'''+\"example-flights-airportsizes\"+'''\" b ON a.Origin = b.k\n",
    "WHERE TIME_IN_INTERVAL(__time,'2005-11-30T11:00:00/2015-11-30T08:00:00')\n",
    "GROUP BY 1\n",
    "'''\n",
    "\n",
    "display.sql(sql)"
   ]
  },
  {
   "cell_type": "markdown",
   "id": "53f50fa7-b938-4cbc-8f38-e9283792b9ca",
   "metadata": {},
   "source": [
    "## Ingestion with lookups\n",
    "\n",
    "Use the lookup functions during ingestion to enrich your data ahead of time. This is an important technique to apply to improve query efficiency when you are sure that the results will be the same at query time as they would be at ingestion time.\n",
    "\n",
    "For this notebook, the [`druid.lookup.enableLookupSyncOnStartup` setting](https://druid.apache.org/docs/latest/querying/lookups/#saving-configuration-across-restarts) is `true` so that ingestion processes will pull the lookup definitions when they start up, making them immediately available as they carry out ingestion work."
   ]
  },
  {
   "cell_type": "markdown",
   "id": "7c47abcc-6855-4055-ae6a-ba31be0f1b9e",
   "metadata": {},
   "source": [
    "### Add lookup values using a function\n",
    "\n",
    "Review the cell below to see how the `LOOKUP` function has been used to dereference both the origin and destination airports to their sizes, and to add this as a new field in the table."
   ]
  },
  {
   "cell_type": "code",
   "execution_count": null,
   "id": "d162144e-0bed-4f8c-a4db-742c92dee4d6",
   "metadata": {},
   "outputs": [],
   "source": [
    "sql='''\n",
    "REPLACE INTO \"example-flights-enhanced\" OVERWRITE ALL\n",
    "WITH \"ext\" AS (SELECT *\n",
    "FROM TABLE(\n",
    "  EXTERN(\n",
    "    '{\"type\":\"http\",\"uris\":[\"https://static.imply.io/example-data/flight_on_time/flights/On_Time_Reporting_Carrier_On_Time_Performance_(1987_present)_2005_11.csv.zip\"]}',\n",
    "    '{\"type\":\"csv\",\"findColumnsFromHeader\":true}'\n",
    "  )\n",
    ") EXTEND (\"depaturetime\" VARCHAR, \"arrivalime\" VARCHAR, \"Year\" BIGINT, \"Quarter\" BIGINT, \"Month\" BIGINT, \"DayofMonth\" BIGINT, \"DayOfWeek\" BIGINT, \"FlightDate\" VARCHAR, \"Reporting_Airline\" VARCHAR, \"DOT_ID_Reporting_Airline\" BIGINT, \"IATA_CODE_Reporting_Airline\" VARCHAR, \"Tail_Number\" VARCHAR, \"Flight_Number_Reporting_Airline\" BIGINT, \"OriginAirportID\" BIGINT, \"OriginAirportSeqID\" BIGINT, \"OriginCityMarketID\" BIGINT, \"Origin\" VARCHAR, \"OriginCityName\" VARCHAR, \"OriginState\" VARCHAR, \"OriginStateFips\" BIGINT, \"OriginStateName\" VARCHAR, \"OriginWac\" BIGINT, \"DestAirportID\" BIGINT, \"DestAirportSeqID\" BIGINT, \"DestCityMarketID\" BIGINT, \"Dest\" VARCHAR, \"DestCityName\" VARCHAR, \"DestState\" VARCHAR, \"DestStateFips\" BIGINT, \"DestStateName\" VARCHAR, \"DestWac\" BIGINT, \"CRSDepTime\" BIGINT, \"DepTime\" BIGINT, \"DepDelay\" BIGINT, \"DepDelayMinutes\" BIGINT, \"DepDel15\" BIGINT, \"DepartureDelayGroups\" BIGINT, \"DepTimeBlk\" VARCHAR, \"TaxiOut\" BIGINT, \"WheelsOff\" BIGINT, \"WheelsOn\" BIGINT, \"TaxiIn\" BIGINT, \"CRSArrTime\" BIGINT, \"ArrTime\" BIGINT, \"ArrDelay\" BIGINT, \"ArrDelayMinutes\" BIGINT, \"ArrDel15\" BIGINT, \"ArrivalDelayGroups\" BIGINT, \"ArrTimeBlk\" VARCHAR, \"Cancelled\" BIGINT, \"CancellationCode\" VARCHAR, \"Diverted\" BIGINT, \"CRSElapsedTime\" BIGINT, \"ActualElapsedTime\" BIGINT, \"AirTime\" BIGINT, \"Flights\" BIGINT, \"Distance\" BIGINT, \"DistanceGroup\" BIGINT, \"CarrierDelay\" BIGINT, \"WeatherDelay\" BIGINT, \"NASDelay\" BIGINT, \"SecurityDelay\" BIGINT, \"LateAircraftDelay\" BIGINT, \"FirstDepTime\" VARCHAR, \"TotalAddGTime\" VARCHAR, \"LongestAddGTime\" VARCHAR, \"DivAirportLandings\" VARCHAR, \"DivReachedDest\" VARCHAR, \"DivActualElapsedTime\" VARCHAR, \"DivArrDelay\" VARCHAR, \"DivDistance\" VARCHAR, \"Div1Airport\" VARCHAR, \"Div1AirportID\" VARCHAR, \"Div1AirportSeqID\" VARCHAR, \"Div1WheelsOn\" VARCHAR, \"Div1TotalGTime\" VARCHAR, \"Div1LongestGTime\" VARCHAR, \"Div1WheelsOff\" VARCHAR, \"Div1TailNum\" VARCHAR, \"Div2Airport\" VARCHAR, \"Div2AirportID\" VARCHAR, \"Div2AirportSeqID\" VARCHAR, \"Div2WheelsOn\" VARCHAR, \"Div2TotalGTime\" VARCHAR, \"Div2LongestGTime\" VARCHAR, \"Div2WheelsOff\" VARCHAR, \"Div2TailNum\" VARCHAR, \"Div3Airport\" VARCHAR, \"Div3AirportID\" VARCHAR, \"Div3AirportSeqID\" VARCHAR, \"Div3WheelsOn\" VARCHAR, \"Div3TotalGTime\" VARCHAR, \"Div3LongestGTime\" VARCHAR, \"Div3WheelsOff\" VARCHAR, \"Div3TailNum\" VARCHAR, \"Div4Airport\" VARCHAR, \"Div4AirportID\" VARCHAR, \"Div4AirportSeqID\" VARCHAR, \"Div4WheelsOn\" VARCHAR, \"Div4TotalGTime\" VARCHAR, \"Div4LongestGTime\" VARCHAR, \"Div4WheelsOff\" VARCHAR, \"Div4TailNum\" VARCHAR, \"Div5Airport\" VARCHAR, \"Div5AirportID\" VARCHAR, \"Div5AirportSeqID\" VARCHAR, \"Div5WheelsOn\" VARCHAR, \"Div5TotalGTime\" VARCHAR, \"Div5LongestGTime\" VARCHAR, \"Div5WheelsOff\" VARCHAR, \"Div5TailNum\" VARCHAR, \"Unnamed: 109\" VARCHAR))\n",
    "SELECT\n",
    "    FLOOR(TIME_PARSE(\"depaturetime\") TO HOUR) as __time,\n",
    "    LOOKUP(\"Origin\", 'example-flights-airportsizes') AS \"originAirportSize\",\n",
    "    LOOKUP(\"Dest\", 'example-flights-airportsizes') AS \"destinationAirportSize\",\n",
    "    COUNT(*) AS \"flights\",\n",
    "    SUM(Distance) AS \"totalDistance\"\n",
    "FROM \"ext\"\n",
    "GROUP BY 1, 2, 3\n",
    "PARTITIONED BY DAY\n",
    "'''\n",
    "\n",
    "display.run_task(sql)\n",
    "sql_client.wait_until_ready('example-flights-enhanced')\n",
    "display.table('example-flights-enhanced')"
   ]
  },
  {
   "cell_type": "markdown",
   "id": "bcfbe75f-8fef-42b7-b14a-1733d1cf0452",
   "metadata": {},
   "source": [
    "This function is available as both a [SQL](https://druid.apache.org/docs/latest/querying/sql-functions#lookup) and [native](https://druid.apache.org/docs/latest/querying/math-expr#string-functions) expression.\n",
    "\n",
    "Run the next cell to see how many flights were recorded in the data by airport size."
   ]
  },
  {
   "cell_type": "code",
   "execution_count": null,
   "id": "3da6c840-e836-4828-a4c4-4f300acf7e6d",
   "metadata": {},
   "outputs": [],
   "source": [
    "sql = '''\n",
    "SELECT originAirportSize,\n",
    "   count(*) AS \"flights\"\n",
    "FROM \"example-flights-enhanced\" \n",
    "WHERE TIME_IN_INTERVAL(__time,'2005-11-30T11:00:00/PT4H')\n",
    "GROUP BY 1\n",
    "'''\n",
    "display.sql(sql)"
   ]
  },
  {
   "cell_type": "markdown",
   "id": "30320dca-d6b1-47ca-bff5-67756efbe84f",
   "metadata": {},
   "source": [
    "### Add lookup values using a JOIN\n",
    "\n",
    "The following cell performs the same operation by introducing the `JOIN` operator.\n",
    "\n",
    "Running this cell will perform the ingestion and then display the same results as above."
   ]
  },
  {
   "cell_type": "code",
   "execution_count": null,
   "id": "2dbde8f5-0a22-4200-8de6-8838518a73f7",
   "metadata": {},
   "outputs": [],
   "source": [
    "sql='''\n",
    "REPLACE INTO \"example-flights-enhanced\" OVERWRITE ALL\n",
    "WITH \"ext\" AS (SELECT *\n",
    "FROM TABLE(\n",
    "  EXTERN(\n",
    "    '{\"type\":\"http\",\"uris\":[\"https://static.imply.io/example-data/flight_on_time/flights/On_Time_Reporting_Carrier_On_Time_Performance_(1987_present)_2005_11.csv.zip\"]}',\n",
    "    '{\"type\":\"csv\",\"findColumnsFromHeader\":true}'\n",
    "  )\n",
    ") EXTEND (\"depaturetime\" VARCHAR, \"arrivalime\" VARCHAR, \"Year\" BIGINT, \"Quarter\" BIGINT, \"Month\" BIGINT, \"DayofMonth\" BIGINT, \"DayOfWeek\" BIGINT, \"FlightDate\" VARCHAR, \"Reporting_Airline\" VARCHAR, \"DOT_ID_Reporting_Airline\" BIGINT, \"IATA_CODE_Reporting_Airline\" VARCHAR, \"Tail_Number\" VARCHAR, \"Flight_Number_Reporting_Airline\" BIGINT, \"OriginAirportID\" BIGINT, \"OriginAirportSeqID\" BIGINT, \"OriginCityMarketID\" BIGINT, \"Origin\" VARCHAR, \"OriginCityName\" VARCHAR, \"OriginState\" VARCHAR, \"OriginStateFips\" BIGINT, \"OriginStateName\" VARCHAR, \"OriginWac\" BIGINT, \"DestAirportID\" BIGINT, \"DestAirportSeqID\" BIGINT, \"DestCityMarketID\" BIGINT, \"Dest\" VARCHAR, \"DestCityName\" VARCHAR, \"DestState\" VARCHAR, \"DestStateFips\" BIGINT, \"DestStateName\" VARCHAR, \"DestWac\" BIGINT, \"CRSDepTime\" BIGINT, \"DepTime\" BIGINT, \"DepDelay\" BIGINT, \"DepDelayMinutes\" BIGINT, \"DepDel15\" BIGINT, \"DepartureDelayGroups\" BIGINT, \"DepTimeBlk\" VARCHAR, \"TaxiOut\" BIGINT, \"WheelsOff\" BIGINT, \"WheelsOn\" BIGINT, \"TaxiIn\" BIGINT, \"CRSArrTime\" BIGINT, \"ArrTime\" BIGINT, \"ArrDelay\" BIGINT, \"ArrDelayMinutes\" BIGINT, \"ArrDel15\" BIGINT, \"ArrivalDelayGroups\" BIGINT, \"ArrTimeBlk\" VARCHAR, \"Cancelled\" BIGINT, \"CancellationCode\" VARCHAR, \"Diverted\" BIGINT, \"CRSElapsedTime\" BIGINT, \"ActualElapsedTime\" BIGINT, \"AirTime\" BIGINT, \"Flights\" BIGINT, \"Distance\" BIGINT, \"DistanceGroup\" BIGINT, \"CarrierDelay\" BIGINT, \"WeatherDelay\" BIGINT, \"NASDelay\" BIGINT, \"SecurityDelay\" BIGINT, \"LateAircraftDelay\" BIGINT, \"FirstDepTime\" VARCHAR, \"TotalAddGTime\" VARCHAR, \"LongestAddGTime\" VARCHAR, \"DivAirportLandings\" VARCHAR, \"DivReachedDest\" VARCHAR, \"DivActualElapsedTime\" VARCHAR, \"DivArrDelay\" VARCHAR, \"DivDistance\" VARCHAR, \"Div1Airport\" VARCHAR, \"Div1AirportID\" VARCHAR, \"Div1AirportSeqID\" VARCHAR, \"Div1WheelsOn\" VARCHAR, \"Div1TotalGTime\" VARCHAR, \"Div1LongestGTime\" VARCHAR, \"Div1WheelsOff\" VARCHAR, \"Div1TailNum\" VARCHAR, \"Div2Airport\" VARCHAR, \"Div2AirportID\" VARCHAR, \"Div2AirportSeqID\" VARCHAR, \"Div2WheelsOn\" VARCHAR, \"Div2TotalGTime\" VARCHAR, \"Div2LongestGTime\" VARCHAR, \"Div2WheelsOff\" VARCHAR, \"Div2TailNum\" VARCHAR, \"Div3Airport\" VARCHAR, \"Div3AirportID\" VARCHAR, \"Div3AirportSeqID\" VARCHAR, \"Div3WheelsOn\" VARCHAR, \"Div3TotalGTime\" VARCHAR, \"Div3LongestGTime\" VARCHAR, \"Div3WheelsOff\" VARCHAR, \"Div3TailNum\" VARCHAR, \"Div4Airport\" VARCHAR, \"Div4AirportID\" VARCHAR, \"Div4AirportSeqID\" VARCHAR, \"Div4WheelsOn\" VARCHAR, \"Div4TotalGTime\" VARCHAR, \"Div4LongestGTime\" VARCHAR, \"Div4WheelsOff\" VARCHAR, \"Div4TailNum\" VARCHAR, \"Div5Airport\" VARCHAR, \"Div5AirportID\" VARCHAR, \"Div5AirportSeqID\" VARCHAR, \"Div5WheelsOn\" VARCHAR, \"Div5TotalGTime\" VARCHAR, \"Div5LongestGTime\" VARCHAR, \"Div5WheelsOff\" VARCHAR, \"Div5TailNum\" VARCHAR, \"Unnamed: 109\" VARCHAR))\n",
    "SELECT\n",
    "    FLOOR(TIME_PARSE(\"depaturetime\") TO HOUR) as __time,\n",
    "    b.v AS \"originAirportSize\",\n",
    "    c.v AS \"destinationAirportSize\",\n",
    "    COUNT(*) AS \"flights\",\n",
    "    SUM(Distance) AS \"totalDistance\"\n",
    "FROM \"ext\" a\n",
    "LEFT JOIN lookup.\"'''+\"example-flights-airportsizes\"+'''\" b ON a.Origin = b.k\n",
    "LEFT JOIN lookup.\"'''+\"example-flights-airportsizes\"+'''\" c ON a.Dest = c.k\n",
    "GROUP BY 1, 2, 3\n",
    "PARTITIONED BY DAY\n",
    "'''\n",
    "\n",
    "display.run_task(sql)\n",
    "sql_client.wait_until_ready('example-flights-enhanced')\n",
    "display.table('example-flights-enhanced')"
   ]
  },
  {
   "cell_type": "code",
   "execution_count": null,
   "id": "36a58218-77f3-4de8-9f1e-b0a391cf81fb",
   "metadata": {},
   "outputs": [],
   "source": [
    "Run the following cell to see how the data looks."
   ]
  },
  {
   "cell_type": "code",
   "execution_count": null,
   "id": "6a71ce41-e99b-41fd-9c6a-e4de2490821c",
   "metadata": {},
   "outputs": [],
   "source": [
    "sql = '''\n",
    "SELECT originAirportSize,\n",
    "   count(*) AS \"flights\"\n",
    "FROM \"example-flights-enhanced\" \n",
    "WHERE TIME_IN_INTERVAL(__time,'2005-11-30T11:00:00/PT4H')\n",
    "GROUP BY 1\n",
    "'''\n",
    "display.sql(sql)"
   ]
  },
  {
   "cell_type": "markdown",
   "id": "ffea65dc-00d5-4b33-87c3-6b2394a9bb38",
   "metadata": {},
   "source": [
    "## Clean up"
   ]
  },
  {
   "cell_type": "markdown",
   "id": "d2275a54-a4f0-42a5-b010-34bf99ae9d4a",
   "metadata": {},
   "source": [
    "Run the following cell to drop the example table and to call the lookup API to delete the two lookups that you created."
   ]
  },
  {
   "cell_type": "code",
   "execution_count": null,
   "id": "1bbd14b5-d659-460f-bf9d-5059d44ff0e6",
   "metadata": {},
   "outputs": [],
   "source": [
    "druid.datasources.drop(\"example-flights-lookup\")\n",
    "druid.datasources.drop(\"example-flights-enhanced\")\n",
    "x = requests.delete(druid_host + '/druid/coordinator/v1/lookups/config/'+\"__default\"+'/'+\"example-flights-airportsizes\")\n",
    "x = requests.delete(druid_host + '/druid/coordinator/v1/lookups/config/'+\"__default\"+'/'+\"example-flights-airportnames\")"
   ]
  },
  {
   "cell_type": "markdown",
   "id": "54b8d5fe-ba85-4b5b-9669-0dd47dfbccd1",
   "metadata": {},
   "source": [
    "## Summary\n",
    "\n",
    "* [Lookups](https://druid.apache.org/docs/latest/querying/lookups) are key/value tables that exist in the lookup schema\n",
    "* Druid surfaces [APIs](https://druid.apache.org/docs/latest/api-reference/lookups-api) to allow for the management of lookups, including their definition and deletion\n",
    "* Lookup definitions are checked and propograted on a [configurable cycle](https://druid.apache.org/docs/latest/querying/lookups/#configuration)\n",
    "* Data in lookups can be updated, providing a mechanism for [updating Druid table data](https://druid.apache.org/docs/latest/data-management/update#lookups)\n",
    "* Lookup tables can be used in `JOIN` operations and via [SQL](https://druid.apache.org/docs/latest/querying/sql-scalar#string-functions) and [native](https://druid.apache.org/docs/latest/querying/math-expr#string-functions) lookup functions\n",
    "\n",
    "## Learn more\n",
    "\n",
    "* Try using the native lookup function enrich data from Apache Kafka\n",
    "* Compare query performance with pre-enrichment at ingestion time versus query time on your own data"
   ]
  }
 ],
 "metadata": {
  "execution": {
   "allow_errors": true,
   "timeout": 300
  },
  "kernelspec": {
   "display_name": "Python 3 (ipykernel)",
   "language": "python",
   "name": "python3"
  },
  "language_info": {
   "codemirror_mode": {
    "name": "ipython",
    "version": 3
   },
   "file_extension": ".py",
   "mimetype": "text/x-python",
   "name": "python",
   "nbconvert_exporter": "python",
   "pygments_lexer": "ipython3",
   "version": "3.11.6"
  }
 },
 "nbformat": 4,
 "nbformat_minor": 5
}
