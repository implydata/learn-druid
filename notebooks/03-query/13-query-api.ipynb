{
 "cells": [
  {
   "cell_type": "markdown",
   "id": "0cb3b009-ebde-4d56-9d59-a028d66d8309",
   "metadata": {},
   "source": [
    "# Using the Druid SQL API\n",
    "<!--\n",
    "  ~ Licensed to the Apache Software Foundation (ASF) under one\n",
    "  ~ or more contributor license agreements.  See the NOTICE file\n",
    "  ~ distributed with this work for additional information\n",
    "  ~ regarding copyright ownership.  The ASF licenses this file\n",
    "  ~ to you under the Apache License, Version 2.0 (the\n",
    "  ~ \"License\"); you may not use this file except in compliance\n",
    "  ~ with the License.  You may obtain a copy of the License at\n",
    "  ~\n",
    "  ~   http://www.apache.org/licenses/LICENSE-2.0\n",
    "  ~\n",
    "  ~ Unless required by applicable law or agreed to in writing,\n",
    "  ~ software distributed under the License is distributed on an\n",
    "  ~ \"AS IS\" BASIS, WITHOUT WARRANTIES OR CONDITIONS OF ANY\n",
    "  ~ KIND, either express or implied.  See the License for the\n",
    "  ~ specific language governing permissions and limitations\n",
    "  ~ under the License.\n",
    "  -->\n",
    "\n",
    "This tutorial works through several examples of using [request parameters](https://druid.apache.org/docs/latest/querying/sql-api/) on the Druid SQL API, including:\n",
    "\n",
    "* How to change how the format of the results returned.\n",
    "* How to supply parameters to the SQL query.\n",
    "* How to affect query execution."
   ]
  },
  {
   "cell_type": "markdown",
   "id": "bbdbf6ad-ca7b-40f5-8ca3-1070f4a3ee42",
   "metadata": {},
   "source": [
    "## Prerequisites\n",
    "\n",
    "This tutorial works with Druid 27.0.0 or later.\n",
    "\n",
    "#### Run with Docker\n",
    "\n",
    "Launch this tutorial and all prerequisites using the `druid-jupyter` profile of the Docker Compose file for Jupyter-based Druid tutorials. For more information, see the Learn Druid repository [readme](https://github.com/implydata/learn-druid)."
   ]
  },
  {
   "cell_type": "markdown",
   "id": "5007a243-b81a-4601-8f57-5b14940abbff",
   "metadata": {},
   "source": [
    "## Initialization\n",
    "\n",
    "The following cells set up the notebook and learning environment ready for use.\n",
    "\n",
    "### Set up and connect to the learning environment\n",
    "\n",
    "Run the next cell to set up the Druid Python client's connection to Apache Druid.\n",
    "\n",
    "If successful, the Druid version number will be shown in the output."
   ]
  },
  {
   "cell_type": "code",
   "execution_count": null,
   "id": "c1ec783b-df3f-4168-9be2-cdc6ad3e33c2",
   "metadata": {},
   "outputs": [],
   "source": [
    "import druidapi\n",
    "import os\n",
    "\n",
    "if 'DRUID_HOST' not in os.environ.keys():\n",
    "    druid_host=f\"http://localhost:8888\"\n",
    "else:\n",
    "    druid_host=f\"http://{os.environ['DRUID_HOST']}:8888\"\n",
    "    \n",
    "print(f\"Opening a connection to {druid_host}.\")\n",
    "druid = druidapi.jupyter_client(druid_host)\n",
    "\n",
    "display = druid.display\n",
    "sql_client = druid.sql\n",
    "status_client = druid.status\n",
    "\n",
    "status_client.version"
   ]
  },
  {
   "cell_type": "markdown",
   "id": "472589e4-1026-4b3b-bb79-eedabb2b44c4",
   "metadata": {},
   "source": [
    "### Load example data\n",
    "\n",
    "Run the following cell to create a table called `example-wikipedia-queryapi`. The statement only ingests certain data from the source that will be used in this notebook.\n",
    "\n",
    "When completed, you'll see a description of the final table."
   ]
  },
  {
   "cell_type": "code",
   "execution_count": null,
   "id": "f52a94fb-d2e4-403f-ab10-84d3af7bf2c8",
   "metadata": {},
   "outputs": [],
   "source": [
    "sql='''\n",
    "REPLACE INTO \"example-wikipedia-queryapi\" OVERWRITE ALL\n",
    "WITH \"ext\" AS (SELECT *\n",
    "FROM TABLE(\n",
    "  EXTERN(\n",
    "    '{\"type\":\"http\",\"uris\":[\"https://druid.apache.org/data/wikipedia.json.gz\"]}',\n",
    "    '{\"type\":\"json\"}'\n",
    "  )\n",
    ") EXTEND (\"isRobot\" VARCHAR, \"channel\" VARCHAR, \"timestamp\" VARCHAR, \"flags\" VARCHAR, \"isUnpatrolled\" VARCHAR, \"page\" VARCHAR, \"diffUrl\" VARCHAR, \"added\" BIGINT, \"comment\" VARCHAR, \"commentLength\" BIGINT, \"isNew\" VARCHAR, \"isMinor\" VARCHAR, \"delta\" BIGINT, \"isAnonymous\" VARCHAR, \"user\" VARCHAR, \"deltaBucket\" BIGINT, \"deleted\" BIGINT, \"namespace\" VARCHAR, \"cityName\" VARCHAR, \"countryName\" VARCHAR, \"regionIsoCode\" VARCHAR, \"metroCode\" BIGINT, \"countryIsoCode\" VARCHAR, \"regionName\" VARCHAR))\n",
    "SELECT\n",
    "  TIME_PARSE(\"timestamp\") AS \"__time\",\n",
    "  \"channel\"\n",
    "FROM \"ext\"\n",
    "PARTITIONED BY DAY\n",
    "'''\n",
    "\n",
    "display.run_task(sql)\n",
    "sql_client.wait_until_ready('example-wikipedia-queryapi')\n",
    "display.table('example-wikipedia-queryapi')"
   ]
  },
  {
   "cell_type": "markdown",
   "id": "9c3d6b39-6551-4b2a-bdfb-9606aa92c853",
   "metadata": {},
   "source": [
    "<!-- Include these cells if you need additional Python modules -->\n",
    "\n",
    "### Import additional modules\n",
    "\n",
    "Run the following cell to import additional Python modules that you will use to X, Y, Z."
   ]
  },
  {
   "cell_type": "code",
   "execution_count": null,
   "id": "dc4c2524-0eba-4bc6-84ed-da3a25aa5fbe",
   "metadata": {},
   "outputs": [],
   "source": [
    "import json\n",
    "import requests"
   ]
  },
  {
   "cell_type": "markdown",
   "id": "c2ac364c-08b5-4328-a098-19423c66348e",
   "metadata": {},
   "source": [
    "Also run the following, which set up a Python function you will use to send raw requests to the Druid API:"
   ]
  },
  {
   "cell_type": "code",
   "execution_count": null,
   "id": "d92866fe-f5c2-482d-905f-0f5f0e84475b",
   "metadata": {},
   "outputs": [],
   "source": [
    "def postRequest(definition):\n",
    "    x = requests.post(druid_host + '/druid/v2/sql', json=definition)\n",
    "\n",
    "    if \"error\" in x.text:\n",
    "        raise Exception('Not able to complete the request. \\n\\n'+x.text)\n",
    "    else:\n",
    "        return(x)"
   ]
  },
  {
   "cell_type": "markdown",
   "id": "2e07f715-dd57-4b78-b719-77aa9c801cab",
   "metadata": {},
   "source": [
    "## Submit an SQL query\n",
    "\n",
    "The `query` parameter accepts a SQL query as a string.\n",
    "\n",
    "Run the following cell to set a variable, `sql`, that contains a simple query."
   ]
  },
  {
   "cell_type": "code",
   "execution_count": null,
   "id": "06b39f05-d284-4f04-889c-2a5ddd1665f7",
   "metadata": {},
   "outputs": [],
   "source": [
    "sql='''\n",
    "SELECT\n",
    "  COUNT(*) AS \"events\"\n",
    "FROM \"example-wikipedia-queryapi\"\n",
    "WHERE TIME_IN_INTERVAL(\"__time\",'2016-06-27T04/PT1H')\n",
    "'''"
   ]
  },
  {
   "cell_type": "markdown",
   "id": "cfc2fc6d-8add-44e1-98dd-a75ac0a7918c",
   "metadata": {},
   "source": [
    "Set up a basic JSON object, `query_definition`, that contains the string above by running the following cell."
   ]
  },
  {
   "cell_type": "code",
   "execution_count": null,
   "id": "7718ec6f-42b9-4ef3-a063-7c7be91cdfab",
   "metadata": {},
   "outputs": [],
   "source": [
    "query_definition = {\n",
    "    \"query\": sql\n",
    "}"
   ]
  },
  {
   "cell_type": "markdown",
   "id": "cc7e70d8-2542-4aaa-ac70-b0a4cc1d835c",
   "metadata": {},
   "source": [
    "Now call the `postRequest` function with the JSON object as a parameter.\n",
    "\n",
    "The text body of the response from Druid is then printed."
   ]
  },
  {
   "cell_type": "code",
   "execution_count": null,
   "id": "bdafd996-a62d-4056-ae0e-56a2ed1d93fe",
   "metadata": {},
   "outputs": [],
   "source": [
    "print(postRequest(query_definition).text)"
   ]
  },
  {
   "cell_type": "markdown",
   "id": "523e7523-94b7-4754-96a7-3f1df53184bb",
   "metadata": {},
   "source": [
    "## Set the format of the query results\n",
    "\n",
    "Use the `resultFormat` property to control the [format](https://druid.apache.org/docs/latest/querying/sql-api/#result-formats) of the results.\n",
    "\n",
    "First, run the cell below to set a more complex query in the `sql` variable."
   ]
  },
  {
   "cell_type": "code",
   "execution_count": null,
   "id": "e205e527-4249-4b66-a323-0a59b0f2b704",
   "metadata": {},
   "outputs": [],
   "source": [
    "sql='''\n",
    "SELECT\n",
    "  TIME_FLOOR(\"__time\",'PT10M'),\n",
    "  COUNT(*)\n",
    "FROM \"example-wikipedia-queryapi\"\n",
    "WHERE TIME_IN_INTERVAL(\"__time\",'2016-06-27T04/PT1H')\n",
    "GROUP BY 1\n",
    "'''"
   ]
  },
  {
   "cell_type": "markdown",
   "id": "a01980ed-29d7-4695-ae39-a6ee604ec197",
   "metadata": {},
   "source": [
    "The default `resultFormat` is `object`, returning a JSON object.\n",
    "\n",
    "In the following cell, the result of `postRequest` is parsed as JSON so that it can be printed in a pretty format."
   ]
  },
  {
   "cell_type": "code",
   "execution_count": null,
   "id": "c37d8e07-08e9-427f-8c42-824d0ac9f487",
   "metadata": {},
   "outputs": [],
   "source": [
    "sql='''\n",
    "SELECT\n",
    "  TIME_FLOOR(\"__time\",'PT10M') AS \"period\",\n",
    "  COUNT(*) as \"events\"\n",
    "FROM \"example-wikipedia-queryapi\"\n",
    "WHERE TIME_IN_INTERVAL(\"__time\",'2016-06-27T04/PT1H')\n",
    "GROUP BY 1\n",
    "'''\n",
    "\n",
    "query_definition = {\n",
    "    \"query\": sql\n",
    "}\n",
    "\n",
    "print(json.dumps(json.loads(postRequest(query_definition).text), indent=2))"
   ]
  },
  {
   "cell_type": "markdown",
   "id": "745a6b54-9fc4-40eb-ae44-a553b4433ba5",
   "metadata": {},
   "source": [
    "In the following cell, the `resultFormat` is explicitly set as CSV.\n",
    "\n",
    "Run this to see the result."
   ]
  },
  {
   "cell_type": "code",
   "execution_count": null,
   "id": "dfc5c5f2-29c4-47eb-ba87-d350e579a7b8",
   "metadata": {},
   "outputs": [],
   "source": [
    "query_definition = {\n",
    "    \"query\": sql,\n",
    "    \"resultFormat\": \"csv\"\n",
    "}\n",
    "\n",
    "print(postRequest(query_definition).text)"
   ]
  },
  {
   "cell_type": "markdown",
   "id": "0c0224ad-9672-488c-b22a-947088b27383",
   "metadata": {},
   "source": [
    "## Adding a header to results\n",
    "\n",
    "Take a look at the following cell, where the definition has been updated to include a `header` property.\n",
    "\n",
    "Run it to see the result from the query API."
   ]
  },
  {
   "cell_type": "code",
   "execution_count": null,
   "id": "f130ac65-4c6c-4f8b-99a3-d82b0e012b51",
   "metadata": {},
   "outputs": [],
   "source": [
    "query_definition = {\n",
    "    \"query\": sql,\n",
    "    \"resultFormat\": \"csv\",\n",
    "    \"header\": \"true\"\n",
    "}\n",
    "\n",
    "print(postRequest(query_definition).text)"
   ]
  },
  {
   "cell_type": "markdown",
   "id": "f3a104e9-2ea5-4e72-9fac-ea923a453c4e",
   "metadata": {},
   "source": [
    "Run the next cell to send another request to the API.\n",
    "\n",
    "Notice that:\n",
    "\n",
    "* `resultFormat` has been removed so that the result is in JSON format.\n",
    "* The `typesHeader` and `sqlTypesHeader` have been set explicitly to `true`."
   ]
  },
  {
   "cell_type": "code",
   "execution_count": null,
   "id": "6e145339-875d-466c-8cb8-c6966678e2ce",
   "metadata": {},
   "outputs": [],
   "source": [
    "query_definition = {\n",
    "    \"query\": sql,\n",
    "    \"typesHeader\": \"true\",\n",
    "    \"sqlTypesHeader\": \"true\",\n",
    "    \"header\": \"true\"\n",
    "}\n",
    "\n",
    "print(json.dumps(json.loads(postRequest(query_definition).text), indent=2))"
   ]
  },
  {
   "cell_type": "markdown",
   "id": "37babd70-aaaf-4663-a04a-ddccf7e0868e",
   "metadata": {},
   "source": [
    "## Sending query parameters\n",
    "\n",
    "The `parameters` property allows for parameters to be passed through to the SQL.\n",
    "\n",
    "Running the next cell will update `sql` to a query that contains three parameters, \"`?`\", to filter the COUNT of events on `channel` in three ways."
   ]
  },
  {
   "cell_type": "code",
   "execution_count": null,
   "id": "03a21dcc-5067-4732-8fe3-c6e325913196",
   "metadata": {},
   "outputs": [],
   "source": [
    "sql='''\n",
    "SELECT\n",
    "  TIME_FLOOR(\"__time\",'PT10M') AS \"period\",\n",
    "  COUNT(*) FILTER (WHERE \"channel\" LIKE CAST(? AS VARCHAR)) AS \"events-1\",\n",
    "  COUNT(*) FILTER (WHERE \"channel\" LIKE CAST(? AS VARCHAR)) AS \"events-2\",\n",
    "  COUNT(*) FILTER (WHERE \"channel\" LIKE CAST(? AS VARCHAR)) AS \"events-3\"\n",
    "FROM \"example-wikipedia-queryapi\"\n",
    "WHERE TIME_IN_INTERVAL(\"__time\",'2016-06-27T04/PT1H')\n",
    "GROUP BY 1\n",
    "'''"
   ]
  },
  {
   "cell_type": "markdown",
   "id": "53ed653e-6faa-4d61-a87e-eeb3e447bd06",
   "metadata": {},
   "source": [
    "Now run the cell below to update `query_definition` and execute the query.\n",
    "\n",
    "Notice that the type of each of the `parameters` have a type that can be successfully CAST."
   ]
  },
  {
   "cell_type": "code",
   "execution_count": null,
   "id": "1dfb74ef-16eb-44b3-b453-a807d14f6f15",
   "metadata": {},
   "outputs": [],
   "source": [
    "query_definition = {\n",
    "    \"query\": sql,\n",
    "    \"resultFormat\": \"csv\",\n",
    "    \"header\": \"true\",\n",
    "    \"parameters\": [\n",
    "        { \"type\" : \"VARCHAR\", \"value\": \"#en%\" },\n",
    "        { \"type\" : \"VARCHAR\", \"value\": \"#fr%\" },\n",
    "        { \"type\" : \"VARCHAR\", \"value\": \"%\" }\n",
    "    ]\n",
    "}\n",
    "\n",
    "print(postRequest(query_definition).text)"
   ]
  },
  {
   "cell_type": "markdown",
   "id": "f33c5fa3-361c-421e-b678-ebe3dbe0ca9b",
   "metadata": {},
   "source": [
    "## Sending query context\n",
    "\n",
    "Using SQL [query context parameters](https://druid.apache.org/docs/latest/querying/sql-query-context), various aspects of query execution can be controlled, including the use of approximation for COUNT DISTINCT and TopN-type queries. Open the notebooks on [COUNT DISTINCT](./03-approxCountDistinct.ipynb) and [TopN](./02-approx-ranking.ipynb)-type queries for examples.\n",
    "\n",
    "Run the following cell to store the result of a query in `query_result` where a context parameter, `sqlQueryId`, has been used."
   ]
  },
  {
   "cell_type": "code",
   "execution_count": null,
   "id": "d51d84b4-c3ca-442f-8821-f52a961ae7f2",
   "metadata": {},
   "outputs": [],
   "source": [
    "query_definition = {\n",
    "        \"query\": sql,\n",
    "    \"resultFormat\": \"csv\",\n",
    "    \"header\": \"true\",\n",
    "    \"parameters\": [\n",
    "        { \"type\" : \"VARCHAR\", \"value\": \"#en%\" },\n",
    "        { \"type\" : \"VARCHAR\", \"value\": \"#fr%\" },\n",
    "        { \"type\" : \"VARCHAR\", \"value\": \"%\" }\n",
    "    ],\n",
    "    \"context\":\n",
    "        { \"sqlQueryId\" : \"dashboard-panel6-userquery\" }\n",
    "}\n",
    "\n",
    "query_result = postRequest(query_definition)"
   ]
  },
  {
   "cell_type": "markdown",
   "id": "2b678ce7-9012-467d-b418-d6bf5a59df34",
   "metadata": {},
   "source": [
    "Run the following cell to see the headers returned in the request, which include the value you set in the `sqlQueryId` in `X-Druid-SQL-Query-Id`."
   ]
  },
  {
   "cell_type": "code",
   "execution_count": null,
   "id": "f282a433-a3dc-4d5b-8ea3-f5d1460bcb36",
   "metadata": {},
   "outputs": [],
   "source": [
    "print(json.dumps(dict(query_result.headers), indent=2))"
   ]
  },
  {
   "cell_type": "markdown",
   "id": "44738d6d-cec2-40ad-aaba-998c758c63f4",
   "metadata": {},
   "source": [
    "## Clean up\n",
    "\n",
    "Run the following cell to remove the table used in this notebook from the database."
   ]
  },
  {
   "cell_type": "code",
   "execution_count": null,
   "id": "8082b545-ba7f-4ede-bb6e-2a6dd62ba0d8",
   "metadata": {},
   "outputs": [],
   "source": [
    "druid.datasources.drop(\"example-wikipedia-queryapi\")"
   ]
  },
  {
   "cell_type": "markdown",
   "id": "54b8d5fe-ba85-4b5b-9669-0dd47dfbccd1",
   "metadata": {},
   "source": [
    "## Summary\n",
    "\n",
    "* The Druid SQL API endpoint takes a JSON object with a SQL query\n",
    "* Additional properties control result formats, enable parameterization, and changes to how the query is executed\n",
    "\n",
    "## Learn more\n",
    "\n",
    "* Try out other [result formats](https://druid.apache.org/docs/latest/querying/sql-api/#result-formats)\n",
    "* See how context parameters can be used to control approximation in the notebooks on [COUNT DISTINCT](./03-approxCountDistinct.ipynb) and [TopN](./02-approx-ranking.ipynb)"
   ]
  }
 ],
 "metadata": {
  "execution": {
   "allow_errors": true,
   "timeout": 300
  },
  "kernelspec": {
   "display_name": "Python 3 (ipykernel)",
   "language": "python",
   "name": "python3"
  },
  "language_info": {
   "codemirror_mode": {
    "name": "ipython",
    "version": 3
   },
   "file_extension": ".py",
   "mimetype": "text/x-python",
   "name": "python",
   "nbconvert_exporter": "python",
   "pygments_lexer": "ipython3",
   "version": "3.11.6"
  }
 },
 "nbformat": 4,
 "nbformat_minor": 5
}
