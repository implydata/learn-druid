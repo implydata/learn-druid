{
 "cells": [
  {
   "cell_type": "markdown",
   "id": "0cb3b009-ebde-4d56-9d59-a028d66d8309",
   "metadata": {},
   "source": [
    "# Working with network data using IP functions\n",
    "<!--\n",
    "  ~ Licensed to the Apache Software Foundation (ASF) under one\n",
    "  ~ or more contributor license agreements.  See the NOTICE file\n",
    "  ~ distributed with this work for additional information\n",
    "  ~ regarding copyright ownership.  The ASF licenses this file\n",
    "  ~ to you under the Apache License, Version 2.0 (the\n",
    "  ~ \"License\"); you may not use this file except in compliance\n",
    "  ~ with the License.  You may obtain a copy of the License at\n",
    "  ~\n",
    "  ~   http://www.apache.org/licenses/LICENSE-2.0\n",
    "  ~\n",
    "  ~ Unless required by applicable law or agreed to in writing,\n",
    "  ~ software distributed under the License is distributed on an\n",
    "  ~ \"AS IS\" BASIS, WITHOUT WARRANTIES OR CONDITIONS OF ANY\n",
    "  ~ KIND, either express or implied.  See the License for the\n",
    "  ~ specific language governing permissions and limitations\n",
    "  ~ under the License.\n",
    "  -->\n",
    "\n",
    "In this short notebook, see examples of [IP functions](https://druid.apache.org/docs/latest/27.0.0/sql-scalar#ip-address-functions) being used on a sample dataset."
   ]
  },
  {
   "cell_type": "markdown",
   "id": "bbdbf6ad-ca7b-40f5-8ca3-1070f4a3ee42",
   "metadata": {},
   "source": [
    "## Prerequisites\n",
    "\n",
    "This tutorial works with Druid 27.0.0 or later.\n",
    "\n",
    "#### Run with Docker\n",
    "\n",
    "Launch this tutorial and all prerequisites using the `druid-jupyter` profile of the Docker Compose file for Jupyter-based Druid tutorials. For more information, see [Docker for Jupyter Notebook tutorials](https://druid.apache.org/docs/latest/tutorials/tutorial-jupyter-docker.html)."
   ]
  },
  {
   "cell_type": "markdown",
   "id": "5007a243-b81a-4601-8f57-5b14940abbff",
   "metadata": {},
   "source": [
    "## Initialization\n",
    "\n",
    "The following cells set up the notebook and learning environment ready for use.\n",
    "\n",
    "### Set up and connect to the learning environment\n",
    "\n",
    "Run the next cell to set up the Druid Python client's connection to Apache Druid.\n",
    "\n",
    "If successful, the Druid version number will be shown in the output."
   ]
  },
  {
   "cell_type": "code",
   "execution_count": null,
   "id": "c1ec783b-df3f-4168-9be2-cdc6ad3e33c2",
   "metadata": {},
   "outputs": [],
   "source": [
    "import druidapi\n",
    "import os\n",
    "\n",
    "if 'DRUID_HOST' not in os.environ.keys():\n",
    "    druid_host=f\"http://localhost:8888\"\n",
    "else:\n",
    "    druid_host=f\"http://{os.environ['DRUID_HOST']}:8888\"\n",
    "    \n",
    "print(f\"Opening a connection to {druid_host}.\")\n",
    "druid = druidapi.jupyter_client(druid_host)\n",
    "\n",
    "display = druid.display\n",
    "sql_client = druid.sql\n",
    "status_client = druid.status\n",
    "\n",
    "status_client.version"
   ]
  },
  {
   "cell_type": "markdown",
   "id": "472589e4-1026-4b3b-bb79-eedabb2b44c4",
   "metadata": {},
   "source": [
    "### Load example data\n",
    "\n",
    "Run the following cell to create a table called `example-koalas-ip`. Notice only required columns are ingested.\n",
    "\n",
    "When completed, you'll see a description of the final table."
   ]
  },
  {
   "cell_type": "code",
   "execution_count": null,
   "id": "f52a94fb-d2e4-403f-ab10-84d3af7bf2c8",
   "metadata": {},
   "outputs": [],
   "source": [
    "sql='''\n",
    "REPLACE INTO \"example-koalas-ip\" OVERWRITE ALL\n",
    "WITH \"ext\" AS (SELECT *\n",
    "FROM TABLE(\n",
    "  EXTERN(\n",
    "    '{\"type\":\"http\",\"uris\":[\"https://static.imply.io/example-data/kttm-v2/kttm-v2-2019-08-25.json.gz\"]}',\n",
    "    '{\"type\":\"json\"}'\n",
    "  )\n",
    ") EXTEND (\"timestamp\" VARCHAR, \"agent_category\" VARCHAR, \"agent_type\" VARCHAR, \"browser\" VARCHAR, \"browser_version\" VARCHAR, \"city\" VARCHAR, \"continent\" VARCHAR, \"country\" VARCHAR, \"version\" VARCHAR, \"event_type\" VARCHAR, \"event_subtype\" VARCHAR, \"loaded_image\" VARCHAR, \"adblock_list\" VARCHAR, \"forwarded_for\" VARCHAR, \"language\" VARCHAR, \"number\" VARCHAR, \"os\" VARCHAR, \"path\" VARCHAR, \"platform\" VARCHAR, \"referrer\" VARCHAR, \"referrer_host\" VARCHAR, \"region\" VARCHAR, \"remote_address\" VARCHAR, \"screen\" VARCHAR, \"session\" VARCHAR, \"session_length\" BIGINT, \"timezone\" VARCHAR, \"timezone_offset\" VARCHAR, \"window\" VARCHAR))\n",
    "SELECT\n",
    "  TIME_PARSE(\"timestamp\") AS \"__time\",\n",
    "  \"forwarded_for\",\n",
    "  \"remote_address\",\n",
    "  \"session\"\n",
    "FROM \"ext\"\n",
    "PARTITIONED BY DAY\n",
    "'''\n",
    "\n",
    "display.run_task(sql)\n",
    "sql_client.wait_until_ready('example-koalas-ip')\n",
    "display.table('example-koalas-ip')"
   ]
  },
  {
   "cell_type": "markdown",
   "id": "1b6c9b88-837d-4c80-a28d-36184ba63355",
   "metadata": {},
   "source": [
    "## Filtering query results against subnets\n",
    "\n",
    "The `IPV4_MATCH` function allows for filtering of datasets and of aggregations according to the subnet of an IP address.\n",
    "\n",
    "Run the following query to see a count of the number of sessions in the data for a specific CIDR."
   ]
  },
  {
   "cell_type": "code",
   "execution_count": null,
   "id": "83a0afa3-ac3b-4aae-8687-4fa4fa8a1944",
   "metadata": {},
   "outputs": [],
   "source": [
    "sql='''\n",
    "SELECT COUNT(DISTINCT \"session\") AS \"sessions\"\n",
    "FROM \"example-koalas-ip\"\n",
    "WHERE IPV4_MATCH(\"forwarded_for\",'68.0.0.0/8')\n",
    "AND TIME_IN_INTERVAL(\"__time\",'2019-08-25/PT1H')\n",
    "'''\n",
    "\n",
    "display.sql(sql)"
   ]
  },
  {
   "cell_type": "markdown",
   "id": "84a651af-6681-4bc4-b79d-c9008f2c4a4d",
   "metadata": {},
   "source": [
    "A filter can also be applied to aggregations.\n",
    "\n",
    "Run the following query, where count of the number of unique sessions over time is broken down by a number of first octets."
   ]
  },
  {
   "cell_type": "code",
   "execution_count": null,
   "id": "09ca2802-c6d3-4506-b96d-b4bbf2d4683e",
   "metadata": {},
   "outputs": [],
   "source": [
    "sql='''\n",
    "SELECT\n",
    "  TIME_FLOOR(__time,'PT1H') AS \"timebucket\",\n",
    "  COUNT(DISTINCT \"session\") FILTER (WHERE IPV4_MATCH(\"forwarded_for\",'172.0.0.0/8')) AS \"sessions_172\",\n",
    "  COUNT(DISTINCT \"session\") FILTER (WHERE IPV4_MATCH(\"forwarded_for\",'174.0.0.0/8')) AS \"sessions_174\",\n",
    "  COUNT(DISTINCT \"session\") FILTER (WHERE IPV4_MATCH(\"forwarded_for\",'64.0.0.0/8')) AS \"sessions_62\"\n",
    "FROM \"example-koalas-ip\"\n",
    "WHERE TIME_IN_INTERVAL(\"__time\",'2019-08-25T01:30/PT6H')\n",
    "GROUP BY 1\n",
    "'''\n",
    "\n",
    "display.sql(sql)"
   ]
  },
  {
   "cell_type": "markdown",
   "id": "681d174f-ea3e-4a92-8cb4-ceca45d95b17",
   "metadata": {},
   "source": [
    "## Extracting elements of an IP address\n",
    "\n",
    "Use the `IPV4_PARSE` function to take an IP address and convert it to a string representation.\n",
    "\n",
    "In the example below, this is used along with a very simple regex search pattern through `REGEX_EXTRACT` to find the top 10 first-octets in the table according to the number of sessions."
   ]
  },
  {
   "cell_type": "code",
   "execution_count": null,
   "id": "6dd7d904-6c51-4744-b4ed-e9e9f59837ad",
   "metadata": {},
   "outputs": [],
   "source": [
    "sql='''\n",
    "SELECT\n",
    "  REGEXP_EXTRACT(IPV4_STRINGIFY(\"forwarded_for\"),'(\\d+)\\.(\\d+)\\.(\\d+)\\.(\\d+)',1) AS \"firstOctet\",\n",
    "  COUNT(DISTINCT \"session\") AS \"sessions\"\n",
    "FROM \"example-koalas-ip\"\n",
    "WHERE TIME_IN_INTERVAL(\"__time\",'2019-08-25T01:30/PT10M')\n",
    "GROUP BY 1\n",
    "ORDER BY 2 DESC\n",
    "LIMIT 10\n",
    "'''\n",
    "\n",
    "display.sql(sql)"
   ]
  },
  {
   "cell_type": "markdown",
   "id": "41f97b81-ff82-4941-bc15-90e2a1b17c13",
   "metadata": {},
   "source": [
    "Use these functions, or the native (JSON) equivallents, at ingestion time to enrich data in the table ahead of time.\n",
    "\n",
    "An important technique, especially at scale, is to use Apache Datasketches for high-performance, approximate operations on network data.\n",
    "\n",
    "Run the ingestion task below to create a summarised table of the source data.\n",
    "\n",
    "- Each row in the table represents a 15-minute bucket for each first and second octet in `forwarded_for`\n",
    "- Every row includes a Theta sketch of both the `forwarded_for` and `remote_address` IP addresses\n",
    "- Rows conclude with a HyperLogLog sketch of the session Ids"
   ]
  },
  {
   "cell_type": "code",
   "execution_count": null,
   "id": "a3e2b568-6958-4106-9f9b-a52bd0c6c4a2",
   "metadata": {},
   "outputs": [],
   "source": [
    "sql='''\n",
    "REPLACE INTO \"example-koalas-ip-rollup\" OVERWRITE ALL\n",
    "WITH \"ext\" AS (SELECT *\n",
    "FROM TABLE(\n",
    "  EXTERN(\n",
    "    '{\"type\":\"http\",\"uris\":[\"https://static.imply.io/example-data/kttm-v2/kttm-v2-2019-08-25.json.gz\"]}',\n",
    "    '{\"type\":\"json\"}'\n",
    "  )\n",
    ") EXTEND (\"timestamp\" VARCHAR, \"agent_category\" VARCHAR, \"agent_type\" VARCHAR, \"browser\" VARCHAR, \"browser_version\" VARCHAR, \"city\" VARCHAR, \"continent\" VARCHAR, \"country\" VARCHAR, \"version\" VARCHAR, \"event_type\" VARCHAR, \"event_subtype\" VARCHAR, \"loaded_image\" VARCHAR, \"adblock_list\" VARCHAR, \"forwarded_for\" VARCHAR, \"language\" VARCHAR, \"number\" VARCHAR, \"os\" VARCHAR, \"path\" VARCHAR, \"platform\" VARCHAR, \"referrer\" VARCHAR, \"referrer_host\" VARCHAR, \"region\" VARCHAR, \"remote_address\" VARCHAR, \"screen\" VARCHAR, \"session\" VARCHAR, \"session_length\" BIGINT, \"timezone\" VARCHAR, \"timezone_offset\" VARCHAR, \"window\" VARCHAR))\n",
    "SELECT\n",
    "  TIME_FLOOR(TIME_PARSE(\"timestamp\"),'PT15M') AS \"__time\",\n",
    "  REGEXP_EXTRACT(IPV4_STRINGIFY(\"forwarded_for\"),'(\\d+)\\.(\\d+)\\.(\\d+)\\.(\\d+)',1) AS \"forwarded_for_1\",\n",
    "  REGEXP_EXTRACT(IPV4_STRINGIFY(\"forwarded_for\"),'(\\d+)\\.(\\d+)\\.(\\d+)\\.(\\d+)',2) AS \"forwarded_for_2\",\n",
    "  DS_THETA(\"forwarded_for\") AS \"forwarded_for_theta\",\n",
    "  DS_THETA(\"remote_address\") AS \"remote_address_theta\",\n",
    "  DS_HLL(\"session\") AS \"session_HLL\"\n",
    "FROM \"ext\"\n",
    "GROUP BY 1, 2, 3\n",
    "PARTITIONED BY DAY\n",
    "'''\n",
    "\n",
    "req = sql_client.sql_request(sql)\n",
    "req.add_context(\"finalize\", \"false\")\n",
    "req.add_context(\"finalizeAggregations\", \"false\")\n",
    "\n",
    "display.run_task(req)\n",
    "sql_client.wait_until_ready('example-koalas-ip-rollup')\n",
    "display.table('example-koalas-ip-rollup')"
   ]
  },
  {
   "cell_type": "markdown",
   "id": "db1e7db6-c9b0-4fa2-a8ff-6556fcdff16a",
   "metadata": {},
   "source": [
    "This new summarised table can then be addressed in a query like the following, taking advantage of the pre-calculated field `forwarded_for_1`, and of approximation algorithms via the [HyperLogLog](https://druid.apache.org/docs/27.0.0/querying/sql-aggregations#hll-sketch-functions) and [Theta](https://druid.apache.org/docs/27.0.0/querying/sql-aggregations#theta-sketch-functions) forms of the `APPROX_COUNT_DISTINCT_DS` function."
   ]
  },
  {
   "cell_type": "code",
   "execution_count": null,
   "id": "f4d6b7d0-b613-4b52-9379-b4a34b7417b0",
   "metadata": {},
   "outputs": [],
   "source": [
    "sql='''\n",
    "SELECT\n",
    "  \"forwarded_for_1\",\n",
    "  APPROX_COUNT_DISTINCT_DS_THETA(\"forwarded_for_theta\") AS \"approx-unique-forwarded-for\",\n",
    "  APPROX_COUNT_DISTINCT_DS_HLL(\"session_HLL\") AS \"approx-unique-sessions\"\n",
    "FROM \"example-koalas-ip-rollup\"\n",
    "WHERE TIME_IN_INTERVAL(\"__time\",'2019-08-25T01:30/PT10M')\n",
    "GROUP BY 1\n",
    "ORDER BY 3 DESC\n",
    "LIMIT 10\n",
    "'''\n",
    "\n",
    "display.sql(sql)"
   ]
  },
  {
   "cell_type": "markdown",
   "id": "44738d6d-cec2-40ad-aaba-998c758c63f4",
   "metadata": {},
   "source": [
    "## Clean up\n",
    "\n",
    "Run the following cell to remove the two tables used in this notebook from the database."
   ]
  },
  {
   "cell_type": "code",
   "execution_count": null,
   "id": "8082b545-ba7f-4ede-bb6e-2a6dd62ba0d8",
   "metadata": {},
   "outputs": [],
   "source": [
    "druid.datasources.drop(\"example-koalas-ip\")\n",
    "druid.datasources.drop(\"example-koalas-ip-rollup\")"
   ]
  },
  {
   "cell_type": "markdown",
   "id": "54b8d5fe-ba85-4b5b-9669-0dd47dfbccd1",
   "metadata": {},
   "source": [
    "## Summary\n",
    "\n",
    "* IP functions in Druid allow for filtering and parsing at ingestion and query time\n",
    "* In networking use cases, it's important to understand the use of Apache Datasketches when aiming to minimise table sizes and query processing by leveraging approximation\n",
    "\n",
    "## Learn more\n",
    "\n",
    "* Refer to the documentation on the available IP functions for both [SQL](https://druid.apache.org/docs/27.0.0/querying/sql-scalar#ip-address-functions) and [native](https://druid.apache.org/docs/latest/querying/math-expr#ip-address-functions) queries\n",
    "* Try the notebook on solving for [COUNT DISTINCT](./03-approxCountDistinct.ipynb) at scale using Apache Datasketches\n",
    "* Run through the notebook on creating Apache Datasketches [at ingestion time](../02-ingestion/03-sketchIngestion.ipynb)."
   ]
  }
 ],
 "metadata": {
  "execution": {
   "allow_errors": true,
   "timeout": 300
  },
  "kernelspec": {
   "display_name": "Python 3 (ipykernel)",
   "language": "python",
   "name": "python3"
  },
  "language_info": {
   "codemirror_mode": {
    "name": "ipython",
    "version": 3
   },
   "file_extension": ".py",
   "mimetype": "text/x-python",
   "name": "python",
   "nbconvert_exporter": "python",
   "pygments_lexer": "ipython3",
   "version": "3.11.5"
  }
 },
 "nbformat": 4,
 "nbformat_minor": 5
}
