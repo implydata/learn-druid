{
 "cells": [
  {
   "cell_type": "markdown",
   "id": "0cb3b009-ebde-4d56-9d59-a028d66d8309",
   "metadata": {},
   "source": [
    "# Work with string data using scalar functions\n",
    "<!--\n",
    "  ~ Licensed to the Apache Software Foundation (ASF) under one\n",
    "  ~ or more contributor license agreements.  See the NOTICE file\n",
    "  ~ distributed with this work for additional information\n",
    "  ~ regarding copyright ownership.  The ASF licenses this file\n",
    "  ~ to you under the Apache License, Version 2.0 (the\n",
    "  ~ \"License\"); you may not use this file except in compliance\n",
    "  ~ with the License.  You may obtain a copy of the License at\n",
    "  ~\n",
    "  ~   http://www.apache.org/licenses/LICENSE-2.0\n",
    "  ~\n",
    "  ~ Unless required by applicable law or agreed to in writing,\n",
    "  ~ software distributed under the License is distributed on an\n",
    "  ~ \"AS IS\" BASIS, WITHOUT WARRANTIES OR CONDITIONS OF ANY\n",
    "  ~ KIND, either express or implied.  See the License for the\n",
    "  ~ specific language governing permissions and limitations\n",
    "  ~ under the License.\n",
    "  -->\n",
    "\n",
    "This notebook walks through some examples of [scalar string functions](https://druid.apache.org/docs/latest/querying/sql-scalar#string-functions) being used in queries and during ingestion."
   ]
  },
  {
   "cell_type": "markdown",
   "id": "bbdbf6ad-ca7b-40f5-8ca3-1070f4a3ee42",
   "metadata": {},
   "source": [
    "## Prerequisites\n",
    "\n",
    "This tutorial works with Druid 27.0.0 or later.\n",
    "\n",
    "Launch this tutorial and all prerequisites using the `druid-jupyter` profile of the Docker Compose file for Jupyter-based Druid tutorials. For more information, see the Learn Druid repository [readme](https://github.com/implydata/learn-druid)."
   ]
  },
  {
   "cell_type": "markdown",
   "id": "5007a243-b81a-4601-8f57-5b14940abbff",
   "metadata": {},
   "source": [
    "## Initialization\n",
    "\n",
    "The following cells set up the notebook and learning environment ready for use.\n",
    "\n",
    "### Set up and connect to the learning environment\n",
    "\n",
    "Run the next cell to set up the Druid Python client's connection to Apache Druid.\n",
    "\n",
    "If successful, the Druid version number will be shown in the output."
   ]
  },
  {
   "cell_type": "code",
   "execution_count": null,
   "id": "c1ec783b-df3f-4168-9be2-cdc6ad3e33c2",
   "metadata": {},
   "outputs": [],
   "source": [
    "import druidapi\n",
    "import os\n",
    "\n",
    "if 'DRUID_HOST' not in os.environ.keys():\n",
    "    druid_host=f\"http://localhost:8888\"\n",
    "else:\n",
    "    druid_host=f\"http://{os.environ['DRUID_HOST']}:8888\"\n",
    "    \n",
    "print(f\"Opening a connection to {druid_host}.\")\n",
    "druid = druidapi.jupyter_client(druid_host)\n",
    "\n",
    "display = druid.display\n",
    "sql_client = druid.sql\n",
    "status_client = druid.status\n",
    "\n",
    "status_client.version"
   ]
  },
  {
   "cell_type": "markdown",
   "id": "472589e4-1026-4b3b-bb79-eedabb2b44c4",
   "metadata": {},
   "source": [
    "### Load example data\n",
    "\n",
    "Run the following cell to create a table called `example-koalas-strings`. Only the specific dimensions that we need for this tutorial are ingested.\n",
    "\n",
    "When completed, you'll see a description of the final table."
   ]
  },
  {
   "cell_type": "code",
   "execution_count": null,
   "id": "f52a94fb-d2e4-403f-ab10-84d3af7bf2c8",
   "metadata": {},
   "outputs": [],
   "source": [
    "sql='''\n",
    "REPLACE INTO \"example-koalas-strings\" OVERWRITE ALL\n",
    "WITH \"ext\" AS (SELECT *\n",
    "FROM TABLE(\n",
    "  EXTERN(\n",
    "    '{\"type\":\"http\",\"uris\":[\"https://static.imply.io/example-data/kttm-v2/kttm-v2-2019-08-25.json.gz\"]}',\n",
    "    '{\"type\":\"json\"}'\n",
    "  )\n",
    ") EXTEND (\"timestamp\" VARCHAR, \"agent_category\" VARCHAR, \"agent_type\" VARCHAR, \"browser\" VARCHAR, \"browser_version\" VARCHAR, \"city\" VARCHAR, \"continent\" VARCHAR, \"country\" VARCHAR, \"version\" VARCHAR, \"event_type\" VARCHAR, \"event_subtype\" VARCHAR, \"loaded_image\" VARCHAR, \"adblock_list\" VARCHAR, \"forwarded_for\" VARCHAR, \"language\" VARCHAR, \"number\" VARCHAR, \"os\" VARCHAR, \"path\" VARCHAR, \"platform\" VARCHAR, \"referrer\" VARCHAR, \"referrer_host\" VARCHAR, \"region\" VARCHAR, \"remote_address\" VARCHAR, \"screen\" VARCHAR, \"session\" VARCHAR, \"session_length\" BIGINT, \"timezone\" VARCHAR, \"timezone_offset\" VARCHAR, \"window\" VARCHAR))\n",
    "SELECT\n",
    "  TIME_PARSE(\"timestamp\") AS \"__time\",\n",
    "  \"referrer\",\n",
    "  \"event_type\",\n",
    "  \"event_subtype\",\n",
    "  \"city\",\n",
    "  \"os\",\n",
    "  \"continent\",\n",
    "  \"country\",\n",
    "  \"browser\",\n",
    "  \"session\",\n",
    "  \"session_length\",\n",
    "  \"screen\",\n",
    "  \"loaded_image\"\n",
    "FROM \"ext\"\n",
    "PARTITIONED BY DAY\n",
    "'''\n",
    "\n",
    "display.run_task(sql)\n",
    "sql_client.wait_until_ready('example-koalas-strings')\n",
    "display.table('example-koalas-strings')"
   ]
  },
  {
   "cell_type": "markdown",
   "id": "9c3d6b39-6551-4b2a-bdfb-9606aa92c853",
   "metadata": {},
   "source": [
    "### Import additional modules\n",
    "\n",
    "Run the following cell to import additional Python modules that you will use as part of the notebook."
   ]
  },
  {
   "cell_type": "code",
   "execution_count": null,
   "id": "dc4c2524-0eba-4bc6-84ed-da3a25aa5fbe",
   "metadata": {},
   "outputs": [],
   "source": [
    "import matplotlib\n",
    "import matplotlib.pyplot as plt\n",
    "import pandas as pd"
   ]
  },
  {
   "cell_type": "markdown",
   "id": "99cca9a1-d97c-473d-a721-76fb76890153",
   "metadata": {},
   "source": [
    "## Filter rows using string functions\n",
    "\n",
    "In this part of the notebook, you'll see the use of:\n",
    "\n",
    "* Pattern matches with `LIKE` and `REGEXP_LIKE`.\n",
    "* Searches with `CONTAINS_STRING` and `ICONTAINS_STRING`.\n",
    "\n",
    "Run the next cell to find any event recorded in the table that was made in English using the `LIKE` filter."
   ]
  },
  {
   "cell_type": "code",
   "execution_count": null,
   "id": "b9abf5a4-e9a3-408e-ae40-05fb85057849",
   "metadata": {},
   "outputs": [],
   "source": [
    "sql='''\n",
    "SELECT\n",
    "  COUNT(*) AS \"events\"\n",
    "FROM \"example-koalas-strings\"\n",
    "WHERE \"referrer\" LIKE '%google%'\n",
    "AND TIME_IN_INTERVAL(__time,'2019-08-25T14/PT1H')\n",
    "'''\n",
    "\n",
    "display.sql(sql)"
   ]
  },
  {
   "cell_type": "markdown",
   "id": "b043d53e-493c-4ca2-998f-8325642527d9",
   "metadata": {},
   "source": [
    "Alternatively, use the `CONTAINS_STRING` (case-sensitive) and `ICONTAINS_STRING` (case-insensitive) functions.\n",
    "\n",
    "Behind-the-scenes, these two functions use the native [`search`-type filter](https://druid.apache.org/docs/latest/querying/filters/#search-filter).\n",
    "\n",
    "The cell below uses these functions to produce two different counts, one with Google as the referrer, and one where it is not."
   ]
  },
  {
   "cell_type": "code",
   "execution_count": null,
   "id": "42d09b48-c2f5-465c-aed1-774ca818bc7e",
   "metadata": {},
   "outputs": [],
   "source": [
    "sql='''\n",
    "SELECT\n",
    "  COUNT(DISTINCT \"session\") FILTER (WHERE CONTAINS_STRING(\"referrer\",'google')) AS \"google_referred_sessions\",\n",
    "  COUNT(DISTINCT \"session\") FILTER (WHERE NOT(CONTAINS_STRING(\"referrer\",'google'))) AS \"not_google_referred_sessions\"\n",
    "FROM \"example-koalas-strings\"\n",
    "WHERE TIME_IN_INTERVAL(__time,'2019-08-25T14/PT1H')\n",
    "'''\n",
    "\n",
    "display.sql(sql)"
   ]
  },
  {
   "cell_type": "markdown",
   "id": "592db388-a837-4da3-8818-578c240c3e6d",
   "metadata": {},
   "source": [
    "Advanced filtering is possible using Regular Expressions via `REGEXP_LIKE`.\n",
    "\n",
    "The next cell contains a SQL statement that uses a regular expression to filter out and count the number of error events that references an unsecure web or file URI, and another that counts references to secure sites. These are then grouped into hourly results."
   ]
  },
  {
   "cell_type": "code",
   "execution_count": null,
   "id": "bbe2366a-f9d1-455c-bc91-4cf960da0a29",
   "metadata": {},
   "outputs": [],
   "source": [
    "sql='''\n",
    "SELECT\n",
    "  TIME_FLOOR(__time,'PT1H') AS \"time\",\n",
    "  COUNT(*) FILTER (WHERE REGEXP_LIKE(\"event_subtype\",'ReferenceError:.*(http|file):.*')) AS \"suspicious_errors\",\n",
    "  COUNT(*) FILTER (WHERE REGEXP_LIKE(\"event_subtype\",'ReferenceError:.*(https):.*')) AS \"secure_suspicious_errors\"\n",
    "FROM \"example-koalas-strings\"\n",
    "WHERE TIME_IN_INTERVAL(__time,'2019-08-25T12/PT6H')\n",
    "GROUP BY 1\n",
    "'''\n",
    "\n",
    "display.sql(sql)"
   ]
  },
  {
   "cell_type": "markdown",
   "id": "2c527319-8b24-4d98-9e8b-7f4303345676",
   "metadata": {},
   "source": [
    "## Manipulate string values\n",
    "\n",
    "In this part of the notebook, you'll see the use of:\n",
    "\n",
    "* Manipulation with `UPPER`, `LOWER`, and `REVERSE`.\n",
    "* Concatenation with the `||` operator and the `CONCAT` and `TEXTCAT` functions.\n",
    "* Replacements with `REPLACE` and `REGEXP_REPLACE`.\n",
    "* Padding with `LPAD`, `RPAD`.\n",
    "* Generating new text with `REPEAT`.\n",
    "* Trimming text with `TRIM`.\n",
    "\n",
    "Run the cell below to see some examples of simple string manipulation."
   ]
  },
  {
   "cell_type": "code",
   "execution_count": null,
   "id": "f2234b60-8b02-460d-bddd-d9076f369a4f",
   "metadata": {},
   "outputs": [],
   "source": [
    "sql='''\n",
    "SELECT DISTINCT\n",
    "  UPPER(\"city\") AS \"CITY\",\n",
    "  LOWER(\"os\") AS \"os\",\n",
    "  REVERSE(\"country\") AS \"yrtnuoc\"\n",
    "FROM \"example-koalas-strings\"\n",
    "WHERE TIME_IN_INTERVAL(__time,'2019-08-25T01/PT2S')\n",
    "'''\n",
    "\n",
    "display.sql(sql)"
   ]
  },
  {
   "cell_type": "markdown",
   "id": "5fcc8c53-ab1f-4e06-ba2f-e66a6440e370",
   "metadata": {},
   "source": [
    "Run this cell for some examples of `CONCAT` and `TEXTCAT` being used, as well as the `||` operator, to concatenate field values.\n",
    "\n",
    "Interestingly, these SQL functions all use the same underlying native `concat` function."
   ]
  },
  {
   "cell_type": "code",
   "execution_count": null,
   "id": "c443d827-3416-442d-aa76-51119b38ca66",
   "metadata": {},
   "outputs": [],
   "source": [
    "sql='''\n",
    "SELECT DISTINCT\n",
    "  UPPER(\"continent\") || ' saw ' || COUNT(*) || ' events.' AS \"i-am-an-operator\",\n",
    "  CONCAT(LOWER(\"continent\"), ' saw ',COUNT(*),' events.') AS \"i-am-a-function\",\n",
    "  TEXTCAT('Continent: ',\"continent\") AS \"and-i-only-take-two-arguments\"\n",
    "FROM \"example-koalas-strings\"\n",
    "WHERE TIME_IN_INTERVAL(__time,'2019-08-25T01/P1D')\n",
    "AND \"continent\" IS NOT NULL\n",
    "GROUP BY \"continent\"\n",
    "'''\n",
    "\n",
    "display.sql(sql)"
   ]
  },
  {
   "cell_type": "markdown",
   "id": "88b792e9-c44d-413e-a735-3a7dfb292c0f",
   "metadata": {},
   "source": [
    "A Java string format pattern can be applied to the data by using `STRING_FORMAT`.\n",
    "\n",
    "Run the cell below to see how this function can be applied to the results of a `GROUP BY`.\n",
    "\n",
    "The function's first parameter is the format to apply. In this, the `%S` format applies upper-case formatting, and `%,d` applies locale-specific commas to a number. Then come the arguments - `continent` and `COUNT` - to which these to formats are applied."
   ]
  },
  {
   "cell_type": "code",
   "execution_count": null,
   "id": "e2964491-3bbc-48f0-8b7c-f4ca3efadd99",
   "metadata": {},
   "outputs": [],
   "source": [
    "sql='''\n",
    "SELECT DISTINCT\n",
    "  STRING_FORMAT('%S saw %,d events.',\"continent\",COUNT(*)) AS \"results\"\n",
    "FROM \"example-koalas-strings\"\n",
    "WHERE TIME_IN_INTERVAL(__time,'2019-08-25T01/P1D')\n",
    "GROUP BY \"continent\"\n",
    "'''\n",
    "\n",
    "display.sql(sql)"
   ]
  },
  {
   "cell_type": "markdown",
   "id": "ccae1b82-d2d2-4a39-ad87-604e8dc60c89",
   "metadata": {},
   "source": [
    "Using `REGEXP_REPLACE` and `REPLACE` you can change the contents of string dimensions at query time or at ingestion time.\n",
    "\n",
    "The following query uses a simple `REPLACE` to change \"IE\" to \"Internet Explorer\". The results are loaded to a dataframe and then plotted."
   ]
  },
  {
   "cell_type": "code",
   "execution_count": null,
   "id": "92c53277-f080-4179-b544-9cb5b47a0d8a",
   "metadata": {},
   "outputs": [],
   "source": [
    "sql='''\n",
    "SELECT\n",
    "  REPLACE(\"browser\",'IE','Internet Explorer') AS \"browser\",\n",
    "  COUNT(DISTINCT \"session\") AS \"sessions\"\n",
    "FROM \"example-koalas-strings\"\n",
    "WHERE TIME_IN_INTERVAL(__time,'2019-08-25T01/P1D')\n",
    "GROUP BY 1\n",
    "ORDER BY 2 DESC\n",
    "'''\n",
    "\n",
    "df = pd.DataFrame(sql_client.sql(sql))\n",
    "df.plot.bar(x='browser', y='sessions')\n",
    "plt.xticks(rotation=45, ha='right')\n",
    "plt.yscale(\"log\")\n",
    "plt.gca().get_legend().remove()\n",
    "plt.show()"
   ]
  },
  {
   "cell_type": "markdown",
   "id": "03363c06-e12a-4471-9c90-712b7f54b7c1",
   "metadata": {},
   "source": [
    "Using `REGEXP_REPLACE` you can apply more advanced replacements.\n",
    "\n",
    "The query below uses `REGEXP_REPLACE` to extract portions of the Url and to construct a new string value.\n",
    "\n",
    "The regular expression contains a number of capture groups, and the replacement string refers to these using `$`."
   ]
  },
  {
   "cell_type": "code",
   "execution_count": null,
   "id": "9c4ff274-03fc-469d-84f3-8a6204fb94a8",
   "metadata": {},
   "outputs": [],
   "source": [
    "sql='''\n",
    "SELECT\n",
    "  REGEXP_REPLACE(\"loaded_image\",'^(([^:/?#]+):)?(//([^/?#]*))?([^?#]*)(\\?([^#]*))?(#(.*))?','Path $5 was requested over $2') AS \"image\",\n",
    "  COUNT(*) AS \"events\"\n",
    "FROM \"example-koalas-strings\"\n",
    "WHERE TIME_IN_INTERVAL(__time,'2019-08-25T01/PT2H')\n",
    "AND \"loaded_image\" != 'Custom image'\n",
    "GROUP BY 1\n",
    "ORDER BY 2 DESC\n",
    "'''\n",
    "\n",
    "display.sql(sql)"
   ]
  },
  {
   "cell_type": "markdown",
   "id": "49ded4e1-68e4-442b-b37e-e8a8c6244cf8",
   "metadata": {},
   "source": [
    "The `LPAD` and `RPAD` functions add padding to the right or left of a returned portion of a string.\n",
    "\n",
    "The query below uses `LPAD` in the `ORDER BY` clause to sort the results of the query.\n",
    "\n",
    "In the data set, the `event_subtype` field records, in a string, the amount of the image that was cleared on [Koalas to the max](https://www.koalastothemax.com/). This is recorded in the data as an event with the type \"PercentClear\".\n",
    "\n",
    "`LPAD` is used to construct a three-character value for the percentage that will result in the correct sort being applied. The first parameter indicates the field to use, the second the limit of the size of the returned string, and the final parameter the character to use for the padding.\n",
    "\n",
    "`COALESCE` ensures that when the recorded percentage is empty, it is included in the data as 0%."
   ]
  },
  {
   "cell_type": "code",
   "execution_count": null,
   "id": "002f25dc-c109-4201-9198-9b63ee16abdc",
   "metadata": {},
   "outputs": [],
   "source": [
    "sql='''\n",
    "SELECT\n",
    "  \"event_subtype\" AS \"Percent Clear\",\n",
    "  COUNT(*) AS \"events\"\n",
    "FROM \"example-koalas-strings\"\n",
    "WHERE TIME_IN_INTERVAL(__time,'2019-08-25T01/P1D')\n",
    "AND \"event_type\" = 'PercentClear'\n",
    "GROUP BY 1\n",
    "ORDER BY LPAD(COALESCE(\"event_subtype\",'0'),3,'0')\n",
    "'''\n",
    "\n",
    "df = pd.DataFrame(sql_client.sql(sql))\n",
    "df.plot.bar(x='Percent Clear', y='events')\n",
    "plt.gca().get_legend().remove()\n",
    "plt.show()"
   ]
  },
  {
   "cell_type": "markdown",
   "id": "3823564f-afe6-4533-b08d-ee6e279d6b3f",
   "metadata": {},
   "source": [
    "The next cell uses `REPEAT` to generate a fun table of results.\n",
    "\n",
    "Here, the `SUBSTRING` function (also available as `SUBSTR`) is used to get a particular portion of a string based on the hour in the timestamp of the event."
   ]
  },
  {
   "cell_type": "code",
   "execution_count": null,
   "id": "3b7dae57-d90b-4b81-99f1-b1736f659372",
   "metadata": {},
   "outputs": [],
   "source": [
    "sql='''\n",
    "SELECT\n",
    "  REPEAT(SUBSTRING('EO',MOD(TIME_EXTRACT(__time, 'HOUR'),2)+1,1),TIME_EXTRACT(__time, 'HOUR')) AS \"nice\",\n",
    "  COUNT(*) AS \"Count\"\n",
    "FROM \"example-koalas-strings\"\n",
    "WHERE TIME_IN_INTERVAL(__time,'2019-08-25T01/P1D')\n",
    "GROUP BY 1\n",
    "ORDER BY 2 DESC\n",
    "'''\n",
    "\n",
    "display.sql(sql)"
   ]
  },
  {
   "cell_type": "markdown",
   "id": "14e9d216-46a2-4682-be52-0b25ad8c0da5",
   "metadata": {},
   "source": [
    "Let's use `REPEAT` with `TRIM` to see how characters can be removed from the beginning and / or end of a string.\n",
    "\n",
    "Run the cell below to re-ingest the example data, adding a new dimension that uses `REPEAT`."
   ]
  },
  {
   "cell_type": "code",
   "execution_count": null,
   "id": "fa5b208a-d7e0-4937-a98e-35beb799ea06",
   "metadata": {},
   "outputs": [],
   "source": [
    "sql='''\n",
    "REPLACE INTO \"example-koalas-strings\" OVERWRITE ALL\n",
    "WITH \"ext\" AS (SELECT *\n",
    "FROM TABLE(\n",
    "  EXTERN(\n",
    "    '{\"type\":\"http\",\"uris\":[\"https://static.imply.io/example-data/kttm-v2/kttm-v2-2019-08-25.json.gz\"]}',\n",
    "    '{\"type\":\"json\"}'\n",
    "  )\n",
    ") EXTEND (\"timestamp\" VARCHAR, \"agent_category\" VARCHAR, \"agent_type\" VARCHAR, \"browser\" VARCHAR, \"browser_version\" VARCHAR, \"city\" VARCHAR, \"continent\" VARCHAR, \"country\" VARCHAR, \"version\" VARCHAR, \"event_type\" VARCHAR, \"event_subtype\" VARCHAR, \"loaded_image\" VARCHAR, \"adblock_list\" VARCHAR, \"forwarded_for\" VARCHAR, \"language\" VARCHAR, \"number\" VARCHAR, \"os\" VARCHAR, \"path\" VARCHAR, \"platform\" VARCHAR, \"referrer\" VARCHAR, \"referrer_host\" VARCHAR, \"region\" VARCHAR, \"remote_address\" VARCHAR, \"screen\" VARCHAR, \"session\" VARCHAR, \"session_length\" BIGINT, \"timezone\" VARCHAR, \"timezone_offset\" VARCHAR, \"window\" VARCHAR))\n",
    "SELECT\n",
    "  TIME_PARSE(\"timestamp\") AS \"__time\",\n",
    "  \"referrer\",\n",
    "  \"event_type\",\n",
    "  \"event_subtype\",\n",
    "  \"city\",\n",
    "  \"os\",\n",
    "  \"continent\",\n",
    "  \"country\",\n",
    "  REPEAT('X',5) || \"country\" || REPEAT('X',5) AS \"XXXXXcountryXXXXX\",\n",
    "  \"browser\",\n",
    "  \"session\",\n",
    "  \"session_length\",\n",
    "  \"screen\",\n",
    "  \"loaded_image\"\n",
    "FROM \"ext\"\n",
    "PARTITIONED BY DAY\n",
    "'''\n",
    "\n",
    "display.run_task(sql)\n",
    "sql_client.wait_until_ready('example-koalas-strings')\n",
    "display.table('example-koalas-strings')"
   ]
  },
  {
   "cell_type": "markdown",
   "id": "1ab5ee87-fa37-4f20-9da3-e61a3c8f37a1",
   "metadata": {},
   "source": [
    "The SQL below shows the three variants of `TRIM` in action on the new `XXXXXcountryXXXXX` column."
   ]
  },
  {
   "cell_type": "code",
   "execution_count": null,
   "id": "eb08e9b4-752e-4720-a1d2-0e37a2d59546",
   "metadata": {},
   "outputs": [],
   "source": [
    "sql='''\n",
    "SELECT\n",
    "  TRIM(LEADING 'X' FROM \"XXXXXcountryXXXXX\") AS \"leadingTrim\",\n",
    "  TRIM(TRAILING 'X' FROM \"XXXXXcountryXXXXX\") AS \"trailingTrim\",\n",
    "  TRIM(BOTH 'X' FROM \"XXXXXcountryXXXXX\") AS \"bothTrim\",\n",
    "  COUNT(*) AS \"Count\"\n",
    "FROM \"example-koalas-strings\"\n",
    "WHERE TIME_IN_INTERVAL(__time,'2019-08-25T01/PT30S')\n",
    "GROUP BY 1, 2, 3\n",
    "'''\n",
    "\n",
    "display.sql(sql)"
   ]
  },
  {
   "cell_type": "markdown",
   "id": "483a4bca-da98-48c8-ba73-c1c83ff06a2d",
   "metadata": {},
   "source": [
    "## Use parts of a string\n",
    "\n",
    "In this part of the notebook, you'll see the use of:\n",
    "\n",
    "* Extracting portions of a string with `RIGHT`, `LEFT`, `SUBSTRING`, and `REGEXP_EXTRACT`.\n",
    "* Finding text with `POSITION`.\n",
    "\n",
    "The next cell uses the `POSITION`, `RIGHT`, and `LEFT` functions to find the horizontal and vertical screen size of the user."
   ]
  },
  {
   "cell_type": "code",
   "execution_count": null,
   "id": "dacdd522-f472-4f48-8f28-6720bca58a5a",
   "metadata": {},
   "outputs": [],
   "source": [
    "sql='''\n",
    "SELECT\n",
    "  LEFT(\"screen\",POSITION('x' in \"screen\")-1) AS \"x-size\",\n",
    "  RIGHT(\"screen\",LENGTH(\"screen\")-POSITION('x' in \"screen\")) AS \"y-size\"\n",
    "FROM \"example-koalas-strings\"\n",
    "WHERE TIME_IN_INTERVAL(__time,'2019-08-25T14/PT1H')\n",
    "LIMIT 10\n",
    "'''\n",
    "\n",
    "display.sql(sql)"
   ]
  },
  {
   "cell_type": "markdown",
   "id": "3db276be-3c17-48f4-a25b-36699f792913",
   "metadata": {},
   "source": [
    "Alternatively, you might use a regular expression.\n",
    "\n",
    "Here, `REGEXP_EXTRACT` is combined with `STRING_FORMAT` to display the average screen size by hour."
   ]
  },
  {
   "cell_type": "code",
   "execution_count": null,
   "id": "2261df6a-d2ab-4677-873a-0ae67e5e5bfa",
   "metadata": {},
   "outputs": [],
   "source": [
    "sql='''\n",
    "SELECT\n",
    "  TIME_FLOOR(\"__time\",'PT1H') AS \"interval\",\n",
    "  STRING_FORMAT('%.3f x %.3f',AVG(REGEXP_EXTRACT(\"screen\",'([0-9]*)x([0-9]*)',1)),AVG(REGEXP_EXTRACT(\"screen\",'([0-9]*)x([0-9]*)',2))) AS \"size-average\"\n",
    "FROM \"example-koalas-strings\"\n",
    "WHERE TIME_IN_INTERVAL(__time,'2019-08-25T0/PT12H')\n",
    "GROUP BY 1\n",
    "'''\n",
    "\n",
    "display.sql(sql)"
   ]
  },
  {
   "cell_type": "markdown",
   "id": "a9e3cbc7-b4b5-43d2-ace4-198b7b60ae6f",
   "metadata": {},
   "source": [
    "Run the following cell to see another regular expression example, here returning the filename from the image Url in the data."
   ]
  },
  {
   "cell_type": "code",
   "execution_count": null,
   "id": "4633cdf5-b4dc-4d65-8b8a-47df223aae7b",
   "metadata": {},
   "outputs": [],
   "source": [
    "sql='''\n",
    "SELECT\n",
    "  REGEXP_EXTRACT(\"loaded_image\",'[^/\\\\&\\?]+\\.\\w{3,4}(?=([\\?&].*$|$))') AS \"filename\",\n",
    "  COUNT(*) AS \"events\"\n",
    "FROM \"example-koalas-strings\"\n",
    "WHERE TIME_IN_INTERVAL(__time,'2019-08-25T14/PT1H')\n",
    "GROUP BY 1\n",
    "'''\n",
    "\n",
    "df = pd.DataFrame(sql_client.sql(sql))\n",
    "df.plot.barh(x='filename', y='events')\n",
    "plt.show()"
   ]
  },
  {
   "cell_type": "markdown",
   "id": "ac5198d5-4191-4fbf-aeb6-463c45d7fec5",
   "metadata": {},
   "source": [
    "The next cell contains a SQL statement that uses a regular expression with multiple matches."
   ]
  },
  {
   "cell_type": "code",
   "execution_count": null,
   "id": "acab084b-ffdf-4529-86c8-d6a83223d48f",
   "metadata": {},
   "outputs": [],
   "source": [
    "sql='''\n",
    "SELECT\n",
    "  REGEXP_EXTRACT(\"loaded_image\",'^(([^:/?#]+):)?(//([^/?#]*))?([^?#]*)(\\?([^#]*))?(#(.*))?',2) AS \"scheme\",\n",
    "  REGEXP_EXTRACT(\"loaded_image\",'^(([^:/?#]+):)?(//([^/?#]*))?([^?#]*)(\\?([^#]*))?(#(.*))?',5) AS \"path\",\n",
    "  COUNT(DISTINCT \"browser\") AS \"events\"\n",
    "FROM \"example-koalas-strings\"\n",
    "WHERE TIME_IN_INTERVAL(__time,'2019-08-25T14/PT1H')\n",
    "GROUP BY 1, 2\n",
    "'''\n",
    "\n",
    "df = pd.DataFrame(sql_client.sql(sql))\n",
    "df_group=df.groupby(['path','scheme']).sum().unstack()\n",
    "df_group.plot.bar(stacked=\"true\")\n",
    "plt.xticks(rotation=45, ha='right')\n",
    "plt.show()"
   ]
  },
  {
   "cell_type": "markdown",
   "id": "44738d6d-cec2-40ad-aaba-998c758c63f4",
   "metadata": {},
   "source": [
    "## Clean up\n",
    "\n",
    "Run the following cell to remove the XXX used in this notebook from the database."
   ]
  },
  {
   "cell_type": "code",
   "execution_count": null,
   "id": "8082b545-ba7f-4ede-bb6e-2a6dd62ba0d8",
   "metadata": {},
   "outputs": [],
   "source": [
    "druid.datasources.drop(\"example-koalas-strings\")"
   ]
  },
  {
   "cell_type": "markdown",
   "id": "54b8d5fe-ba85-4b5b-9669-0dd47dfbccd1",
   "metadata": {},
   "source": [
    "## Summary\n",
    "\n",
    "* You can use scalar functions in your `SELECT` and `WHERE` clauses at query time and in SQL-based ingestion.\n",
    "* SQL functions have native equivallents that you can use in JSON-based ingestion.\n",
    "\n",
    "## Learn more\n",
    "\n",
    "* Read the documentation around the full list of [scalar string functions](https://druid.apache.org/docs/latest/querying/sql-scalar#string-functions).\n",
    "* Look for some common string functions in your queries and create a table where these functions have been applied at ingestion time."
   ]
  }
 ],
 "metadata": {
  "execution": {
   "allow_errors": true,
   "timeout": 300
  },
  "kernelspec": {
   "display_name": "Python 3 (ipykernel)",
   "language": "python",
   "name": "python3"
  },
  "language_info": {
   "codemirror_mode": {
    "name": "ipython",
    "version": 3
   },
   "file_extension": ".py",
   "mimetype": "text/x-python",
   "name": "python",
   "nbconvert_exporter": "python",
   "pygments_lexer": "ipython3",
   "version": "3.11.5"
  }
 },
 "nbformat": 4,
 "nbformat_minor": 5
}
