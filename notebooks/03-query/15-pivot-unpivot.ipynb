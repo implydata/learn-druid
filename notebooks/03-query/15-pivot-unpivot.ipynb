{
 "cells": [
  {
   "cell_type": "markdown",
   "id": "0cb3b009-ebde-4d56-9d59-a028d66d8309",
   "metadata": {},
   "source": [
    "# PIVOT and UNPIVOT\n",
    "<!--\n",
    "  ~ Licensed to the Apache Software Foundation (ASF) under one\n",
    "  ~ or more contributor license agreements.  See the NOTICE file\n",
    "  ~ distributed with this work for additional information\n",
    "  ~ regarding copyright ownership.  The ASF licenses this file\n",
    "  ~ to you under the Apache License, Version 2.0 (the\n",
    "  ~ \"License\"); you may not use this file except in compliance\n",
    "  ~ with the License.  You may obtain a copy of the License at\n",
    "  ~\n",
    "  ~   http://www.apache.org/licenses/LICENSE-2.0\n",
    "  ~\n",
    "  ~ Unless required by applicable law or agreed to in writing,\n",
    "  ~ software distributed under the License is distributed on an\n",
    "  ~ \"AS IS\" BASIS, WITHOUT WARRANTIES OR CONDITIONS OF ANY\n",
    "  ~ KIND, either express or implied.  See the License for the\n",
    "  ~ specific language governing permissions and limitations\n",
    "  ~ under the License.\n",
    "  -->\n",
    "\n",
    "\n",
    "This tutorial demonstrates how to work with [PIVOT](https://druid.apache.org/docs/latest/querying/sql#pivot) and [UNPIVOT](https://druid.apache.org/docs/latest/querying/sql#unpivot) SQL operators. \n",
    "\n",
    "Note: PIVOT and UNPIVOT are [experimental features](https://druid.apache.org/docs/latest/development/experimental)."
   ]
  },
  {
   "cell_type": "markdown",
   "id": "bbdbf6ad-ca7b-40f5-8ca3-1070f4a3ee42",
   "metadata": {},
   "source": [
    "## Prerequisites\n",
    "\n",
    "This tutorial works with Druid 29.0.0 or later.\n",
    "\n",
    "#### Run with Docker\n",
    "\n",
    "Launch this tutorial and all prerequisites using the `druid-jupyter` profile of the Docker Compose file for Jupyter-based Druid tutorials. For more information, see the Learn Druid repository [readme](https://github.com/implydata/learn-druid).\n",
    "   "
   ]
  },
  {
   "cell_type": "markdown",
   "id": "5007a243-b81a-4601-8f57-5b14940abbff",
   "metadata": {},
   "source": [
    "## Initialization\n",
    "\n",
    "Run the next cell to set up the Druid Python client's connection to Apache Druid.\n",
    "\n",
    "If successful, the Druid version number will be shown in the output."
   ]
  },
  {
   "cell_type": "code",
   "execution_count": null,
   "id": "c1ec783b-df3f-4168-9be2-cdc6ad3e33c2",
   "metadata": {},
   "outputs": [],
   "source": [
    "import druidapi\n",
    "import os\n",
    "\n",
    "if 'DRUID_HOST' not in os.environ.keys():\n",
    "    druid_host=f\"http://localhost:8888\"\n",
    "else:\n",
    "    druid_host=f\"http://{os.environ['DRUID_HOST']}:8888\"\n",
    "\n",
    "print(f\"Opening a connection to {druid_host}.\")\n",
    "druid = druidapi.jupyter_client(druid_host)\n",
    "\n",
    "display_client = druid.display\n",
    "sql_client = druid.sql\n",
    "status_client = druid.status\n",
    "\n",
    "status_client.version"
   ]
  },
  {
   "cell_type": "markdown",
   "id": "645f0209-436a-47e2-a1f4-be6c43de0eac",
   "metadata": {},
   "source": [
    "## Load example data\n",
    "\n",
    "Once your Druid environment is up and running, ingest the sample data for this tutorial.\n",
    "\n",
    "Run the following cell to create a table called \"example-wiki-pivot-unpivot\". When completed, you'll see a description of the final table."
   ]
  },
  {
   "cell_type": "code",
   "execution_count": null,
   "id": "032ee776-1eb9-46dc-989a-933bd7c7d1da",
   "metadata": {},
   "outputs": [],
   "source": [
    "sql='''\n",
    "REPLACE INTO \"example-wiki-pivot-unpivot\" OVERWRITE ALL\n",
    "WITH \"ext\" AS (\n",
    "  SELECT *\n",
    "  FROM TABLE(\n",
    "    EXTERN(\n",
    "      '{\"type\":\"http\",\"uris\":[\"https://druid.apache.org/data/wikipedia.json.gz\"]}',\n",
    "      '{\"type\":\"json\"}'\n",
    "    )\n",
    "  ) EXTEND (\"isRobot\" VARCHAR, \"channel\" VARCHAR, \"timestamp\" VARCHAR, \"flags\" VARCHAR, \"isUnpatrolled\" VARCHAR, \"page\" VARCHAR, \"diffUrl\" VARCHAR, \"added\" BIGINT, \"comment\" VARCHAR, \"commentLength\" BIGINT, \"isNew\" VARCHAR, \"isMinor\" VARCHAR, \"delta\" BIGINT, \"isAnonymous\" VARCHAR, \"user\" VARCHAR, \"deltaBucket\" BIGINT, \"deleted\" BIGINT, \"namespace\" VARCHAR, \"cityName\" VARCHAR, \"countryName\" VARCHAR, \"regionIsoCode\" VARCHAR, \"metroCode\" BIGINT, \"countryIsoCode\" VARCHAR, \"regionName\" VARCHAR)\n",
    ")\n",
    "SELECT\n",
    "  TIME_PARSE(\"timestamp\") AS \"__time\",\n",
    "  \"isRobot\",\n",
    "  \"channel\",\n",
    "  \"added\",\n",
    "  \"user\",\n",
    "  \"deleted\"\n",
    "FROM \"ext\"\n",
    "PARTITIONED BY DAY\n",
    "'''\n",
    "display_client.run_task(sql)\n",
    "sql_client.wait_until_ready('example-wiki-pivot-unpivot')\n",
    "display_client.table('example-wiki-pivot-unpivot')"
   ]
  },
  {
   "cell_type": "markdown",
   "id": "36ad757a-957e-465a-a284-855c14e3e8fd",
   "metadata": {},
   "source": [
    "## PIVOT\n",
    "\n",
    "PIVOT is a SQL operator that reduces rows in a result set by converting rows into columns.\n",
    "```\n",
    "    FROM <data source>\n",
    "    \n",
    "    PIVOT ( <list of aggregations>\n",
    "            \n",
    "            FOR <pivot_column> IN (<list of values in pivot_column>)\n",
    "          )\n",
    "```\n",
    "- \\<list of aggregations\\> - list of aggregate expressions; for example : SUM(added) as added, SUM(deleted) as deleted \n",
    "- \\<pivot_column\\> - the column whose values are being turned into new columns\n",
    "- \\<list of values in pivot_column\\> to use in the form `<literal value> as <value_name>,...`; for example: 'true' as robot, 'false as human \n",
    "\n",
    "The operation produces columns in the form \\<value_name\\>__\\<aggregation_name\\> for all the aggregations and values that are specified.\n",
    "\n",
    "Try this out. \n",
    "The next cell runs without PIVOT: "
   ]
  },
  {
   "cell_type": "code",
   "execution_count": null,
   "id": "0b36cb33-1e8a-4284-966c-a3937c8a33a4",
   "metadata": {},
   "outputs": [],
   "source": [
    "sql='''\n",
    "    SELECT\n",
    "      \"channel\", \"isRobot\", \"added\", \"deleted\"\n",
    "    FROM \"example-wiki-pivot-unpivot\" \n",
    "    WHERE TIME_IN_INTERVAL(__time, '2016-06-27/P1D')\n",
    "    LIMIT 10\n",
    "'''\n",
    "display_client.sql(sql)"
   ]
  },
  {
   "cell_type": "markdown",
   "id": "df1ac2ec-93d8-4cb4-bce1-5dabd72c7dbc",
   "metadata": {},
   "source": [
    "The next cell uses PIVOT with the same information as above to demonstrate how PIVOT reorganizes it:"
   ]
  },
  {
   "cell_type": "code",
   "execution_count": null,
   "id": "e4a63419-a824-405c-90c2-524611c4024b",
   "metadata": {},
   "outputs": [],
   "source": [
    "sql='''\n",
    "    SELECT\n",
    "      \"channel\", \n",
    "       \"robot_added\", \n",
    "       \"human_added\", \n",
    "       \"robot_deleted\", \n",
    "       \"human_deleted\"\n",
    "    FROM \"example-wiki-pivot-unpivot\" \n",
    "    \n",
    "    PIVOT ( SUM(added) as added, \n",
    "            SUM(deleted) as deleted \n",
    "            \n",
    "            FOR \"isRobot\" IN ('true' as robot, 'false' as human)\n",
    "          )\n",
    "    WHERE TIME_IN_INTERVAL(__time, '2016-06-27/P1D')\n",
    "    LIMIT 10\n",
    "'''\n",
    "display_client.sql(sql)"
   ]
  },
  {
   "cell_type": "markdown",
   "id": "0fc3a7ed-255e-49a5-ab0c-964e4fd38885",
   "metadata": {},
   "source": [
    "Notice that the PIVOT operation:\n",
    "- moved the values of \"isRobot\"='true' into two columns called \"robot_added\" and \"robot_deleted\"\n",
    "- moved the values of \"isRobot\"='false' into two columns called \"human_added\" and \"human_deleted\"\n",
    "\n",
    "Also, notice the presence of NULL values where the pivot column is not the value assigned to the corresponding column name. For example, \"robot_added\" only has values where \"isRobot\" was true."
   ]
  },
  {
   "cell_type": "markdown",
   "id": "841a8fc2-2efa-4327-b35c-e64a8fa380d3",
   "metadata": {},
   "source": [
    "## Robotic updates to wikipedia by channel using normal aggregation\n",
    "\n",
    "This follwoing example demonstrates PIVOT with aggregation.\n",
    "\n",
    "To illustrate, first determine which channels receive the most robotic changes by running a normal aggregation query:"
   ]
  },
  {
   "cell_type": "code",
   "execution_count": null,
   "id": "79bac420-4ee7-4f77-abdf-be651e5752ef",
   "metadata": {},
   "outputs": [],
   "source": [
    "sql='''\n",
    "SELECT\n",
    "  \"channel\",\n",
    "  \"isRobot\",\n",
    "  SUM(added) total_added,\n",
    "  SUM(deleted) total_deleted\n",
    "FROM \"example-wiki-pivot-unpivot\" \n",
    "WHERE TIME_IN_INTERVAL(__time, '2016-06-27/P1D')\n",
    "GROUP BY 1, 2\n",
    "'''\n",
    "display_client.sql(sql)"
   ]
  },
  {
   "cell_type": "markdown",
   "id": "a8642f39-ad04-45b3-9120-b622a0f7c8a7",
   "metadata": {},
   "source": [
    "## Transform rows with PIVOT \n",
    "The query above produces a lengthy output, making it hard to discern which channels have the most updates while still seeing the distinction between additions and deletions to the wikipedia pages.\n",
    "You can use the PIVOT operator to transform rows into columns for distinct values in the column.\n",
    "PIVOT helps to reorganize the result into less rows and more columns while still keeping all the detailed values.\n",
    "\n",
    "The following query uses aggregation on top of the pivoted columns in order to merge results into one row per channel.\n",
    "\n",
    "Run the following cell to calculate totals of human and robotic additions and deletions by channel with a ratio of human to total changes. "
   ]
  },
  {
   "cell_type": "code",
   "execution_count": null,
   "id": "65c489a8-a7f2-4cc0-b30c-f30d8ed32be2",
   "metadata": {},
   "outputs": [],
   "source": [
    "sql='''\n",
    "SELECT \"channel\", \n",
    "        SUM(\"robot_added\")       AS \"added_robot\", \n",
    "        SUM(\"robot_deleted\")     AS \"deleted_robot\", \n",
    "        SUM(\"human_added\")       AS \"added_human\",\n",
    "        SUM(\"human_deleted\")     AS \"deleted_human\", \n",
    "        \n",
    "        SAFE_DIVIDE( SUM(\"human_deleted\" + \"human_added\") * 1.0 , \n",
    "                     SUM( \"robot_deleted\" + \"robot_added\" + \"human_deleted\" + \"human_added\" )\n",
    "                     \n",
    "                    )            AS \"human_ratio\"\n",
    "                    \n",
    "FROM\n",
    "(\n",
    "    SELECT\n",
    "      \"channel\", \n",
    "       COALESCE(\"robot_added\",0) AS \"robot_added\", \n",
    "       COALESCE(\"human_added\",0) AS \"human_added\", \n",
    "       COALESCE(\"robot_deleted\",0) AS \"robot_deleted\", \n",
    "       COALESCE(\"human_deleted\",0) AS \"human_deleted\"\n",
    "    FROM \"example-wiki-pivot-unpivot\" \n",
    "    \n",
    "    PIVOT ( SUM(added) as added, \n",
    "            SUM(deleted) as deleted \n",
    "            \n",
    "            FOR \"isRobot\" IN ('true' as robot, 'false' as human)\n",
    "          )\n",
    "    WHERE TIME_IN_INTERVAL(__time, '2016-06-27/P1D')\n",
    ")x\n",
    "GROUP BY 1\n",
    "ORDER BY 6\n",
    "LIMIT 20\n",
    "'''\n",
    "display_client.sql(sql)"
   ]
  },
  {
   "cell_type": "markdown",
   "id": "d198f50b-f10b-4304-8358-ed6bcc02627a",
   "metadata": {},
   "source": [
    "The result shows 20 channels with the lowest \"human_ratio\", they are the ones that have the highest proportion of robot updates.\n",
    "\n",
    "A few cells above we saw that the values from PIVOT can be NULL. The query above calculates a ratio of human to total changes for each channel and the result is sorted on this ratio such that the channels with the highest proportion of robot updates are listed first. To calculate this metric even in the presence of NULLs, the query uses COALESCE on all the pivoted metrics.\n",
    "\n",
    "The result is much cleaner than the prior query, and it is easy to determine which channels have the most robotic activity.\n",
    "\n",
    "Notice the use of SAFE_DIVIDE in the \"human_ratio\" calculation, which guards for division by zero for cases with no updates. See [SAFE_DIVIDE](https://druid.apache.org/docs/latest/querying/sql-functions#safe_divide) for more information.\n"
   ]
  },
  {
   "cell_type": "markdown",
   "id": "3f0af833-9508-4f26-a484-2778ca857a2a",
   "metadata": {},
   "source": [
    "## Transform columns with UNPIVOT \n",
    "UNPIVOT does the opposite of PIVOT. UNPIVOT turns columns into rows by using the names of the columns being removed as values for a new column called the \"names column\".\n",
    "The values of the removed columns are combined into a single column called the \"values column\".\n",
    "\n",
    "Given the prior query, you can investigate the sources of the updates in the most robotically updated pages.\n",
    "The following cell uses the UNPIVOT operation to do just that.\n",
    "\n",
    "Run the following cell to find the most active user as measured by total adding or deleting activity within the channel `'#it.wikipedia'` which has a ratio of ~0.50 (about half robots). The SQL statement uses the following `UNPIVOT` operator:\n",
    "```\n",
    "  UNPIVOT ( \"changes\"  FOR \"action\" IN (\"added\", \"deleted\") )\n",
    "```\n",
    "- takes the values of multiple columns: `\"added\",\"deleted\"`\n",
    "- incorporates them into a single column called the \"values column\": `\"changes\"`\n",
    "- expands the results in \"names column\" with names of deleted columns: `\"action\"`"
   ]
  },
  {
   "cell_type": "code",
   "execution_count": null,
   "id": "f0159df8-6ca0-45af-9c68-6acd92defc4f",
   "metadata": {},
   "outputs": [],
   "source": [
    "sql='''\n",
    "SELECT \"user\",\n",
    "       \"action\",\n",
    "       SUM(\"changes\") \"total_changes\"\n",
    "FROM \"example-wiki-pivot-unpivot\"\n",
    "\n",
    "UNPIVOT ( \"changes\"  FOR \"action\" IN (\"added\", \"deleted\") )\n",
    "\n",
    "WHERE TIME_IN_INTERVAL(__time, '2016-06-27/P1D')\n",
    "       AND \"channel\"='#it.wikipedia' \n",
    "       AND \"isRobot\"='true'\n",
    "GROUP BY 1,2\n",
    "ORDER BY 3 DESC \n",
    "LIMIT 10\n",
    "'''\n",
    "display_client.sql(sql)"
   ]
  },
  {
   "cell_type": "markdown",
   "id": "3e7f3f5d-bd0c-4957-8d62-94fb01def699",
   "metadata": {},
   "source": [
    "The result provides the list of users that did the most additions or deletions in the channel `'#it.wikipedia'` and identified as `isRobot='true'`. \n",
    "\n",
    "It has merged the values of columns \"added\" and \"deleted\" into the column \"changes\" which is SUMed into \"total_changes\".\n",
    "The names of the original columns \"added\" and \"deleted\" are now values in the \"action\" column, so you can still see the detail.\n",
    "By using UNPIVOT in this fashion, you can sort on the largest addition or deletion that is the biggest total change by a user and easily find the robot users that are most affecting the channel.\n"
   ]
  },
  {
   "cell_type": "markdown",
   "id": "44738d6d-cec2-40ad-aaba-998c758c63f4",
   "metadata": {},
   "source": [
    "## Clean up\n",
    "\n",
    "Run the following cell to remove the table created for this notebook from the database."
   ]
  },
  {
   "cell_type": "code",
   "execution_count": null,
   "id": "8082b545-ba7f-4ede-bb6e-2a6dd62ba0d8",
   "metadata": {},
   "outputs": [],
   "source": [
    "druid.datasources.drop(\"example-wiki-pivot-unpivot\")\n"
   ]
  },
  {
   "cell_type": "markdown",
   "id": "54b8d5fe-ba85-4b5b-9669-0dd47dfbccd1",
   "metadata": {},
   "source": [
    "## Summary\n",
    "\n",
    "PIVOT converts row values into columns with aggregate results.\n",
    "\n",
    "UNPIVOT converts columns into rows by merging the values from multiple columns into a single column.\n"
   ]
  }
 ],
 "metadata": {
  "execution": {
   "allow_errors": true,
   "timeout": 300
  },
  "kernelspec": {
   "display_name": "Python 3 (ipykernel)",
   "language": "python",
   "name": "python3"
  },
  "language_info": {
   "codemirror_mode": {
    "name": "ipython",
    "version": 3
   },
   "file_extension": ".py",
   "mimetype": "text/x-python",
   "name": "python",
   "nbconvert_exporter": "python",
   "pygments_lexer": "ipython3",
   "version": "3.11.6"
  }
 },
 "nbformat": 4,
 "nbformat_minor": 5
}
