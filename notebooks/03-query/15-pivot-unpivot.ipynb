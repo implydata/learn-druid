{
 "cells": [
  {
   "cell_type": "markdown",
   "id": "0cb3b009-ebde-4d56-9d59-a028d66d8309",
   "metadata": {},
   "source": [
    "# PIVOT and UNPIVOT\n",
    "<!--\n",
    "  ~ Licensed to the Apache Software Foundation (ASF) under one\n",
    "  ~ or more contributor license agreements.  See the NOTICE file\n",
    "  ~ distributed with this work for additional information\n",
    "  ~ regarding copyright ownership.  The ASF licenses this file\n",
    "  ~ to you under the Apache License, Version 2.0 (the\n",
    "  ~ \"License\"); you may not use this file except in compliance\n",
    "  ~ with the License.  You may obtain a copy of the License at\n",
    "  ~\n",
    "  ~   http://www.apache.org/licenses/LICENSE-2.0\n",
    "  ~\n",
    "  ~ Unless required by applicable law or agreed to in writing,\n",
    "  ~ software distributed under the License is distributed on an\n",
    "  ~ \"AS IS\" BASIS, WITHOUT WARRANTIES OR CONDITIONS OF ANY\n",
    "  ~ KIND, either express or implied.  See the License for the\n",
    "  ~ specific language governing permissions and limitations\n",
    "  ~ under the License.\n",
    "  -->\n",
    "\n",
    "\n",
    "This tutorial demonstrates how to work with [PIVOT and UNPIVOT SQL Operators](https://druid.apache.org/docs/latest/querying/sql#pivot). \n",
    "\n",
    "PIVOT and UNPIVOT are experimental features of Druid 29.0.0.\n",
    "\n",
    "In this tutorial you perform the following tasks:\n",
    "\n",
    "- "
   ]
  },
  {
   "cell_type": "markdown",
   "id": "bbdbf6ad-ca7b-40f5-8ca3-1070f4a3ee42",
   "metadata": {},
   "source": [
    "## Prerequisites\n",
    "\n",
    "This tutorial works with Druid 29.0.0 or later.\n",
    "\n",
    "#### Run with Docker\n",
    "\n",
    "Launch this tutorial and all prerequisites using the `all-services` profile of the Docker Compose file for Jupyter-based Druid tutorials. For more information, see the Learn Druid repository [readme](https://github.com/implydata/learn-druid).\n",
    "   "
   ]
  },
  {
   "cell_type": "markdown",
   "id": "5007a243-b81a-4601-8f57-5b14940abbff",
   "metadata": {},
   "source": [
    "## Initialization\n",
    "\n",
    "The following cells set up the notebook and learning environment ready for use.\n",
    "\n",
    "### Set up and connect to the learning environment\n",
    "\n",
    "Run the next cell to set up the Druid Python client's connection to Apache Druid.\n",
    "\n",
    "If successful, the Druid version number will be shown in the output."
   ]
  },
  {
   "cell_type": "code",
   "execution_count": null,
   "id": "c1ec783b-df3f-4168-9be2-cdc6ad3e33c2",
   "metadata": {},
   "outputs": [],
   "source": [
    "import druidapi\n",
    "import os\n",
    "import json\n",
    "import time\n",
    "from datetime import datetime, timedelta\n",
    "\n",
    "# get druid host from param if available\n",
    "if 'DRUID_HOST' not in os.environ.keys():\n",
    "    druid_host=f\"http://localhost:8888\"\n",
    "else:\n",
    "    druid_host=f\"http://{os.environ['DRUID_HOST']}:8888\"\n",
    "\n",
    "# get kafka host from param if available\n",
    "if 'KAFKA_HOST' not in os.environ.keys():\n",
    "   kafka_host=f\"http://localhost:9092\"\n",
    "else:\n",
    "    kafka_host=f\"{os.environ['KAFKA_HOST']}:9092\"\n",
    "\n",
    "print(f\"Opening a connection to {druid_host}.\")\n",
    "\n",
    "#setup Druid API clients\n",
    "druid = druidapi.jupyter_client(druid_host)\n",
    "display_client = druid.display\n",
    "sql_client = druid.sql\n",
    "status_client = druid.status\n",
    "rest_client = druid.rest\n",
    "status_client.version"
   ]
  },
  {
   "cell_type": "markdown",
   "id": "645f0209-436a-47e2-a1f4-be6c43de0eac",
   "metadata": {},
   "source": [
    "## Ingest sample data to pivot\n",
    "\n",
    "The following cell ingests the sample Wikipedia data into table \"example-pivot-unpivot\":"
   ]
  },
  {
   "cell_type": "code",
   "execution_count": null,
   "id": "032ee776-1eb9-46dc-989a-933bd7c7d1da",
   "metadata": {},
   "outputs": [],
   "source": [
    "sql='''\n",
    "REPLACE INTO \"example-pivot-unpivot\" OVERWRITE ALL\n",
    "WITH \"ext\" AS (\n",
    "  SELECT *\n",
    "  FROM TABLE(\n",
    "    EXTERN(\n",
    "      '{\"type\":\"http\",\"uris\":[\"https://druid.apache.org/data/wikipedia.json.gz\"]}',\n",
    "      '{\"type\":\"json\"}'\n",
    "    )\n",
    "  ) EXTEND (\"isRobot\" VARCHAR, \"channel\" VARCHAR, \"timestamp\" VARCHAR, \"flags\" VARCHAR, \"isUnpatrolled\" VARCHAR, \"page\" VARCHAR, \"diffUrl\" VARCHAR, \"added\" BIGINT, \"comment\" VARCHAR, \"commentLength\" BIGINT, \"isNew\" VARCHAR, \"isMinor\" VARCHAR, \"delta\" BIGINT, \"isAnonymous\" VARCHAR, \"user\" VARCHAR, \"deltaBucket\" BIGINT, \"deleted\" BIGINT, \"namespace\" VARCHAR, \"cityName\" VARCHAR, \"countryName\" VARCHAR, \"regionIsoCode\" VARCHAR, \"metroCode\" BIGINT, \"countryIsoCode\" VARCHAR, \"regionName\" VARCHAR)\n",
    ")\n",
    "SELECT\n",
    "  TIME_PARSE(\"timestamp\") AS \"__time\",\n",
    "  \"isRobot\",\n",
    "  \"channel\",\n",
    "  \"flags\",\n",
    "  \"isUnpatrolled\",\n",
    "  \"page\",\n",
    "  \"diffUrl\",\n",
    "  \"added\",\n",
    "  \"comment\",\n",
    "  \"commentLength\",\n",
    "  \"isNew\",\n",
    "  \"isMinor\",\n",
    "  \"delta\",\n",
    "  \"isAnonymous\",\n",
    "  \"user\",\n",
    "  \"deltaBucket\",\n",
    "  \"deleted\",\n",
    "  \"namespace\",\n",
    "  \"cityName\",\n",
    "  \"countryName\",\n",
    "  \"regionIsoCode\",\n",
    "  \"metroCode\",\n",
    "  \"countryIsoCode\",\n",
    "  \"regionName\"\n",
    "FROM \"ext\"\n",
    "PARTITIONED BY DAY\n",
    "'''\n",
    "display_client.run_task(sql)\n",
    "sql_client.wait_until_ready('example-pivot-unpivot')\n",
    "display_client.table('example-pivot-unpivot')"
   ]
  },
  {
   "cell_type": "markdown",
   "id": "841a8fc2-2efa-4327-b35c-e64a8fa380d3",
   "metadata": {},
   "source": [
    "## Robotic updates to wikipedia by channel\n",
    "If you want to determine which channels receive the most robotic changes you could use a regular aggregate query like this one:"
   ]
  },
  {
   "cell_type": "code",
   "execution_count": null,
   "id": "79bac420-4ee7-4f77-abdf-be651e5752ef",
   "metadata": {},
   "outputs": [],
   "source": [
    "sql='''\n",
    "SELECT\n",
    "  \"channel\",\n",
    "  \"isRobot\",\n",
    "  SUM(added) total_added,\n",
    "  SUM(deleted) total_deleted\n",
    "FROM \"example-pivot-unpivot\" \n",
    "GROUP BY 1, 2\n",
    "'''\n",
    "display_client.sql(sql)"
   ]
  },
  {
   "cell_type": "markdown",
   "id": "a8642f39-ad04-45b3-9120-b622a0f7c8a7",
   "metadata": {},
   "source": [
    "## PIVOT example\n",
    "The prior result is a bit long and makes it hard to figure out which channels have the most updates while still seeing the distinction between additions and deletions to the wikipedia pages.\n",
    "One way to reduce the result while still keeping all the detail is to pivot the result such that rows become columns for each value of a particular column, the pivot column.\n",
    "\n",
    "PIVOT is a SQL operator that is used after the FROM clause.\n",
    "\n",
    "```\n",
    "    FROM \"example-pivot-unpivot\" \n",
    "    \n",
    "    PIVOT ( SUM(added) as added, \n",
    "            SUM(deleted) as deleted \n",
    "            \n",
    "            FOR \"isRobot\" IN ('true' as robot, 'false' as human)\n",
    "          )\n",
    "```\n",
    "- It lists a set of aggregations to calculate: `SUM(added) as added, SUM(deleted) as deleted`\n",
    "- The FOR clause indicated the pivot column: `\"isRobot\"`\n",
    "- The IN clause lists the pivot values of the column and what to call them: `IN ('true' as robot, 'false' as human)`\n",
    "\n",
    "The resulting columns from this operation are a combination in the form \\<pivot_value_name\\>__\\<aggregation_name\\>. So in this case the result pivot columns will be:\n",
    "```\n",
    "\"robot_added\"\n",
    "\"human_added\"\n",
    "\"robot_deleted\"\n",
    "\"human_deleted\"\n",
    "```\n",
    "which can now form part of the SELECT clause in the query.\n",
    "\n",
    "\n",
    "The following query uses the results of the pivot to then aggregate totals for the pivot columns by channel. The aggregations being calculated could be NULL in the case where \"isRobot\"='true' (or 'false') does not exist for a given channel. The query calculates a ratio of human to total changes for each channel and the result is sorted on this ratio such that the channels with the highest proportion of robot updates are listed first. So in order to calculate this metric even in presence of NULLs the query uses COALESCE on all the pivoted metrics.\n",
    "\n",
    "The result is much cleaner than the prior query and it is easy to determine which channels have the most robotic activity."
   ]
  },
  {
   "cell_type": "code",
   "execution_count": null,
   "id": "65c489a8-a7f2-4cc0-b30c-f30d8ed32be2",
   "metadata": {},
   "outputs": [],
   "source": [
    "sql='''\n",
    "SELECT \"channel\", \n",
    "        SUM(\"robot_added\")       AS \"added_robot\", \n",
    "        SUM(\"robot_deleted\")     AS \"deleted_robot\", \n",
    "        SUM(\"human_added\")       AS \"added_human\",\n",
    "        SUM(\"human_deleted\")     AS \"deleted_human\", \n",
    "        \n",
    "        SAFE_DIVIDE( SUM(\"human_deleted\" + \"human_added\") * 1.0 , \n",
    "                     SUM( \"robot_deleted\" + \"robot_added\" + \"human_deleted\" + \"human_added\" )\n",
    "                     \n",
    "                    )            AS \"human_ratio\"\n",
    "                    \n",
    "FROM\n",
    "(\n",
    "    SELECT\n",
    "      \"channel\", \n",
    "       COALESCE(\"robot_added\",0) AS \"robot_added\", \n",
    "       COALESCE(\"human_added\",0) AS \"human_added\", \n",
    "       COALESCE(\"robot_deleted\",0) AS \"robot_deleted\", \n",
    "       COALESCE(\"human_deleted\",0) AS \"human_deleted\"\n",
    "    FROM \"example-pivot-unpivot\" \n",
    "    \n",
    "    PIVOT ( SUM(added) as added, \n",
    "            SUM(deleted) as deleted \n",
    "            \n",
    "            FOR \"isRobot\" IN ('true' as robot, 'false' as human)\n",
    "          )\n",
    ")x\n",
    "GROUP BY 1\n",
    "ORDER BY 6\n",
    "'''\n",
    "display_client.sql(sql)"
   ]
  },
  {
   "cell_type": "markdown",
   "id": "3f0af833-9508-4f26-a484-2778ca857a2a",
   "metadata": {},
   "source": [
    "## UNPIVOT example\n",
    "Given the prior query we can now investigate the sources of the updates in the most robotically updated pages.\n",
    "```\n",
    "  UNPIVOT ( \"changes\"  FOR \"action\" IN (\"added\", \"deleted\") )\n",
    "```\n",
    "This example uses UNPIVOT to:\n",
    "- take the values of multiple columns: `\"added\",\"deleted\"`\n",
    "- incorporate them into a single column called the \"values column\": `\"changes\"`\n",
    "- while expanding the result with a \"names column\" containing the names of the pivoted columns: `\"action\"`\n",
    "\n",
    "The columns names become row values.\n",
    "\n",
    "In this example we examine the most active user as measured by total adding or deleting of text in the wikipedia pages in the channel `'#it.wikipedia'` which had a ratio of about 0.50 (half robots):"
   ]
  },
  {
   "cell_type": "code",
   "execution_count": null,
   "id": "f0159df8-6ca0-45af-9c68-6acd92defc4f",
   "metadata": {},
   "outputs": [],
   "source": [
    "sql='''\n",
    "SELECT \"user\",\n",
    "       \"action\",\n",
    "       SUM(\"changes\") \"total_changes\"\n",
    "FROM \"example-pivot-unpivot\"\n",
    "\n",
    "UNPIVOT ( \"changes\"  FOR \"action\" IN (\"added\", \"deleted\") )\n",
    "\n",
    "WHERE \"channel\"='#it.wikipedia' AND \"isRobot\"='true'\n",
    "GROUP BY 1,2\n",
    "ORDER BY 3 DESC \n",
    "'''\n",
    "display_client.sql(sql)"
   ]
  },
  {
   "cell_type": "markdown",
   "id": "44738d6d-cec2-40ad-aaba-998c758c63f4",
   "metadata": {},
   "source": [
    "## Clean up\n",
    "\n",
    "Run the following cell to remove everything used in this notebook from the database and data generation engine."
   ]
  },
  {
   "cell_type": "code",
   "execution_count": null,
   "id": "8082b545-ba7f-4ede-bb6e-2a6dd62ba0d8",
   "metadata": {},
   "outputs": [],
   "source": [
    "druid.datasources.drop(\"example-pivot-unpivot\")\n"
   ]
  },
  {
   "cell_type": "markdown",
   "id": "54b8d5fe-ba85-4b5b-9669-0dd47dfbccd1",
   "metadata": {},
   "source": [
    "## Summary\n",
    "\n",
    "You learned about how to use the new experimental functions PIVOT and UNPIVOT."
   ]
  }
 ],
 "metadata": {
  "execution": {
   "allow_errors": true,
   "timeout": 300
  },
  "kernelspec": {
   "display_name": "Python 3 (ipykernel)",
   "language": "python",
   "name": "python3"
  },
  "language_info": {
   "codemirror_mode": {
    "name": "ipython",
    "version": 3
   },
   "file_extension": ".py",
   "mimetype": "text/x-python",
   "name": "python",
   "nbconvert_exporter": "python",
   "pygments_lexer": "ipython3",
   "version": "3.11.6"
  }
 },
 "nbformat": 4,
 "nbformat_minor": 5
}
