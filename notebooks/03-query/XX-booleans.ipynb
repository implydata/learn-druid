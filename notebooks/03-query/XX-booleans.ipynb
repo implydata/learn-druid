{
 "cells": [
  {
   "cell_type": "markdown",
   "id": "0cb3b009-ebde-4d56-9d59-a028d66d8309",
   "metadata": {},
   "source": [
    "# Handling NULL values using functions and operators\n",
    "<!--\n",
    "  ~ Licensed to the Apache Software Foundation (ASF) under one\n",
    "  ~ or more contributor license agreements.  See the NOTICE file\n",
    "  ~ distributed with this work for additional information\n",
    "  ~ regarding copyright ownership.  The ASF licenses this file\n",
    "  ~ to you under the Apache License, Version 2.0 (the\n",
    "  ~ \"License\"); you may not use this file except in compliance\n",
    "  ~ with the License.  You may obtain a copy of the License at\n",
    "  ~\n",
    "  ~   http://www.apache.org/licenses/LICENSE-2.0\n",
    "  ~\n",
    "  ~ Unless required by applicable law or agreed to in writing,\n",
    "  ~ software distributed under the License is distributed on an\n",
    "  ~ \"AS IS\" BASIS, WITHOUT WARRANTIES OR CONDITIONS OF ANY\n",
    "  ~ KIND, either express or implied.  See the License for the\n",
    "  ~ specific language governing permissions and limitations\n",
    "  ~ under the License.\n",
    "  -->\n",
    "\n",
    "In this notebook, you will see examples of various functions and operators used with NULL values."
   ]
  },
  {
   "cell_type": "markdown",
   "id": "bbdbf6ad-ca7b-40f5-8ca3-1070f4a3ee42",
   "metadata": {},
   "source": [
    "## Prerequisites\n",
    "\n",
    "This tutorial works with Druid 28.0.0 or later.\n",
    "\n",
    "> __Using versions of Apache Druid prior to this may yield unexpected results.__\n",
    "> \n",
    "> There are two modes for [NULL-handling](https://druid.apache.org/docs/latest/querying/sql-data-types#null-values) in Apache Druid, with the default in Druid 28 and above to use SQL-compatible NULL handling. Define what mode to use by setting the `druid.generic.useDefaultValueForNull` runtime property. Read more in the [handling null values](https://druid.apache.org/docs/latest/design/segments/#handling-null-values) documentation.\n",
    ">\n",
    "> Apache Druid can use SQL-compatible mode for boolean operators. Read more about how to turn [strict boolean behaviour](https://druid.apache.org/docs/latest/misc/math-expr/#logical-operator-modes) on or off in coniguration through `druid.expressions.useStrictBooleans`.\n",
    "\n",
    "#### Run with Docker\n",
    "\n",
    "Launch this tutorial and all prerequisites using the `druid-jupyter` profile of the Docker Compose file for Jupyter-based Druid tutorials. For more information, see the Learn Druid repository [readme](https://github.com/implydata/learn-druid)."
   ]
  },
  {
   "cell_type": "markdown",
   "id": "5007a243-b81a-4601-8f57-5b14940abbff",
   "metadata": {},
   "source": [
    "## Initialization\n",
    "\n",
    "The following cells set up the notebook and learning environment ready for use.\n",
    "\n",
    "### Set up and connect to the learning environment\n",
    "\n",
    "Run the next cell to set up the Druid Python client's connection to Apache Druid.\n",
    "\n",
    "If successful, the Druid version number will be shown in the output."
   ]
  },
  {
   "cell_type": "code",
   "execution_count": 83,
   "id": "c1ec783b-df3f-4168-9be2-cdc6ad3e33c2",
   "metadata": {},
   "outputs": [
    {
     "name": "stdout",
     "output_type": "stream",
     "text": [
      "Opening a connection to http://router:8888.\n"
     ]
    },
    {
     "data": {
      "text/plain": [
       "'28.0.0-SNAPSHOT'"
      ]
     },
     "execution_count": 83,
     "metadata": {},
     "output_type": "execute_result"
    }
   ],
   "source": [
    "import druidapi\n",
    "import os\n",
    "\n",
    "if 'DRUID_HOST' not in os.environ.keys():\n",
    "    druid_host=f\"http://localhost:8888\"\n",
    "else:\n",
    "    druid_host=f\"http://{os.environ['DRUID_HOST']}:8888\"\n",
    "    \n",
    "print(f\"Opening a connection to {druid_host}.\")\n",
    "druid = druidapi.jupyter_client(druid_host)\n",
    "\n",
    "display = druid.display\n",
    "sql_client = druid.sql\n",
    "status_client = druid.status\n",
    "status_client.version"
   ]
  },
  {
   "cell_type": "markdown",
   "id": "c26404d1-31b9-4392-94f0-b074030216fd",
   "metadata": {},
   "source": [
    "## Testing for NULL"
   ]
  },
  {
   "cell_type": "markdown",
   "id": "39276a3d-a975-4d60-8856-c5447044837e",
   "metadata": {},
   "source": [
    "Run the following ingestion to create a table called `example-koalas-null-1`.\n",
    "\n",
    "You will use this later to see examples of IS NULL and IS NOT NULL.\n",
    "\n",
    "Notice, too, that there are CASE statements which purposefully inject true NULL into the table under certain conditions:\n",
    "* `referrer-null` contains a NULL whenever `referrer` has a value of \"Direct\" - else the original value from `referrer` is stored.\n",
    "* A new column called `percentClear` is created, correcting for missing values in the source data, and outputing NULL in other situations."
   ]
  },
  {
   "cell_type": "code",
   "execution_count": 84,
   "id": "7f5793b6-6ece-42f2-8816-51ca02063074",
   "metadata": {},
   "outputs": [
    {
     "name": "stderr",
     "output_type": "stream",
     "text": [
      "Loading data, status:[SUCCESS]: 100%|██████████| 100.0/100.0 [00:12<00:00,  8.20it/s]\n"
     ]
    },
    {
     "data": {
      "text/html": [
       "<div class=\"druid\"><table>\n",
       "<tr><th>Position</th><th>Name</th><th>Type</th></tr>\n",
       "<tr><td>1</td><td>__time</td><td>TIMESTAMP</td></tr>\n",
       "<tr><td>2</td><td>referrer</td><td>VARCHAR</td></tr>\n",
       "<tr><td>3</td><td>referrer-null</td><td>VARCHAR</td></tr>\n",
       "<tr><td>4</td><td>event_type</td><td>VARCHAR</td></tr>\n",
       "<tr><td>5</td><td>event_subtype</td><td>VARCHAR</td></tr>\n",
       "<tr><td>6</td><td>percentClear</td><td>VARCHAR</td></tr>\n",
       "</table></div>"
      ],
      "text/plain": [
       "<IPython.core.display.HTML object>"
      ]
     },
     "metadata": {},
     "output_type": "display_data"
    }
   ],
   "source": [
    "sql='''\n",
    "REPLACE INTO \"example-koalas-null-1\" OVERWRITE ALL\n",
    "WITH \"ext\" AS (SELECT *\n",
    "FROM TABLE(\n",
    "  EXTERN(\n",
    "    '{\"type\":\"http\",\"uris\":[\"https://static.imply.io/example-data/kttm-v2/kttm-v2-2019-08-25.json.gz\"]}',\n",
    "    '{\"type\":\"json\"}'\n",
    "  )\n",
    ") EXTEND (\"timestamp\" VARCHAR, \"agent_category\" VARCHAR, \"agent_type\" VARCHAR, \"browser\" VARCHAR, \"browser_version\" VARCHAR, \"city\" VARCHAR, \"continent\" VARCHAR, \"country\" VARCHAR, \"version\" VARCHAR, \"event_type\" VARCHAR, \"event_subtype\" VARCHAR, \"loaded_image\" VARCHAR, \"adblock_list\" VARCHAR, \"forwarded_for\" VARCHAR, \"language\" VARCHAR, \"number\" VARCHAR, \"os\" VARCHAR, \"path\" VARCHAR, \"platform\" VARCHAR, \"referrer\" VARCHAR, \"referrer_host\" VARCHAR, \"region\" VARCHAR, \"remote_address\" VARCHAR, \"screen\" VARCHAR, \"session\" VARCHAR, \"session_length\" BIGINT, \"timezone\" VARCHAR, \"timezone_offset\" VARCHAR, \"window\" VARCHAR))\n",
    "SELECT\n",
    "  TIME_PARSE(\"timestamp\") AS \"__time\",\n",
    "  \"referrer\",\n",
    "  CASE WHEN \"referrer\" = 'Direct' THEN NULL\n",
    "    ELSE \"referrer\" END AS \"referrer-null\",\n",
    "  \"event_type\",\n",
    "  \"event_subtype\",\n",
    "  CASE WHEN (\"event_type\" = 'PercentClear') THEN\n",
    "      (CASE WHEN (\"event_subtype\" = '') THEN 0 ELSE \"event_subtype\" END)\n",
    "      ELSE NULL END AS \"percentClear\"\n",
    "FROM \"ext\"\n",
    "PARTITIONED BY DAY\n",
    "'''\n",
    "\n",
    "display.run_task(sql)\n",
    "sql_client.wait_until_ready('example-koalas-null-1')\n",
    "display.table('example-koalas-null-1')"
   ]
  },
  {
   "cell_type": "markdown",
   "id": "15bb3b84-8e1c-48c9-be4e-19f83ba8b9f6",
   "metadata": {},
   "source": [
    "Let us imagine that the developer of the KoalsToTheMax website had to work around a lack of \"NULL\" support in the data format being ingested by putting the word \"Direct\" into the `referrer` column whenever the `referrer` could not be identified.\n",
    "\n",
    "Knowing this, you might either correct the data in place or – as is done here – create a new dimension - that stores them as true NULL values.\n",
    "\n",
    "Review the CASE statement that produces the `referrer-null` column - anything recorded as \"Direct\" in `referrer` is stored as a true NULL in this new column.\n",
    "\n",
    "Run the following cell which allows us to check the output of the CASE function. You will see a count of records in `referrer` with the value `Direct` and the equivallent count in the `referrer-null` column, using the FILTER (WHERE...) clause of the COUNT function."
   ]
  },
  {
   "cell_type": "code",
   "execution_count": 85,
   "id": "6a18fd98-c7c5-42b2-8089-425b6dd8ca89",
   "metadata": {},
   "outputs": [
    {
     "data": {
      "text/html": [
       "<div class=\"druid\"><table>\n",
       "<tr><th>referrer</th><th>referrer-null</th></tr>\n",
       "<tr><td>192328</td><td>192328</td></tr>\n",
       "</table></div>"
      ],
      "text/plain": [
       "<IPython.core.display.HTML object>"
      ]
     },
     "metadata": {},
     "output_type": "display_data"
    }
   ],
   "source": [
    "sql='''\n",
    "SELECT\n",
    "  COUNT(*) FILTER (WHERE \"referrer\" = 'Direct') AS \"referrer\",\n",
    "  COUNT(*) FILTER (WHERE \"referrer-null\" IS NULL) AS \"referrer-null\"\n",
    "FROM \"example-koalas-null-1\"\n",
    "'''\n",
    "\n",
    "display.sql(sql)"
   ]
  },
  {
   "cell_type": "markdown",
   "id": "1b6c9b88-837d-4c80-a28d-36184ba63355",
   "metadata": {},
   "source": [
    "In the source data, `PercentClear`-type events are recorded as people interact with an image on the [KoalasToTheMax](https://www.koalastothemax.com) website.\n",
    "\n",
    "As a user uncovers more of an image, events are recorded with an increasing percentage clear recorded in `event_subtype`. There is never a \"zero percent\" event recorded in the source - rather the data in `event_subtype` is left empty.\n",
    "\n",
    "The CASE statement creates a new column, `percentClear`.\n",
    "* It ensures the column only holds information about percentage of an image cleared (from `event_subtype`) and nothing else (storing NULL).\n",
    "* It handles the missing \"zero percent\" and records a true zero.\n",
    "\n",
    "Having no value in some row in source data, such as in this example data, is very often not the same as NULL. Therefore, the CASE statement tests for an empty string, rather than using the IS NULL test.\n",
    "\n",
    "Run the following cell to see how this shows up in the data."
   ]
  },
  {
   "cell_type": "code",
   "execution_count": 86,
   "id": "96303995-0948-487f-9e2d-a7b40dbf5bad",
   "metadata": {},
   "outputs": [
    {
     "data": {
      "text/html": [
       "<div class=\"druid\"><table>\n",
       "<tr><th>Percentage Cleared</th><th>events</th></tr>\n",
       "<tr><td>0%</td><td>32499</td></tr>\n",
       "<tr><td>5%</td><td>23599</td></tr>\n",
       "<tr><td>10%</td><td>21978</td></tr>\n",
       "<tr><td>15%</td><td>20769</td></tr>\n",
       "<tr><td>20%</td><td>19675</td></tr>\n",
       "<tr><td>25%</td><td>18576</td></tr>\n",
       "<tr><td>30%</td><td>17532</td></tr>\n",
       "<tr><td>35%</td><td>16519</td></tr>\n",
       "<tr><td>40%</td><td>15496</td></tr>\n",
       "<tr><td>45%</td><td>14480</td></tr>\n",
       "<tr><td>50%</td><td>13499</td></tr>\n",
       "<tr><td>55%</td><td>12526</td></tr>\n",
       "<tr><td>60%</td><td>11623</td></tr>\n",
       "<tr><td>65%</td><td>10695</td></tr>\n",
       "<tr><td>70%</td><td>9813</td></tr>\n",
       "<tr><td>75%</td><td>8959</td></tr>\n",
       "<tr><td>80%</td><td>8150</td></tr>\n",
       "<tr><td>85%</td><td>7357</td></tr>\n",
       "<tr><td>90%</td><td>6523</td></tr>\n",
       "<tr><td>95%</td><td>5666</td></tr>\n",
       "</table></div>"
      ],
      "text/plain": [
       "<IPython.core.display.HTML object>"
      ]
     },
     "metadata": {},
     "output_type": "display_data"
    }
   ],
   "source": [
    "sql='''\n",
    "SELECT\n",
    "  CONCAT(\"percentClear\",'%') AS \"Percentage Cleared\",\n",
    "  COUNT(*) AS \"events\"\n",
    "FROM \"example-koalas-null-1\"\n",
    "WHERE \"percentClear\" IS NOT NULL\n",
    "GROUP BY \"percentClear\"\n",
    "ORDER BY CAST(\"percentClear\" AS DOUBLE)\n",
    "'''\n",
    "\n",
    "display.sql(sql)"
   ]
  },
  {
   "cell_type": "markdown",
   "id": "0efef0b4-0555-4165-9910-50bb3230d9ac",
   "metadata": {},
   "source": [
    "Notice the IS NOT NULL test is applied to `percentClear`. Because of the CASE statement, we can be sure that only rows relating to \"PercentClear\" events are included in the calculation."
   ]
  },
  {
   "cell_type": "markdown",
   "id": "af9ba1be-d25c-4b29-80e4-a10e50338039",
   "metadata": {},
   "source": [
    "Use NVL or COALESCE to return another value when an expression IS NULL.\n",
    "\n",
    "Run the following ingestion to create a new table, `example-koalas-null-2`, that expands on the first table.\n",
    "\n",
    "* A CASE statement corrects values of \"N/A\" to NULL in `timezone`.\n",
    "* A new field `session_length-EDTonly` is added that only contains values for EDT timezone events.\n",
    "* As above but for PDT timezone events.\n",
    "* `session_length-others` that contains the session length for anything other than EDT or PDT."
   ]
  },
  {
   "cell_type": "code",
   "execution_count": 131,
   "id": "5b755216-dd1d-469f-b3e0-93dfe351ed8b",
   "metadata": {},
   "outputs": [
    {
     "name": "stderr",
     "output_type": "stream",
     "text": [
      "Loading data, status:[SUCCESS]: 100%|██████████| 100.0/100.0 [00:18<00:00,  5.46it/s]            \n"
     ]
    },
    {
     "data": {
      "text/html": [
       "<div class=\"druid\"><table>\n",
       "<tr><th>Position</th><th>Name</th><th>Type</th></tr>\n",
       "<tr><td>1</td><td>__time</td><td>TIMESTAMP</td></tr>\n",
       "<tr><td>2</td><td>referrer</td><td>VARCHAR</td></tr>\n",
       "<tr><td>3</td><td>referrer-null</td><td>VARCHAR</td></tr>\n",
       "<tr><td>4</td><td>loaded_image</td><td>VARCHAR</td></tr>\n",
       "<tr><td>5</td><td>event_type</td><td>VARCHAR</td></tr>\n",
       "<tr><td>6</td><td>event_subtype</td><td>VARCHAR</td></tr>\n",
       "<tr><td>7</td><td>percentClear</td><td>VARCHAR</td></tr>\n",
       "<tr><td>8</td><td>session</td><td>VARCHAR</td></tr>\n",
       "<tr><td>9</td><td>session_length</td><td>BIGINT</td></tr>\n",
       "<tr><td>10</td><td>session_length-EDTonly</td><td>BIGINT</td></tr>\n",
       "<tr><td>11</td><td>session_length-PDTonly</td><td>BIGINT</td></tr>\n",
       "<tr><td>12</td><td>session_length-others</td><td>BIGINT</td></tr>\n",
       "<tr><td>13</td><td>platform</td><td>VARCHAR</td></tr>\n",
       "<tr><td>14</td><td>agent_category</td><td>VARCHAR</td></tr>\n",
       "<tr><td>15</td><td>continent</td><td>VARCHAR</td></tr>\n",
       "<tr><td>16</td><td>language</td><td>VARCHAR</td></tr>\n",
       "<tr><td>17</td><td>timezone</td><td>VARCHAR</td></tr>\n",
       "</table></div>"
      ],
      "text/plain": [
       "<IPython.core.display.HTML object>"
      ]
     },
     "metadata": {},
     "output_type": "display_data"
    }
   ],
   "source": [
    "sql='''\n",
    "REPLACE INTO \"example-koalas-null-2\" OVERWRITE ALL\n",
    "WITH \"ext\" AS (SELECT *\n",
    "FROM TABLE(\n",
    "  EXTERN(\n",
    "    '{\"type\":\"http\",\"uris\":[\"https://static.imply.io/example-data/kttm-v2/kttm-v2-2019-08-25.json.gz\"]}',\n",
    "    '{\"type\":\"json\"}'\n",
    "  )\n",
    ") EXTEND (\"timestamp\" VARCHAR, \"agent_category\" VARCHAR, \"agent_type\" VARCHAR, \"browser\" VARCHAR, \"browser_version\" VARCHAR, \"city\" VARCHAR, \"continent\" VARCHAR, \"country\" VARCHAR, \"version\" VARCHAR, \"event_type\" VARCHAR, \"event_subtype\" VARCHAR, \"loaded_image\" VARCHAR, \"adblock_list\" VARCHAR, \"forwarded_for\" VARCHAR, \"language\" VARCHAR, \"number\" VARCHAR, \"os\" VARCHAR, \"path\" VARCHAR, \"platform\" VARCHAR, \"referrer\" VARCHAR, \"referrer_host\" VARCHAR, \"region\" VARCHAR, \"remote_address\" VARCHAR, \"screen\" VARCHAR, \"session\" VARCHAR, \"session_length\" BIGINT, \"timezone\" VARCHAR, \"timezone_offset\" VARCHAR, \"window\" VARCHAR))\n",
    "SELECT\n",
    "  TIME_PARSE(\"timestamp\") AS \"__time\",\n",
    "  \"referrer\",\n",
    "  CASE WHEN \"referrer\" = 'Direct' THEN NULL\n",
    "    ELSE \"referrer\" END AS \"referrer-null\",\n",
    "  \"loaded_image\",\n",
    "  \"event_type\",\n",
    "  \"event_subtype\",\n",
    "  CASE WHEN (\"event_type\" = 'PercentClear') THEN\n",
    "      (CASE WHEN (\"event_subtype\" = '') THEN 0 ELSE \"event_subtype\" END)\n",
    "      ELSE NULL END AS \"percentClear\",\n",
    "  \"session\",\n",
    "  \"session_length\",\n",
    "  CASE WHEN (\"timezone\" = 'EDT') THEN \"session_length\" ELSE NULL END AS \"session_length-EDTonly\",\n",
    "  CASE WHEN (\"timezone\" = 'PDT') THEN \"session_length\" ELSE NULL END AS \"session_length-PDTonly\",\n",
    "  CASE WHEN (\"timezone\" <> 'EDT' AND \"timezone\" <> 'PDT') THEN \"session_length\" ELSE NULL END AS \"session_length-others\",\n",
    "  \"platform\",\n",
    "  \"agent_category\",\n",
    "  \"continent\",\n",
    "  \"language\",\n",
    "  CASE WHEN \"timezone\" = 'N/A' THEN NULL\n",
    "    ELSE \"timezone\"\n",
    "    END AS \"timezone\"\n",
    "FROM \"ext\"\n",
    "PARTITIONED BY DAY\n",
    "'''\n",
    "\n",
    "display.run_task(sql)\n",
    "sql_client.wait_until_ready('example-koalas-null-2')\n",
    "display.table('example-koalas-null-2')"
   ]
  },
  {
   "cell_type": "markdown",
   "id": "bcf4fc28-9541-44e5-9784-f90db958c436",
   "metadata": {},
   "source": [
    "Run the following cell to see NVL being used, together with a simple of COALESCE example.\n",
    "\n",
    "If the `timezone` is NULL, the value \"UTC\" is returned instead."
   ]
  },
  {
   "cell_type": "code",
   "execution_count": 132,
   "id": "6b837d39-8a17-45fc-b7cb-9639ea1b7573",
   "metadata": {},
   "outputs": [
    {
     "data": {
      "text/html": [
       "<div class=\"druid\"><table>\n",
       "<tr><th>timezone</th><th>timezone-coalesce</th><th>timezone-nvl</th><th>session_length</th></tr>\n",
       "<tr><td>PDT</td><td>PDT</td><td>PDT</td><td>144642</td></tr>\n",
       "<tr><td></td><td>UTC</td><td>UTC</td><td>53529</td></tr>\n",
       "<tr><td>CEST</td><td>CEST</td><td>CEST</td><td>49</td></tr>\n",
       "<tr><td></td><td>UTC</td><td>UTC</td><td>39488</td></tr>\n",
       "<tr><td></td><td>UTC</td><td>UTC</td><td>57443</td></tr>\n",
       "<tr><td></td><td>UTC</td><td>UTC</td><td>1070453</td></tr>\n",
       "<tr><td></td><td>UTC</td><td>UTC</td><td>2487</td></tr>\n",
       "<tr><td>CEST</td><td>CEST</td><td>CEST</td><td>2302</td></tr>\n",
       "<tr><td></td><td>UTC</td><td>UTC</td><td>17963</td></tr>\n",
       "<tr><td></td><td>UTC</td><td>UTC</td><td>60384</td></tr>\n",
       "<tr><td>CEST</td><td>CEST</td><td>CEST</td><td>2307</td></tr>\n",
       "<tr><td></td><td>UTC</td><td>UTC</td><td>43</td></tr>\n",
       "<tr><td>EDT</td><td>EDT</td><td>EDT</td><td>131536</td></tr>\n",
       "<tr><td></td><td>UTC</td><td>UTC</td><td>41667</td></tr>\n",
       "<tr><td></td><td>UTC</td><td>UTC</td><td>91404</td></tr>\n",
       "<tr><td></td><td>UTC</td><td>UTC</td><td>120415</td></tr>\n",
       "</table></div>"
      ],
      "text/plain": [
       "<IPython.core.display.HTML object>"
      ]
     },
     "metadata": {},
     "output_type": "display_data"
    }
   ],
   "source": [
    "sql='''\n",
    "SELECT\n",
    "  \"timezone\",\n",
    "  COALESCE(\"timezone\",'UTC') AS \"timezone-coalesce\",\n",
    "  NVL(\"timezone\",'UTC') AS \"timezone-nvl\",\n",
    "  \"session_length\"\n",
    "FROM \"example-koalas-null-2\"\n",
    "WHERE TIME_IN_INTERVAL(\"__time\",'2019-08-25T00:00:10/PT5S')\n",
    "'''\n",
    "\n",
    "display.sql(sql)"
   ]
  },
  {
   "cell_type": "markdown",
   "id": "fbd0f498-f302-423e-a73f-10be4af756fb",
   "metadata": {},
   "source": [
    "In the following example, COALESCE addresses all three of the timezone-specific session lengths, returning whichever value in the list contains a value first."
   ]
  },
  {
   "cell_type": "code",
   "execution_count": 134,
   "id": "dee99bd0-b348-433b-b993-6b1fb03ec656",
   "metadata": {},
   "outputs": [
    {
     "data": {
      "text/html": [
       "<div class=\"druid\"><table>\n",
       "<tr><th>timezone-coalesce</th><th>timezone-nvl</th><th>session_length</th><th>session_length-EDTonly</th><th>session_length-PDTonly</th><th>session_length-others</th><th>sessionLength-coalesce</th></tr>\n",
       "<tr><td>PDT</td><td>PDT</td><td>144642</td><td></td><td>144642</td><td></td><td>144642</td></tr>\n",
       "<tr><td>UTC</td><td>UTC</td><td>53529</td><td></td><td></td><td>53529</td><td>53529</td></tr>\n",
       "<tr><td>CEST</td><td>CEST</td><td>49</td><td></td><td></td><td>49</td><td>49</td></tr>\n",
       "<tr><td>UTC</td><td>UTC</td><td>39488</td><td></td><td></td><td>39488</td><td>39488</td></tr>\n",
       "<tr><td>UTC</td><td>UTC</td><td>57443</td><td></td><td></td><td>57443</td><td>57443</td></tr>\n",
       "<tr><td>UTC</td><td>UTC</td><td>1070453</td><td></td><td></td><td>1070453</td><td>1070453</td></tr>\n",
       "<tr><td>UTC</td><td>UTC</td><td>2487</td><td></td><td></td><td>2487</td><td>2487</td></tr>\n",
       "<tr><td>CEST</td><td>CEST</td><td>2302</td><td></td><td></td><td>2302</td><td>2302</td></tr>\n",
       "<tr><td>UTC</td><td>UTC</td><td>17963</td><td></td><td></td><td>17963</td><td>17963</td></tr>\n",
       "<tr><td>UTC</td><td>UTC</td><td>60384</td><td></td><td></td><td>60384</td><td>60384</td></tr>\n",
       "<tr><td>CEST</td><td>CEST</td><td>2307</td><td></td><td></td><td>2307</td><td>2307</td></tr>\n",
       "<tr><td>UTC</td><td>UTC</td><td>43</td><td></td><td></td><td>43</td><td>43</td></tr>\n",
       "<tr><td>EDT</td><td>EDT</td><td>131536</td><td>131536</td><td></td><td></td><td>131536</td></tr>\n",
       "<tr><td>UTC</td><td>UTC</td><td>41667</td><td></td><td></td><td>41667</td><td>41667</td></tr>\n",
       "<tr><td>UTC</td><td>UTC</td><td>91404</td><td></td><td></td><td>91404</td><td>91404</td></tr>\n",
       "<tr><td>UTC</td><td>UTC</td><td>120415</td><td></td><td></td><td>120415</td><td>120415</td></tr>\n",
       "</table></div>"
      ],
      "text/plain": [
       "<IPython.core.display.HTML object>"
      ]
     },
     "metadata": {},
     "output_type": "display_data"
    }
   ],
   "source": [
    "sql='''\n",
    "SELECT\n",
    "  COALESCE(\"timezone\",'UTC') AS \"timezone-coalesce\",\n",
    "  NVL(\"timezone\",'UTC') AS \"timezone-nvl\",\n",
    "  \"session_length\",\n",
    "  \"session_length-EDTonly\",\n",
    "  \"session_length-PDTonly\",\n",
    "  \"session_length-others\",\n",
    "  COALESCE(\"session_length-EDTonly\",\"session_length-PDTonly\",\"session_length-others\") AS \"sessionLength-coalesce\"\n",
    "FROM \"example-koalas-null-2\"\n",
    "WHERE TIME_IN_INTERVAL(\"__time\",'2019-08-25T00:00:10/PT5S')\n",
    "'''\n",
    "\n",
    "display.sql(sql)"
   ]
  },
  {
   "cell_type": "markdown",
   "id": "009de2f3-20ea-468e-a975-bc046fa213d3",
   "metadata": {},
   "source": [
    "## Aggregations and NULL"
   ]
  },
  {
   "cell_type": "markdown",
   "id": "caa6e060-ae5b-41d8-9bd1-507fe47cf408",
   "metadata": {},
   "source": [
    "In this section you will see an examples of how aggregation functions like COUNT handle data that contains NULL values.\n",
    "\n",
    "Run this cell to see the source data that will be used:"
   ]
  },
  {
   "cell_type": "code",
   "execution_count": 135,
   "id": "92441394-9fe6-4b96-adf8-881aec3df639",
   "metadata": {},
   "outputs": [
    {
     "data": {
      "text/html": [
       "<div class=\"druid\"><table>\n",
       "<tr><th>event_type</th><th>percentClear</th><th>session_length</th><th>timezone</th></tr>\n",
       "<tr><td>PercentClear</td><td>35</td><td>144642</td><td>PDT</td></tr>\n",
       "<tr><td>PercentClear</td><td>5</td><td>53529</td><td></td></tr>\n",
       "<tr><td>GoodLoad</td><td></td><td>49</td><td>CEST</td></tr>\n",
       "<tr><td>PercentClear</td><td>30</td><td>39488</td><td></td></tr>\n",
       "<tr><td>PercentClear</td><td>5</td><td>57443</td><td></td></tr>\n",
       "<tr><td>LayerClear</td><td></td><td>1070453</td><td></td></tr>\n",
       "<tr><td>GoodLoad</td><td></td><td>2487</td><td></td></tr>\n",
       "<tr><td>LayerClear</td><td></td><td>2302</td><td>CEST</td></tr>\n",
       "<tr><td>PercentClear</td><td>15</td><td>17963</td><td></td></tr>\n",
       "<tr><td>PercentClear</td><td>55</td><td>60384</td><td></td></tr>\n",
       "<tr><td>PercentClear</td><td>0</td><td>2307</td><td>CEST</td></tr>\n",
       "<tr><td>GoodLoad</td><td></td><td>43</td><td></td></tr>\n",
       "<tr><td>PercentClear</td><td>60</td><td>131536</td><td>EDT</td></tr>\n",
       "<tr><td>PercentClear</td><td>35</td><td>41667</td><td></td></tr>\n",
       "<tr><td>PercentClear</td><td>55</td><td>91404</td><td></td></tr>\n",
       "<tr><td>PercentClear</td><td>70</td><td>120415</td><td></td></tr>\n",
       "</table></div>"
      ],
      "text/plain": [
       "<IPython.core.display.HTML object>"
      ]
     },
     "metadata": {},
     "output_type": "display_data"
    }
   ],
   "source": [
    "sql='''\n",
    "SELECT\n",
    "  \"event_type\",\n",
    "  \"percentClear\",\n",
    "  \"session_length\",\n",
    "  \"timezone\"\n",
    "FROM \"example-koalas-null-2\"\n",
    "WHERE TIME_IN_INTERVAL(\"__time\",'2019-08-25T00:00:10/PT5S')\n",
    "'''\n",
    "\n",
    "display.sql(sql)"
   ]
  },
  {
   "cell_type": "markdown",
   "id": "a5a65ee8-8442-403e-852c-cd718ae5c719",
   "metadata": {},
   "source": [
    "Run the following cell to see how COUNT works with NULL data.\n",
    "\n",
    "* A total number of all the rows is output as `totalRows`.\n",
    "* A count of all rows with a NULL `timezone` is made and output as `null-timezone-rows`.\n",
    "* A count is made of the number of rows where `timezone` contains a non-value, output as `nonNull-timezone-rows`.\n",
    "* The NULL and non-NULL row counts are added together, showing they total `totalRows`."
   ]
  },
  {
   "cell_type": "code",
   "execution_count": 136,
   "id": "859ba529-446c-43b2-9c7f-5fedc2f00216",
   "metadata": {},
   "outputs": [
    {
     "data": {
      "text/html": [
       "<div class=\"druid\"><table>\n",
       "<tr><th>totalRows</th><th>null-timezone-rows</th><th>nonNull-timezone-rows</th><th>totalRows-2</th></tr>\n",
       "<tr><td>16</td><td>11</td><td>5</td><td>16</td></tr>\n",
       "</table></div>"
      ],
      "text/plain": [
       "<IPython.core.display.HTML object>"
      ]
     },
     "metadata": {},
     "output_type": "display_data"
    }
   ],
   "source": [
    "sql='''\n",
    "SELECT\n",
    "  COUNT(*) AS \"totalRows\",\n",
    "  COUNT(*) FILTER (WHERE \"timezone\" IS NULL) AS \"null-timezone-rows\",\n",
    "  COUNT(*) FILTER (WHERE \"timezone\" IS NOT NULL) AS \"nonNull-timezone-rows\",\n",
    "  COUNT(*) FILTER (WHERE \"timezone\" IS NULL) + COUNT(*) FILTER (WHERE \"timezone\" IS NOT NULL) AS \"totalRows-2\"\n",
    "FROM \"example-koalas-null-2\"\n",
    "WHERE TIME_IN_INTERVAL(\"__time\",'2019-08-25T00:00:10/PT5S')\n",
    "'''\n",
    "\n",
    "display.sql(sql)"
   ]
  },
  {
   "cell_type": "markdown",
   "id": "bf8eae1e-44a5-4b82-bea5-b964d96ec979",
   "metadata": {},
   "source": [
    "Rather than filtering where `timezone` IS NOT NULL, another form of COUNT can be used to count rows that contain data by specifying the `timezone` dimension instead of a \"*\"."
   ]
  },
  {
   "cell_type": "code",
   "execution_count": 137,
   "id": "04a68f77-3885-4787-8955-72d49c7f8ae7",
   "metadata": {},
   "outputs": [
    {
     "data": {
      "text/html": [
       "<div class=\"druid\"><table>\n",
       "<tr><th>totalRows</th><th>null-timezone-rows</th><th>nonNull-timezone-rows</th><th>nonNull-timezone-rows-2</th><th>totalRows-2</th></tr>\n",
       "<tr><td>16</td><td>11</td><td>5</td><td>5</td><td>16</td></tr>\n",
       "</table></div>"
      ],
      "text/plain": [
       "<IPython.core.display.HTML object>"
      ]
     },
     "metadata": {},
     "output_type": "display_data"
    }
   ],
   "source": [
    "sql='''\n",
    "SELECT\n",
    "  COUNT(*) AS \"totalRows\",\n",
    "  COUNT(*) FILTER (WHERE \"timezone\" IS NULL) AS \"null-timezone-rows\",\n",
    "  COUNT(*) FILTER (WHERE \"timezone\" IS NOT NULL) AS \"nonNull-timezone-rows\",\n",
    "  COUNT(\"timezone\") AS \"nonNull-timezone-rows-2\",\n",
    "  COUNT(*) FILTER (WHERE \"timezone\" IS NULL) + COUNT(\"timezone\") AS \"totalRows-2\"\n",
    "FROM \"example-koalas-null-2\"\n",
    "WHERE TIME_IN_INTERVAL(\"__time\",'2019-08-25T00:00:10/PT5S')\n",
    "'''\n",
    "\n",
    "display.sql(sql)"
   ]
  },
  {
   "cell_type": "markdown",
   "id": "e3d0178b-f556-488a-9618-3245e7434e64",
   "metadata": {},
   "source": [
    "The next cell counts the number of distinct timezones."
   ]
  },
  {
   "cell_type": "code",
   "execution_count": 138,
   "id": "b757242f-0206-4e4e-952e-9e4b84cc546b",
   "metadata": {},
   "outputs": [
    {
     "data": {
      "text/html": [
       "<div class=\"druid\"><table>\n",
       "<tr><th>distinct-timezones</th></tr>\n",
       "<tr><td>3</td></tr>\n",
       "</table></div>"
      ],
      "text/plain": [
       "<IPython.core.display.HTML object>"
      ]
     },
     "metadata": {},
     "output_type": "display_data"
    }
   ],
   "source": [
    "sql='''\n",
    "SELECT\n",
    "  COUNT(DISTINCT \"timezone\") AS \"distinct-timezones\"\n",
    "FROM \"example-koalas-null-2\"\n",
    "WHERE TIME_IN_INTERVAL(\"__time\",'2019-08-25T00:00:10/PT5S')\n",
    "'''\n",
    "\n",
    "display.sql(sql)"
   ]
  },
  {
   "cell_type": "markdown",
   "id": "75b39a6c-06c2-4f29-bb1f-6a5ee9a4f403",
   "metadata": {},
   "source": [
    "Run the following to shows that, as with COUNT on a specific column, NULL does not count as a separate value in COUNT DISTINCT operations."
   ]
  },
  {
   "cell_type": "code",
   "execution_count": 140,
   "id": "03c47cd1-2c40-4e12-94a4-0e25916b81fb",
   "metadata": {},
   "outputs": [
    {
     "data": {
      "text/html": [
       "<div class=\"druid\"><table>\n",
       "<tr><th>distinct-timezones</th><th>distinctNonNull-timezones</th><th>distinctNull-timezones</th></tr>\n",
       "<tr><td>3</td><td>3</td><td>0</td></tr>\n",
       "</table></div>"
      ],
      "text/plain": [
       "<IPython.core.display.HTML object>"
      ]
     },
     "metadata": {},
     "output_type": "display_data"
    }
   ],
   "source": [
    "sql='''\n",
    "SELECT\n",
    "  COUNT(DISTINCT \"timezone\") AS \"distinct-timezones\",\n",
    "  COUNT(DISTINCT \"timezone\") FILTER (WHERE \"timezone\" IS NOT NULL) AS \"distinctNonNull-timezones\",\n",
    "  COUNT(DISTINCT \"timezone\") FILTER (WHERE \"timezone\" IS NULL) AS \"distinctNull-timezones\"\n",
    "FROM \"example-koalas-null-2\"\n",
    "WHERE TIME_IN_INTERVAL(\"__time\",'2019-08-25T00:00:10/PT5S')\n",
    "'''\n",
    "\n",
    "display.sql(sql)"
   ]
  },
  {
   "cell_type": "markdown",
   "id": "68ed9442-e399-43dd-8be6-0ab75d1cc7af",
   "metadata": {},
   "source": [
    "The following query shows that NULL is returned as a separate row during GROUP BY."
   ]
  },
  {
   "cell_type": "code",
   "execution_count": 141,
   "id": "cffdbbf5-3a3d-4821-81d9-0a47d48026b4",
   "metadata": {},
   "outputs": [
    {
     "data": {
      "text/html": [
       "<div class=\"druid\"><table>\n",
       "<tr><th>timezone</th><th>totalEvents</th><th>totalSessionLength</th><th>avgSessionLength</th><th>maxSessionLength</th><th>minSessionLength</th></tr>\n",
       "<tr><td>PDT</td><td>1</td><td>144642</td><td>144642.000</td><td>144642</td><td>144642</td></tr>\n",
       "<tr><td>EDT</td><td>1</td><td>131536</td><td>131536.000</td><td>131536</td><td>131536</td></tr>\n",
       "<tr><td>CEST</td><td>3</td><td>4658</td><td>1552.667</td><td>2307</td><td>49</td></tr>\n",
       "<tr><td></td><td>11</td><td>1555276</td><td>141388.727</td><td>1070453</td><td>43</td></tr>\n",
       "</table></div>"
      ],
      "text/plain": [
       "<IPython.core.display.HTML object>"
      ]
     },
     "metadata": {},
     "output_type": "display_data"
    }
   ],
   "source": [
    "sql='''\n",
    "SELECT\n",
    "  \"timezone\",\n",
    "  COUNT(*) AS \"totalEvents\",\n",
    "  SUM(\"session_length\") AS \"totalSessionLength\",\n",
    "  STRING_FORMAT('%.3f',AVG(\"session_length\")) AS \"avgSessionLength\",\n",
    "  MAX(\"session_length\") AS \"maxSessionLength\",\n",
    "  MIN(\"session_length\") AS \"minSessionLength\"\n",
    "FROM \"example-koalas-null-2\"\n",
    "WHERE TIME_IN_INTERVAL(\"__time\",'2019-08-25T00:00:10/PT5S')\n",
    "GROUP BY 1\n",
    "ORDER BY timezone DESC\n",
    "'''\n",
    "\n",
    "display.sql(sql)"
   ]
  },
  {
   "cell_type": "markdown",
   "id": "731de75b-4a90-428c-9664-688a3eb52e27",
   "metadata": {},
   "source": [
    "Recall that the `session_length-EDTonly` and `session_length-PDTonly` dimensions only contains a session length in seconds when the timezone is EDT or PDT respectively, otherwise they contain a NULL.\n",
    "\n",
    "Run the following SQL to see that NULLs are ignored for other aggregations, too.\n",
    "\n",
    "* As above, `totalEvents` is the complete number of rows in the data.\n",
    "* `totalEventsEDT` shows the number of events that are known to have been recorded in the EDT timezone.\n",
    "* SUM, MAX, and MIN specifically reference the `session_length-EDTonly` and `session_length_PDTonly` dimensions.\n",
    "\n",
    "Cross-reference the results of the query above with the results of this query."
   ]
  },
  {
   "cell_type": "code",
   "execution_count": 147,
   "id": "988474f2-c429-4e90-be62-c571b04b1b8e",
   "metadata": {},
   "outputs": [
    {
     "data": {
      "text/html": [
       "<div class=\"druid\"><table>\n",
       "<tr><th>timezone</th><th>totalEvents</th><th>totalEvents-EDT</th><th>totalSessionLength-EDT</th><th>avgSessionLength-EDT</th><th>maxSessionLength-EDT</th><th>totalEvents-PDT</th><th>totalSessionLength-PDT</th><th>maxSessionLength-PDT</th><th>avgSessionLength-PDT</th></tr>\n",
       "<tr><td></td><td>11</td><td>0</td><td></td><td>nul</td><td></td><td>0</td><td></td><td></td><td>nul</td></tr>\n",
       "<tr><td>CEST</td><td>3</td><td>0</td><td></td><td>nul</td><td></td><td>0</td><td></td><td></td><td>nul</td></tr>\n",
       "<tr><td>EDT</td><td>1</td><td>1</td><td>131536</td><td>131536.000</td><td>131536</td><td>0</td><td></td><td></td><td>nul</td></tr>\n",
       "<tr><td>PDT</td><td>1</td><td>0</td><td></td><td>nul</td><td></td><td>1</td><td>144642</td><td>144642</td><td>144642.000</td></tr>\n",
       "</table></div>"
      ],
      "text/plain": [
       "<IPython.core.display.HTML object>"
      ]
     },
     "metadata": {},
     "output_type": "display_data"
    }
   ],
   "source": [
    "sql='''\n",
    "SELECT\n",
    "  \"timezone\",\n",
    "  COUNT(*) AS \"totalEvents\",\n",
    "  COUNT(*) FILTER (WHERE \"timezone\" = 'EDT') AS \"totalEvents-EDT\",\n",
    "  SUM(\"session_length-EDTonly\") AS \"totalSessionLength-EDT\",\n",
    "  STRING_FORMAT('%.3f',AVG(\"session_length-EDTonly\")) AS \"avgSessionLength-EDT\",\n",
    "  MAX(\"session_length-EDTonly\") AS \"maxSessionLength-EDT\",\n",
    "  COUNT(*) FILTER (WHERE \"timezone\" = 'PDT') AS \"totalEvents-PDT\",\n",
    "  SUM(\"session_length-PDTonly\") AS \"totalSessionLength-PDT\",\n",
    "  MAX(\"session_length-PDTonly\") AS \"maxSessionLength-PDT\",\n",
    "  STRING_FORMAT('%.3f',AVG(\"session_length-PDTonly\")) AS \"avgSessionLength-PDT\"\n",
    "FROM \"example-koalas-null-2\"\n",
    "WHERE TIME_IN_INTERVAL(\"__time\",'2019-08-25T00:00:10/PT5S')\n",
    "GROUP BY 1\n",
    "'''\n",
    "\n",
    "display.sql(sql)"
   ]
  },
  {
   "cell_type": "markdown",
   "id": "e72f1955-7294-471e-afbf-e1dcafe38868",
   "metadata": {},
   "source": [
    "Some aggregation functions [return NULL](https://druid.apache.org/docs/latest/querying/sql-aggregations/) by default.\n",
    "\n",
    "In the following query, COALESCE is used to combine the results of the query above into individual columns.\n",
    "\n",
    "* The two arguments for each COALESCE are aggregates of EDT and PDT using the relevant specific dimensions.\n",
    "* Each aggregate returns NULL if no rows are found to perform the aggregation on.\n",
    "* GROUP BY produces rows, one for each timezone.\n",
    "* COALESCE picks the first non-NULL value:\n",
    "  * For the EDT row, COALESCE returns the aggregation on the EDT column.\n",
    "  * For the PDT row, COALESCE returns the aggregation on the PDT column.\n",
    "  * For all other rows, there is no value to return - thus NULL is returned."
   ]
  },
  {
   "cell_type": "code",
   "execution_count": 151,
   "id": "229edaa2-2679-450b-a21c-eb919b23d36d",
   "metadata": {},
   "outputs": [
    {
     "data": {
      "text/html": [
       "<div class=\"druid\"><table>\n",
       "<tr><th>timezone</th><th>total_session_length</th><th>max_session_length</th></tr>\n",
       "<tr><td></td><td></td><td></td></tr>\n",
       "<tr><td>CEST</td><td></td><td></td></tr>\n",
       "<tr><td>EDT</td><td>131536</td><td>131536</td></tr>\n",
       "<tr><td>PDT</td><td>144642</td><td>144642</td></tr>\n",
       "</table></div>"
      ],
      "text/plain": [
       "<IPython.core.display.HTML object>"
      ]
     },
     "metadata": {},
     "output_type": "display_data"
    }
   ],
   "source": [
    "sql='''\n",
    "SELECT\n",
    "  \"timezone\",\n",
    "  COALESCE(SUM(\"session_length-EDTonly\"), SUM(\"session_length-PDTonly\")) AS \"total_session_length\",\n",
    "  COALESCE(MAX(\"session_length-EDTonly\"), MAX(\"session_length-PDTonly\")) AS \"max_session_length\"\n",
    "FROM \"example-koalas-null-2\"\n",
    "WHERE TIME_IN_INTERVAL(\"__time\",'2019-08-25T00:00:10/PT5S')\n",
    "GROUP BY 1\n",
    "'''\n",
    "\n",
    "display.sql(sql)"
   ]
  },
  {
   "cell_type": "markdown",
   "id": "45b8582e-6bb7-466f-8002-08a061e83fbc",
   "metadata": {},
   "source": [
    "## Scalar functions\n",
    "\n",
    "In the following SQL, some simple string scalar functions are used to output a number of new values.\n",
    "\n",
    "Run the cell to see how a NULL value affects results."
   ]
  },
  {
   "cell_type": "code",
   "execution_count": 157,
   "id": "71aed22f-98f5-44f0-9201-f211086440b4",
   "metadata": {},
   "outputs": [
    {
     "data": {
      "text/html": [
       "<div class=\"druid\"><table>\n",
       "<tr><th>timezone</th><th>length</th><th>easyToRead</th><th>backwards</th><th>events</th></tr>\n",
       "<tr><td></td><td></td><td></td><td></td><td>11</td></tr>\n",
       "<tr><td>CEST timezone</td><td>4</td><td>CES timezone</td><td>TSEC</td><td>3</td></tr>\n",
       "<tr><td>EDT timezone</td><td>3</td><td>ED timezone</td><td>TDE</td><td>1</td></tr>\n",
       "<tr><td>PDT timezone</td><td>3</td><td>PD timezone</td><td>TDP</td><td>1</td></tr>\n",
       "</table></div>"
      ],
      "text/plain": [
       "<IPython.core.display.HTML object>"
      ]
     },
     "metadata": {},
     "output_type": "display_data"
    }
   ],
   "source": [
    "sql='''\n",
    "SELECT\n",
    "  CONCAT(\"timezone\",' timezone') AS \"timezone\",\n",
    "  LENGTH(\"timezone\") AS \"length\",\n",
    "  REPLACE(\"timezone\",'T',' timezone') AS \"easyToRead\",\n",
    "  REVERSE(\"timezone\") AS \"backwards\",\n",
    "  COUNT(*) AS \"events\"\n",
    "FROM \"example-koalas-null-2\"\n",
    "WHERE TIME_IN_INTERVAL(\"__time\",'2019-08-25T00:00:10/PT5S')\n",
    "GROUP BY 1, 2, 3, 4\n",
    "'''\n",
    "\n",
    "display.sql(sql)"
   ]
  },
  {
   "cell_type": "markdown",
   "id": "08c4a5fc-a4e8-451e-917a-4f9c851b1bd7",
   "metadata": {},
   "source": [
    "## Boolean operators and NULL\n",
    "\n",
    "Use the `||` and `&&` operators in a query as a shorthand for OR and AND respectively.\n",
    "\n",
    "> \n",
    "\n",
    "* The first two results are considered TRUE.\n",
    "* The remaining calculations return NULL."
   ]
  },
  {
   "cell_type": "code",
   "execution_count": null,
   "id": "f3805cb6-b20b-4bfb-8885-4b210cf5c67f",
   "metadata": {},
   "outputs": [],
   "source": [
    "\n",
    "SELECT\n",
    "true || null,\n",
    "null || true,\n",
    "false || null,\n",
    "null || false,\n",
    "null || null\n",
    "FROM x\n"
   ]
  },
  {
   "cell_type": "markdown",
   "id": "1afae770-ae5f-4b5f-bcea-c86665a22ccd",
   "metadata": {},
   "source": [
    "Run the next cell for examples of the AND operator.\n",
    "\n",
    "* The first calculation returns TRUE as both functions return TRUE.\n",
    "* The next two calculations return FALSE.\n",
    "* The remaining three return NULL."
   ]
  },
  {
   "cell_type": "code",
   "execution_count": null,
   "id": "1f69bb99-db57-4d0e-8c71-1e19e8985b08",
   "metadata": {},
   "outputs": [],
   "source": [
    "\n",
    "SELECT\n",
    "true && true,\n",
    "false && null,\n",
    "null && false,\n",
    "true && null,\n",
    "null && true,\n",
    "null && null\n",
    "FROM x\n"
   ]
  },
  {
   "cell_type": "markdown",
   "id": "4249aa3b-8996-4c5e-a673-8f53419f8fa5",
   "metadata": {},
   "source": [
    "The following cell shows a query where data is being [intepreted as NULL](https://druid.apache.org/docs/latest/misc/math-expr/#logical-operator-modes) according to non-SQL-compatible NULL-handling behavior."
   ]
  },
  {
   "cell_type": "code",
   "execution_count": null,
   "id": "c179286d-4bd2-4bad-ac21-9daec90c96d7",
   "metadata": {},
   "outputs": [],
   "source": [
    "SELECT\n",
    "100 && 11,\n",
    "0.7 || 0.3,\n",
    "100 && 0,\n",
    "'troo' && 'true',\n",
    "'troo' || 'true'\n",
    "FROM X"
   ]
  },
  {
   "cell_type": "markdown",
   "id": "b65d63a7-fdba-4107-96b7-940da296e959",
   "metadata": {},
   "source": [
    "## Arrays\n",
    "\n",
    "Use the dedicated [array functions](https://druid.apache.org/docs/latest/querying/sql-array-functions) to work with arrays.\n",
    "\n",
    "In the following SQL, this function returns NULL if a value cannot be found in the ARRAY (out of range) or if it cannot be found.\n",
    "\n",
    "> When SQL-compatible NULL-handling is not being used, the returned value would be -1. Read more [here](https://druid.apache.org/docs/latest/querying/sql-array-functions)."
   ]
  },
  {
   "cell_type": "code",
   "execution_count": null,
   "id": "a7b96359-0156-4a56-8e39-f5ab6a2d5bfc",
   "metadata": {},
   "outputs": [],
   "source": [
    "SELECT\n",
    "\n",
    "ARRAY_OFFSET(array, 5)\n",
    "ARRAY_OFFSET_OF(array, thing)"
   ]
  },
  {
   "cell_type": "markdown",
   "id": "e4a84d50-82cc-44db-ac8a-e3136c3a59d1",
   "metadata": {},
   "source": [
    "Run the following cell to see [how UNNEST handles NULL values](https://druid.apache.org/docs/latest/querying/sql/#unnest).\n",
    "\n",
    "Notice that a record corresponding to each NULL is returned, rather then being removing duplicates."
   ]
  },
  {
   "cell_type": "markdown",
   "id": "44738d6d-cec2-40ad-aaba-998c758c63f4",
   "metadata": {},
   "source": [
    "## Clean up\n",
    "\n",
    "Run the following cell to remove the XXX used in this notebook from the database."
   ]
  },
  {
   "cell_type": "code",
   "execution_count": 130,
   "id": "8082b545-ba7f-4ede-bb6e-2a6dd62ba0d8",
   "metadata": {},
   "outputs": [],
   "source": [
    "druid.datasources.drop(\"example-koalas-null-1\")\n",
    "druid.datasources.drop(\"example-koalas-null-2\")"
   ]
  },
  {
   "cell_type": "markdown",
   "id": "54b8d5fe-ba85-4b5b-9669-0dd47dfbccd1",
   "metadata": {},
   "source": [
    "## Summary\n",
    "\n",
    "* You learned this\n",
    "* Remember this\n",
    "\n",
    "## Learn more\n",
    "\n",
    "* Read the documentation on:\n",
    "  * Enabling and disabling [SQL-compatible NULL handling](https://druid.apache.org/docs/latest/querying/sql-data-types#null-values) using `druid.generic.useDefaultValueForNull`\n",
    "  * How Druid stores [NULL during ingestion](https://druid.apache.org/docs/latest/design/segments#handling-null-values)\n",
    "  * The default returned value for different [aggregations](https://druid.apache.org/docs/latest/querying/sql-aggregations/)\n",
    "  * [Logical operator](https://druid.apache.org/docs/latest/misc/math-expr/#logical-operator-modes) modes\n",
    "* If you tend to use native rather than SQL queries, read about the [NULL filter](https://druid.apache.org/docs/latest/querying/filters#null-filter) in the documentation.\n",
    "* See the [table of default values](https://druid.apache.org/docs/latest/querying/sql-data-types/#standard-types) stored during ingestion when SQL-compatible NULL-handling is not turned on\n",
    "* Follow the [notebook on GROUP BY](./01-groupby.ipynb) to see how NULL appears in [GROUPING SETS](https://druid.apache.org/docs/latest/querying/sql/#group-by)\n",
    "* Try out other scalar functions with NULL - check out the dedicated notebooks on [datetime](./07-functions-datetime.ipynb), [string](./08-functions-strings.ipynb), and [IP address](./10-functions-ip.ipynb) functions for examples."
   ]
  },
  {
   "cell_type": "code",
   "execution_count": null,
   "id": "ca4d3362-b1a4-47a4-a782-9773c216b3ba",
   "metadata": {},
   "outputs": [],
   "source": [
    "# STANDARD CODE BLOCKS\n",
    "\n",
    "# When just wanting to display some SQL results\n",
    "display.sql(sql)\n",
    "\n",
    "# When ingesting data:\n",
    "display.run_task(sql)\n",
    "sql_client.wait_until_ready('example-koalas-null')\n",
    "display.table('example-koalas-null')\n",
    "\n",
    "# When you want to make an EXPLAIN look pretty\n",
    "print(json.dumps(json.loads(sql_client.explain_sql(sql)['PLAN']), indent=2))\n",
    "\n",
    "# When you want a simple plot\n",
    "df = pd.DataFrame(sql_client.sql(sql))\n",
    "df.plot(x='x-axis', y='y-axis', marker='o')\n",
    "plt.xticks(rotation=45, ha='right')\n",
    "plt.gca().get_legend().remove()\n",
    "plt.show()\n",
    "\n",
    "# When you want to add some query context parameters\n",
    "req = sql_client.sql_request(sql)\n",
    "req.add_context(\"useApproximateTopN\", \"false\")\n",
    "resp = sql_client.sql_query(req)\n",
    "\n",
    "# When you want to compare two different sets of results\n",
    "df3 = df1.compare(df2, keep_equal=True)\n",
    "df3"
   ]
  }
 ],
 "metadata": {
  "execution": {
   "allow_errors": true,
   "timeout": 300
  },
  "kernelspec": {
   "display_name": "Python 3 (ipykernel)",
   "language": "python",
   "name": "python3"
  },
  "language_info": {
   "codemirror_mode": {
    "name": "ipython",
    "version": 3
   },
   "file_extension": ".py",
   "mimetype": "text/x-python",
   "name": "python",
   "nbconvert_exporter": "python",
   "pygments_lexer": "ipython3",
   "version": "3.11.6"
  }
 },
 "nbformat": 4,
 "nbformat_minor": 5
}
